{
    "title": "Graph Distance",

  "nbformat": 4,
  "nbformat_minor": 0,
  "metadata": {

    "colab": {
      "provenance": [],
      "authorship_tag": "ABX9TyMymhpE+WhCFPlJnqO5BpYy",
      "include_colab_link": true
    },
    "kernelspec": {
      "name": "python3",
      "display_name": "Python 3"
    },
    "language_info": {
      "name": "python"
    }
  },
  "cells": [
    {
      "cell_type": "markdown",
      "metadata": {
        "id": "view-in-github",
        "colab_type": "text"
      },
      "source": [
        "<a href=\"https://colab.research.google.com/github/ym001/distancia/blob/master/notebook/graph.ipynb\" target=\"_parent\"><img src=\"https://colab.research.google.com/assets/colab-badge.svg\" alt=\"Open In Colab\"/></a>"
      ]
    },
    {
      "cell_type": "code",
      "execution_count": 45,
      "metadata": {
        "colab": {
          "base_uri": "https://localhost:8080/"
        },
        "id": "hFBYGOKSTYGL",
        "outputId": "0750951a-62ef-4233-ea24-dc0d0c1623ce"
      },
      "outputs": [
        {
          "output_type": "stream",
          "name": "stdout",
          "text": [
            "Requirement already satisfied: distancia==0.0.33 in /usr/local/lib/python3.10/dist-packages (0.0.33)\n",
            "1.4142135623730951\n",
            "2\n"
          ]
        }
      ],
      "source": [
        "!pip install distancia==0.0.33\n",
        "\n",
        "from distancia import Euclidean, Manhattan\n",
        "\n",
        "print(Euclidean().calculate([2,3], [3,4]))\n",
        "print(Manhattan().calculate([2,3], [3,4]))\n"
      ]
    },
    {
      "cell_type": "code",
      "source": [],
      "metadata": {
        "id": "8Ht6CS_0YtGV"
      },
      "execution_count": 45,
      "outputs": []
    },
    {
      "cell_type": "code",
      "source": [
        "from distancia import ShortestPath\n",
        "\n",
        "# Define a graph using a dictionary\n",
        "graph = {\n",
        "    'A': {'B': 1, 'C': 4},\n",
        "    'B': {'A': 1, 'C': 2, 'D': 5},\n",
        "    'C': {'A': 4, 'B': 2, 'D': 1},\n",
        "    'D': {'B': 5, 'C': 1}\n",
        "}\n",
        "\n",
        "# Initialize the ShortestPath class with the graph\n",
        "shortest_path_calculator = ShortestPath()\n",
        "\n",
        "# Compute the shortest path distance between nodes 'A' and 'D'\n",
        "distance = shortest_path_calculator.calculate(graph,'A', 'D')\n",
        "print(f\"The shortest path distance between A and D is: {distance}\")"
      ],
      "metadata": {
        "colab": {
          "base_uri": "https://localhost:8080/"
        },
        "id": "_QtzSkZimd6N",
        "outputId": "f9c6b997-a47d-409c-84a8-8023b226dd96"
      },
      "execution_count": 46,
      "outputs": [
        {
          "output_type": "stream",
          "name": "stdout",
          "text": [
            "The shortest path distance between A and D is: 4\n"
          ]
        }
      ]
    },
    {
      "cell_type": "code",
      "source": [
        "from distancia import GraphEditDistance\n",
        "\n",
        "graph1 = {\n",
        "    'A': {'B', 'C'},\n",
        "    'B': {'A', 'C'},\n",
        "    'C': {'A', 'B'}\n",
        "}\n",
        "\n",
        "graph2 = {\n",
        "    'A': {'B'},\n",
        "    'B': {'A', 'D'},\n",
        "    'C': {'D'},\n",
        "    'D': {'B', 'C'}\n",
        "}\n",
        "\n",
        "ged_calculator = GraphEditDistance()\n",
        "distance = ged_calculator.calculate(graph1, graph2)\n",
        "print(f\"The Graph Edit Distance between the two graphs is: {distance}\")\n"
      ],
      "metadata": {
        "colab": {
          "base_uri": "https://localhost:8080/"
        },
        "id": "SkpwRTg6lpll",
        "outputId": "ed2ad46e-65ef-4ef3-bcae-53b11818d70d"
      },
      "execution_count": 47,
      "outputs": [
        {
          "output_type": "stream",
          "name": "stdout",
          "text": [
            "The Graph Edit Distance between the two graphs is: 5\n"
          ]
        }
      ]
    },
    {
      "cell_type": "code",
      "source": [
        "from distancia import SpectralDistance\n",
        "import networkx as nx\n",
        "\n",
        "def create_sample_graphs():\n",
        "    # Create a path graph\n",
        "    P10 = nx.path_graph(10)\n",
        "\n",
        "    # Create a cycle graph\n",
        "    C10 = nx.cycle_graph(10)\n",
        "\n",
        "    # Create a complete graph\n",
        "    K10 = nx.complete_graph(10)\n",
        "\n",
        "    # Create two random graphs\n",
        "    G1 = nx.gnm_random_graph(10, 20)\n",
        "    G2 = nx.gnm_random_graph(10, 20)\n",
        "\n",
        "    return P10, C10, K10, G1, G2\n",
        "\n",
        "def compare_graphs(graphs, names):\n",
        "    # Initialize SpectralDistance object\n",
        "    sd = SpectralDistance(k=5, normalized=True)\n",
        "\n",
        "    print(\"Spectral distances between graphs:\")\n",
        "    for i, (G1, name1) in enumerate(zip(graphs, names)):\n",
        "        for j, (G2, name2) in enumerate(zip(graphs[i+1:], names[i+1:])):\n",
        "            distance = sd.calculate(G1, G2)\n",
        "            print(f\"{name1} vs {name2}: {distance:.4f}\")\n",
        "\n",
        "def main():\n",
        "    # Create sample graphs\n",
        "    P10, C10, K10, G1, G2 = create_sample_graphs()\n",
        "    graph_names = [\"Path\", \"Cycle\", \"Complete\", \"Random1\", \"Random2\"]\n",
        "\n",
        "    # Compare the graphs\n",
        "    compare_graphs([P10, C10, K10, G1, G2], graph_names)\n",
        "\n",
        "if __name__ == \"__main__\":\n",
        "    main()"
      ],
      "metadata": {
        "colab": {
          "base_uri": "https://localhost:8080/"
        },
        "id": "eTaU1aI9n070",
        "outputId": "931368c7-0870-4543-9d3e-73c49a8321e1"
      },
      "execution_count": 48,
      "outputs": [
        {
          "output_type": "stream",
          "name": "stdout",
          "text": [
            "Spectral distances between graphs:\n",
            "Path vs Cycle: 1.0351\n",
            "Path vs Complete: 1.0969\n",
            "Path vs Random1: 0.6702\n",
            "Path vs Random2: 0.6875\n",
            "Cycle vs Complete: 1.9245\n",
            "Cycle vs Random1: 1.5474\n",
            "Cycle vs Random2: 1.4647\n",
            "Complete vs Random1: 0.7354\n",
            "Complete vs Random2: 0.8046\n",
            "Random1 vs Random2: 0.1670\n"
          ]
        }
      ]
    },
    {
      "cell_type": "code",
      "source": [
        "import networkx as nx\n",
        "\n",
        "from distancia import WeisfeilerLehmanSimilarity\n",
        "\n",
        "def create_sample_graphs():\n",
        "    # Create a cycle graph\n",
        "    C5 = nx.cycle_graph(5)\n",
        "\n",
        "    # Create a path graph\n",
        "    P5 = nx.path_graph(5)\n",
        "\n",
        "    # Create a complete graph\n",
        "    K5 = nx.complete_graph(5)\n",
        "\n",
        "    # Create a star graph\n",
        "    S5 = nx.star_graph(4)\n",
        "\n",
        "    # Create two random graphs\n",
        "    G1 = nx.gnm_random_graph(5, 7)\n",
        "    G2 = nx.gnm_random_graph(5, 7)\n",
        "\n",
        "    return C5, P5, K5, S5, G1, G2\n",
        "\n",
        "def compare_graphs(graphs, names):\n",
        "    # Initialize WeisfeilerLehmanSimilarity object\n",
        "    wl = WeisfeilerLehmanSimilarity(num_iterations=3)\n",
        "\n",
        "    print(\"Weisfeiler-Lehman similarities between graphs:\")\n",
        "    for i, (G1, name1) in enumerate(zip(graphs, names)):\n",
        "        for j, (G2, name2) in enumerate(zip(graphs[i+1:], names[i+1:])):\n",
        "            similarity = wl.calculate(G1, G2)\n",
        "            print(f\"{name1} vs {name2}: {similarity:.4f}\")\n",
        "\n",
        "        # Check for potential isomorphism with itself (should always be true)\n",
        "        is_iso = wl.is_isomorphic(G1, G1)\n",
        "        print(f\"Is {name1} isomorphic to itself? {is_iso}\")\n",
        "\n",
        "    # Check for potential isomorphism between different graphs\n",
        "    print(\"\\nChecking for potential isomorphism:\")\n",
        "    for i, (G1, name1) in enumerate(zip(graphs, names)):\n",
        "        for j, (G2, name2) in enumerate(zip(graphs[i+1:], names[i+1:])):\n",
        "            is_iso = wl.is_isomorphic(G1, G2)\n",
        "            print(f\"Are {name1} and {name2} potentially isomorphic? {is_iso}\")\n",
        "\n",
        "def main():\n",
        "    # Create sample graphs\n",
        "    C5, P5, K5, S5, G1, G2 = create_sample_graphs()\n",
        "    graph_names = [\"Cycle\", \"Path\", \"Complete\", \"Star\", \"Random1\", \"Random2\"]\n",
        "\n",
        "    # Compare the graphs\n",
        "    compare_graphs([C5, P5, K5, S5, G1, G2], graph_names)\n",
        "\n",
        "if __name__ == \"__main__\":\n",
        "    main()"
      ],
      "metadata": {
        "colab": {
          "base_uri": "https://localhost:8080/"
        },
        "id": "LYVCXiVyoe_X",
        "outputId": "efe7ea7a-9539-44d3-8bbc-a7375c1735f0"
      },
      "execution_count": 49,
      "outputs": [
        {
          "output_type": "stream",
          "name": "stdout",
          "text": [
            "Weisfeiler-Lehman similarities between graphs:\n",
            "Cycle vs Path: 0.3849\n",
            "Cycle vs Complete: 0.2500\n",
            "Cycle vs Star: 0.2500\n",
            "Cycle vs Random1: 0.3125\n",
            "Cycle vs Random2: 0.3125\n",
            "Is Cycle isomorphic to itself? True\n",
            "Path vs Complete: 0.2500\n",
            "Path vs Star: 0.3125\n",
            "Path vs Random1: 0.3125\n",
            "Path vs Random2: 0.3125\n",
            "Is Path isomorphic to itself? True\n",
            "Complete vs Star: 0.2778\n",
            "Complete vs Random1: 0.2778\n",
            "Complete vs Random2: 0.2778\n",
            "Is Complete isomorphic to itself? True\n",
            "Star vs Random1: 0.2778\n",
            "Star vs Random2: 0.2778\n",
            "Is Star isomorphic to itself? True\n",
            "Random1 vs Random2: 1.0000\n",
            "Is Random1 isomorphic to itself? True\n",
            "Is Random2 isomorphic to itself? True\n",
            "\n",
            "Checking for potential isomorphism:\n",
            "Are Cycle and Path potentially isomorphic? False\n",
            "Are Cycle and Complete potentially isomorphic? False\n",
            "Are Cycle and Star potentially isomorphic? False\n",
            "Are Cycle and Random1 potentially isomorphic? False\n",
            "Are Cycle and Random2 potentially isomorphic? False\n",
            "Are Path and Complete potentially isomorphic? False\n",
            "Are Path and Star potentially isomorphic? False\n",
            "Are Path and Random1 potentially isomorphic? False\n",
            "Are Path and Random2 potentially isomorphic? False\n",
            "Are Complete and Star potentially isomorphic? False\n",
            "Are Complete and Random1 potentially isomorphic? False\n",
            "Are Complete and Random2 potentially isomorphic? False\n",
            "Are Star and Random1 potentially isomorphic? False\n",
            "Are Star and Random2 potentially isomorphic? False\n",
            "Are Random1 and Random2 potentially isomorphic? True\n"
          ]
        }
      ]
    },
    {
      "cell_type": "code",
      "source": [
        "import networkx as nx\n",
        "import matplotlib.pyplot as plt\n",
        "from distancia import ComparingRandomWalkStationaryDistributions\n",
        "\n",
        "# Create two similar but slightly different graphs\n",
        "G1 = nx.erdos_renyi_graph(10, 0.3, seed=42)\n",
        "G2 = nx.erdos_renyi_graph(10, 0.35, seed=42)\n",
        "\n",
        "# Initialize the Distance object\n",
        "distance = ComparingRandomWalkStationaryDistributions(G1, G2)\n",
        "\n",
        "# Compare the stationary distributions\n",
        "l1_distance = distance.compare_distributions(metric='l1')\n",
        "l2_distance = distance.compare_distributions(metric='l2')\n",
        "kl_distance = distance.compare_distributions(metric='kl')\n",
        "\n",
        "print(f\"L1 distance between stationary distributions: {l1_distance:.4f}\")\n",
        "print(f\"L2 distance between stationary distributions: {l2_distance:.4f}\")\n",
        "print(f\"KL divergence between stationary distributions: {kl_distance:.4f}\")\n",
        "\n",
        "# Compare random walks\n",
        "walk_comparison = distance.compare_random_walks(num_walks=1000, walk_length=20)\n",
        "\n",
        "# Print results\n",
        "for graph_name, results in walk_comparison.items():\n",
        "    print(f\"\\nResults for {graph_name}:\")\n",
        "    print(f\"Average walk length: {results['avg_walk_length']:.2f}\")\n",
        "    print(\"Node visit frequencies:\")\n",
        "    for node, freq in results['node_visit_frequencies'].items():\n",
        "        print(f\"  Node {node}: {freq:.4f}\")\n",
        "\n",
        "# Visualize the graphs\n",
        "plt.figure(figsize=(12, 5))\n",
        "\n",
        "plt.subplot(121)\n",
        "nx.draw(G1, with_labels=True, node_color='lightblue', node_size=500, font_size=10, font_weight='bold')\n",
        "plt.title(\"Graph 1\")\n",
        "\n",
        "plt.subplot(122)\n",
        "nx.draw(G2, with_labels=True, node_color='lightgreen', node_size=500, font_size=10, font_weight='bold')\n",
        "plt.title(\"Graph 2\")\n",
        "\n",
        "plt.tight_layout()\n",
        "plt.show()"
      ],
      "metadata": {
        "colab": {
          "base_uri": "https://localhost:8080/",
          "height": 1000
        },
        "id": "e_GBlqsZlu8J",
        "outputId": "a28efc34-ea05-4534-fb01-d1ac7e9c79d3"
      },
      "execution_count": 50,
      "outputs": [
        {
          "output_type": "stream",
          "name": "stdout",
          "text": [
            "L1 distance between stationary distributions: 0.1300\n",
            "L2 distance between stationary distributions: 0.0436\n",
            "KL divergence between stationary distributions: 0.0095\n",
            "\n",
            "Results for graph1:\n",
            "Average walk length: 20.00\n",
            "Node visit frequencies:\n",
            "  Node 0: 0.1225\n",
            "  Node 1: 0.1453\n",
            "  Node 2: 0.1191\n",
            "  Node 3: 0.1150\n",
            "  Node 4: 0.0329\n",
            "  Node 5: 0.0635\n",
            "  Node 6: 0.0858\n",
            "  Node 7: 0.0828\n",
            "  Node 8: 0.0886\n",
            "  Node 9: 0.1447\n",
            "\n",
            "Results for graph2:\n",
            "Average walk length: 20.00\n",
            "Node visit frequencies:\n",
            "  Node 0: 0.1085\n",
            "  Node 1: 0.1277\n",
            "  Node 2: 0.1293\n",
            "  Node 3: 0.1320\n",
            "  Node 4: 0.0321\n",
            "  Node 5: 0.0788\n",
            "  Node 6: 0.0779\n",
            "  Node 7: 0.0804\n",
            "  Node 8: 0.1064\n",
            "  Node 9: 0.1270\n"
          ]
        },
        {
          "output_type": "display_data",
          "data": {
            "text/plain": [
              "<Figure size 1200x500 with 2 Axes>"
            ],
            "image/png": "[encoded data removed]"
          },
          "metadata": {}
        }
      ]
    },
    {
      "cell_type": "code",
      "source": [
        "import networkx as nx\n",
        "from distancia import DiffusionDistance\n",
        "\n",
        "# Créer deux graphes\n",
        "G1 = nx.erdos_renyi_graph(10, 0.3, seed=42)\n",
        "G2 = nx.erdos_renyi_graph(10, 0.35, seed=42)\n",
        "\n",
        "# Initialiser l'objet DiffusionDistance\n",
        "diffusion_distance = DiffusionDistance(G1, G2)\n",
        "\n",
        "# Comparer les processus de diffusion\n",
        "source_node = 0\n",
        "steps = 5\n",
        "l1_distance = diffusion_distance.compare_diffusion(source_node, steps, metric='l1')\n",
        "l2_distance = diffusion_distance.compare_diffusion(source_node, steps, metric='l2')\n",
        "\n",
        "print(f\"L1 distance between diffusion processes: {l1_distance:.4f}\")\n",
        "print(f\"L2 distance between diffusion processes: {l2_distance:.4f}\")"
      ],
      "metadata": {
        "id": "bTje3C_ZzL_K",
        "colab": {
          "base_uri": "https://localhost:8080/"
        },
        "outputId": "475bac0d-72ee-4781-c1bc-bf4dda3c988f"
      },
      "execution_count": 51,
      "outputs": [
        {
          "output_type": "stream",
          "name": "stdout",
          "text": [
            "L1 distance between diffusion processes: 557124462311584.2500\n",
            "L2 distance between diffusion processes: 186791387234450.2188\n"
          ]
        }
      ]
    },
    {
      "cell_type": "code",
      "source": [
        "# Example usage\n",
        "from distancia import GraphKernelDistance\n",
        "edges1 = [(\"A\", \"B\"), (\"B\", \"C\"), (\"C\", \"D\"), (\"D\", \"A\")]\n",
        "nodes1 = [\"A\", \"B\", \"C\", \"D\"]\n",
        "\n",
        "edges2 = [(\"A\", \"B\"), (\"B\", \"C\"), (\"C\", \"D\")]\n",
        "nodes2 = [\"A\", \"B\", \"C\", \"D\"]\n",
        "\n",
        "graph1 = Graph(nodes1, edges1)\n",
        "graph2 = Graph(nodes2, edges2)\n",
        "\n",
        "kernel_distance = GraphKernelDistance(graph1, graph2)\n",
        "distance = kernel_distance.compute(method=\"random_walk\", depth=3)\n",
        "\n",
        "print(f\"The Graph Kernel Distance between the two graphs is: {distance}\")\n"
      ],
      "metadata": {
        "id": "XfrQcOF0-SeQ",
        "colab": {
          "base_uri": "https://localhost:8080/"
        },
        "outputId": "d9c84859-ba22-495d-a3b9-a94e805ae4f5"
      },
      "execution_count": 52,
      "outputs": [
        {
          "output_type": "stream",
          "name": "stdout",
          "text": [
            "The Graph Kernel Distance between the two graphs is: 0.001949317738791423\n"
          ]
        }
      ]
    },
    {
      "cell_type": "code",
      "source": [
        "\n",
        "\n",
        "# Exemple d'utilisation\n",
        "from distancia import FrobeniusDistance\n",
        "class Graph:\n",
        "    def __init__(self, nodes, edges):\n",
        "        self.nodes = nodes\n",
        "        self.edges = edges\n",
        "        self.adjacency_matrix = self.create_adjacency_matrix()\n",
        "        self.adjacency_list = self.create_adjacency_list()\n",
        "\n",
        "    def create_adjacency_matrix(self):\n",
        "        matrix = [[0 for _ in range(len(self.nodes))] for _ in range(len(self.nodes))]\n",
        "        node_index = {node: i for i, node in enumerate(self.nodes)}\n",
        "\n",
        "        for edge in self.edges:\n",
        "            i, j = node_index[edge[0]], node_index[edge[1]]\n",
        "            matrix[i][j] = 1\n",
        "            matrix[j][i] = 1  # Assuming the graph is undirected\n",
        "\n",
        "        return matrix\n",
        "\n",
        "    def create_adjacency_list(self):\n",
        "        adj_list = {node: [] for node in self.nodes}\n",
        "        for edge in self.edges:\n",
        "            u, v = edge\n",
        "            adj_list[u].append(v)\n",
        "            adj_list[v].append(u)  # Assuming the graph is undirected\n",
        "        return adj_list\n",
        "\n",
        "    def count_motifs(self, motif_size):\n",
        "        motifs = {}\n",
        "        for node in self.nodes:\n",
        "            neighbors = self.adjacency_list[node]\n",
        "            if len(neighbors) >= motif_size - 1:\n",
        "                for sub_motif in self._find_sub_motifs(node, neighbors, motif_size - 1):\n",
        "                    sub_motif = tuple(sorted(sub_motif))\n",
        "                    if sub_motif in motifs:\n",
        "                        motifs[sub_motif] += 1\n",
        "                    else:\n",
        "                        motifs[sub_motif] = 1\n",
        "        return motifs\n",
        "\n",
        "    def _find_sub_motifs(self, node, neighbors, remaining):\n",
        "        if remaining == 1:\n",
        "            return [(node, neighbor) for neighbor in neighbors]\n",
        "        sub_motifs = []\n",
        "        for i, neighbor in enumerate(neighbors):\n",
        "            new_neighbors = neighbors[i + 1:]\n",
        "            for sub_motif in self._find_sub_motifs(neighbor, new_neighbors, remaining - 1):\n",
        "                sub_motifs.append((node,) + sub_motif)\n",
        "        return sub_motifs\n",
        "\n",
        "    def get_nodes(self):\n",
        "        nodes = set()\n",
        "        for edge in self.edges:\n",
        "            nodes.update(edge)\n",
        "        return list(nodes)\n",
        "nodes1 = [\"A\", \"B\", \"C\"]\n",
        "edges1 = [(\"A\", \"B\"), (\"B\", \"C\")]\n",
        "\n",
        "nodes2 = [\"A\", \"B\", \"C\"]\n",
        "edges2 = [(\"A\", \"B\"), (\"A\", \"C\")]\n",
        "\n",
        "graph1 = Graph(nodes1, edges1)\n",
        "graph2 = Graph(nodes2, edges2)\n",
        "print(graph1.adjacency_matrix)\n",
        "frobenius_distance = FrobeniusDistance(graph1, graph2)\n",
        "distance = frobenius_distance.compute()\n",
        "\n",
        "print(f\"La distance de Frobenius entre les deux graphes est: {distance}\")\n"
      ],
      "metadata": {
        "colab": {
          "base_uri": "https://localhost:8080/"
        },
        "id": "A6YNdBPEYul6",
        "outputId": "639aaf4b-afb4-449b-c7e1-35ce68542bb8"
      },
      "execution_count": 53,
      "outputs": [
        {
          "output_type": "stream",
          "name": "stdout",
          "text": [
            "[[0, 1, 0], [1, 0, 1], [0, 1, 0]]\n",
            "La distance de Frobenius entre les deux graphes est: 2.0\n"
          ]
        }
      ]
    },
    {
      "cell_type": "code",
      "source": [
        "\n",
        "\n",
        "from distancia import PatternBasedDistance\n",
        "\n",
        "# Exemple d'utilisation\n",
        "nodes1 = [\"A\", \"B\", \"C\", \"D\"]\n",
        "edges1 = [(\"A\", \"B\"), (\"B\", \"C\"), (\"C\", \"A\"), (\"A\", \"D\")]\n",
        "\n",
        "nodes2 = [\"A\", \"B\", \"C\", \"D\"]\n",
        "edges2 = [(\"A\", \"B\"), (\"B\", \"D\"), (\"D\", \"A\"), (\"A\", \"C\")]\n",
        "\n",
        "graph1 = Graph(nodes1, edges1)\n",
        "graph2 = Graph(nodes2, edges2)\n",
        "\n",
        "pattern_distance = PatternBasedDistance(graph1, graph2, motif_size=3)\n",
        "distance = pattern_distance.compute()\n",
        "\n",
        "print(f\"La distance basée sur les motifs entre les deux graphes est: {distance}\")\n"
      ],
      "metadata": {
        "colab": {
          "base_uri": "https://localhost:8080/"
        },
        "id": "vwUWxXWucXLN",
        "outputId": "419b752a-ba1c-469d-e5bc-f34e1b169e32"
      },
      "execution_count": 54,
      "outputs": [
        {
          "output_type": "stream",
          "name": "stdout",
          "text": [
            "La distance basée sur les motifs entre les deux graphes est: 4\n"
          ]
        }
      ]
    },
    {
      "cell_type": "markdown",
      "source": [
        "Explication :\n",
        "Graph Class : Cette classe représente un graphe avec ses nœuds et ses arêtes. Elle génère également une liste d'adjacence associée.\n",
        "\n",
        "create_adjacency_list : Crée une liste d'adjacence à partir des nœuds et des arêtes du graphe.\n",
        "count_motifs : Compte la fréquence des motifs de taille donnée (par exemple, des triangles ou des chemins de longueur donnée) dans le graphe.\n",
        "_find_sub_motifs : Trouve les sous-motifs d'une taille spécifique en explorant les voisins des nœuds.\n",
        "PatternBasedDistance Class : Cette classe est responsable du calcul de la distance basée sur les motifs entre deux graphes.\n",
        "\n",
        "compute : Cette méthode compare les motifs présents dans les deux graphes et calcule une distance basée sur la différence des fréquences des motifs.\n",
        "_calculate_distance : Cette méthode calcule la somme des différences absolues entre les fréquences des motifs communs ou distincts dans les deux graphes.\n"
      ],
      "metadata": {
        "id": "4dxLsW54ce_P"
      }
    },
    {
      "cell_type": "code",
      "source": [
        "import zlib\n",
        "\n",
        "from distancia import GraphCompressionDistance\n",
        "\n",
        "# Example usage:\n",
        "graph1 = [\n",
        "    [0, 1, 0, 1],\n",
        "    [1, 0, 1, 0],\n",
        "    [0, 1, 0, 1],\n",
        "    [1, 0, 1, 0]\n",
        "]\n",
        "\n",
        "graph2 = [\n",
        "    [0, 1, 1, 0],\n",
        "    [1, 0, 0, 1],\n",
        "    [1, 0, 0, 1],\n",
        "    [0, 1, 1, 0]\n",
        "]\n",
        "\n",
        "distance_calculator = GraphCompressionDistance(graph1, graph2)\n",
        "distance = distance_calculator.compression_distance()\n",
        "print(f\"Graph Compression Distance: {distance}\")\n"
      ],
      "metadata": {
        "colab": {
          "base_uri": "https://localhost:8080/"
        },
        "id": "n5AQeH5uhVse",
        "outputId": "a9b1b641-fdee-4555-a587-e988d53b023d"
      },
      "execution_count": 55,
      "outputs": [
        {
          "output_type": "stream",
          "name": "stdout",
          "text": [
            "Graph Compression Distance: 3\n"
          ]
        }
      ]
    },
    {
      "cell_type": "code",
      "source": [
        "from distancia import DegreeDistributionDistance\n",
        "\n",
        "# Représentation de deux graphes sous forme de listes d'adjacence\n",
        "\n",
        "# Premier graphe (graph1)\n",
        "# Le graphe est représenté comme un dictionnaire où chaque clé est un nœud et chaque valeur est une liste de voisins.\n",
        "graph1 = {\n",
        "    'A': ['B', 'C'],       # Le nœud 'A' est connecté à 'B' et 'C'\n",
        "    'B': ['A', 'C'],       # Le nœud 'B' est connecté à 'A' et 'C'\n",
        "    'C': ['A', 'B', 'D'],  # Le nœud 'C' est connecté à 'A', 'B' et 'D'\n",
        "    'D': ['C']             # Le nœud 'D' est connecté à 'C'\n",
        "}\n",
        "\n",
        "# Deuxième graphe (graph2)\n",
        "graph2 = {\n",
        "    'A': ['B'],            # Le nœud 'A' est connecté à 'B'\n",
        "    'B': ['A', 'C', 'D'],  # Le nœud 'B' est connecté à 'A', 'C' et 'D'\n",
        "    'C': ['B'],            # Le nœud 'C' est connecté à 'B'\n",
        "    'D': ['B']             # Le nœud 'D' est connecté à 'B'\n",
        "}\n",
        "\n",
        "# Instanciation de la classe DegreeDistributionDistance avec les deux graphes\n",
        "distance_calculator = DegreeDistributionDistance(graph1, graph2)\n",
        "\n",
        "# Calcul de la distance entre les distributions de degré des deux graphes\n",
        "distance = distance_calculator.compute_distance()\n",
        "\n",
        "# Affichage du résultat\n",
        "print(\"Distance basée sur les distributions de degré :\", distance)\n",
        "\n"
      ],
      "metadata": {
        "colab": {
          "base_uri": "https://localhost:8080/"
        },
        "id": "nsxuQhqKkVqr",
        "outputId": "6c068652-31ba-460c-b4cf-14132f0308ef"
      },
      "execution_count": 56,
      "outputs": [
        {
          "output_type": "stream",
          "name": "stdout",
          "text": [
            "Distance basée sur les distributions de degré : 4.0\n"
          ]
        }
      ]
    },
    {
      "cell_type": "code",
      "source": [
        "import networkx as nx\n",
        "\n",
        "from distancia import CommunityStructureDistance\n",
        "\n",
        "import networkx as nx\n",
        "from community import community_louvain\n",
        "\n",
        "# Exemple de détection des communautés utilisant l'algorithme de Louvain\n",
        "def louvain_community_detection(graph):\n",
        "    \"\"\"\n",
        "    Utilise l'algorithme de Louvain pour détecter les communautés dans un graphe.\n",
        "\n",
        "    :param graph: Le graphe d'entrée.\n",
        "    :return: Une liste de ensembles, où chaque ensemble représente une communauté.\n",
        "    \"\"\"\n",
        "    partition = community_louvain.best_partition(graph)\n",
        "    communities = {}\n",
        "    for node, comm_id in partition.items():\n",
        "        if comm_id not in communities:\n",
        "            communities[comm_id] = set()\n",
        "        communities[comm_id].add(node)\n",
        "    return list(communities.values())\n",
        "\n",
        "# Créer deux graphes différents\n",
        "graph1 = nx.karate_club_graph()  # Exemple de graphe 1\n",
        "\n",
        "# Créer une copie de graph1 et ajouter des modifications pour changer la structure des communautés\n",
        "graph2 = graph1.copy()\n",
        "graph2.add_edge(0, 1)  # Ajout d'une arête entre deux nœuds dans différentes communautés\n",
        "graph2.add_edge(2, 3)  # Ajout d'une arête entre deux nœuds dans différentes communautés\n",
        "\n",
        "# Initialiser la classe de distance avec la détection de communautés de Louvain\n",
        "distance_calculator = CommunityStructureDistance(louvain_community_detection)\n",
        "\n",
        "# Calculer la distance entre les structures de communauté des deux graphes\n",
        "distance = distance_calculator.distance(graph1, graph2)\n",
        "\n",
        "print(f\"The community structure distance between the two graphs is: {distance}\")\n"
      ],
      "metadata": {
        "colab": {
          "base_uri": "https://localhost:8080/"
        },
        "id": "w76WKYZznb-m",
        "outputId": "f349bea7-2d9e-4803-fa23-32a0d6362fc2"
      },
      "execution_count": 57,
      "outputs": [
        {
          "output_type": "stream",
          "name": "stdout",
          "text": [
            "The community structure distance between the two graphs is: 0.11904761904761907\n"
          ]
        }
      ]
    }
  ]
}
