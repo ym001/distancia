{
  "nbformat": 4,
  "nbformat_minor": 0,
  "metadata": {
    "colab": {
      "provenance": [],
      "authorship_tag": "ABX9TyNk28FZi5r+/T8qZHf2Wnb9",
      "include_colab_link": true
    },
    "kernelspec": {
      "name": "python3",
      "display_name": "Python 3"
    },
    "language_info": {
      "name": "python"
    }
  },
  "cells": [
    {
      "cell_type": "markdown",
      "metadata": {
        "id": "view-in-github",
        "colab_type": "text"
      },
      "source": [
        "<a href=\"https://colab.research.google.com/github/ym001/distancia/blob/master/notebook/MarkovChain.ipynb\" target=\"_parent\"><img src=\"https://colab.research.google.com/assets/colab-badge.svg\" alt=\"Open In Colab\"/></a>"
      ]
    },
    {
      "cell_type": "code",
      "source": [
        "!pip install distancia==0.0.38\n"
      ],
      "metadata": {
        "colab": {
          "base_uri": "https://localhost:8080/"
        },
        "id": "cK66DRuv5ixn",
        "outputId": "e891196e-0a5d-402e-8111-29533a26a8d4"
      },
      "execution_count": 2,
      "outputs": [
        {
          "output_type": "stream",
          "name": "stdout",
          "text": [
            "Requirement already satisfied: distancia==0.0.38 in /usr/local/lib/python3.10/dist-packages (0.0.38)\n"
          ]
        }
      ]
    },
    {
      "cell_type": "code",
      "execution_count": 4,
      "metadata": {
        "colab": {
          "base_uri": "https://localhost:8080/"
        },
        "id": "MpSAQ1GRzUrE",
        "outputId": "4e5fcb53-730b-47ab-e892-f2ae33adc70f"
      },
      "outputs": [
        {
          "output_type": "stream",
          "name": "stdout",
          "text": [
            "Kullback-Leibler Distance: 0.003764668857621424\n"
          ]
        }
      ],
      "source": [
        "from distancia import MarkovChainKullbackLeibler\n",
        "# Example usage\n",
        "P = [[0.9, 0.1], [0.2, 0.8]]  # Transition matrix for Markov chain 1\n",
        "Q = [[0.85, 0.15], [0.25, 0.75]]  # Transition matrix for Markov chain 2\n",
        "\n",
        "markov_kl = MarkovChainKullbackLeibler(P, Q)\n",
        "\n",
        "# Compute the Kullback-Leibler divergence between stationary distributions\n",
        "print(\"Kullback-Leibler Distance:\", markov_kl.kullback_leibler_distance())\n"
      ]
    },
    {
      "cell_type": "code",
      "source": [
        "from distancia import MarkovChainWasserstein\n",
        "\n",
        "\n",
        "# Example usage\n",
        "P = [[0.9, 0.1], [0.2, 0.8]]  # Transition matrix for Markov chain 1\n",
        "Q = [[0.85, 0.15], [0.25, 0.75]]  # Transition matrix for Markov chain 2\n",
        "cost_matrix = [[0, 1], [1, 0]]  # Cost matrix (Euclidean distance between states)\n",
        "\n",
        "markov_wasserstein = MarkovChainWasserstein(P, Q, cost_matrix)\n",
        "\n",
        "# Compute the Wasserstein distance between stationary distributions\n",
        "print(\"Wasserstein Distance:\", markov_wasserstein.wasserstein_distance())\n"
      ],
      "metadata": {
        "colab": {
          "base_uri": "https://localhost:8080/"
        },
        "id": "WreRLC-0zYyY",
        "outputId": "0788ed9e-1352-40d5-a976-165e1437f281"
      },
      "execution_count": 5,
      "outputs": [
        {
          "output_type": "stream",
          "name": "stdout",
          "text": [
            "Wasserstein Distance: 0.041666666586909984\n"
          ]
        }
      ]
    },
    {
      "cell_type": "code",
      "source": [
        "from distancia import MarkovChainTotalVariation\n",
        "\n",
        "# Example usage\n",
        "P = [[0.9, 0.1], [0.2, 0.8]]  # Transition matrix for Markov chain 1\n",
        "Q = [[0.85, 0.15], [0.25, 0.75]]  # Transition matrix for Markov chain 2\n",
        "\n",
        "markov_tvd = MarkovChainTotalVariation(P, Q)\n",
        "\n",
        "# Compute the total variation distance between stationary distributions\n",
        "print(\"Total Variation Distance:\", markov_tvd.compute_tvd())\n"
      ],
      "metadata": {
        "colab": {
          "base_uri": "https://localhost:8080/"
        },
        "id": "4-RU6YKtziTL",
        "outputId": "124e3eb3-baf1-4470-f591-bd0a851dd6fd"
      },
      "execution_count": 6,
      "outputs": [
        {
          "output_type": "stream",
          "name": "stdout",
          "text": [
            "Total Variation Distance: 0.041666666586908624\n"
          ]
        }
      ]
    },
    {
      "cell_type": "code",
      "source": [
        "from distancia import MarkovChainHellinger\n",
        "\n",
        "# Example usage\n",
        "P = [[0.9, 0.1], [0.2, 0.8]]  # Transition matrix for Markov chain 1\n",
        "Q = [[0.85, 0.15], [0.25, 0.75]]  # Transition matrix for Markov chain 2\n",
        "\n",
        "markov_hellinger = MarkovChainHellinger(P, Q)\n",
        "\n",
        "# Compute the Hellinger distance between stationary distributions\n",
        "print(\"Hellinger Distance:\", markov_hellinger.compute_hellinger_distance())\n"
      ],
      "metadata": {
        "colab": {
          "base_uri": "https://localhost:8080/"
        },
        "id": "KBPuiAu-z2L5",
        "outputId": "8eb5baaa-8870-4fca-9734-1d2d23ab1ba1"
      },
      "execution_count": 7,
      "outputs": [
        {
          "output_type": "stream",
          "name": "stdout",
          "text": [
            "Hellinger Distance: 0.0308120923491926\n"
          ]
        }
      ]
    },
    {
      "cell_type": "code",
      "source": [
        "from distancia import MarkovChainJensenShannon\n",
        "\n",
        "# Example usage\n",
        "P = [[0.9, 0.1], [0.2, 0.8]]  # Transition matrix for Markov chain 1\n",
        "Q = [[0.85, 0.15], [0.25, 0.75]]  # Transition matrix for Markov chain 2\n",
        "\n",
        "markov_js = MarkovChainJensenShannon(P, Q)\n",
        "\n",
        "# Compute the Jensen-Shannon distance between stationary distributions\n",
        "print(\"Jensen-Shannon Distance:\", markov_js.compute_js_distance())\n"
      ],
      "metadata": {
        "colab": {
          "base_uri": "https://localhost:8080/"
        },
        "id": "BXeic_Kk0InJ",
        "outputId": "2b555ea3-e7b1-4a44-8ba1-22c4cd11c820"
      },
      "execution_count": 8,
      "outputs": [
        {
          "output_type": "stream",
          "name": "stdout",
          "text": [
            "Jensen-Shannon Distance: 0.030808744879339073\n"
          ]
        }
      ]
    },
    {
      "cell_type": "code",
      "source": [
        "from distancia import MarkovChainFrobenius\n",
        "# Example usage\n",
        "P = [[0.9, 0.1], [0.2, 0.8]]  # Transition matrix for Markov chain 1\n",
        "Q = [[0.85, 0.15], [0.25, 0.75]]  # Transition matrix for Markov chain 2\n",
        "\n",
        "markov_frobenius = MarkovChainFrobenius(P, Q)\n",
        "\n",
        "# Compute the Frobenius distance between the transition matrices\n",
        "print(\"Frobenius Distance:\", markov_frobenius.frobenius_distance())\n"
      ],
      "metadata": {
        "colab": {
          "base_uri": "https://localhost:8080/"
        },
        "id": "mBJwUCON0Na2",
        "outputId": "eb522929-f75f-413e-b8b0-1e37e0c4890f"
      },
      "execution_count": 9,
      "outputs": [
        {
          "output_type": "stream",
          "name": "stdout",
          "text": [
            "Frobenius Distance: 0.10000000000000003\n"
          ]
        }
      ]
    },
    {
      "cell_type": "code",
      "source": [
        "from distancia import MarkovChainSpectral\n",
        "\n",
        "# Example usage\n",
        "P = [[0.9, 0.1], [0.2, 0.8]]  # Transition matrix for Markov chain 1\n",
        "Q = [[0.85, 0.15], [0.25, 0.75]]  # Transition matrix for Markov chain 2\n",
        "\n",
        "markov_spectral = MarkovChainSpectral(P, Q)\n",
        "\n",
        "# Compute the spectral distance between the transition matrices\n",
        "print(\"Spectral Distance:\", markov_spectral.spectral_distance())"
      ],
      "metadata": {
        "colab": {
          "base_uri": "https://localhost:8080/"
        },
        "id": "-ELlsTzc0T5r",
        "outputId": "4f201810-ee84-49a7-9994-ca89ed691eea"
      },
      "execution_count": 10,
      "outputs": [
        {
          "output_type": "stream",
          "name": "stdout",
          "text": [
            "Spectral Distance: 0.1000000000000002\n"
          ]
        }
      ]
    }
  ]
}