{
  "nbformat": 4,
  "nbformat_minor": 0,
  "metadata": {
    "colab": {
      "provenance": [],
      "authorship_tag": "ABX9TyN7Q7Sd9dTgXVtGVPPkBrrh",
      "include_colab_link": true
    },
    "kernelspec": {
      "name": "python3",
      "display_name": "Python 3"
    },
    "language_info": {
      "name": "python"
    }
  },
  "cells": [
    {
      "cell_type": "markdown",
      "metadata": {
        "id": "view-in-github",
        "colab_type": "text"
      },
      "source": [
        "<a href=\"https://colab.research.google.com/github/ym001/distancia/blob/master/notebook/timeSeriesDistance.ipynb\" target=\"_parent\"><img src=\"https://colab.research.google.com/assets/colab-badge.svg\" alt=\"Open In Colab\"/></a>"
      ]
    },
    {
      "cell_type": "code",
      "source": [
        "!pip install distancia==0.0.31"
      ],
      "metadata": {
        "colab": {
          "base_uri": "https://localhost:8080/"
        },
        "id": "UR3iPIoO0u84",
        "outputId": "3903d3b4-162c-4758-8034-f0f10b273104"
      },
      "execution_count": 1,
      "outputs": [
        {
          "output_type": "stream",
          "name": "stdout",
          "text": [
            "Collecting distancia==0.0.31\n",
            "  Downloading distancia-0.0.31-py3-none-any.whl.metadata (4.3 kB)\n",
            "Downloading distancia-0.0.31-py3-none-any.whl (35 kB)\n",
            "Installing collected packages: distancia\n",
            "  Attempting uninstall: distancia\n",
            "    Found existing installation: distancia 0.0.3\n",
            "    Uninstalling distancia-0.0.3:\n",
            "      Successfully uninstalled distancia-0.0.3\n",
            "Successfully installed distancia-0.0.31\n"
          ]
        }
      ]
    },
    {
      "cell_type": "code",
      "execution_count": 2,
      "metadata": {
        "colab": {
          "base_uri": "https://localhost:8080/"
        },
        "id": "zE2_VEE80cD0",
        "outputId": "660bceaa-3a14-463d-cd7d-fcc0225938a6"
      },
      "outputs": [
        {
          "output_type": "stream",
          "name": "stdout",
          "text": [
            "DTW Distance: 3\n",
            "Optimal Path: [(0, 0), (1, 1), (2, 1), (3, 2), (4, 2), (5, 3), (6, 4), (7, 5), (8, 6), (8, 7)]\n"
          ]
        }
      ],
      "source": [
        "from distancia import DynamicTimeWarping\n",
        "# Sample time series data\n",
        "series_a = [1, 2, 3, 4, 5, 6, 7, 8, 9]\n",
        "series_b = [1, 3, 4, 6, 7, 8, 9, 10]\n",
        "\n",
        "# Create an instance of the DynamicTimeWarping class\n",
        "dtw = DynamicTimeWarping()\n",
        "\n",
        "# Compute the DTW distance\n",
        "distance = dtw.calculate(series_a, series_b)\n",
        "print(f\"DTW Distance: {distance}\")\n",
        "\n",
        "# Get the optimal path for alignment\n",
        "optimal_path = dtw.get_optimal_path()\n",
        "print(f\"Optimal Path: {optimal_path}\")"
      ]
    },
    {
      "cell_type": "code",
      "source": [
        "from distancia import LongestCommonSubsequence\n",
        "\n",
        "# Sample sequences\n",
        "sequence_a = \"AGGTAB\"\n",
        "sequence_b = \"GXTXAYB\"\n",
        "\n",
        "# Create an instance of the LongestCommonSubsequence class\n",
        "lcss = LongestCommonSubsequence()\n",
        "\n",
        "# Compute the LCSS distance\n",
        "distance = lcss.calculate(sequence_a, sequence_b)\n",
        "print(f\"LCSS Distance: {distance}\")\n",
        "\n",
        "# Get the Longest Common Subsequence\n",
        "lcs = lcss.get_lcs()\n",
        "print(f\"Longest Common Subsequence: {lcs}\")"
      ],
      "metadata": {
        "colab": {
          "base_uri": "https://localhost:8080/"
        },
        "id": "7mA5Q5KG1tCx",
        "outputId": "9c001e25-9fb5-4592-ace3-a91789d0ab9c"
      },
      "execution_count": 3,
      "outputs": [
        {
          "output_type": "stream",
          "name": "stdout",
          "text": [
            "LCSS Distance: 4\n",
            "Longest Common Subsequence: GTAB\n"
          ]
        }
      ]
    },
    {
      "cell_type": "code",
      "source": [
        "from distancia import Frechet\n",
        "\n",
        "curve1 = [(0, 0), (1, 1), (2, 2)]\n",
        "curve2 = [(0, 0), (1, 2), (2, 3)]\n",
        "\n",
        "frechet_distance = Frechet()\n",
        "distance = frechet_distance.calculate(curve1, curve2)\n",
        "print(f\"Fréchet Distance: {distance}\")"
      ],
      "metadata": {
        "colab": {
          "base_uri": "https://localhost:8080/"
        },
        "id": "pnjE0N2a1_zZ",
        "outputId": "c1d070f8-cf22-438f-aeb4-129c11d607b0"
      },
      "execution_count": 4,
      "outputs": [
        {
          "output_type": "stream",
          "name": "stdout",
          "text": [
            "Fréchet Distance: 1.0\n"
          ]
        }
      ]
    }
  ]
}