{
  "nbformat": 4,
  "nbformat_minor": 0,
  "metadata": {
    "colab": {
      "provenance": [],
      "authorship_tag": "ABX9TyMI4U7C4jY8zR4N5RAIPpUF",
      "include_colab_link": true
    },
    "kernelspec": {
      "name": "python3",
      "display_name": "Python 3"
    },
    "language_info": {
      "name": "python"
    }
  },
  "cells": [
    {
      "cell_type": "markdown",
      "metadata": {
        "id": "view-in-github",
        "colab_type": "text"
      },
      "source": [
        "<a href=\"https://colab.research.google.com/github/ym001/distancia/blob/master/notebook/similarity.ipynb\" target=\"_parent\"><img src=\"https://colab.research.google.com/assets/colab-badge.svg\" alt=\"Open In Colab\"/></a>"
      ]
    },
    {
      "cell_type": "code",
      "execution_count": 1,
      "metadata": {
        "colab": {
          "base_uri": "https://localhost:8080/"
        },
        "id": "cYav4_5l_qLj",
        "outputId": "6064ca4f-5249-44e7-fe71-67c8f953b146"
      },
      "outputs": [
        {
          "output_type": "stream",
          "name": "stdout",
          "text": [
            "Collecting distancia==0.0.43\n",
            "  Downloading distancia-0.0.43-py3-none-any.whl.metadata (13 kB)\n",
            "Downloading distancia-0.0.43-py3-none-any.whl (60 kB)\n",
            "\u001b[2K   \u001b[90m━━━━━━━━━━━━━━━━━━━━━━━━━━━━━━━━━━━━━━━━\u001b[0m \u001b[32m60.0/60.0 kB\u001b[0m \u001b[31m2.9 MB/s\u001b[0m eta \u001b[36m0:00:00\u001b[0m\n",
            "\u001b[?25hInstalling collected packages: distancia\n",
            "Successfully installed distancia-0.0.43\n"
          ]
        }
      ],
      "source": [
        "!pip install distancia==0.0.43"
      ]
    },
    {
      "cell_type": "code",
      "source": [
        "from distancia import CosineSimilarity\n",
        "\n",
        "# Define two vectors\n",
        "vector1 = [1, 2, 3]\n",
        "vector2 = [4, 5, 6]\n",
        "\n",
        "# Calculate Cosine Similarity\n",
        "similarity = CosineSimilarity().calculate(vector1, vector2)\n",
        "\n",
        "print(f\"Cosine Similarity: {similarity:.4f}\")"
      ],
      "metadata": {
        "colab": {
          "base_uri": "https://localhost:8080/"
        },
        "id": "NgSxErmVAHDA",
        "outputId": "0f8eda4d-cca9-40ff-91ec-fe66a53e5915"
      },
      "execution_count": 2,
      "outputs": [
        {
          "output_type": "stream",
          "name": "stdout",
          "text": [
            "Cosine Similarity: 0.9746\n"
          ]
        }
      ]
    },
    {
      "cell_type": "code",
      "source": [
        "from distancia import Jaccard\n",
        "\n",
        "# Define two sets\n",
        "set1 = {1, 2, 3, 4, 5}\n",
        "set2 = {4, 5, 6, 7, 8}\n",
        "\n",
        "# Calculate Jaccard Similarity\n",
        "similarity = Jaccard().calculate(set1, set2)\n",
        "\n",
        "print(f\"Jaccard Similarity: {similarity:.4f}\")"
      ],
      "metadata": {
        "colab": {
          "base_uri": "https://localhost:8080/"
        },
        "id": "Oq95aHsNAsd-",
        "outputId": "368d48f9-0a0a-482b-8d11-eddb04dc5c61"
      },
      "execution_count": 3,
      "outputs": [
        {
          "output_type": "stream",
          "name": "stdout",
          "text": [
            "Jaccard Similarity: 0.7500\n"
          ]
        }
      ]
    },
    {
      "cell_type": "code",
      "source": [
        "# Importing the GeneralizedJaccard class from the distancia package\n",
        "from distancia import GeneralizedJaccard\n",
        "\n",
        "# Define a function to test the Generalized Jaccard similarity\n",
        "def test_generalized_jaccard():\n",
        "    # Create an instance of the GeneralizedJaccard class\n",
        "    similarity_calculator = GeneralizedJaccard()\n",
        "\n",
        "    # Test cases: pairs of vectors to compare\n",
        "    test_cases = [\n",
        "        ([1, 2, 3], [3, 2, 1]),\n",
        "        ([0, 1, 2], [2, 0, 1]),\n",
        "        ([5, 10, 15], [10, 15, 5]),\n",
        "        ([0.5, 0.7, 0.9], [0.9, 0.7, 0.5]),\n",
        "        ([1, 1, 1], [1, 1, 1]),\n",
        "        ([0, 0, 0], [1, 2, 3]),\n",
        "    ]\n",
        "\n",
        "    # Iterate through the test cases and compute the similarity\n",
        "    for vec1, vec2 in test_cases:\n",
        "        similarity = similarity_calculator.calculate(vec1, vec2)\n",
        "        print(f\"Generalized Jaccard similarity between {vec1} and {vec2}: {similarity:.4f}\")\n",
        "\n",
        "if __name__ == \"__main__\":\n",
        "    # Run the test function\n",
        "    test_generalized_jaccard()"
      ],
      "metadata": {
        "colab": {
          "base_uri": "https://localhost:8080/"
        },
        "id": "9w272yRRCBPa",
        "outputId": "01427086-0b81-450a-d35c-fb2a792f5116"
      },
      "execution_count": 4,
      "outputs": [
        {
          "output_type": "stream",
          "name": "stdout",
          "text": [
            "Generalized Jaccard similarity between [1, 2, 3] and [3, 2, 1]: 0.5000\n",
            "Generalized Jaccard similarity between [0, 1, 2] and [2, 0, 1]: 0.8000\n",
            "Generalized Jaccard similarity between [5, 10, 15] and [10, 15, 5]: 0.5000\n",
            "Generalized Jaccard similarity between [0.5, 0.7, 0.9] and [0.9, 0.7, 0.5]: 0.3200\n",
            "Generalized Jaccard similarity between [1, 1, 1] and [1, 1, 1]: 0.0000\n",
            "Generalized Jaccard similarity between [0, 0, 0] and [1, 2, 3]: 1.0000\n"
          ]
        }
      ]
    },
    {
      "cell_type": "code",
      "source": [
        "from distancia import Tanimoto\n",
        "\n",
        "# Define two binary sets or vectors\n",
        "set1 = {1, 0, 1, 2}\n",
        "set2 = {1, 1, 0, 1}\n",
        "# Calculate Tanimoto Distance\n",
        "distance = Tanimoto().calculate(set1, set2)\n",
        "print(f\"Tanimoto Distance: {distance:.4f}\")"
      ],
      "metadata": {
        "colab": {
          "base_uri": "https://localhost:8080/"
        },
        "id": "npgSmG2nCHEZ",
        "outputId": "6b142f29-ecc6-447a-981e-503e8214433f"
      },
      "execution_count": 5,
      "outputs": [
        {
          "output_type": "stream",
          "name": "stdout",
          "text": [
            "Tanimoto Distance: 0.3333\n"
          ]
        }
      ]
    },
    {
      "cell_type": "code",
      "source": [
        "from distancia import Tversky\n",
        "\n",
        "# Define two sets\n",
        "set1 = {1, 2, 3, 4}\n",
        "set2 = {2, 3, 5, 6}\n",
        "\n",
        "# Parameters for the Tversky Index\n",
        "alpha = 0.5\n",
        "beta = 0.5\n",
        "\n",
        "# Calculate Tversky Index\n",
        "similarity = Tversky(alpha, beta)\n",
        "\n",
        "\n",
        "print(f\"Tversky Index: {similarity.calculate(set1, set2):.4f}\")"
      ],
      "metadata": {
        "colab": {
          "base_uri": "https://localhost:8080/"
        },
        "id": "25s688XBEO5C",
        "outputId": "02ba42d8-5c1a-4d54-f904-8bd0c863c6d8"
      },
      "execution_count": 6,
      "outputs": [
        {
          "output_type": "stream",
          "name": "stdout",
          "text": [
            "Tversky Index: 0.5000\n"
          ]
        }
      ]
    },
    {
      "cell_type": "code",
      "source": [
        "from distancia import Dice\n",
        "\n",
        "# Define two binary sets\n",
        "set1 = {1, 0, 1, 2}\n",
        "set2 = {1, 1, 0, 1}\n",
        "\n",
        "# Calculate Dice Distance\n",
        "distance = Dice().calculate(set1, set2)\n",
        "\n",
        "print(f\"Dice Distance: {distance:.4f}\")"
      ],
      "metadata": {
        "colab": {
          "base_uri": "https://localhost:8080/"
        },
        "id": "Y5asrJe1Ehon",
        "outputId": "10ff7945-5725-4a75-cd2a-e2ae4e1e7ca5"
      },
      "execution_count": 7,
      "outputs": [
        {
          "output_type": "stream",
          "name": "stdout",
          "text": [
            "Dice Distance: 0.2000\n"
          ]
        }
      ]
    },
    {
      "cell_type": "code",
      "source": [
        "from distancia import InverseTanimoto\n",
        "# Instantiate the InverseTanimoto class\n",
        "inverse_tanimoto = InverseTanimoto()\n",
        "\n",
        "# Define two sets for testing\n",
        "set_a = {1, 2, 3, 4}\n",
        "set_b = {3, 4, 5, 6}\n",
        "\n",
        "# Calculate the Inverse Tanimoto coefficient between the two sets\n",
        "result = inverse_tanimoto.calculate(set_a, set_b)\n",
        "\n",
        "# Print the result\n",
        "print(f\"Inverse Tanimoto coefficient between {set_a} and {set_b}: {result:.4f}\")\n",
        "\n",
        "# Additional test cases\n",
        "test_cases = [\n",
        "    ({1, 2, 3}, {3, 4, 5}),\n",
        "    ({'apple', 'banana', 'cherry'}, {'banana', 'cherry', 'date'}),\n",
        "    ({1, 2}, {1, 2, 3, 4}),\n",
        "    ({'cat', 'dog'}, {'dog', 'mouse'}),\n",
        "    ({10, 20, 30}, {40, 50, 60})\n",
        "]\n",
        "\n",
        "# Run additional test cases\n",
        "for a, b in test_cases:\n",
        "    result = inverse_tanimoto.calculate(a, b)\n",
        "    print(f\"Inverse Tanimoto coefficient between {a} and {b}: {result:.4f}\")\n"
      ],
      "metadata": {
        "colab": {
          "base_uri": "https://localhost:8080/"
        },
        "id": "SgphqY8tFCEh",
        "outputId": "789a60b8-5ab0-4d7b-e184-4cdba078dc1c"
      },
      "execution_count": 8,
      "outputs": [
        {
          "output_type": "stream",
          "name": "stdout",
          "text": [
            "Inverse Tanimoto coefficient between {1, 2, 3, 4} and {3, 4, 5, 6}: 0.6667\n",
            "Inverse Tanimoto coefficient between {1, 2, 3} and {3, 4, 5}: 0.8000\n",
            "Inverse Tanimoto coefficient between {'cherry', 'apple', 'banana'} and {'cherry', 'date', 'banana'}: 0.5000\n",
            "Inverse Tanimoto coefficient between {1, 2} and {1, 2, 3, 4}: 0.5000\n",
            "Inverse Tanimoto coefficient between {'dog', 'cat'} and {'dog', 'mouse'}: 0.6667\n",
            "Inverse Tanimoto coefficient between {10, 20, 30} and {40, 50, 60}: 1.0000\n"
          ]
        }
      ]
    },
    {
      "cell_type": "code",
      "source": [
        "# Import the distanciaa package\n",
        "from distancia import Ochiai\n",
        "\n",
        "# Define two binary vectors representing data points\n",
        "binary_vector_1 = [1, 0, 1, 1, 0, 1, 0]\n",
        "binary_vector_2 = [1, 1, 0, 1, 0, 1, 1]\n",
        "\n",
        "# Create an instance of the OchiaiDistance class\n",
        "ochiai_dist = Ochiai()\n",
        "\n",
        "# Calculate the Ochiai distance between the two binary vectors\n",
        "distance = ochiai_dist.calculate(binary_vector_1, binary_vector_2)\n",
        "\n",
        "# Print the result\n",
        "print(f\"The Ochiai distance between the two binary vectors is: {distance:.4f}\")"
      ],
      "metadata": {
        "colab": {
          "base_uri": "https://localhost:8080/"
        },
        "id": "071U6tsqFc93",
        "outputId": "f4b7a8cc-da42-493f-eee9-fd49f8554435"
      },
      "execution_count": 9,
      "outputs": [
        {
          "output_type": "stream",
          "name": "stdout",
          "text": [
            "The Ochiai distance between the two binary vectors is: 0.6708\n"
          ]
        }
      ]
    },
    {
      "cell_type": "code",
      "source": [
        "from distancia import CzekanowskiDice\n",
        "\n",
        "# Define two vector\n",
        "set1 = [1.3, 0, 1, 1]\n",
        "set2 = [1, 1, 0, 1]\n",
        "\n",
        "# Calculate Dice Distance\n",
        "similarity = CzekanowskiDice().calculate(set1, set2)\n",
        "\n",
        "print(f\"Czekanowski Dice similarity: {similarity:.4f}\")"
      ],
      "metadata": {
        "colab": {
          "base_uri": "https://localhost:8080/"
        },
        "id": "yT2sPDfXF0Ps",
        "outputId": "214bfec5-261e-46d2-d16f-3fdd3d3ad218"
      },
      "execution_count": 10,
      "outputs": [
        {
          "output_type": "stream",
          "name": "stdout",
          "text": [
            "Czekanowski Dice similarity: 0.3651\n"
          ]
        }
      ]
    },
    {
      "cell_type": "code",
      "source": [
        "# Import the distanciaa package\n",
        "from distancia import Pearson\n",
        "\n",
        "# Define two sample vectors representing data points\n",
        "data_point_1 = [2.5, 3.6, 2.1, 4.0]\n",
        "data_point_2 = [3.0, 3.7, 2.3, 3.8]\n",
        "\n",
        "# Create an instance of the PearsonDistance class\n",
        "pearson_dist = Pearson()\n",
        "\n",
        "# Calculate the Pearson distance between the two data points\n",
        "distance = pearson_dist.calculate(data_point_1, data_point_2)\n",
        "\n",
        "# Print the result\n",
        "print(f\"The Pearson distance between the two data points is: {distance:.4f}\")"
      ],
      "metadata": {
        "colab": {
          "base_uri": "https://localhost:8080/"
        },
        "id": "atjN8Z2LF6pb",
        "outputId": "12966f33-a9d2-4a9b-f27d-84cc0b9ff4d3"
      },
      "execution_count": 11,
      "outputs": [
        {
          "output_type": "stream",
          "name": "stdout",
          "text": [
            "The Pearson distance between the two data points is: 0.0351\n"
          ]
        }
      ]
    },
    {
      "cell_type": "code",
      "source": [
        "# Import the distanciaa package\n",
        "from distancia import Spearman\n",
        "\n",
        "# Define two sample vectors representing data points\n",
        "data_point_1 = [1, 2, 3, 4, 5]\n",
        "data_point_2 = [5, 6, 7, 8, 7]\n",
        "\n",
        "# Create an instance of the Spearman class\n",
        "spearman_dist = Spearman()\n",
        "\n",
        "# Calculate the Spearman distance between the two data points\n",
        "distance = spearman_dist.calculate(data_point_1, data_point_2)\n",
        "\n",
        "# Print the result\n",
        "print(f\"The Spearman distance between the two data points is: {distance:.4f}\")"
      ],
      "metadata": {
        "colab": {
          "base_uri": "https://localhost:8080/"
        },
        "id": "WVXR8MrsGO90",
        "outputId": "afba4d35-7fca-44b4-ac8c-ca953632f5f3"
      },
      "execution_count": 12,
      "outputs": [
        {
          "output_type": "stream",
          "name": "stdout",
          "text": [
            "The Spearman distance between the two data points is: 0.0520\n"
          ]
        }
      ]
    },
    {
      "cell_type": "code",
      "source": [
        "# Importing the FagerMcGowan class from the distancia package\n",
        "from distancia import FagerMcGowan\n",
        "\n",
        "# Define a function to test the FagerMcGowan similarity coefficient\n",
        "def test_fager_mcgowan():\n",
        "    # Create an instance of the FagerMcGowan class\n",
        "    similarity_calculator = FagerMcGowan()\n",
        "\n",
        "    # Test cases: Sets to compare\n",
        "    test_cases = [\n",
        "        ({\"a\", \"b\", \"c\"}, {\"b\", \"c\", \"d\"}),\n",
        "        ({\"apple\", \"banana\"}, {\"banana\", \"cherry\"}),\n",
        "        ({\"cat\", \"dog\"}, {\"dog\", \"mouse\"}),\n",
        "        ({\"python\", \"java\", \"c++\"}, {\"java\", \"c++\", \"ruby\"}),\n",
        "        ({\"red\", \"blue\", \"green\"}, {\"yellow\", \"blue\", \"green\", \"purple\"}),\n",
        "    ]\n",
        "\n",
        "    # Total number of unique elements in the universal set (for the purpose of these examples)\n",
        "    universal_set_size = 10\n",
        "\n",
        "    # Iterate through the test cases and compute the similarity\n",
        "    for set1, set2 in test_cases:\n",
        "        similarity = similarity_calculator.calculate(set1, set2, universal_set_size)\n",
        "        print(f\"Fager-McGowan similarity between {set1} and {set2}: {similarity:.4f}\")\n",
        "\n",
        "if __name__ == \"__main__\":\n",
        "    # Run the test function\n",
        "    test_fager_mcgowan()"
      ],
      "metadata": {
        "colab": {
          "base_uri": "https://localhost:8080/"
        },
        "id": "HOPNmdWmHtMf",
        "outputId": "73ac5cad-597f-433c-dd84-7513c8a0182c"
      },
      "execution_count": 13,
      "outputs": [
        {
          "output_type": "stream",
          "name": "stdout",
          "text": [
            "Fager-McGowan similarity between {'b', 'c', 'a'} and {'b', 'c', 'd'}: 0.3667\n",
            "Fager-McGowan similarity between {'apple', 'banana'} and {'cherry', 'banana'}: 0.3000\n",
            "Fager-McGowan similarity between {'dog', 'cat'} and {'dog', 'mouse'}: 0.3000\n",
            "Fager-McGowan similarity between {'python', 'c++', 'java'} and {'ruby', 'c++', 'java'}: 0.3667\n",
            "Fager-McGowan similarity between {'green', 'red', 'blue'} and {'purple', 'yellow', 'green', 'blue'}: 0.2667\n"
          ]
        }
      ]
    },
    {
      "cell_type": "code",
      "source": [
        "from distancia import Otsuka  # Import the Otsuka class from the distancia package\n",
        "\n",
        "def main():\n",
        "    # Define two categorical vectors for comparison\n",
        "    vector1 = ['A', 'B', 'C', 'D', 'E']\n",
        "    vector2 = ['A', 'X', 'C', 'Y', 'E']\n",
        "\n",
        "    # Create an instance of the Otsuka class\n",
        "    otsuka_distance = Otsuka()\n",
        "\n",
        "    # Calculate the Otsuka distance\n",
        "    distance = otsuka_distance.calculate(vector1, vector2)\n",
        "\n",
        "    # Print the result\n",
        "    print(f\"Otsuka distance between {vector1} and {vector2} is: {distance:.4f}\")\n",
        "\n",
        "if __name__ == \"__main__\":\n",
        "    main()"
      ],
      "metadata": {
        "colab": {
          "base_uri": "https://localhost:8080/"
        },
        "id": "2Hfi801sHzLC",
        "outputId": "32914828-bbc7-4348-d647-6ac5185e40b6"
      },
      "execution_count": 14,
      "outputs": [
        {
          "output_type": "stream",
          "name": "stdout",
          "text": [
            "Otsuka distance between ['A', 'B', 'C', 'D', 'E'] and ['A', 'X', 'C', 'Y', 'E'] is: 0.5000\n"
          ]
        }
      ]
    }
  ]
}