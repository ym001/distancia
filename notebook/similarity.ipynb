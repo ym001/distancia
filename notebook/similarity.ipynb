{
  "nbformat": 4,
  "nbformat_minor": 0,
  "metadata": {
    "colab": {
      "provenance": [],
      "authorship_tag": "ABX9TyPudWTHwVYIpz6qzy3mlfcp",
      "include_colab_link": true
    },
    "kernelspec": {
      "name": "python3",
      "display_name": "Python 3"
    },
    "language_info": {
      "name": "python"
    }
  },
  "cells": [
    {
      "cell_type": "markdown",
      "metadata": {
        "id": "view-in-github",
        "colab_type": "text"
      },
      "source": [
        "<a href=\"https://colab.research.google.com/github/ym001/distancia/blob/master/notebook/similarity.ipynb\" target=\"_parent\"><img src=\"https://colab.research.google.com/assets/colab-badge.svg\" alt=\"Open In Colab\"/></a>"
      ]
    },
    {
      "cell_type": "code",
      "execution_count": 3,
      "metadata": {
        "colab": {
          "base_uri": "https://localhost:8080/"
        },
        "id": "cYav4_5l_qLj",
        "outputId": "c2573af5-1e49-43fa-cab9-8e448c8e7119"
      },
      "outputs": [
        {
          "output_type": "stream",
          "name": "stdout",
          "text": [
            "Collecting distancia==0.0.31\n",
            "  Downloading distancia-0.0.31-py3-none-any.whl.metadata (4.3 kB)\n",
            "Downloading distancia-0.0.31-py3-none-any.whl (35 kB)\n",
            "Installing collected packages: distancia\n",
            "Successfully installed distancia-0.0.31\n"
          ]
        }
      ],
      "source": [
        "!pip install distancia==0.0.31"
      ]
    },
    {
      "cell_type": "code",
      "source": [
        "from distancia import CosineSimilarity\n",
        "\n",
        "# Define two vectors\n",
        "vector1 = [1, 2, 3]\n",
        "vector2 = [4, 5, 6]\n",
        "\n",
        "# Calculate Cosine Similarity\n",
        "similarity = CosineSimilarity().calculate(vector1, vector2)\n",
        "\n",
        "print(f\"Cosine Similarity: {similarity}\")"
      ],
      "metadata": {
        "colab": {
          "base_uri": "https://localhost:8080/"
        },
        "id": "NgSxErmVAHDA",
        "outputId": "79b9c10b-afd8-4f9b-87c5-bd783df75c3f"
      },
      "execution_count": 4,
      "outputs": [
        {
          "output_type": "stream",
          "name": "stdout",
          "text": [
            "Cosine Similarity: 0.9746318461970762\n"
          ]
        }
      ]
    },
    {
      "cell_type": "code",
      "source": [
        "from distancia import Jaccard\n",
        "\n",
        "# Define two sets\n",
        "set1 = {1, 2, 3, 4, 5}\n",
        "set2 = {4, 5, 6, 7, 8}\n",
        "\n",
        "# Calculate Jaccard Similarity\n",
        "similarity = Jaccard().calculate(set1, set2)\n",
        "\n",
        "print(f\"Jaccard Similarity: {similarity}\")"
      ],
      "metadata": {
        "colab": {
          "base_uri": "https://localhost:8080/"
        },
        "id": "Oq95aHsNAsd-",
        "outputId": "21296a6e-9d46-4722-8168-450d3c9cb0b5"
      },
      "execution_count": 8,
      "outputs": [
        {
          "output_type": "stream",
          "name": "stdout",
          "text": [
            "Jaccard Similarity: 0.75\n"
          ]
        }
      ]
    },
    {
      "cell_type": "code",
      "source": [
        "# Importing the GeneralizedJaccard class from the distancia package\n",
        "from distancia import GeneralizedJaccard\n",
        "\n",
        "# Define a function to test the Generalized Jaccard similarity\n",
        "def test_generalized_jaccard():\n",
        "    # Create an instance of the GeneralizedJaccard class\n",
        "    similarity_calculator = GeneralizedJaccard()\n",
        "\n",
        "    # Test cases: pairs of vectors to compare\n",
        "    test_cases = [\n",
        "        ([1, 2, 3], [3, 2, 1]),\n",
        "        ([0, 1, 2], [2, 0, 1]),\n",
        "        ([5, 10, 15], [10, 15, 5]),\n",
        "        ([0.5, 0.7, 0.9], [0.9, 0.7, 0.5]),\n",
        "        ([1, 1, 1], [1, 1, 1]),\n",
        "        ([0, 0, 0], [1, 2, 3]),\n",
        "    ]\n",
        "\n",
        "    # Iterate through the test cases and compute the similarity\n",
        "    for vec1, vec2 in test_cases:\n",
        "        similarity = similarity_calculator.calculate(vec1, vec2)\n",
        "        print(f\"Generalized Jaccard similarity between {vec1} and {vec2}: {similarity:.4f}\")\n",
        "\n",
        "if __name__ == \"__main__\":\n",
        "    # Run the test function\n",
        "    test_generalized_jaccard()"
      ],
      "metadata": {
        "colab": {
          "base_uri": "https://localhost:8080/"
        },
        "id": "9w272yRRCBPa",
        "outputId": "0f775297-ccf7-4fa5-dead-1d74cbfd1360"
      },
      "execution_count": 9,
      "outputs": [
        {
          "output_type": "stream",
          "name": "stdout",
          "text": [
            "Generalized Jaccard similarity between [1, 2, 3] and [3, 2, 1]: 0.5000\n",
            "Generalized Jaccard similarity between [0, 1, 2] and [2, 0, 1]: 0.8000\n",
            "Generalized Jaccard similarity between [5, 10, 15] and [10, 15, 5]: 0.5000\n",
            "Generalized Jaccard similarity between [0.5, 0.7, 0.9] and [0.9, 0.7, 0.5]: 0.3200\n",
            "Generalized Jaccard similarity between [1, 1, 1] and [1, 1, 1]: 0.0000\n",
            "Generalized Jaccard similarity between [0, 0, 0] and [1, 2, 3]: 1.0000\n"
          ]
        }
      ]
    },
    {
      "cell_type": "code",
      "source": [
        "from distancia import Tanimoto\n",
        "\n",
        "# Define two binary sets or vectors\n",
        "set1 = {1, 0, 1, 2}\n",
        "set2 = {1, 1, 0, 1}\n",
        "# Calculate Tanimoto Distance\n",
        "distance = Tanimoto().calculate(set1, set2)\n",
        "print(f\"Tanimoto Distance: {distance}\")"
      ],
      "metadata": {
        "colab": {
          "base_uri": "https://localhost:8080/"
        },
        "id": "npgSmG2nCHEZ",
        "outputId": "2a39e7ea-869d-45e6-8f17-45a9a9166459"
      },
      "execution_count": 16,
      "outputs": [
        {
          "output_type": "stream",
          "name": "stdout",
          "text": [
            "3\n",
            "Tanimoto Distance: 0.33333333333333337\n"
          ]
        }
      ]
    },
    {
      "cell_type": "code",
      "source": [
        "from distancia import Tversky\n",
        "\n",
        "# Define two sets\n",
        "set1 = {1, 2, 3, 4}\n",
        "set2 = {2, 3, 5, 6}\n",
        "\n",
        "# Parameters for the Tversky Index\n",
        "alpha = 0.5\n",
        "beta = 0.5\n",
        "\n",
        "# Calculate Tversky Index\n",
        "similarity = Tversky().calculate(set1, set2, alpha, beta)\n",
        "\n",
        "print(f\"Tversky Index: {similarity}\")"
      ],
      "metadata": {
        "colab": {
          "base_uri": "https://localhost:8080/"
        },
        "id": "25s688XBEO5C",
        "outputId": "d751352e-d12d-4581-c0f1-4198516ff7ea"
      },
      "execution_count": 17,
      "outputs": [
        {
          "output_type": "stream",
          "name": "stdout",
          "text": [
            "Tversky Index: 0.5\n"
          ]
        }
      ]
    },
    {
      "cell_type": "code",
      "source": [
        "from distancia import Dice\n",
        "\n",
        "# Define two binary sets\n",
        "set1 = {1, 0, 1, 2}\n",
        "set2 = {1, 1, 0, 1}\n",
        "\n",
        "# Calculate Dice Distance\n",
        "distance = Dice().calculate(set1, set2)\n",
        "\n",
        "print(f\"Dice Distance: {distance}\")"
      ],
      "metadata": {
        "colab": {
          "base_uri": "https://localhost:8080/"
        },
        "id": "Y5asrJe1Ehon",
        "outputId": "a7f2accd-590e-40ef-a7d8-953cd6fa4742"
      },
      "execution_count": 20,
      "outputs": [
        {
          "output_type": "stream",
          "name": "stdout",
          "text": [
            "Dice Distance: 0.19999999999999996\n"
          ]
        }
      ]
    },
    {
      "cell_type": "code",
      "source": [
        "from distancia import InverseTanimoto\n",
        "# Instantiate the InverseTanimoto class\n",
        "inverse_tanimoto = InverseTanimoto()\n",
        "\n",
        "# Define two sets for testing\n",
        "set_a = {1, 2, 3, 4}\n",
        "set_b = {3, 4, 5, 6}\n",
        "\n",
        "# Calculate the Inverse Tanimoto coefficient between the two sets\n",
        "result = inverse_tanimoto.calculate(set_a, set_b)\n",
        "\n",
        "# Print the result\n",
        "print(f\"Inverse Tanimoto coefficient between {set_a} and {set_b}: {result:.4f}\")\n",
        "\n",
        "# Additional test cases\n",
        "test_cases = [\n",
        "    ({1, 2, 3}, {3, 4, 5}),\n",
        "    ({'apple', 'banana', 'cherry'}, {'banana', 'cherry', 'date'}),\n",
        "    ({1, 2}, {1, 2, 3, 4}),\n",
        "    ({'cat', 'dog'}, {'dog', 'mouse'}),\n",
        "    ({10, 20, 30}, {40, 50, 60})\n",
        "]\n",
        "\n",
        "# Run additional test cases\n",
        "for a, b in test_cases:\n",
        "    result = inverse_tanimoto.calculate(a, b)\n",
        "    print(f\"Inverse Tanimoto coefficient between {a} and {b}: {result:.4f}\")\n"
      ],
      "metadata": {
        "colab": {
          "base_uri": "https://localhost:8080/"
        },
        "id": "SgphqY8tFCEh",
        "outputId": "32a5ebef-7d15-40b5-f932-e373fcabe346"
      },
      "execution_count": 21,
      "outputs": [
        {
          "output_type": "stream",
          "name": "stdout",
          "text": [
            "Inverse Tanimoto coefficient between {1, 2, 3, 4} and {3, 4, 5, 6}: 0.6667\n",
            "Inverse Tanimoto coefficient between {1, 2, 3} and {3, 4, 5}: 0.8000\n",
            "Inverse Tanimoto coefficient between {'banana', 'cherry', 'apple'} and {'date', 'banana', 'cherry'}: 0.5000\n",
            "Inverse Tanimoto coefficient between {1, 2} and {1, 2, 3, 4}: 0.5000\n",
            "Inverse Tanimoto coefficient between {'cat', 'dog'} and {'dog', 'mouse'}: 0.6667\n",
            "Inverse Tanimoto coefficient between {10, 20, 30} and {40, 50, 60}: 1.0000\n"
          ]
        }
      ]
    },
    {
      "cell_type": "code",
      "source": [
        "# Import the distanciaa package\n",
        "from distancia import Ochiai\n",
        "\n",
        "# Define two binary vectors representing data points\n",
        "binary_vector_1 = [1, 0, 1, 1, 0, 1, 0]\n",
        "binary_vector_2 = [1, 1, 0, 1, 0, 1, 1]\n",
        "\n",
        "# Create an instance of the OchiaiDistance class\n",
        "ochiai_dist = Ochiai()\n",
        "\n",
        "# Calculate the Ochiai distance between the two binary vectors\n",
        "distance = ochiai_dist.calculate(binary_vector_1, binary_vector_2)\n",
        "\n",
        "# Print the result\n",
        "print(f\"The Ochiai distance between the two binary vectors is: {distance}\")"
      ],
      "metadata": {
        "colab": {
          "base_uri": "https://localhost:8080/"
        },
        "id": "071U6tsqFc93",
        "outputId": "caae1eae-8f9f-4dfc-97b0-262bf5977e72"
      },
      "execution_count": 23,
      "outputs": [
        {
          "output_type": "stream",
          "name": "stdout",
          "text": [
            "The Ochiai distance between the two binary vectors is: 0.6708203932499369\n"
          ]
        }
      ]
    },
    {
      "cell_type": "code",
      "source": [
        "from distancia import CzekanowskiDice\n",
        "\n",
        "# Define two vector\n",
        "set1 = [1.3, 0, 1, 1]\n",
        "set2 = [1, 1, 0, 1]\n",
        "\n",
        "# Calculate Dice Distance\n",
        "similarity = CzekanowskiDice().calculate(set1, set2)\n",
        "\n",
        "print(f\"Czekanowski Dice similarity: {similarity}\")"
      ],
      "metadata": {
        "colab": {
          "base_uri": "https://localhost:8080/"
        },
        "id": "yT2sPDfXF0Ps",
        "outputId": "d6e6bc84-7078-4599-f841-ac0459ceb6dd"
      },
      "execution_count": 24,
      "outputs": [
        {
          "output_type": "stream",
          "name": "stdout",
          "text": [
            "Czekanowski Dice similarity: 0.3650793650793651\n"
          ]
        }
      ]
    },
    {
      "cell_type": "code",
      "source": [
        "# Import the distanciaa package\n",
        "from distancia import Pearson\n",
        "\n",
        "# Define two sample vectors representing data points\n",
        "data_point_1 = [2.5, 3.6, 2.1, 4.0]\n",
        "data_point_2 = [3.0, 3.7, 2.3, 3.8]\n",
        "\n",
        "# Create an instance of the PearsonDistance class\n",
        "pearson_dist = Pearson()\n",
        "\n",
        "# Calculate the Pearson distance between the two data points\n",
        "distance = pearson_dist.calculate(data_point_1, data_point_2)\n",
        "\n",
        "# Print the result\n",
        "print(f\"The Pearson distance between the two data points is: {distance}\")"
      ],
      "metadata": {
        "colab": {
          "base_uri": "https://localhost:8080/"
        },
        "id": "atjN8Z2LF6pb",
        "outputId": "c1a5a481-139c-46cd-cc97-be268fd9272d"
      },
      "execution_count": 26,
      "outputs": [
        {
          "output_type": "stream",
          "name": "stdout",
          "text": [
            "The Pearson distance between the two data points is: 0.03507485088327078\n"
          ]
        }
      ]
    },
    {
      "cell_type": "code",
      "source": [
        "# Import the distanciaa package\n",
        "from distancia import Spearman\n",
        "\n",
        "# Define two sample vectors representing data points\n",
        "data_point_1 = [1, 2, 3, 4, 5]\n",
        "data_point_2 = [5, 6, 7, 8, 7]\n",
        "\n",
        "# Create an instance of the Spearman class\n",
        "spearman_dist = Spearman()\n",
        "\n",
        "# Calculate the Spearman distance between the two data points\n",
        "distance = spearman_dist.calculate(data_point_1, data_point_2)\n",
        "\n",
        "# Print the result\n",
        "print(f\"The Spearman distance between the two data points is: {distance}\")"
      ],
      "metadata": {
        "colab": {
          "base_uri": "https://localhost:8080/"
        },
        "id": "WVXR8MrsGO90",
        "outputId": "b1bcb2f9-1633-4bf7-efb7-ac685710f8d4"
      },
      "execution_count": 30,
      "outputs": [
        {
          "output_type": "stream",
          "name": "stdout",
          "text": [
            "The Spearman distance between the two data points is: 0.052000000000000046\n"
          ]
        }
      ]
    },
    {
      "cell_type": "code",
      "source": [
        "# Importing the FagerMcGowan class from the distancia package\n",
        "from distancia import FagerMcGowan\n",
        "\n",
        "# Define a function to test the FagerMcGowan similarity coefficient\n",
        "def test_fager_mcgowan():\n",
        "    # Create an instance of the FagerMcGowan class\n",
        "    similarity_calculator = FagerMcGowan()\n",
        "\n",
        "    # Test cases: Sets to compare\n",
        "    test_cases = [\n",
        "        ({\"a\", \"b\", \"c\"}, {\"b\", \"c\", \"d\"}),\n",
        "        ({\"apple\", \"banana\"}, {\"banana\", \"cherry\"}),\n",
        "        ({\"cat\", \"dog\"}, {\"dog\", \"mouse\"}),\n",
        "        ({\"python\", \"java\", \"c++\"}, {\"java\", \"c++\", \"ruby\"}),\n",
        "        ({\"red\", \"blue\", \"green\"}, {\"yellow\", \"blue\", \"green\", \"purple\"}),\n",
        "    ]\n",
        "\n",
        "    # Total number of unique elements in the universal set (for the purpose of these examples)\n",
        "    universal_set_size = 10\n",
        "\n",
        "    # Iterate through the test cases and compute the similarity\n",
        "    for set1, set2 in test_cases:\n",
        "        similarity = similarity_calculator.calculate(set1, set2, universal_set_size)\n",
        "        print(f\"Fager-McGowan similarity between {set1} and {set2}: {similarity:.4f}\")\n",
        "\n",
        "if __name__ == \"__main__\":\n",
        "    # Run the test function\n",
        "    test_fager_mcgowan()"
      ],
      "metadata": {
        "colab": {
          "base_uri": "https://localhost:8080/"
        },
        "id": "HOPNmdWmHtMf",
        "outputId": "7bc16d5f-ee5f-4d2f-c99a-ccd43692b0c0"
      },
      "execution_count": 31,
      "outputs": [
        {
          "output_type": "stream",
          "name": "stdout",
          "text": [
            "Fager-McGowan similarity between {'c', 'a', 'b'} and {'c', 'b', 'd'}: 0.3667\n",
            "Fager-McGowan similarity between {'banana', 'apple'} and {'banana', 'cherry'}: 0.3000\n",
            "Fager-McGowan similarity between {'cat', 'dog'} and {'dog', 'mouse'}: 0.3000\n",
            "Fager-McGowan similarity between {'python', 'c++', 'java'} and {'ruby', 'c++', 'java'}: 0.3667\n",
            "Fager-McGowan similarity between {'blue', 'green', 'red'} and {'yellow', 'green', 'purple', 'blue'}: 0.2667\n"
          ]
        }
      ]
    },
    {
      "cell_type": "code",
      "source": [
        "from distancia import Otsuka  # Import the Otsuka class from the distancia package\n",
        "\n",
        "def main():\n",
        "    # Define two categorical vectors for comparison\n",
        "    vector1 = ['A', 'B', 'C', 'D', 'E']\n",
        "    vector2 = ['A', 'X', 'C', 'Y', 'E']\n",
        "\n",
        "    # Create an instance of the Otsuka class\n",
        "    otsuka_distance = Otsuka()\n",
        "\n",
        "    # Calculate the Otsuka distance\n",
        "    distance = otsuka_distance.calculate(vector1, vector2)\n",
        "\n",
        "    # Print the result\n",
        "    print(f\"Otsuka distance between {vector1} and {vector2} is: {distance:.4f}\")\n",
        "\n",
        "if __name__ == \"__main__\":\n",
        "    main()"
      ],
      "metadata": {
        "colab": {
          "base_uri": "https://localhost:8080/",
          "height": 329
        },
        "collapsed": true,
        "id": "2Hfi801sHzLC",
        "outputId": "613a6e29-446f-4c56-8689-cb228c0def55"
      },
      "execution_count": 34,
      "outputs": [
        {
          "output_type": "error",
          "ename": "AttributeError",
          "evalue": "'Otsuka' object has no attribute 'vector1'",
          "traceback": [
            "\u001b[0;31m---------------------------------------------------------------------------\u001b[0m",
            "\u001b[0;31mAttributeError\u001b[0m                            Traceback (most recent call last)",
            "\u001b[0;32m<ipython-input-34-52aa438a308b>\u001b[0m in \u001b[0;36m<cell line: 17>\u001b[0;34m()\u001b[0m\n\u001b[1;32m     16\u001b[0m \u001b[0;34m\u001b[0m\u001b[0m\n\u001b[1;32m     17\u001b[0m \u001b[0;32mif\u001b[0m \u001b[0m__name__\u001b[0m \u001b[0;34m==\u001b[0m \u001b[0;34m\"__main__\"\u001b[0m\u001b[0;34m:\u001b[0m\u001b[0;34m\u001b[0m\u001b[0;34m\u001b[0m\u001b[0m\n\u001b[0;32m---> 18\u001b[0;31m     \u001b[0mmain\u001b[0m\u001b[0;34m(\u001b[0m\u001b[0;34m)\u001b[0m\u001b[0;34m\u001b[0m\u001b[0;34m\u001b[0m\u001b[0m\n\u001b[0m",
            "\u001b[0;32m<ipython-input-34-52aa438a308b>\u001b[0m in \u001b[0;36mmain\u001b[0;34m()\u001b[0m\n\u001b[1;32m     10\u001b[0m \u001b[0;34m\u001b[0m\u001b[0m\n\u001b[1;32m     11\u001b[0m     \u001b[0;31m# Calculate the Otsuka distance\u001b[0m\u001b[0;34m\u001b[0m\u001b[0;34m\u001b[0m\u001b[0m\n\u001b[0;32m---> 12\u001b[0;31m     \u001b[0mdistance\u001b[0m \u001b[0;34m=\u001b[0m \u001b[0motsuka_distance\u001b[0m\u001b[0;34m.\u001b[0m\u001b[0mcalculate\u001b[0m\u001b[0;34m(\u001b[0m\u001b[0mvector1\u001b[0m\u001b[0;34m,\u001b[0m \u001b[0mvector2\u001b[0m\u001b[0;34m)\u001b[0m\u001b[0;34m\u001b[0m\u001b[0;34m\u001b[0m\u001b[0m\n\u001b[0m\u001b[1;32m     13\u001b[0m \u001b[0;34m\u001b[0m\u001b[0m\n\u001b[1;32m     14\u001b[0m     \u001b[0;31m# Print the result\u001b[0m\u001b[0;34m\u001b[0m\u001b[0;34m\u001b[0m\u001b[0m\n",
            "\u001b[0;32m/usr/local/lib/python3.10/dist-packages/distancia/mainClass.py\u001b[0m in \u001b[0;36mcalculate\u001b[0;34m(self, *args)\u001b[0m\n\u001b[1;32m     25\u001b[0m \t\t\"\"\"\n\u001b[1;32m     26\u001b[0m                 \u001b[0;32mif\u001b[0m \u001b[0mlen\u001b[0m\u001b[0;34m(\u001b[0m\u001b[0margs\u001b[0m\u001b[0;34m)\u001b[0m\u001b[0;34m==\u001b[0m\u001b[0;36m2\u001b[0m\u001b[0;34m:\u001b[0m\u001b[0;34m\u001b[0m\u001b[0;34m\u001b[0m\u001b[0m\n\u001b[0;32m---> 27\u001b[0;31m                         \u001b[0;32mreturn\u001b[0m \u001b[0mself\u001b[0m\u001b[0;34m.\u001b[0m\u001b[0mdistance_function\u001b[0m\u001b[0;34m(\u001b[0m\u001b[0margs\u001b[0m\u001b[0;34m[\u001b[0m\u001b[0;36m0\u001b[0m\u001b[0;34m]\u001b[0m\u001b[0;34m,\u001b[0m \u001b[0margs\u001b[0m\u001b[0;34m[\u001b[0m\u001b[0;36m1\u001b[0m\u001b[0;34m]\u001b[0m\u001b[0;34m)\u001b[0m\u001b[0;34m\u001b[0m\u001b[0;34m\u001b[0m\u001b[0m\n\u001b[0m\u001b[1;32m     28\u001b[0m                 \u001b[0;32mif\u001b[0m \u001b[0mlen\u001b[0m\u001b[0;34m(\u001b[0m\u001b[0margs\u001b[0m\u001b[0;34m)\u001b[0m\u001b[0;34m==\u001b[0m\u001b[0;36m3\u001b[0m\u001b[0;34m:\u001b[0m\u001b[0;34m\u001b[0m\u001b[0;34m\u001b[0m\u001b[0m\n\u001b[1;32m     29\u001b[0m                         \u001b[0;32mreturn\u001b[0m \u001b[0mself\u001b[0m\u001b[0;34m.\u001b[0m\u001b[0mdistance_function\u001b[0m\u001b[0;34m(\u001b[0m\u001b[0margs\u001b[0m\u001b[0;34m[\u001b[0m\u001b[0;36m0\u001b[0m\u001b[0;34m]\u001b[0m\u001b[0;34m,\u001b[0m \u001b[0margs\u001b[0m\u001b[0;34m[\u001b[0m\u001b[0;36m1\u001b[0m\u001b[0;34m]\u001b[0m\u001b[0;34m,\u001b[0m \u001b[0margs\u001b[0m\u001b[0;34m[\u001b[0m\u001b[0;36m2\u001b[0m\u001b[0;34m]\u001b[0m\u001b[0;34m)\u001b[0m\u001b[0;34m\u001b[0m\u001b[0;34m\u001b[0m\u001b[0m\n",
            "\u001b[0;32m/usr/local/lib/python3.10/dist-packages/distancia/similarity.py\u001b[0m in \u001b[0;36mdistance_function\u001b[0;34m(self, vector1, vector2)\u001b[0m\n\u001b[1;32m    579\u001b[0m         \u001b[0;34m:\u001b[0m\u001b[0;32mreturn\u001b[0m\u001b[0;34m:\u001b[0m \u001b[0mThe\u001b[0m \u001b[0mOtsuka\u001b[0m \u001b[0mdistance\u001b[0m \u001b[0;32mas\u001b[0m \u001b[0ma\u001b[0m \u001b[0mfloat\u001b[0m\u001b[0;34m.\u001b[0m\u001b[0;34m\u001b[0m\u001b[0;34m\u001b[0m\u001b[0m\n\u001b[1;32m    580\u001b[0m         \"\"\"\n\u001b[0;32m--> 581\u001b[0;31m         \u001b[0;32mif\u001b[0m \u001b[0mlen\u001b[0m\u001b[0;34m(\u001b[0m\u001b[0mself\u001b[0m\u001b[0;34m.\u001b[0m\u001b[0mvector1\u001b[0m\u001b[0;34m)\u001b[0m \u001b[0;34m!=\u001b[0m \u001b[0mlen\u001b[0m\u001b[0;34m(\u001b[0m\u001b[0mself\u001b[0m\u001b[0;34m.\u001b[0m\u001b[0mvector2\u001b[0m\u001b[0;34m)\u001b[0m\u001b[0;34m:\u001b[0m\u001b[0;34m\u001b[0m\u001b[0;34m\u001b[0m\u001b[0m\n\u001b[0m\u001b[1;32m    582\u001b[0m             \u001b[0;32mraise\u001b[0m \u001b[0mValueError\u001b[0m\u001b[0;34m(\u001b[0m\u001b[0;34m\"Vectors must be of the same length.\"\u001b[0m\u001b[0;34m)\u001b[0m\u001b[0;34m\u001b[0m\u001b[0;34m\u001b[0m\u001b[0m\n\u001b[1;32m    583\u001b[0m \u001b[0;34m\u001b[0m\u001b[0m\n",
            "\u001b[0;31mAttributeError\u001b[0m: 'Otsuka' object has no attribute 'vector1'"
          ]
        }
      ]
    }
  ]
}