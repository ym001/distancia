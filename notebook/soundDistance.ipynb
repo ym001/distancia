{
  "nbformat": 4,
  "nbformat_minor": 0,
  "metadata": {
    "colab": {
      "provenance": [],
      "authorship_tag": "ABX9TyOuhGJHodwP2FQwMAHmgm6z",
      "include_colab_link": true
    },
    "kernelspec": {
      "name": "python3",
      "display_name": "Python 3"
    },
    "language_info": {
      "name": "python"
    }
  },
  "cells": [
    {
      "cell_type": "markdown",
      "metadata": {
        "id": "view-in-github",
        "colab_type": "text"
      },
      "source": [
        "<a href=\"https://colab.research.google.com/github/ym001/distancia/blob/master/notebook/soundDistance.ipynb\" target=\"_parent\"><img src=\"https://colab.research.google.com/assets/colab-badge.svg\" alt=\"Open In Colab\"/></a>"
      ]
    },
    {
      "cell_type": "code",
      "source": [
        "!pip install distancia==0.0.48"
      ],
      "metadata": {
        "colab": {
          "base_uri": "https://localhost:8080/"
        },
        "id": "Fg7O4PwlLRyx",
        "outputId": "627d10b8-74a1-4d16-ad4f-58a07f56da89"
      },
      "execution_count": 1,
      "outputs": [
        {
          "output_type": "stream",
          "name": "stdout",
          "text": [
            "Requirement already satisfied: distancia==0.0.48 in /usr/local/lib/python3.10/dist-packages (0.0.48)\n"
          ]
        }
      ]
    },
    {
      "cell_type": "code",
      "execution_count": 7,
      "metadata": {
        "colab": {
          "base_uri": "https://localhost:8080/"
        },
        "id": "ftPYM6GAI7iM",
        "outputId": "9fc4daf9-1bf0-4574-cbb5-61d5b5be132c"
      },
      "outputs": [
        {
          "output_type": "stream",
          "name": "stdout",
          "text": [
            "Spectral Convergence: 0.14673244459294343\n"
          ]
        }
      ],
      "source": [
        "from distancia import SpectralConvergence\n",
        "\n",
        "signal1 = [0.5, 0.1, 0.2, 0.4, 0.3, 0.2, 0.1, 0.0]\n",
        "signal2 = [0.4, 0.2, 0.2, 0.5, 0.3, 0.1, 0.2, 0.0]\n",
        "\n",
        "convergence = SpectralConvergence().compute(signal1, signal2)\n",
        "print(f\"Spectral Convergence: {convergence}\")\n"
      ]
    },
    {
      "cell_type": "code",
      "source": [
        "import math\n",
        "from typing import List\n",
        "import librosa\n",
        "from distancia import MFCCProcessor\n",
        "\n",
        "import math\n",
        "\n",
        "def generate_test_signals(duration: float = 1.0, sample_rate: int = 16000) -> tuple[list[float], list[float]]:\n",
        "    \"\"\"\n",
        "    Génère deux signaux audio de test.\n",
        "\n",
        "    Args:\n",
        "        duration (float): Durée du signal en secondes. Par défaut 1.0 seconde.\n",
        "        sample_rate (int): Taux d'échantillonnage en Hz. Par défaut 16000 Hz.\n",
        "\n",
        "    Returns:\n",
        "        tuple[list[float], list[float]]: Deux signaux audio de test.\n",
        "    \"\"\"\n",
        "    num_samples = int(duration * sample_rate)\n",
        "\n",
        "    # Signal 1: Combinaison de deux sinusoïdes (440 Hz et 880 Hz)\n",
        "    signal1 = [\n",
        "        0.5 * math.sin(2 * math.pi * 440 * t / sample_rate) +\n",
        "        0.3 * math.sin(2 * math.pi * 880 * t / sample_rate)\n",
        "        for t in range(num_samples)\n",
        "    ]\n",
        "\n",
        "    # Signal 2: Combinaison de trois sinusoïdes (330 Hz, 660 Hz et 990 Hz)\n",
        "    signal2 = [\n",
        "        0.4 * math.sin(2 * math.pi * 330 * t / sample_rate) +\n",
        "        0.3 * math.sin(2 * math.pi * 660 * t / sample_rate) +\n",
        "        0.2 * math.sin(2 * math.pi * 990 * t / sample_rate)\n",
        "        for t in range(num_samples)\n",
        "    ]\n",
        "\n",
        "    return signal1, signal2\n",
        "\n",
        "# Générer les signaux de test\n",
        "test_signal1, test_signal2 = generate_test_signals()\n",
        "\n",
        "# Afficher les 10 premiers échantillons de chaque signal\n",
        "print(\"10 premiers échantillons du signal 1:\", test_signal1[:10])\n",
        "print(\"10 premiers échantillons du signal 2:\", test_signal2[:10])\n",
        "\n",
        "# Informations sur les signaux\n",
        "print(f\"Nombre d'échantillons dans chaque signal: {len(test_signal1)}\")\n",
        "print(f\"Fréquence d'échantillonnage: 16000 Hz\")\n",
        "print(f\"Durée de chaque signal: 1.0 seconde\")\n",
        "\n",
        "\n",
        "# Créer une instance de MFCCProcessor\n",
        "processor = MFCCProcessor()\n",
        "\n",
        "# Calculer les MFCC pour les deux signaux\n",
        "mfcc1, mfcc2 = processor.compute_mfcc(test_signal1, test_signal2)\n",
        "\n",
        "# Comparer les MFCC\n",
        "distance = processor.compare_mfcc(test_signal1, test_signal2)\n",
        "\n",
        "print(f\"Nombre de trames MFCC pour chaque signal: {len(mfcc1)}\")\n",
        "print(f\"Nombre de coefficients MFCC par trame: {len(mfcc1[0])}\")\n",
        "print(f\"Distance moyenne entre les MFCC des deux signaux: {distance}\")\n",
        "\n",
        "# Afficher les premiers coefficients MFCC de la première trame pour chaque signal\n",
        "print(\"Premiers coefficients MFCC du signal 1:\", mfcc1[0][:5])\n",
        "print(\"Premiers coefficients MFCC du signal 2:\", mfcc2[0][:5])\n"
      ],
      "metadata": {
        "colab": {
          "base_uri": "https://localhost:8080/"
        },
        "id": "52nehLJ6K-hB",
        "outputId": "3d609a25-e906-41c2-bff9-25e00ba92345"
      },
      "execution_count": 9,
      "outputs": [
        {
          "output_type": "stream",
          "name": "stdout",
          "text": [
            "10 premiers échantillons du signal 1: [0.0, 0.1875859262132922, 0.3605961570472526, 0.5059519423173868, 0.6133981700929515, 0.6765094849785568, 0.6932630175151309, 0.6661155750120292, 0.6015809911697477, 0.5093615439642688]\n",
            "10 premiers échantillons du signal 2: [0.0, 0.20438860983483298, 0.39145963493709207, 0.5459418258086269, 0.6563814019704781, 0.7164019346692834, 0.7252895158905303, 0.687835184778397, 0.6134709666303622, 0.5148340607737458]\n",
            "Nombre d'échantillons dans chaque signal: 16000\n",
            "Fréquence d'échantillonnage: 16000 Hz\n",
            "Durée de chaque signal: 1.0 seconde\n",
            "Nombre de trames MFCC pour chaque signal: 14\n",
            "Nombre de coefficients MFCC par trame: 13\n",
            "Distance moyenne entre les MFCC des deux signaux: 20.184593753832043\n",
            "Premiers coefficients MFCC du signal 1: [15.923779200605054, 9.83322863572527, -3.845832597620646, -13.142400019412856, -11.848251033422947]\n",
            "Premiers coefficients MFCC du signal 2: [19.99216500253236, 12.156240075081715, -4.210556501678201, -14.207220023885315, -11.081603255491393]\n"
          ]
        }
      ]
    },
    {
      "cell_type": "code",
      "source": [
        "from distancia import PowerSpectralDensityDistance\n",
        "\n",
        "signal1 = [0.1 * math.sin(2 * math.pi * 440 * t / 16000) for t in range(16000)]\n",
        "signal2 = [0.1 * math.sin(2 * math.pi * 880 * t / 16000) for t in range(16000)]\n",
        "\n",
        "psd_calculator = PowerSpectralDensityDistance(sample_rate=16000)\n",
        "\n",
        "psd_distance = psd_calculator.compute_psd_distance(signal1, signal2)\n",
        "\n",
        "print(\"PSD Distance:\", psd_distance)\n"
      ],
      "metadata": {
        "colab": {
          "base_uri": "https://localhost:8080/"
        },
        "id": "T2F2NiSfUY3h",
        "outputId": "76db9fbc-353b-48d6-f5e4-78d2cb0e71de"
      },
      "execution_count": 11,
      "outputs": [
        {
          "output_type": "stream",
          "name": "stdout",
          "text": [
            "PSD Distance: 513514.8559149296\n"
          ]
        }
      ]
    },
    {
      "cell_type": "code",
      "source": [
        "from distancia import CrossCorrelation\n",
        "\n",
        "signal1: List[float] = [0.1 * math.sin(2 * math.pi * 440 * t / 16000) for t in range(16000)]\n",
        "signal2: List[float] = [0.1 * math.sin(2 * math.pi * 880 * t / 16000) for t in range(16000)]\n",
        "\n",
        "cross_corr_calculator = CrossCorrelation(sample_rate=16000)\n",
        "\n",
        "cross_corr_value: float = cross_corr_calculator.compute_cross_correlation(signal1, signal2)\n",
        "\n",
        "print(\"Cross-correlation:\", cross_corr_value)\n"
      ],
      "metadata": {
        "colab": {
          "base_uri": "https://localhost:8080/"
        },
        "id": "EsUCo_4G8X-h",
        "outputId": "161725cb-2ffb-434e-cba0-ac0794edcd3d"
      },
      "execution_count": 13,
      "outputs": [
        {
          "output_type": "stream",
          "name": "stdout",
          "text": [
            "Cross-correlation: 1.1540925550293483e-15\n"
          ]
        }
      ]
    },
    {
      "cell_type": "code",
      "source": [
        "from distancia import PhaseDifferenceCalculator\n",
        "# Paramètres\n",
        "sample_rate: int = 44100  # Hz\n",
        "window_size: int = 1024   # échantillons\n",
        "hop_size: int = 512       # échantillons\n",
        "\n",
        "# Créer une instance du calculateur\n",
        "calculator: PhaseDifferenceCalculator = PhaseDifferenceCalculator(sample_rate, window_size, hop_size)\n",
        "\n",
        "# Supposons que nous ayons deux signaux signal1 et signal2\n",
        "signal1: List[float] = [0.1 * math.sin(2 * math.pi * 440 * t / 16000) for t in range(16000)]\n",
        "signal2: List[float] = [0.1 * math.sin(2 * math.pi * 880 * t / 16000) for t in range(16000)]\n",
        "\n",
        "# Analyser les signaux\n",
        "phase_differences: List[float]\n",
        "time_axis: List[float]\n",
        "phase_differences, time_axis = calculator.analyze_signals(signal1, signal2)\n",
        "\n",
        "# Afficher les résultats\n",
        "print(\"Différences de phase:\", phase_differences[:10])  # Affiche les 10 premières valeurs\n",
        "print(\"Axe temporel:\", time_axis[:10])  # Affiche les 10 premières valeurs\n"
      ],
      "metadata": {
        "colab": {
          "base_uri": "https://localhost:8080/"
        },
        "id": "zEDu9_gg8yCW",
        "outputId": "045893d6-0881-4b73-80e0-2513810f7505"
      },
      "execution_count": 15,
      "outputs": [
        {
          "output_type": "stream",
          "name": "stdout",
          "text": [
            "Différences de phase: [-2.4222941361062844e-13, -3.913015744760884e-14, -8.194330630706403e-13, -0.0030679615760171794, -0.003067961575875389, -0.0030679615775843837, -0.0030679615747780456, -0.003067961575879634, -0.0030679615761320207, 1.4784289244229587e-12]\n",
            "Axe temporel: [0.0]\n"
          ]
        }
      ]
    },
    {
      "cell_type": "code",
      "source": [
        "from distancia import TimeLagDistance\n",
        "\n",
        "signal1: List[float] = [0.1 * math.sin(2 * math.pi * 440 * t / 16000) for t in range(16000)]\n",
        "signal2: List[float] = [0.1 * math.sin(2 * math.pi * 440 * (t - 100) / 16000) for t in range(16000)]  # signal2 is shifted\n",
        "\n",
        "time_lag_calculator = TimeLagDistance(sample_rate=16000)\n",
        "\n",
        "best_lag: int = time_lag_calculator.compute_time_lag_distance(signal1, signal2, max_lag=500)\n",
        "\n",
        "print(\"Optimal time lag:\", best_lag)\n"
      ],
      "metadata": {
        "colab": {
          "base_uri": "https://localhost:8080/"
        },
        "id": "U5yBUnTgkGoy",
        "outputId": "a2ffbf56-df62-4821-fbe5-e4d2a849eceb"
      },
      "execution_count": 17,
      "outputs": [
        {
          "output_type": "stream",
          "name": "stdout",
          "text": [
            "Optimal time lag: 9\n"
          ]
        }
      ]
    },
    {
      "cell_type": "code",
      "source": [
        "from distancia import PESQ\n",
        "\n",
        "reference_signal: List[float] = [0.1 * math.sin(2 * math.pi * 440 * t / 16000) for t in range(16000)]\n",
        "degraded_signal: List[float] = [0.1 * math.sin(2 * math.pi * 440 * t / 16000) + 0.01 * math.sin(2 * math.pi * 1000 * t / 16000) for t in range(16000)]\n",
        "\n",
        "pesq_calculator = PESQ(sample_rate=16000)\n",
        "\n",
        "pesq_score: float = pesq_calculator.compute_pesq(reference_signal, degraded_signal)\n",
        "\n",
        "print(\"PESQ Score:\", pesq_score)\n"
      ],
      "metadata": {
        "colab": {
          "base_uri": "https://localhost:8080/"
        },
        "id": "g9N4pBkBkx9c",
        "outputId": "38566146-799b-4dba-9bde-309843f909cd"
      },
      "execution_count": 19,
      "outputs": [
        {
          "output_type": "stream",
          "name": "stdout",
          "text": [
            "PESQ Score: 4.492250820344904\n"
          ]
        }
      ]
    },
    {
      "cell_type": "code",
      "source": [
        "from distancia import LogSpectralDistance\n",
        "\n",
        "signal1: List[float] = [0.1 * math.sin(2 * math.pi * 440 * t / 16000) for t in range(16000)]\n",
        "signal2: List[float] = [0.1 * math.sin(2 * math.pi * 450 * t / 16000) for t in range(16000)]  # Slightly different frequency\n",
        "\n",
        "lsd_calculator = LogSpectralDistance(sample_rate=16000)\n",
        "\n",
        "lsd_value: float = lsd_calculator.compute_lsd(signal1, signal2)\n",
        "\n",
        "print(\"Log Spectral Distance:\", lsd_value)\n"
      ],
      "metadata": {
        "colab": {
          "base_uri": "https://localhost:8080/"
        },
        "id": "BmoGfbsRlTDj",
        "outputId": "95321064-5fe2-4757-f9a0-f592844dc6c1"
      },
      "execution_count": 21,
      "outputs": [
        {
          "output_type": "stream",
          "name": "stdout",
          "text": [
            "Log Spectral Distance: 14.377329255918537\n"
          ]
        }
      ]
    },
    {
      "cell_type": "code",
      "source": [
        "from distancia import BarkSpectralDistortion\n",
        "\n",
        "signal1: List[float] = [0.1 * math.sin(2 * math.pi * 440 * t / 16000) for t in range(16000)]\n",
        "signal2: List[float] = [0.1 * math.sin(2 * math.pi * 445 * t / 16000) for t in range(16000)]  # Slightly different frequency\n",
        "\n",
        "bsd_calculator = BarkSpectralDistortion(sample_rate=16000)\n",
        "\n",
        "bsd_value: float = bsd_calculator.compute_bsd(signal1, signal2)\n",
        "\n",
        "print(\"Bark Spectral Distortion:\", bsd_value)\n"
      ],
      "metadata": {
        "colab": {
          "base_uri": "https://localhost:8080/"
        },
        "id": "4vN0Vj6noBU6",
        "outputId": "ac59643a-1da3-4db8-b68b-1711ede6c60f"
      },
      "execution_count": 23,
      "outputs": [
        {
          "output_type": "stream",
          "name": "stdout",
          "text": [
            "Bark Spectral Distortion: 14.65614015181136\n"
          ]
        }
      ]
    },
    {
      "cell_type": "code",
      "source": [
        "from distancia import ItakuraSaitoDistance\n",
        "\n",
        "# Example usage:\n",
        "\n",
        "signal1: List[float] = [0.1 * math.sin(2 * math.pi * 440 * t / 16000) for t in range(16000)]\n",
        "signal2: List[float] = [0.1 * math.sin(2 * math.pi * 445 * t / 16000) for t in range(16000)]  # Slightly different frequency\n",
        "\n",
        "isd_calculator = ItakuraSaitoDistance()\n",
        "\n",
        "isd_value: float = isd_calculator.compute_is_distance(signal1, signal2)\n",
        "\n",
        "print(\"Itakura-Saito Distance:\", isd_value)\n",
        "\n"
      ],
      "metadata": {
        "colab": {
          "base_uri": "https://localhost:8080/"
        },
        "id": "3RjJ7HQZpM4h",
        "outputId": "4d9c2ce7-bf36-45ed-e601-df22bf430a95"
      },
      "execution_count": 25,
      "outputs": [
        {
          "output_type": "stream",
          "name": "stdout",
          "text": [
            "Itakura-Saito Distance: 6386946.368221848\n"
          ]
        }
      ]
    },
    {
      "cell_type": "code",
      "source": [
        "from distancia import SignalToNoiseRatio\n",
        "# Example usage:\n",
        "\n",
        "signal: List[float] = [0.1 * math.sin(2 * math.pi * 440 * t / 16000) for t in range(16000)]\n",
        "noise: List[float] = [0.01 * math.sin(2 * math.pi * 440 * t / 16000) for t in range(16000)]  # Slight noise\n",
        "\n",
        "snr_calculator = SignalToNoiseRatio()\n",
        "\n",
        "snr_value: float = snr_calculator.compute_snr(signal, noise)\n",
        "\n",
        "print(\"Signal-to-Noise Ratio (SNR):\", snr_value)\n"
      ],
      "metadata": {
        "colab": {
          "base_uri": "https://localhost:8080/"
        },
        "id": "fF6T2j_2pbOE",
        "outputId": "e693ef21-248c-44cc-b2e8-388be9c6dd17"
      },
      "execution_count": 27,
      "outputs": [
        {
          "output_type": "stream",
          "name": "stdout",
          "text": [
            "Signal-to-Noise Ratio (SNR): 19.999999999999893\n"
          ]
        }
      ]
    },
    {
      "cell_type": "code",
      "source": [
        "from distancia import PeakSignalToNoiseRatio\n",
        "\n",
        "# Example usage:\n",
        "\n",
        "signal1: List[float] = [0.1 * math.sin(2 * math.pi * 440 * t / 16000) for t in range(16000)]\n",
        "signal2: List[float] = [0.1 * math.sin(2 * math.pi * 445 * t / 16000) for t in range(16000)]  # Slightly different frequency\n",
        "\n",
        "max_signal_value: float = 1.0  # Maximum possible value for a normalized signal\n",
        "\n",
        "psnr_calculator = PeakSignalToNoiseRatio()\n",
        "\n",
        "psnr_value: float = psnr_calculator.compute_psnr(signal1, signal2, max_signal_value)\n",
        "\n",
        "print(\"Peak Signal-to-Noise Ratio (PSNR):\", psnr_value)\n"
      ],
      "metadata": {
        "colab": {
          "base_uri": "https://localhost:8080/"
        },
        "id": "trQLD4UoqE14",
        "outputId": "05724b9e-4429-4cbb-cccd-af551b3959a5"
      },
      "execution_count": 29,
      "outputs": [
        {
          "output_type": "stream",
          "name": "stdout",
          "text": [
            "Peak Signal-to-Noise Ratio (PSNR): 19.999999999999936\n"
          ]
        }
      ]
    },
    {
      "cell_type": "code",
      "source": [
        "from distancia import EnergyDistance\n",
        "\n",
        "# Example usage:\n",
        "\n",
        "signal1: List[float] = [0.1 * math.sin(2 * math.pi * 440 * t / 16000) for t in range(16000)]\n",
        "signal2: List[float] = [0.1 * math.sin(2 * math.pi * 445 * t / 16000) for t in range(16000)]  # Slightly different frequency\n",
        "\n",
        "energy_distance_calculator = EnergyDistance()\n",
        "\n",
        "energy_distance_value: float = energy_distance_calculator.compute_energy_distance(signal1, signal2)\n",
        "\n",
        "print(\"Energy Distance:\", energy_distance_value)\n"
      ],
      "metadata": {
        "colab": {
          "base_uri": "https://localhost:8080/"
        },
        "id": "XEtTBQzyqcxW",
        "outputId": "4cfe3b92-5a10-4f99-a23d-0f7f5f249786"
      },
      "execution_count": 30,
      "outputs": [
        {
          "output_type": "stream",
          "name": "stdout",
          "text": [
            "Energy Distance: 9.805489753489383e-13\n"
          ]
        }
      ]
    },
    {
      "cell_type": "code",
      "source": [
        "from distancia import EnvelopeCorrelation\n",
        "\n",
        "# Example usage:\n",
        "\n",
        "signal1: List[float] = [0.1 * math.sin(2 * math.pi * 440 * t / 16000) for t in range(16000)]\n",
        "signal2: List[float] = [0.1 * math.sin(2 * math.pi * 445 * t / 16000) for t in range(16000)]  # Slightly different frequency\n",
        "\n",
        "envelope_correlation_calculator = EnvelopeCorrelation()\n",
        "\n",
        "correlation_value: float = envelope_correlation_calculator.compute_envelope_correlation(signal1, signal2)\n",
        "\n",
        "print(\"Envelope Correlation:\", correlation_value)\n"
      ],
      "metadata": {
        "colab": {
          "base_uri": "https://localhost:8080/"
        },
        "id": "vmscHN-yq1Ap",
        "outputId": "e6d28120-604e-46f1-cb08-7e4442b42a77"
      },
      "execution_count": 32,
      "outputs": [
        {
          "output_type": "stream",
          "name": "stdout",
          "text": [
            "Envelope Correlation: 0.0006076026733088895\n"
          ]
        }
      ]
    },
    {
      "cell_type": "code",
      "source": [
        "from distancia import ZeroCrossingRateDistance\n",
        "\n",
        "# Example usage:\n",
        "\n",
        "signal1: List[float] = [0.1 * math.sin(2 * math.pi * 440 * t / 16000) for t in range(16000)]\n",
        "signal2: List[float] = [0.1 * math.sin(2 * math.pi * 445 * t / 16000) for t in range(16000)]  # Slightly different frequency\n",
        "\n",
        "zcr_calculator = ZeroCrossingRateDistance()\n",
        "\n",
        "zcr_distance_value: float = zcr_calculator.compute_zcr_distance(signal1, signal2)\n",
        "\n",
        "print(\"Zero-Crossing Rate (ZCR) Distance:\", zcr_distance_value)\n"
      ],
      "metadata": {
        "colab": {
          "base_uri": "https://localhost:8080/"
        },
        "id": "xZmBut7OrJV6",
        "outputId": "00cb702a-84c8-4ed6-b62e-27fd431846f4"
      },
      "execution_count": 34,
      "outputs": [
        {
          "output_type": "stream",
          "name": "stdout",
          "text": [
            "Zero-Crossing Rate (ZCR) Distance: 0.0006250000000000006\n"
          ]
        }
      ]
    },
    {
      "cell_type": "code",
      "source": [
        "from distancia import CochleagramDistance\n",
        "# Example usage:\n",
        "\n",
        "signal1: List[float] = [0.1 * math.sin(2 * math.pi * 440 * t / 16000) for t in range(16000)]\n",
        "signal2: List[float] = [0.1 * math.sin(2 * math.pi * 445 * t / 16000) for t in range(16000)]  # Slightly different frequency\n",
        "\n",
        "cochleagram_calculator = CochleagramDistance(num_bands=40)\n",
        "\n",
        "distance_value: float = cochleagram_calculator.compute_cochleagram_distance(signal1, signal2)\n",
        "\n",
        "print(\"Cochleagram Distance:\", distance_value)\n"
      ],
      "metadata": {
        "colab": {
          "base_uri": "https://localhost:8080/"
        },
        "id": "kgmwLBAercTN",
        "outputId": "b197895c-8a1b-41ce-9f3d-72fce8cbc4cd"
      },
      "execution_count": 36,
      "outputs": [
        {
          "output_type": "stream",
          "name": "stdout",
          "text": [
            "Cochleagram Distance: 0.000833203125000008\n"
          ]
        }
      ]
    },
    {
      "cell_type": "code",
      "source": [
        "from distancia import ChromagramDistance\n",
        "# Example usage:\n",
        "\n",
        "signal1: List[float] = [0.1 * math.sin(2 * math.pi * 440 * t / 16000) for t in range(16000)]\n",
        "signal2: List[float] = [0.1 * math.sin(2 * math.pi * 445 * t / 16000) for t in range(16000)]  # Slightly different frequency\n",
        "\n",
        "chromagram_calculator = ChromagramDistance(num_bins=12)\n",
        "\n",
        "distance_value: float = chromagram_calculator.compute_chromagram_distance(signal1, signal2)\n",
        "\n",
        "print(\"Chromagram Distance:\", distance_value)\n"
      ],
      "metadata": {
        "colab": {
          "base_uri": "https://localhost:8080/",
          "height": 365
        },
        "id": "X-IP0v41rubz",
        "outputId": "7fe7ab5d-e15a-4625-c45f-67f2eeb5b9bb"
      },
      "execution_count": 37,
      "outputs": [
        {
          "output_type": "error",
          "ename": "ValueError",
          "evalue": "math domain error",
          "traceback": [
            "\u001b[0;31m---------------------------------------------------------------------------\u001b[0m",
            "\u001b[0;31mValueError\u001b[0m                                Traceback (most recent call last)",
            "\u001b[0;32m<ipython-input-37-80df72fc8f9a>\u001b[0m in \u001b[0;36m<cell line: 9>\u001b[0;34m()\u001b[0m\n\u001b[1;32m      7\u001b[0m \u001b[0mchromagram_calculator\u001b[0m \u001b[0;34m=\u001b[0m \u001b[0mChromagramDistance\u001b[0m\u001b[0;34m(\u001b[0m\u001b[0mnum_bins\u001b[0m\u001b[0;34m=\u001b[0m\u001b[0;36m12\u001b[0m\u001b[0;34m)\u001b[0m\u001b[0;34m\u001b[0m\u001b[0;34m\u001b[0m\u001b[0m\n\u001b[1;32m      8\u001b[0m \u001b[0;34m\u001b[0m\u001b[0m\n\u001b[0;32m----> 9\u001b[0;31m \u001b[0mdistance_value\u001b[0m\u001b[0;34m:\u001b[0m \u001b[0mfloat\u001b[0m \u001b[0;34m=\u001b[0m \u001b[0mchromagram_calculator\u001b[0m\u001b[0;34m.\u001b[0m\u001b[0mcompute_chromagram_distance\u001b[0m\u001b[0;34m(\u001b[0m\u001b[0msignal1\u001b[0m\u001b[0;34m,\u001b[0m \u001b[0msignal2\u001b[0m\u001b[0;34m)\u001b[0m\u001b[0;34m\u001b[0m\u001b[0;34m\u001b[0m\u001b[0m\n\u001b[0m\u001b[1;32m     10\u001b[0m \u001b[0;34m\u001b[0m\u001b[0m\n\u001b[1;32m     11\u001b[0m \u001b[0mprint\u001b[0m\u001b[0;34m(\u001b[0m\u001b[0;34m\"Chromagram Distance:\"\u001b[0m\u001b[0;34m,\u001b[0m \u001b[0mdistance_value\u001b[0m\u001b[0;34m)\u001b[0m\u001b[0;34m\u001b[0m\u001b[0;34m\u001b[0m\u001b[0m\n",
            "\u001b[0;32m/usr/local/lib/python3.10/dist-packages/distancia/soundDistance.py\u001b[0m in \u001b[0;36mcompute_chromagram_distance\u001b[0;34m(self, signal1, signal2)\u001b[0m\n\u001b[1;32m    819\u001b[0m             \u001b[0;32mraise\u001b[0m \u001b[0mValueError\u001b[0m\u001b[0;34m(\u001b[0m\u001b[0;34m\"Both signals must have the same length.\"\u001b[0m\u001b[0;34m)\u001b[0m\u001b[0;34m\u001b[0m\u001b[0;34m\u001b[0m\u001b[0m\n\u001b[1;32m    820\u001b[0m \u001b[0;34m\u001b[0m\u001b[0m\n\u001b[0;32m--> 821\u001b[0;31m         \u001b[0mchroma1\u001b[0m\u001b[0;34m:\u001b[0m \u001b[0mList\u001b[0m\u001b[0;34m[\u001b[0m\u001b[0mfloat\u001b[0m\u001b[0;34m]\u001b[0m \u001b[0;34m=\u001b[0m \u001b[0mself\u001b[0m\u001b[0;34m.\u001b[0m\u001b[0m_compute_chromagram\u001b[0m\u001b[0;34m(\u001b[0m\u001b[0msignal1\u001b[0m\u001b[0;34m)\u001b[0m\u001b[0;34m\u001b[0m\u001b[0;34m\u001b[0m\u001b[0m\n\u001b[0m\u001b[1;32m    822\u001b[0m         \u001b[0mchroma2\u001b[0m\u001b[0;34m:\u001b[0m \u001b[0mList\u001b[0m\u001b[0;34m[\u001b[0m\u001b[0mfloat\u001b[0m\u001b[0;34m]\u001b[0m \u001b[0;34m=\u001b[0m \u001b[0mself\u001b[0m\u001b[0;34m.\u001b[0m\u001b[0m_compute_chromagram\u001b[0m\u001b[0;34m(\u001b[0m\u001b[0msignal2\u001b[0m\u001b[0;34m)\u001b[0m\u001b[0;34m\u001b[0m\u001b[0;34m\u001b[0m\u001b[0m\n\u001b[1;32m    823\u001b[0m \u001b[0;34m\u001b[0m\u001b[0m\n",
            "\u001b[0;32m/usr/local/lib/python3.10/dist-packages/distancia/soundDistance.py\u001b[0m in \u001b[0;36m_compute_chromagram\u001b[0;34m(self, signal)\u001b[0m\n\u001b[1;32m    798\u001b[0m             \u001b[0;31m# Simplified frequency estimation from signal sample (placeholder)\u001b[0m\u001b[0;34m\u001b[0m\u001b[0;34m\u001b[0m\u001b[0m\n\u001b[1;32m    799\u001b[0m             \u001b[0mfrequency\u001b[0m\u001b[0;34m:\u001b[0m \u001b[0mfloat\u001b[0m \u001b[0;34m=\u001b[0m \u001b[0mabs\u001b[0m\u001b[0;34m(\u001b[0m\u001b[0msample\u001b[0m\u001b[0;34m)\u001b[0m \u001b[0;34m*\u001b[0m \u001b[0;36m1000.0\u001b[0m\u001b[0;34m\u001b[0m\u001b[0;34m\u001b[0m\u001b[0m\n\u001b[0;32m--> 800\u001b[0;31m             \u001b[0mbin_index\u001b[0m\u001b[0;34m:\u001b[0m \u001b[0mint\u001b[0m \u001b[0;34m=\u001b[0m \u001b[0mself\u001b[0m\u001b[0;34m.\u001b[0m\u001b[0m_frequency_to_bin\u001b[0m\u001b[0;34m(\u001b[0m\u001b[0mfrequency\u001b[0m\u001b[0;34m)\u001b[0m\u001b[0;34m\u001b[0m\u001b[0;34m\u001b[0m\u001b[0m\n\u001b[0m\u001b[1;32m    801\u001b[0m             \u001b[0mchroma\u001b[0m\u001b[0;34m[\u001b[0m\u001b[0mbin_index\u001b[0m\u001b[0;34m]\u001b[0m \u001b[0;34m+=\u001b[0m \u001b[0;36m1\u001b[0m\u001b[0;34m\u001b[0m\u001b[0;34m\u001b[0m\u001b[0m\n\u001b[1;32m    802\u001b[0m \u001b[0;34m\u001b[0m\u001b[0m\n",
            "\u001b[0;32m/usr/local/lib/python3.10/dist-packages/distancia/soundDistance.py\u001b[0m in \u001b[0;36m_frequency_to_bin\u001b[0;34m(self, frequency)\u001b[0m\n\u001b[1;32m    790\u001b[0m     \u001b[0;32mdef\u001b[0m \u001b[0m_frequency_to_bin\u001b[0m\u001b[0;34m(\u001b[0m\u001b[0mself\u001b[0m\u001b[0;34m,\u001b[0m \u001b[0mfrequency\u001b[0m\u001b[0;34m:\u001b[0m \u001b[0mfloat\u001b[0m\u001b[0;34m)\u001b[0m \u001b[0;34m->\u001b[0m \u001b[0mint\u001b[0m\u001b[0;34m:\u001b[0m\u001b[0;34m\u001b[0m\u001b[0;34m\u001b[0m\u001b[0m\n\u001b[1;32m    791\u001b[0m         \u001b[0;31m# Simple mapping of frequency to chroma bin\u001b[0m\u001b[0;34m\u001b[0m\u001b[0;34m\u001b[0m\u001b[0m\n\u001b[0;32m--> 792\u001b[0;31m         \u001b[0mbin_index\u001b[0m\u001b[0;34m:\u001b[0m \u001b[0mint\u001b[0m \u001b[0;34m=\u001b[0m \u001b[0mint\u001b[0m\u001b[0;34m(\u001b[0m\u001b[0;34m(\u001b[0m\u001b[0;36m12\u001b[0m \u001b[0;34m*\u001b[0m \u001b[0mmath\u001b[0m\u001b[0;34m.\u001b[0m\u001b[0mlog2\u001b[0m\u001b[0;34m(\u001b[0m\u001b[0mfrequency\u001b[0m \u001b[0;34m/\u001b[0m \u001b[0;36m440.0\u001b[0m\u001b[0;34m)\u001b[0m \u001b[0;34m+\u001b[0m \u001b[0;36m69\u001b[0m\u001b[0;34m)\u001b[0m \u001b[0;34m%\u001b[0m \u001b[0;36m12\u001b[0m\u001b[0;34m)\u001b[0m\u001b[0;34m\u001b[0m\u001b[0;34m\u001b[0m\u001b[0m\n\u001b[0m\u001b[1;32m    793\u001b[0m         \u001b[0;32mreturn\u001b[0m \u001b[0mbin_index\u001b[0m\u001b[0;34m\u001b[0m\u001b[0;34m\u001b[0m\u001b[0m\n\u001b[1;32m    794\u001b[0m \u001b[0;34m\u001b[0m\u001b[0m\n",
            "\u001b[0;31mValueError\u001b[0m: math domain error"
          ]
        }
      ]
    },
    {
      "cell_type": "code",
      "source": [
        "from distancia import SpectrogramDistance\n",
        "# Example usage:\n",
        "\n",
        "signal1: List[float] = [0.1 * math.sin(2 * math.pi * 440 * t / 16000) for t in range(16000)]\n",
        "signal2: List[float] = [0.1 * math.sin(2 * math.pi * 445 * t / 16000) for t in range(16000)]  # Slightly different frequency\n",
        "\n",
        "spectrogram_calculator = SpectrogramDistance(window_size=256, overlap=128)\n",
        "\n",
        "distance_value: float = spectrogram_calculator.compute_spectrogram_distance(signal1, signal2)\n",
        "\n",
        "print(\"Spectrogram Distance:\", distance_value)\n"
      ],
      "metadata": {
        "colab": {
          "base_uri": "https://localhost:8080/",
          "height": 365
        },
        "id": "eiUZUml5sUW0",
        "outputId": "306ee016-ba43-4b33-fc1b-0d6dcda744a9"
      },
      "execution_count": 38,
      "outputs": [
        {
          "output_type": "error",
          "ename": "NameError",
          "evalue": "name 'spec1_frame' is not defined",
          "traceback": [
            "\u001b[0;31m---------------------------------------------------------------------------\u001b[0m",
            "\u001b[0;31mNameError\u001b[0m                                 Traceback (most recent call last)",
            "\u001b[0;32m<ipython-input-38-98a490e931a2>\u001b[0m in \u001b[0;36m<cell line: 9>\u001b[0;34m()\u001b[0m\n\u001b[1;32m      7\u001b[0m \u001b[0mspectrogram_calculator\u001b[0m \u001b[0;34m=\u001b[0m \u001b[0mSpectrogramDistance\u001b[0m\u001b[0;34m(\u001b[0m\u001b[0mwindow_size\u001b[0m\u001b[0;34m=\u001b[0m\u001b[0;36m256\u001b[0m\u001b[0;34m,\u001b[0m \u001b[0moverlap\u001b[0m\u001b[0;34m=\u001b[0m\u001b[0;36m128\u001b[0m\u001b[0;34m)\u001b[0m\u001b[0;34m\u001b[0m\u001b[0;34m\u001b[0m\u001b[0m\n\u001b[1;32m      8\u001b[0m \u001b[0;34m\u001b[0m\u001b[0m\n\u001b[0;32m----> 9\u001b[0;31m \u001b[0mdistance_value\u001b[0m\u001b[0;34m:\u001b[0m \u001b[0mfloat\u001b[0m \u001b[0;34m=\u001b[0m \u001b[0mspectrogram_calculator\u001b[0m\u001b[0;34m.\u001b[0m\u001b[0mcompute_spectrogram_distance\u001b[0m\u001b[0;34m(\u001b[0m\u001b[0msignal1\u001b[0m\u001b[0;34m,\u001b[0m \u001b[0msignal2\u001b[0m\u001b[0;34m)\u001b[0m\u001b[0;34m\u001b[0m\u001b[0;34m\u001b[0m\u001b[0m\n\u001b[0m\u001b[1;32m     10\u001b[0m \u001b[0;34m\u001b[0m\u001b[0m\n\u001b[1;32m     11\u001b[0m \u001b[0mprint\u001b[0m\u001b[0;34m(\u001b[0m\u001b[0;34m\"Spectrogram Distance:\"\u001b[0m\u001b[0;34m,\u001b[0m \u001b[0mdistance_value\u001b[0m\u001b[0;34m)\u001b[0m\u001b[0;34m\u001b[0m\u001b[0;34m\u001b[0m\u001b[0m\n",
            "\u001b[0;32m/usr/local/lib/python3.10/dist-packages/distancia/soundDistance.py\u001b[0m in \u001b[0;36mcompute_spectrogram_distance\u001b[0;34m(self, signal1, signal2)\u001b[0m\n\u001b[1;32m    870\u001b[0m         \u001b[0mspectrogram2\u001b[0m\u001b[0;34m:\u001b[0m \u001b[0mList\u001b[0m\u001b[0;34m[\u001b[0m\u001b[0mList\u001b[0m\u001b[0;34m[\u001b[0m\u001b[0mfloat\u001b[0m\u001b[0;34m]\u001b[0m\u001b[0;34m]\u001b[0m \u001b[0;34m=\u001b[0m \u001b[0mself\u001b[0m\u001b[0;34m.\u001b[0m\u001b[0m_spectrogram\u001b[0m\u001b[0;34m(\u001b[0m\u001b[0msignal2\u001b[0m\u001b[0;34m)\u001b[0m\u001b[0;34m\u001b[0m\u001b[0;34m\u001b[0m\u001b[0m\n\u001b[1;32m    871\u001b[0m \u001b[0;34m\u001b[0m\u001b[0m\n\u001b[0;32m--> 872\u001b[0;31m         \u001b[0mdistance\u001b[0m\u001b[0;34m:\u001b[0m \u001b[0mfloat\u001b[0m \u001b[0;34m=\u001b[0m \u001b[0mself\u001b[0m\u001b[0;34m.\u001b[0m\u001b[0m_mean_squared_error\u001b[0m\u001b[0;34m(\u001b[0m\u001b[0mspectrogram1\u001b[0m\u001b[0;34m,\u001b[0m \u001b[0mspectrogram2\u001b[0m\u001b[0;34m)\u001b[0m\u001b[0;34m\u001b[0m\u001b[0;34m\u001b[0m\u001b[0m\n\u001b[0m\u001b[1;32m    873\u001b[0m         \u001b[0;32mreturn\u001b[0m \u001b[0mdistance\u001b[0m\u001b[0;34m\u001b[0m\u001b[0;34m\u001b[0m\u001b[0m\n\u001b[1;32m    874\u001b[0m \u001b[0;34m\u001b[0m\u001b[0m\n",
            "\u001b[0;32m/usr/local/lib/python3.10/dist-packages/distancia/soundDistance.py\u001b[0m in \u001b[0;36m_mean_squared_error\u001b[0;34m(self, spec1, spec2)\u001b[0m\n\u001b[1;32m    856\u001b[0m             \u001b[0;32mraise\u001b[0m \u001b[0mValueError\u001b[0m\u001b[0;34m(\u001b[0m\u001b[0;34m\"Both spectrograms must have the same dimensions.\"\u001b[0m\u001b[0;34m)\u001b[0m\u001b[0;34m\u001b[0m\u001b[0;34m\u001b[0m\u001b[0m\n\u001b[1;32m    857\u001b[0m \u001b[0;34m\u001b[0m\u001b[0m\n\u001b[0;32m--> 858\u001b[0;31m         mse: float = sum(\n\u001b[0m\u001b[1;32m    859\u001b[0m             \u001b[0;34m(\u001b[0m\u001b[0mspec1_frame\u001b[0m\u001b[0;34m[\u001b[0m\u001b[0mi\u001b[0m\u001b[0;34m]\u001b[0m \u001b[0;34m-\u001b[0m \u001b[0mspec2_frame\u001b[0m\u001b[0;34m[\u001b[0m\u001b[0mi\u001b[0m\u001b[0;34m]\u001b[0m\u001b[0;34m)\u001b[0m \u001b[0;34m**\u001b[0m \u001b[0;36m2\u001b[0m\u001b[0;34m\u001b[0m\u001b[0;34m\u001b[0m\u001b[0m\n\u001b[1;32m    860\u001b[0m             \u001b[0;32mfor\u001b[0m \u001b[0mframe1\u001b[0m\u001b[0;34m,\u001b[0m \u001b[0mframe2\u001b[0m \u001b[0;32min\u001b[0m \u001b[0mzip\u001b[0m\u001b[0;34m(\u001b[0m\u001b[0mspec1\u001b[0m\u001b[0;34m,\u001b[0m \u001b[0mspec2\u001b[0m\u001b[0;34m)\u001b[0m\u001b[0;34m\u001b[0m\u001b[0;34m\u001b[0m\u001b[0m\n",
            "\u001b[0;32m/usr/local/lib/python3.10/dist-packages/distancia/soundDistance.py\u001b[0m in \u001b[0;36m<genexpr>\u001b[0;34m(.0)\u001b[0m\n\u001b[1;32m    857\u001b[0m \u001b[0;34m\u001b[0m\u001b[0m\n\u001b[1;32m    858\u001b[0m         mse: float = sum(\n\u001b[0;32m--> 859\u001b[0;31m             \u001b[0;34m(\u001b[0m\u001b[0mspec1_frame\u001b[0m\u001b[0;34m[\u001b[0m\u001b[0mi\u001b[0m\u001b[0;34m]\u001b[0m \u001b[0;34m-\u001b[0m \u001b[0mspec2_frame\u001b[0m\u001b[0;34m[\u001b[0m\u001b[0mi\u001b[0m\u001b[0;34m]\u001b[0m\u001b[0;34m)\u001b[0m \u001b[0;34m**\u001b[0m \u001b[0;36m2\u001b[0m\u001b[0;34m\u001b[0m\u001b[0;34m\u001b[0m\u001b[0m\n\u001b[0m\u001b[1;32m    860\u001b[0m             \u001b[0;32mfor\u001b[0m \u001b[0mframe1\u001b[0m\u001b[0;34m,\u001b[0m \u001b[0mframe2\u001b[0m \u001b[0;32min\u001b[0m \u001b[0mzip\u001b[0m\u001b[0;34m(\u001b[0m\u001b[0mspec1\u001b[0m\u001b[0;34m,\u001b[0m \u001b[0mspec2\u001b[0m\u001b[0;34m)\u001b[0m\u001b[0;34m\u001b[0m\u001b[0;34m\u001b[0m\u001b[0m\n\u001b[1;32m    861\u001b[0m             \u001b[0;32mfor\u001b[0m \u001b[0mi\u001b[0m \u001b[0;32min\u001b[0m \u001b[0mrange\u001b[0m\u001b[0;34m(\u001b[0m\u001b[0mlen\u001b[0m\u001b[0;34m(\u001b[0m\u001b[0mframe1\u001b[0m\u001b[0;34m)\u001b[0m\u001b[0;34m)\u001b[0m\u001b[0;34m\u001b[0m\u001b[0;34m\u001b[0m\u001b[0m\n",
            "\u001b[0;31mNameError\u001b[0m: name 'spec1_frame' is not defined"
          ]
        }
      ]
    },
    {
      "cell_type": "code",
      "source": [
        "from distancia import CQTDistance\n",
        "# Example usage:\n",
        "\n",
        "signal1: List[float] = [0.1 * math.sin(2 * math.pi * 440 * t / 16000) for t in range(16000)]\n",
        "signal2: List[float] = [0.1 * math.sin(2 * math.pi * 445 * t / 16000) for t in range(16000)]  # Slightly different frequency\n",
        "\n",
        "cqt_calculator = CQTDistance(num_bins=24, window_size=512)\n",
        "\n",
        "distance_value: float = cqt_calculator.compute_cqt_distance(signal1, signal2)\n",
        "\n",
        "print(\"CQT Distance:\", distance_value)\n"
      ],
      "metadata": {
        "colab": {
          "base_uri": "https://localhost:8080/",
          "height": 365
        },
        "id": "F3nYQ5XPs4UE",
        "outputId": "3b9a05c3-14d7-4723-f1ab-47c33336edf2"
      },
      "execution_count": 39,
      "outputs": [
        {
          "output_type": "error",
          "ename": "NameError",
          "evalue": "name 'cqt1_frame' is not defined",
          "traceback": [
            "\u001b[0;31m---------------------------------------------------------------------------\u001b[0m",
            "\u001b[0;31mNameError\u001b[0m                                 Traceback (most recent call last)",
            "\u001b[0;32m<ipython-input-39-6c866b53b55a>\u001b[0m in \u001b[0;36m<cell line: 9>\u001b[0;34m()\u001b[0m\n\u001b[1;32m      7\u001b[0m \u001b[0mcqt_calculator\u001b[0m \u001b[0;34m=\u001b[0m \u001b[0mCQTDistance\u001b[0m\u001b[0;34m(\u001b[0m\u001b[0mnum_bins\u001b[0m\u001b[0;34m=\u001b[0m\u001b[0;36m24\u001b[0m\u001b[0;34m,\u001b[0m \u001b[0mwindow_size\u001b[0m\u001b[0;34m=\u001b[0m\u001b[0;36m512\u001b[0m\u001b[0;34m)\u001b[0m\u001b[0;34m\u001b[0m\u001b[0;34m\u001b[0m\u001b[0m\n\u001b[1;32m      8\u001b[0m \u001b[0;34m\u001b[0m\u001b[0m\n\u001b[0;32m----> 9\u001b[0;31m \u001b[0mdistance_value\u001b[0m\u001b[0;34m:\u001b[0m \u001b[0mfloat\u001b[0m \u001b[0;34m=\u001b[0m \u001b[0mcqt_calculator\u001b[0m\u001b[0;34m.\u001b[0m\u001b[0mcompute_cqt_distance\u001b[0m\u001b[0;34m(\u001b[0m\u001b[0msignal1\u001b[0m\u001b[0;34m,\u001b[0m \u001b[0msignal2\u001b[0m\u001b[0;34m)\u001b[0m\u001b[0;34m\u001b[0m\u001b[0;34m\u001b[0m\u001b[0m\n\u001b[0m\u001b[1;32m     10\u001b[0m \u001b[0;34m\u001b[0m\u001b[0m\n\u001b[1;32m     11\u001b[0m \u001b[0mprint\u001b[0m\u001b[0;34m(\u001b[0m\u001b[0;34m\"CQT Distance:\"\u001b[0m\u001b[0;34m,\u001b[0m \u001b[0mdistance_value\u001b[0m\u001b[0;34m)\u001b[0m\u001b[0;34m\u001b[0m\u001b[0;34m\u001b[0m\u001b[0m\n",
            "\u001b[0;32m/usr/local/lib/python3.10/dist-packages/distancia/soundDistance.py\u001b[0m in \u001b[0;36mcompute_cqt_distance\u001b[0;34m(self, signal1, signal2)\u001b[0m\n\u001b[1;32m    921\u001b[0m         \u001b[0mcqt2\u001b[0m\u001b[0;34m:\u001b[0m \u001b[0mList\u001b[0m\u001b[0;34m[\u001b[0m\u001b[0mList\u001b[0m\u001b[0;34m[\u001b[0m\u001b[0mfloat\u001b[0m\u001b[0;34m]\u001b[0m\u001b[0;34m]\u001b[0m \u001b[0;34m=\u001b[0m \u001b[0mself\u001b[0m\u001b[0;34m.\u001b[0m\u001b[0m_cqt\u001b[0m\u001b[0;34m(\u001b[0m\u001b[0msignal2\u001b[0m\u001b[0;34m)\u001b[0m\u001b[0;34m\u001b[0m\u001b[0;34m\u001b[0m\u001b[0m\n\u001b[1;32m    922\u001b[0m \u001b[0;34m\u001b[0m\u001b[0m\n\u001b[0;32m--> 923\u001b[0;31m         \u001b[0mdistance\u001b[0m\u001b[0;34m:\u001b[0m \u001b[0mfloat\u001b[0m \u001b[0;34m=\u001b[0m \u001b[0mself\u001b[0m\u001b[0;34m.\u001b[0m\u001b[0m_mean_squared_error\u001b[0m\u001b[0;34m(\u001b[0m\u001b[0mcqt1\u001b[0m\u001b[0;34m,\u001b[0m \u001b[0mcqt2\u001b[0m\u001b[0;34m)\u001b[0m\u001b[0;34m\u001b[0m\u001b[0;34m\u001b[0m\u001b[0m\n\u001b[0m\u001b[1;32m    924\u001b[0m         \u001b[0;32mreturn\u001b[0m \u001b[0mdistance\u001b[0m\u001b[0;34m\u001b[0m\u001b[0;34m\u001b[0m\u001b[0m\n\u001b[1;32m    925\u001b[0m \u001b[0;34m\u001b[0m\u001b[0m\n",
            "\u001b[0;32m/usr/local/lib/python3.10/dist-packages/distancia/soundDistance.py\u001b[0m in \u001b[0;36m_mean_squared_error\u001b[0;34m(self, cqt1, cqt2)\u001b[0m\n\u001b[1;32m    907\u001b[0m             \u001b[0;32mraise\u001b[0m \u001b[0mValueError\u001b[0m\u001b[0;34m(\u001b[0m\u001b[0;34m\"Both CQT matrices must have the same dimensions.\"\u001b[0m\u001b[0;34m)\u001b[0m\u001b[0;34m\u001b[0m\u001b[0;34m\u001b[0m\u001b[0m\n\u001b[1;32m    908\u001b[0m \u001b[0;34m\u001b[0m\u001b[0m\n\u001b[0;32m--> 909\u001b[0;31m         mse: float = sum(\n\u001b[0m\u001b[1;32m    910\u001b[0m             \u001b[0;34m(\u001b[0m\u001b[0mcqt1_frame\u001b[0m\u001b[0;34m[\u001b[0m\u001b[0mi\u001b[0m\u001b[0;34m]\u001b[0m \u001b[0;34m-\u001b[0m \u001b[0mcqt2_frame\u001b[0m\u001b[0;34m[\u001b[0m\u001b[0mi\u001b[0m\u001b[0;34m]\u001b[0m\u001b[0;34m)\u001b[0m \u001b[0;34m**\u001b[0m \u001b[0;36m2\u001b[0m\u001b[0;34m\u001b[0m\u001b[0;34m\u001b[0m\u001b[0m\n\u001b[1;32m    911\u001b[0m             \u001b[0;32mfor\u001b[0m \u001b[0mframe1\u001b[0m\u001b[0;34m,\u001b[0m \u001b[0mframe2\u001b[0m \u001b[0;32min\u001b[0m \u001b[0mzip\u001b[0m\u001b[0;34m(\u001b[0m\u001b[0mcqt1\u001b[0m\u001b[0;34m,\u001b[0m \u001b[0mcqt2\u001b[0m\u001b[0;34m)\u001b[0m\u001b[0;34m\u001b[0m\u001b[0;34m\u001b[0m\u001b[0m\n",
            "\u001b[0;32m/usr/local/lib/python3.10/dist-packages/distancia/soundDistance.py\u001b[0m in \u001b[0;36m<genexpr>\u001b[0;34m(.0)\u001b[0m\n\u001b[1;32m    908\u001b[0m \u001b[0;34m\u001b[0m\u001b[0m\n\u001b[1;32m    909\u001b[0m         mse: float = sum(\n\u001b[0;32m--> 910\u001b[0;31m             \u001b[0;34m(\u001b[0m\u001b[0mcqt1_frame\u001b[0m\u001b[0;34m[\u001b[0m\u001b[0mi\u001b[0m\u001b[0;34m]\u001b[0m \u001b[0;34m-\u001b[0m \u001b[0mcqt2_frame\u001b[0m\u001b[0;34m[\u001b[0m\u001b[0mi\u001b[0m\u001b[0;34m]\u001b[0m\u001b[0;34m)\u001b[0m \u001b[0;34m**\u001b[0m \u001b[0;36m2\u001b[0m\u001b[0;34m\u001b[0m\u001b[0;34m\u001b[0m\u001b[0m\n\u001b[0m\u001b[1;32m    911\u001b[0m             \u001b[0;32mfor\u001b[0m \u001b[0mframe1\u001b[0m\u001b[0;34m,\u001b[0m \u001b[0mframe2\u001b[0m \u001b[0;32min\u001b[0m \u001b[0mzip\u001b[0m\u001b[0;34m(\u001b[0m\u001b[0mcqt1\u001b[0m\u001b[0;34m,\u001b[0m \u001b[0mcqt2\u001b[0m\u001b[0;34m)\u001b[0m\u001b[0;34m\u001b[0m\u001b[0;34m\u001b[0m\u001b[0m\n\u001b[1;32m    912\u001b[0m             \u001b[0;32mfor\u001b[0m \u001b[0mi\u001b[0m \u001b[0;32min\u001b[0m \u001b[0mrange\u001b[0m\u001b[0;34m(\u001b[0m\u001b[0mlen\u001b[0m\u001b[0;34m(\u001b[0m\u001b[0mframe1\u001b[0m\u001b[0;34m)\u001b[0m\u001b[0;34m)\u001b[0m\u001b[0;34m\u001b[0m\u001b[0;34m\u001b[0m\u001b[0m\n",
            "\u001b[0;31mNameError\u001b[0m: name 'cqt1_frame' is not defined"
          ]
        }
      ]
    }
  ]
}