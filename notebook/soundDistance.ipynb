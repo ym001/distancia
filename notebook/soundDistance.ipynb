{
  "nbformat": 4,
  "nbformat_minor": 0,
  "metadata": {
    "colab": {
      "provenance": [],
      "authorship_tag": "ABX9TyMVghVwILnti7N1Ilmb860t",
      "include_colab_link": true
    },
    "kernelspec": {
      "name": "python3",
      "display_name": "Python 3"
    },
    "language_info": {
      "name": "python"
    }
  },
  "cells": [
    {
      "cell_type": "markdown",
      "metadata": {
        "id": "view-in-github",
        "colab_type": "text"
      },
      "source": [
        "<a href=\"https://colab.research.google.com/github/ym001/distancia/blob/master/notebook/soundDistance.ipynb\" target=\"_parent\"><img src=\"https://colab.research.google.com/assets/colab-badge.svg\" alt=\"Open In Colab\"/></a>"
      ]
    },
    {
      "cell_type": "code",
      "source": [
        "!pip install distancia==0.0.73"
      ],
      "metadata": {
        "colab": {
          "base_uri": "https://localhost:8080/"
        },
        "id": "Fg7O4PwlLRyx",
        "outputId": "b6d00b13-36d0-4fb8-c70b-5213f92ccd50"
      },
      "execution_count": null,
      "outputs": [
        {
          "output_type": "stream",
          "name": "stdout",
          "text": [
            "Collecting distancia==0.0.73\n",
            "  Downloading distancia-0.0.73-py3-none-any.whl.metadata (15 kB)\n",
            "Downloading distancia-0.0.73-py3-none-any.whl (129 kB)\n",
            "\u001b[2K   \u001b[90m━━━━━━━━━━━━━━━━━━━━━━━━━━━━━━━━━━━━━━━━\u001b[0m \u001b[32m129.1/129.1 kB\u001b[0m \u001b[31m2.5 MB/s\u001b[0m eta \u001b[36m0:00:00\u001b[0m\n",
            "\u001b[?25hInstalling collected packages: distancia\n",
            "Successfully installed distancia-0.0.73\n"
          ]
        }
      ]
    },
    {
      "cell_type": "code",
      "execution_count": null,
      "metadata": {
        "colab": {
          "base_uri": "https://localhost:8080/"
        },
        "id": "ftPYM6GAI7iM",
        "outputId": "aab242d0-b20c-4cfa-dfc6-fccea2448238"
      },
      "outputs": [
        {
          "output_type": "stream",
          "name": "stdout",
          "text": [
            "Le modèle FastText a été créé avec succès.\n",
            "Spectral Convergence: 1.4059946256941667\n"
          ]
        }
      ],
      "source": [
        "from distancia import SpectralConvergence,Sound\n",
        "\n",
        "test_signal1, test_signal2 = Sound.generate_test_signals()\n",
        "\n",
        "convergence = SpectralConvergence().compute(test_signal1, test_signal2)\n",
        "print(f\"Spectral Convergence: {convergence}\")\n"
      ]
    },
    {
      "cell_type": "code",
      "source": [
        "import math\n",
        "from typing import List\n",
        "import librosa\n",
        "from distancia import MFCCProcessor, Sound\n",
        "\n",
        "import math\n",
        "\n",
        "\n",
        "\n",
        "# Générer les signaux de test\n",
        "test_signal1, test_signal2 = Sound.generate_test_signals()\n",
        "\n",
        "# Afficher les 10 premiers échantillons de chaque signal\n",
        "print(\"10 premiers échantillons du signal 1:\", test_signal1[:10])\n",
        "print(\"10 premiers échantillons du signal 2:\", test_signal2[:10])\n",
        "\n",
        "# Informations sur les signaux\n",
        "print(f\"Nombre d'échantillons dans chaque signal: {len(test_signal1)}\")\n",
        "print(f\"Fréquence d'échantillonnage: 16000 Hz\")\n",
        "print(f\"Durée de chaque signal: 1.0 seconde\")\n",
        "\n",
        "\n",
        "# Créer une instance de MFCCProcessor\n",
        "processor = MFCCProcessor()\n",
        "\n",
        "# Calculer les MFCC pour les deux signaux\n",
        "mfcc1, mfcc2 = processor.compute(test_signal1, test_signal2)\n",
        "\n",
        "# Comparer les MFCC\n",
        "distance = processor.compare_mfcc(test_signal1, test_signal2)\n",
        "\n",
        "print(f\"Nombre de trames MFCC pour chaque signal: {len(mfcc1)}\")\n",
        "print(f\"Nombre de coefficients MFCC par trame: {len(mfcc1[0])}\")\n",
        "print(f\"Distance moyenne entre les MFCC des deux signaux: {distance}\")\n",
        "\n",
        "# Afficher les premiers coefficients MFCC de la première trame pour chaque signal\n",
        "print(\"Premiers coefficients MFCC du signal 1:\", mfcc1[0][:5])\n",
        "print(\"Premiers coefficients MFCC du signal 2:\", mfcc2[0][:5])\n"
      ],
      "metadata": {
        "colab": {
          "base_uri": "https://localhost:8080/"
        },
        "id": "52nehLJ6K-hB",
        "outputId": "d47ba124-5382-40e5-8d47-9128d951ed98"
      },
      "execution_count": null,
      "outputs": [
        {
          "output_type": "stream",
          "name": "stdout",
          "text": [
            "10 premiers échantillons du signal 1: [0.0, 0.1875859262132922, 0.3605961570472526, 0.5059519423173868, 0.6133981700929515, 0.6765094849785568, 0.6932630175151309, 0.6661155750120292, 0.6015809911697477, 0.5093615439642688]\n",
            "10 premiers échantillons du signal 2: [0.0, 0.20438860983483298, 0.39145963493709207, 0.5459418258086269, 0.6563814019704781, 0.7164019346692834, 0.7252895158905303, 0.687835184778397, 0.6134709666303622, 0.5148340607737458]\n",
            "Nombre d'échantillons dans chaque signal: 16000\n",
            "Fréquence d'échantillonnage: 16000 Hz\n",
            "Durée de chaque signal: 1.0 seconde\n",
            "Nombre de trames MFCC pour chaque signal: 14\n",
            "Nombre de coefficients MFCC par trame: 13\n",
            "Distance moyenne entre les MFCC des deux signaux: 20.184593753832043\n",
            "Premiers coefficients MFCC du signal 1: [15.923779200605054, 9.83322863572527, -3.845832597620646, -13.142400019412856, -11.848251033422947]\n",
            "Premiers coefficients MFCC du signal 2: [19.99216500253236, 12.156240075081715, -4.210556501678201, -14.207220023885315, -11.081603255491393]\n"
          ]
        }
      ]
    },
    {
      "cell_type": "code",
      "source": [
        "from distancia import PowerSpectralDensityDistance, Sound\n",
        "\n",
        "test_signal1, test_signal2 = Sound.generate_test_signals()\n",
        "\n",
        "psd_calculator = PowerSpectralDensityDistance(sample_rate=16000)\n",
        "\n",
        "psd_distance = psd_calculator.compute(test_signal1, test_signal2)\n",
        "\n",
        "print(\"PSD Distance:\", psd_distance)\n"
      ],
      "metadata": {
        "colab": {
          "base_uri": "https://localhost:8080/"
        },
        "id": "T2F2NiSfUY3h",
        "outputId": "8f978e58-2634-4a78-8303-e6323afa5a48"
      },
      "execution_count": null,
      "outputs": [
        {
          "output_type": "stream",
          "name": "stdout",
          "text": [
            "PSD Distance: 10325876.0249432\n"
          ]
        }
      ]
    },
    {
      "cell_type": "code",
      "source": [
        "from distancia import CrossCorrelation, Sound\n",
        "\n",
        "signal1, signal2 = Sound.generate_test_signals()\n",
        "\n",
        "#signal1: List[float] = [0.1 * math.sin(2 * math.pi * 440 * t / 16000) for t in range(16000)]\n",
        "#signal2: List[float] = [0.1 * math.sin(2 * math.pi * 880 * t / 16000) for t in range(16000)]\n",
        "\n",
        "cross_corr_calculator = CrossCorrelation(sample_rate=16000)\n",
        "\n",
        "cross_corr_value: float = cross_corr_calculator.compute(signal1, signal2)\n",
        "\n",
        "print(\"Cross-correlation:\", cross_corr_value)\n"
      ],
      "metadata": {
        "colab": {
          "base_uri": "https://localhost:8080/"
        },
        "id": "EsUCo_4G8X-h",
        "outputId": "7fa96360-d98e-41a4-8f54-672ab8d6e6fc"
      },
      "execution_count": null,
      "outputs": [
        {
          "output_type": "stream",
          "name": "stdout",
          "text": [
            "Cross-correlation: 5.163377033602953e-16\n"
          ]
        }
      ]
    },
    {
      "cell_type": "code",
      "source": [
        "from distancia import PhaseDifferenceCalculator, Sound\n",
        "# Paramètres\n",
        "sample_rate: int = 44100  # Hz\n",
        "window_size: int = 1024   # échantillons\n",
        "hop_size: int = 512       # échantillons\n",
        "\n",
        "# Créer une instance du calculateur\n",
        "calculator: PhaseDifferenceCalculator = PhaseDifferenceCalculator(sample_rate, window_size, hop_size)\n",
        "\n",
        "# Supposons que nous ayons deux signaux signal1 et signal2\n",
        "signal1: List[float] = [0.1 * math.sin(2 * math.pi * 440 * t / 16000) for t in range(16000)]\n",
        "signal2: List[float] = [0.1 * math.sin(2 * math.pi * 880 * t / 16000) for t in range(16000)]\n",
        "\n",
        "# Analyser les signaux\n",
        "phase_differences: List[float]\n",
        "time_axis: List[float]\n",
        "phase_differences, time_axis = calculator.analyze_signals(signal1, signal2)\n",
        "\n",
        "# Afficher les résultats\n",
        "print(\"Différences de phase:\", phase_differences[:10])  # Affiche les 10 premières valeurs\n",
        "print(\"Axe temporel:\", time_axis[:10])  # Affiche les 10 premières valeurs\n"
      ],
      "metadata": {
        "colab": {
          "base_uri": "https://localhost:8080/"
        },
        "id": "zEDu9_gg8yCW",
        "outputId": "b99093b2-ecb4-445e-c5b8-fe83b9bb91af"
      },
      "execution_count": null,
      "outputs": [
        {
          "output_type": "stream",
          "name": "stdout",
          "text": [
            "Différences de phase: [-2.4222941361062844e-13, -3.913015744760884e-14, -8.194330630706403e-13, -0.0030679615760171794, -0.003067961575875389, -0.0030679615775843837, -0.0030679615747780456, -0.003067961575879634, -0.0030679615761320207, 1.4784289244229587e-12]\n",
            "Axe temporel: [0.0]\n"
          ]
        }
      ]
    },
    {
      "cell_type": "code",
      "source": [
        "from distancia import TimeLagDistance, Sound\n",
        "\n",
        "signal1: List[float] = [0.1 * math.sin(2 * math.pi * 440 * t / 16000) for t in range(16000)]\n",
        "signal2: List[float] = [0.1 * math.sin(2 * math.pi * 440 * (t - 100) / 16000) for t in range(16000)]  # signal2 is shifted\n",
        "\n",
        "time_lag_calculator = TimeLagDistance(sample_rate=16000)\n",
        "\n",
        "best_lag: int = time_lag_calculator.compute(signal1, signal2, max_lag=500)\n",
        "\n",
        "print(\"Optimal time lag:\", best_lag)\n"
      ],
      "metadata": {
        "colab": {
          "base_uri": "https://localhost:8080/"
        },
        "id": "U5yBUnTgkGoy",
        "outputId": "ab91bff7-a641-4666-946c-7318ec4aaae7"
      },
      "execution_count": null,
      "outputs": [
        {
          "output_type": "stream",
          "name": "stdout",
          "text": [
            "Optimal time lag: 9\n"
          ]
        }
      ]
    },
    {
      "cell_type": "code",
      "source": [
        "from distancia import PESQ, Sound\n",
        "\n",
        "reference_signal: List[float] = [0.1 * math.sin(2 * math.pi * 440 * t / 16000) for t in range(16000)]\n",
        "degraded_signal: List[float] = [0.1 * math.sin(2 * math.pi * 440 * t / 16000) + 0.01 * math.sin(2 * math.pi * 1000 * t / 16000) for t in range(16000)]\n",
        "\n",
        "pesq_calculator = PESQ(sample_rate=16000)\n",
        "\n",
        "pesq_score: float = pesq_calculator.compute(reference_signal, degraded_signal)\n",
        "\n",
        "print(\"PESQ Score:\", pesq_score)\n"
      ],
      "metadata": {
        "colab": {
          "base_uri": "https://localhost:8080/"
        },
        "id": "g9N4pBkBkx9c",
        "outputId": "5b8749a9-520a-4f9d-8d4f-0adacc31b018"
      },
      "execution_count": null,
      "outputs": [
        {
          "output_type": "stream",
          "name": "stdout",
          "text": [
            "PESQ Score: 4.492250820344904\n"
          ]
        }
      ]
    },
    {
      "cell_type": "code",
      "source": [
        "from distancia import LogSpectralDistance, Sound\n",
        "\n",
        "signal1: List[float] = [0.1 * math.sin(2 * math.pi * 440 * t / 16000) for t in range(16000)]\n",
        "signal2: List[float] = [0.1 * math.sin(2 * math.pi * 450 * t / 16000) for t in range(16000)]  # Slightly different frequency\n",
        "\n",
        "lsd_calculator = LogSpectralDistance(sample_rate=16000)\n",
        "\n",
        "lsd_value: float = lsd_calculator.compute(signal1, signal2)\n",
        "\n",
        "print(\"Log Spectral Distance:\", lsd_value)\n"
      ],
      "metadata": {
        "colab": {
          "base_uri": "https://localhost:8080/"
        },
        "id": "BmoGfbsRlTDj",
        "outputId": "2125b51c-4a1d-4562-92ac-3dd6d1a22ea3"
      },
      "execution_count": null,
      "outputs": [
        {
          "output_type": "stream",
          "name": "stdout",
          "text": [
            "Log Spectral Distance: 14.377329255918537\n"
          ]
        }
      ]
    },
    {
      "cell_type": "code",
      "source": [
        "from distancia import BarkSpectralDistortion, Sound\n",
        "\n",
        "signal1: List[float] = [0.1 * math.sin(2 * math.pi * 440 * t / 16000) for t in range(16000)]\n",
        "signal2: List[float] = [0.1 * math.sin(2 * math.pi * 445 * t / 16000) for t in range(16000)]  # Slightly different frequency\n",
        "\n",
        "bsd_calculator = BarkSpectralDistortion(sample_rate=16000)\n",
        "\n",
        "bsd_value: float = bsd_calculator.compute(signal1, signal2)\n",
        "\n",
        "print(\"Bark Spectral Distortion:\", bsd_value)\n"
      ],
      "metadata": {
        "colab": {
          "base_uri": "https://localhost:8080/"
        },
        "id": "4vN0Vj6noBU6",
        "outputId": "c332ca87-e658-4070-caa1-7f47564fdda4"
      },
      "execution_count": null,
      "outputs": [
        {
          "output_type": "stream",
          "name": "stdout",
          "text": [
            "Bark Spectral Distortion: 14.65614015181136\n"
          ]
        }
      ]
    },
    {
      "cell_type": "code",
      "source": [
        "from distancia import ItakuraSaitoDistance, Sound\n",
        "\n",
        "# Example usage:\n",
        "\n",
        "signal1: List[float] = [0.1 * math.sin(2 * math.pi * 440 * t / 16000) for t in range(16000)]\n",
        "signal2: List[float] = [0.1 * math.sin(2 * math.pi * 445 * t / 16000) for t in range(16000)]  # Slightly different frequency\n",
        "\n",
        "isd_calculator = ItakuraSaitoDistance()\n",
        "\n",
        "isd_value: float = isd_calculator.compute(signal1, signal2)\n",
        "\n",
        "print(\"Itakura-Saito Distance:\", isd_value)\n",
        "\n"
      ],
      "metadata": {
        "colab": {
          "base_uri": "https://localhost:8080/"
        },
        "id": "3RjJ7HQZpM4h",
        "outputId": "0b437327-15df-4125-d1dc-fa301ff020c6"
      },
      "execution_count": null,
      "outputs": [
        {
          "output_type": "stream",
          "name": "stdout",
          "text": [
            "Itakura-Saito Distance: 6386946.368221848\n"
          ]
        }
      ]
    },
    {
      "cell_type": "code",
      "source": [
        "from distancia import SignalToNoiseRatio, Sound\n",
        "# Example usage:\n",
        "\n",
        "signal: List[float] = [0.1 * math.sin(2 * math.pi * 440 * t / 16000) for t in range(16000)]\n",
        "noise: List[float] = [0.01 * math.sin(2 * math.pi * 440 * t / 16000) for t in range(16000)]  # Slight noise\n",
        "\n",
        "snr_calculator = SignalToNoiseRatio()\n",
        "\n",
        "snr_value: float = snr_calculator.compute(signal, noise)\n",
        "\n",
        "print(\"Signal-to-Noise Ratio (SNR):\", snr_value)\n"
      ],
      "metadata": {
        "colab": {
          "base_uri": "https://localhost:8080/"
        },
        "id": "fF6T2j_2pbOE",
        "outputId": "6e477be5-dd1b-453a-949b-f4ce472d106c"
      },
      "execution_count": null,
      "outputs": [
        {
          "output_type": "stream",
          "name": "stdout",
          "text": [
            "Signal-to-Noise Ratio (SNR): 19.999999999999893\n"
          ]
        }
      ]
    },
    {
      "cell_type": "code",
      "source": [
        "from distancia import PeakSignalToNoiseRatio, Sound\n",
        "\n",
        "# Example usage:\n",
        "\n",
        "signal1: List[float] = [0.1 * math.sin(2 * math.pi * 440 * t / 16000) for t in range(16000)]\n",
        "signal2: List[float] = [0.1 * math.sin(2 * math.pi * 445 * t / 16000) for t in range(16000)]  # Slightly different frequency\n",
        "\n",
        "max_signal_value: float = 1.0  # Maximum possible value for a normalized signal\n",
        "\n",
        "psnr_calculator = PeakSignalToNoiseRatio()\n",
        "\n",
        "psnr_value: float = psnr_calculator.compute(signal1, signal2, max_signal_value)\n",
        "\n",
        "print(\"Peak Signal-to-Noise Ratio (PSNR):\", psnr_value)\n"
      ],
      "metadata": {
        "colab": {
          "base_uri": "https://localhost:8080/"
        },
        "id": "trQLD4UoqE14",
        "outputId": "86ea0729-5d86-40ac-be09-a177815cbd83"
      },
      "execution_count": null,
      "outputs": [
        {
          "output_type": "stream",
          "name": "stdout",
          "text": [
            "Peak Signal-to-Noise Ratio (PSNR): 19.999999999999936\n"
          ]
        }
      ]
    },
    {
      "cell_type": "code",
      "source": [
        "from distancia import EnergyDistance, Sound\n",
        "\n",
        "# Example usage:\n",
        "\n",
        "signal1: List[float] = [0.1 * math.sin(2 * math.pi * 440 * t / 16000) for t in range(16000)]\n",
        "signal2: List[float] = [0.1 * math.sin(2 * math.pi * 445 * t / 16000) for t in range(16000)]  # Slightly different frequency\n",
        "\n",
        "energy_distance_calculator = EnergyDistance()\n",
        "\n",
        "energy_distance_value: float = energy_distance_calculator.compute(signal1, signal2)\n",
        "\n",
        "print(\"Energy Distance:\", energy_distance_value)\n"
      ],
      "metadata": {
        "colab": {
          "base_uri": "https://localhost:8080/"
        },
        "id": "XEtTBQzyqcxW",
        "outputId": "40b21782-5668-4305-bf8b-d6846ea3cdfa"
      },
      "execution_count": null,
      "outputs": [
        {
          "output_type": "stream",
          "name": "stdout",
          "text": [
            "Energy Distance: 9.805489753489383e-13\n"
          ]
        }
      ]
    },
    {
      "cell_type": "code",
      "source": [
        "from distancia import EnvelopeCorrelation, Sound\n",
        "\n",
        "# Example usage:\n",
        "\n",
        "signal1: List[float] = [0.1 * math.sin(2 * math.pi * 440 * t / 16000) for t in range(16000)]\n",
        "signal2: List[float] = [0.1 * math.sin(2 * math.pi * 445 * t / 16000) for t in range(16000)]  # Slightly different frequency\n",
        "\n",
        "envelope_correlation_calculator = EnvelopeCorrelation()\n",
        "\n",
        "correlation_value: float = envelope_correlation_calculator.compute(signal1, signal2)\n",
        "\n",
        "print(\"Envelope Correlation:\", correlation_value)\n"
      ],
      "metadata": {
        "colab": {
          "base_uri": "https://localhost:8080/"
        },
        "id": "vmscHN-yq1Ap",
        "outputId": "639152f3-0365-4963-fe0a-6a043a2cb869"
      },
      "execution_count": null,
      "outputs": [
        {
          "output_type": "stream",
          "name": "stdout",
          "text": [
            "Envelope Correlation: 0.0006076026733088895\n"
          ]
        }
      ]
    },
    {
      "cell_type": "code",
      "source": [
        "from distancia import ZeroCrossingRateDistance, Sound\n",
        "\n",
        "# Example usage:\n",
        "\n",
        "signal1: List[float] = [0.1 * math.sin(2 * math.pi * 440 * t / 16000) for t in range(16000)]\n",
        "signal2: List[float] = [0.1 * math.sin(2 * math.pi * 445 * t / 16000) for t in range(16000)]  # Slightly different frequency\n",
        "\n",
        "zcr_calculator = ZeroCrossingRateDistance()\n",
        "\n",
        "zcr_distance_value: float = zcr_calculator.compute(signal1, signal2)\n",
        "\n",
        "print(\"Zero-Crossing Rate (ZCR) Distance:\", zcr_distance_value)\n"
      ],
      "metadata": {
        "colab": {
          "base_uri": "https://localhost:8080/"
        },
        "id": "xZmBut7OrJV6",
        "outputId": "5656a06b-406a-4a22-8c14-b46c9da95dcd"
      },
      "execution_count": null,
      "outputs": [
        {
          "output_type": "stream",
          "name": "stdout",
          "text": [
            "Zero-Crossing Rate (ZCR) Distance: 0.0006250000000000006\n"
          ]
        }
      ]
    },
    {
      "cell_type": "code",
      "source": [
        "from distancia import CochleagramDistance, Sound\n",
        "# Example usage:\n",
        "\n",
        "signal1: List[float] = [0.1 * math.sin(2 * math.pi * 440 * t / 16000) for t in range(16000)]\n",
        "signal2: List[float] = [0.1 * math.sin(2 * math.pi * 445 * t / 16000) for t in range(16000)]  # Slightly different frequency\n",
        "\n",
        "cochleagram_calculator = CochleagramDistance(num_bands=40)\n",
        "\n",
        "distance_value: float = cochleagram_calculator.compute(signal1, signal2)\n",
        "\n",
        "print(\"Cochleagram Distance:\", distance_value)\n"
      ],
      "metadata": {
        "colab": {
          "base_uri": "https://localhost:8080/"
        },
        "id": "kgmwLBAercTN",
        "outputId": "8dae5229-02fd-4390-ca6e-8be473de5f18"
      },
      "execution_count": null,
      "outputs": [
        {
          "output_type": "stream",
          "name": "stdout",
          "text": [
            "Cochleagram Distance: 0.0008332031250000132\n"
          ]
        }
      ]
    },
    {
      "cell_type": "code",
      "source": [
        "from distancia import SpectrogramDistance, Sound\n",
        "# Example usage:\n",
        "\n",
        "signal1: List[float] = [0.1 * math.sin(2 * math.pi * 440 * t / 16000) for t in range(16000)]\n",
        "signal2: List[float] = [0.1 * math.sin(2 * math.pi * 445 * t / 16000) for t in range(16000)]  # Slightly different frequency\n",
        "\n",
        "spectrogram_calculator = SpectrogramDistance(window_size=256, overlap=128)\n",
        "\n",
        "distance_value: float = spectrogram_calculator.compute(signal1, signal2)\n",
        "\n",
        "print(\"Spectrogram Distance:\", distance_value)\n"
      ],
      "metadata": {
        "colab": {
          "base_uri": "https://localhost:8080/"
        },
        "id": "eiUZUml5sUW0",
        "outputId": "5f2c2262-b59e-4d96-f3a0-b68c61a7f1e6"
      },
      "execution_count": null,
      "outputs": [
        {
          "output_type": "stream",
          "name": "stdout",
          "text": [
            "Spectrogram Distance: 0.027608122317011805\n"
          ]
        }
      ]
    },
    {
      "cell_type": "code",
      "source": [
        "from distancia import CQTDistance, Sound\n",
        "# Example usage:\n",
        "\n",
        "signal1: List[float] = [0.1 * math.sin(2 * math.pi * 440 * t / 16000) for t in range(16000)]\n",
        "signal2: List[float] = [0.1 * math.sin(2 * math.pi * 445 * t / 16000) for t in range(16000)]  # Slightly different frequency\n",
        "\n",
        "cqt_calculator = CQTDistance(num_bins=24, window_size=512)\n",
        "\n",
        "distance_value: float = cqt_calculator.compute(signal1, signal2)\n",
        "\n",
        "print(\"CQT Distance:\", distance_value)\n"
      ],
      "metadata": {
        "colab": {
          "base_uri": "https://localhost:8080/"
        },
        "id": "F3nYQ5XPs4UE",
        "outputId": "79d01c33-ac8f-43f7-bd46-36e9afc0d477"
      },
      "execution_count": null,
      "outputs": [
        {
          "output_type": "stream",
          "name": "stdout",
          "text": [
            "CQT Distance: 429.6205883040669\n"
          ]
        }
      ]
    }
  ]
}