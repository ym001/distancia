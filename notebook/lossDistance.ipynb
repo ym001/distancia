{
  "nbformat": 4,
  "nbformat_minor": 0,
  "metadata": {
    "colab": {
      "provenance": [],
      "authorship_tag": "ABX9TyPquNEbKSHsVNCFJhTmHOhk",
      "include_colab_link": true
    },
    "kernelspec": {
      "name": "python3",
      "display_name": "Python 3"
    },
    "language_info": {
      "name": "python"
    }
  },
  "cells": [
    {
      "cell_type": "markdown",
      "metadata": {
        "id": "view-in-github",
        "colab_type": "text"
      },
      "source": [
        "<a href=\"https://colab.research.google.com/github/ym001/distancia/blob/master/notebook/lossDistance.ipynb\" target=\"_parent\"><img src=\"https://colab.research.google.com/assets/colab-badge.svg\" alt=\"Open In Colab\"/></a>"
      ]
    },
    {
      "cell_type": "code",
      "source": [
        "!pip install distancia==0.0.72"
      ],
      "metadata": {
        "colab": {
          "base_uri": "https://localhost:8080/"
        },
        "id": "P6LEAXOlJx6G",
        "outputId": "03a27f84-5c41-45e1-8267-32469953e07f"
      },
      "execution_count": 1,
      "outputs": [
        {
          "output_type": "stream",
          "name": "stdout",
          "text": [
            "Collecting distancia==0.0.72\n",
            "  Downloading distancia-0.0.72-py3-none-any.whl.metadata (14 kB)\n",
            "Downloading distancia-0.0.72-py3-none-any.whl (124 kB)\n",
            "\u001b[2K   \u001b[90m━━━━━━━━━━━━━━━━━━━━━━━━━━━━━━━━━━━━━━━━\u001b[0m \u001b[32m124.6/124.6 kB\u001b[0m \u001b[31m2.9 MB/s\u001b[0m eta \u001b[36m0:00:00\u001b[0m\n",
            "\u001b[?25hInstalling collected packages: distancia\n",
            "Successfully installed distancia-0.0.72\n"
          ]
        }
      ]
    },
    {
      "cell_type": "code",
      "execution_count": 2,
      "metadata": {
        "colab": {
          "base_uri": "https://localhost:8080/"
        },
        "id": "BVvdjQD2Jgdh",
        "outputId": "5334e60b-1ee5-4915-8b86-eed3b3f92c79"
      },
      "outputs": [
        {
          "output_type": "stream",
          "name": "stdout",
          "text": [
            "Cross-Entropie: -0.44636725161943586\n",
            "Gradient: \n",
            "[-0.4761904761904762, 0.0, 0.0]\n",
            "[0.0, -0.4166666666666667, 0.0]\n",
            "[0.0, 0.0, -0.5555555555555556]\n"
          ]
        }
      ],
      "source": [
        "# Exemple d'utilisation\n",
        "y_true = [[1, 0, 0], [0, 1, 0], [0, 0, 1]]\n",
        "y_pred = [[0.7, 0.2, 0.1], [0.1, 0.8, 0.1], [0.2, 0.2, 0.6]]\n",
        "from distancia import CrossEntropy\n",
        "ce = CrossEntropy()\n",
        "loss = ce(y_true, y_pred)\n",
        "grad = ce.gradient(y_true, y_pred)\n",
        "\n",
        "print(f\"Cross-Entropie: {loss}\")\n",
        "print(f\"Gradient: \")\n",
        "for row in grad:\n",
        "\t\t\tprint(row)"
      ]
    },
    {
      "cell_type": "code",
      "source": [
        "from distancia import Softmax\n",
        "\n",
        "x = [1.0, 2.0, 3.0]\n",
        "\n",
        "softmax_output = Softmax()\n",
        "print(\"Sortie Softmax:\")\n",
        "print(softmax_output.compute(x)\n",
        ")\n",
        "\n",
        "gradient = softmax_output.gradient(x)\n",
        "print(\"\\nGradient Softmax:\")\n",
        "for row in gradient:\n",
        "            print(row)"
      ],
      "metadata": {
        "colab": {
          "base_uri": "https://localhost:8080/"
        },
        "id": "ab6VLiLqo7pL",
        "outputId": "b4afbc07-1787-4a2a-905f-99dd406ef729"
      },
      "execution_count": 16,
      "outputs": [
        {
          "output_type": "stream",
          "name": "stdout",
          "text": [
            "Sortie Softmax:\n",
            "[0.09003057317014238, 0.24472847105486173, 0.6652409557749959]\n",
            "\n",
            "Gradient Softmax:\n",
            "[0.0, -2.0, -3.0]\n",
            "[-2.0, -2.0, -6.0]\n",
            "[-3.0, -6.0, -6.0]\n"
          ]
        }
      ]
    },
    {
      "cell_type": "code",
      "source": [
        "from distancia import KullbackLeibler\n",
        "# Example probability distributions\n",
        "p = [0.1, 0.4, 0.5]  # True distribution\n",
        "q = [0.2, 0.3, 0.5]  # Predicted distribution\n",
        "\n",
        "# Create an instance of KullbackLeiblerLoss\n",
        "kl_loss = KullbackLeibler()\n",
        "\n",
        "# Calculate the KL divergence\n",
        "kl_value = kl_loss(p, q)\n",
        "print(f'Kullback-Leibler Divergence: {kl_value}')"
      ],
      "metadata": {
        "colab": {
          "base_uri": "https://localhost:8080/"
        },
        "id": "MYG3kev9qQCd",
        "outputId": "5f920ba8-189b-433b-827b-4bd6de0cc1e6"
      },
      "execution_count": 20,
      "outputs": [
        {
          "output_type": "stream",
          "name": "stdout",
          "text": [
            "Kullback-Leibler Divergence: 0.5896687386422741\n"
          ]
        }
      ]
    },
    {
      "cell_type": "code",
      "source": [],
      "metadata": {
        "id": "1cxsTnQQrDWN"
      },
      "execution_count": null,
      "outputs": []
    },
    {
      "cell_type": "code",
      "source": [
        "\n",
        "from distancia import MeanAbsoluteError\n",
        "\n",
        "# Example true and predicted values\n",
        "y_true = [3.0, -0.5, 2.0, 7.0]\n",
        "y_pred = [2.5, 0.0, 2.0, 8.0]\n",
        "\n",
        "# Create an instance of MeanAbsoluteError\n",
        "mae_loss = MeanAbsoluteError()\n",
        "\n",
        "# Calculate the Mean Absolute Error\n",
        "mae_value = mae_loss(y_true, y_pred)\n",
        "print(f'Mean Absolute Error: {mae_value}')"
      ],
      "metadata": {
        "colab": {
          "base_uri": "https://localhost:8080/"
        },
        "id": "I6Stx-DkoaE3",
        "outputId": "c59ae46c-76d2-45f6-9826-79177913b6dd"
      },
      "execution_count": 3,
      "outputs": [
        {
          "output_type": "stream",
          "name": "stdout",
          "text": [
            "Mean Absolute Error: 0.5\n"
          ]
        }
      ]
    },
    {
      "cell_type": "code",
      "source": [
        "from distancia import MeanAbsolutePercentageError\n",
        "\n",
        "# Example true and predicted values\n",
        "y_true = [100, 200, 300, 400]\n",
        "y_pred = [110, 190, 310, 390]\n",
        "\n",
        "# Create an instance of MeanAbsolutePercentageError\n",
        "mape_loss = MeanAbsolutePercentageError()\n",
        "\n",
        "# Calculate the Mean Absolute Percentage Error\n",
        "mape_value = mape_loss(y_true, y_pred)\n",
        "print(f'Mean Absolute Percentage Error: {mape_value}%')"
      ],
      "metadata": {
        "colab": {
          "base_uri": "https://localhost:8080/"
        },
        "id": "PHxq-2yoohlt",
        "outputId": "c9a37061-d404-4739-c1a3-89a84547c20b"
      },
      "execution_count": 4,
      "outputs": [
        {
          "output_type": "stream",
          "name": "stdout",
          "text": [
            "Mean Absolute Percentage Error: 5.208333333333334%\n"
          ]
        }
      ]
    },
    {
      "cell_type": "code",
      "source": [
        "from distancia import MeanSquaredError\n",
        "\n",
        "# Example true and predicted values\n",
        "y_true = [3.0, -0.5, 2.0, 7.0]\n",
        "y_pred = [2.5, 0.0, 2.0, 8.0]\n",
        "\n",
        "# Create an instance of MeanSquaredError\n",
        "mse_loss = MeanSquaredError()\n",
        "\n",
        "# Calculate the Mean Squared Error\n",
        "mse_value = mse_loss(y_true, y_pred)\n",
        "print(f'Mean Squared Error: {mse_value}')"
      ],
      "metadata": {
        "colab": {
          "base_uri": "https://localhost:8080/"
        },
        "id": "fizKo3Rgomnl",
        "outputId": "b94048e0-60b1-4c26-b479-5b357daa88aa"
      },
      "execution_count": 5,
      "outputs": [
        {
          "output_type": "stream",
          "name": "stdout",
          "text": [
            "Mean Squared Error: 0.375\n"
          ]
        }
      ]
    },
    {
      "cell_type": "code",
      "source": [
        "from distancia import SquaredLogarithmicError\n",
        "\n",
        "# Example true and predicted values\n",
        "y_true = [1.0, 2.0, 3.0, 4.0]\n",
        "y_pred = [1.1, 1.9, 2.5, 3.8]\n",
        "\n",
        "# Create an instance of SquaredLogarithmicError\n",
        "sle_loss = SquaredLogarithmicError()\n",
        "\n",
        "# Calculate the Squared Logarithmic Error\n",
        "sle_value = sle_loss(y_true, y_pred)\n",
        "print(f'Squared Logarithmic Error: {sle_value}')"
      ],
      "metadata": {
        "colab": {
          "base_uri": "https://localhost:8080/"
        },
        "id": "0nQ69fKGorZr",
        "outputId": "14147789-2a6a-4b21-87bf-32c8b4d5dfda"
      },
      "execution_count": 6,
      "outputs": [
        {
          "output_type": "stream",
          "name": "stdout",
          "text": [
            "Squared Logarithmic Error: 0.001628667950882241\n"
          ]
        }
      ]
    },
    {
      "cell_type": "code",
      "source": [
        "from distancia import GaloisWassersteinLoss\n",
        "\n",
        "\n",
        "# Example true and predicted values\n",
        "y_true = [1.0, 2.0, 3.0, 4.0]\n",
        "y_pred = [1.1, 1.9, 2.5, 3.8]\n",
        "\n",
        "# Create an instance of GaloisWassersteinLoss\n",
        "GWL_loss = GaloisWassersteinLoss()\n",
        "\n",
        "# Calculate the Squared Logarithmic Error\n",
        "GWL_value = GWL_loss.compute(y_true, y_pred)\n",
        "print(f'Galois Wasserstein Loss : {GWL_value}')"
      ],
      "metadata": {
        "colab": {
          "base_uri": "https://localhost:8080/"
        },
        "id": "PG_Hd9PdrEuy",
        "outputId": "e44c807b-8259-4702-955a-24d902005495"
      },
      "execution_count": 23,
      "outputs": [
        {
          "output_type": "stream",
          "name": "stdout",
          "text": [
            "Galois Wasserstein Loss : 22.299999999999997\n"
          ]
        }
      ]
    }
  ]
}