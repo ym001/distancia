{
  "nbformat": 4,
  "nbformat_minor": 0,
  "metadata": {
    "colab": {
      "provenance": [],
      "authorship_tag": "ABX9TyMBZT+CfLyRsKcW8KECwJfF",
      "include_colab_link": true
    },
    "kernelspec": {
      "name": "python3",
      "display_name": "Python 3"
    },
    "language_info": {
      "name": "python"
    }
  },
  "cells": [
    {
      "cell_type": "markdown",
      "metadata": {
        "id": "view-in-github",
        "colab_type": "text"
      },
      "source": [
        "<a href=\"https://colab.research.google.com/github/ym001/distancia/blob/master/notebook/distance.ipynb\" target=\"_parent\"><img src=\"https://colab.research.google.com/assets/colab-badge.svg\" alt=\"Open In Colab\"/></a>"
      ]
    },
    {
      "cell_type": "code",
      "execution_count": 1,
      "metadata": {
        "colab": {
          "base_uri": "https://localhost:8080/"
        },
        "id": "0_In3n0AbwGL",
        "outputId": "c4aa3a68-ea6a-43a4-9f10-8172007c9b28"
      },
      "outputs": [
        {
          "output_type": "stream",
          "name": "stdout",
          "text": [
            "Collecting distancia==0.0.43\n",
            "  Downloading distancia-0.0.43-py3-none-any.whl.metadata (13 kB)\n",
            "Downloading distancia-0.0.43-py3-none-any.whl (60 kB)\n",
            "\u001b[?25l   \u001b[90m━━━━━━━━━━━━━━━━━━━━━━━━━━━━━━━━━━━━━━━━\u001b[0m \u001b[32m0.0/60.0 kB\u001b[0m \u001b[31m?\u001b[0m eta \u001b[36m-:--:--\u001b[0m\r\u001b[2K   \u001b[90m━━━━━━━━━━━━━━━━━━━━━━━━━━━━━━━━━━━━━━━━\u001b[0m \u001b[32m60.0/60.0 kB\u001b[0m \u001b[31m2.4 MB/s\u001b[0m eta \u001b[36m0:00:00\u001b[0m\n",
            "\u001b[?25hInstalling collected packages: distancia\n",
            "Successfully installed distancia-0.0.43\n"
          ]
        }
      ],
      "source": [
        "!pip install distancia==0.0.43"
      ]
    },
    {
      "cell_type": "code",
      "source": [
        "from distancia import Euclidean\n",
        "\n",
        "point1 = [1, 2, 3]\n",
        "point2 = [4, 5, 6]\n",
        "\n",
        "# Create an instance of Euclidean\n",
        "euclidean = Euclidean()\n",
        "\n",
        "# Calculate the Euclidean distance\n",
        "distance = euclidean.compute(point1, point2)\n",
        "\n",
        "print(f\"Euclidean Distance: {distance:.4f}\")"
      ],
      "metadata": {
        "colab": {
          "base_uri": "https://localhost:8080/"
        },
        "id": "agpZBZJn9RDk",
        "outputId": "f24cd8f6-f20c-47a6-e7a5-933d75113dec"
      },
      "execution_count": 2,
      "outputs": [
        {
          "output_type": "stream",
          "name": "stdout",
          "text": [
            "Euclidean Distance: 5.1962\n"
          ]
        }
      ]
    },
    {
      "cell_type": "code",
      "source": [
        "from distancia import Levenshtein\n",
        "\n",
        "string1 = \"kitten\"\n",
        "string2 = \"sitting\"\n",
        "\n",
        "distance = Levenshtein().compute(string1, string2)\n",
        "print(f\"Levenshtein Distance: {distance:.4f}\")"
      ],
      "metadata": {
        "colab": {
          "base_uri": "https://localhost:8080/"
        },
        "id": "QL2jN1ul94cA",
        "outputId": "38974d00-ce30-4293-953c-131c05ad7796"
      },
      "execution_count": 3,
      "outputs": [
        {
          "output_type": "stream",
          "name": "stdout",
          "text": [
            "Levenshtein Distance: 3.0000\n"
          ]
        }
      ]
    },
    {
      "cell_type": "code",
      "source": [
        "from distancia import Euclidean\n",
        "\n",
        "# Define two points in 3D space\n",
        "point1 = [2, 3, 5]\n",
        "point2 = [7, 1, 9]\n",
        "\n",
        "# Calculate Euclidean Distance\n",
        "distance = Euclidean().compute(point1, point2)\n",
        "\n",
        "print(f\"Euclidean Distance: {distance:.4f}\")"
      ],
      "metadata": {
        "colab": {
          "base_uri": "https://localhost:8080/"
        },
        "id": "Dw3fmGZMb_Ee",
        "outputId": "03d7767d-d586-4ca2-e051-8c46765b1be0"
      },
      "execution_count": 4,
      "outputs": [
        {
          "output_type": "stream",
          "name": "stdout",
          "text": [
            "Euclidean Distance: 6.7082\n"
          ]
        }
      ]
    },
    {
      "cell_type": "code",
      "source": [
        "from distancia import Manhattan\n",
        "\n",
        "# Define two points\n",
        "point1 = [1, 2, 3]\n",
        "point2 = [4, 6, 3]\n",
        "\n",
        "# Calculate Manhattan Distance\n",
        "distance = Manhattan().compute(point1, point2)\n",
        "\n",
        "print(f\"Manhattan Distance: {distance:.4f}\")"
      ],
      "metadata": {
        "colab": {
          "base_uri": "https://localhost:8080/"
        },
        "id": "v_9QEC3scWG9",
        "outputId": "7324e97a-1fd1-48d5-aa99-94d60e53d40e"
      },
      "execution_count": 5,
      "outputs": [
        {
          "output_type": "stream",
          "name": "stdout",
          "text": [
            "Manhattan Distance: 7.0000\n"
          ]
        }
      ]
    },
    {
      "cell_type": "code",
      "source": [
        "from distancia import Hamming\n",
        "\n",
        "# Define two binary strings\n",
        "binary_string1 = '1101001'\n",
        "binary_string2 = '1001101'\n",
        "\n",
        "# Calculate Hamming Distance\n",
        "distance = Hamming().compute(binary_string1, binary_string2)\n",
        "\n",
        "print(f\"Hamming Distance: {distance:.4f}\")"
      ],
      "metadata": {
        "colab": {
          "base_uri": "https://localhost:8080/"
        },
        "id": "rlgOpPIicpjO",
        "outputId": "c0f69894-58c5-42e9-b1d0-a40bd5f0787b"
      },
      "execution_count": 6,
      "outputs": [
        {
          "output_type": "stream",
          "name": "stdout",
          "text": [
            "Hamming Distance: 2.0000\n"
          ]
        }
      ]
    },
    {
      "cell_type": "code",
      "source": [
        "from distancia import Levenshtein\n",
        "\n",
        "# Define two strings\n",
        "str1 = \"kitten\"\n",
        "str2 = \"sitting\"\n",
        "\n",
        "# Calculate Levenshtein Distance\n",
        "distance = Levenshtein().compute(str1, str2)\n",
        "\n",
        "print(f\"Levenshtein Distance: {distance:.4f}\")"
      ],
      "metadata": {
        "colab": {
          "base_uri": "https://localhost:8080/"
        },
        "id": "YqHDZzEgc6__",
        "outputId": "fbe828cf-8405-4348-dc2a-fe8d5f4e8148"
      },
      "execution_count": 7,
      "outputs": [
        {
          "output_type": "stream",
          "name": "stdout",
          "text": [
            "Levenshtein Distance: 3.0000\n"
          ]
        }
      ]
    },
    {
      "cell_type": "code",
      "source": [
        "from distancia import RatcliffObershelp  # Import the RatcliffObershelp class from the distancia package\n",
        "\n",
        "def main():\n",
        "    # Define two strings for comparison\n",
        "    string1 = \"example string for comparison\"\n",
        "    string2 = \"example string for comparision\"\n",
        "\n",
        "    # Create an instance of the RatcliffObershelp class\n",
        "    ratcliff_obershelp_distance = RatcliffObershelp()\n",
        "\n",
        "    # Calculate the Ratcliff/Obershelp distance\n",
        "    distance = ratcliff_obershelp_distance.compute(string1, string2)\n",
        "\n",
        "    # Print the result\n",
        "    print(f\"Ratcliff/Obershelp distance between '{string1}' and '{string2}' is: {distance:.4f}\")\n",
        "\n",
        "if __name__ == \"__main__\":\n",
        "    main()"
      ],
      "metadata": {
        "colab": {
          "base_uri": "https://localhost:8080/"
        },
        "id": "sKZCfvbjdJ6R",
        "outputId": "5efa8123-22ba-4c00-c206-10279c24e969"
      },
      "execution_count": 8,
      "outputs": [
        {
          "output_type": "stream",
          "name": "stdout",
          "text": [
            "Ratcliff/Obershelp distance between 'example string for comparison' and 'example string for comparision' is: 0.0169\n"
          ]
        }
      ]
    },
    {
      "cell_type": "code",
      "source": [
        "from distancia import Jaro  # Assuming the Jaro class is in the distancia package\n",
        "\n",
        "def main():\n",
        "    # Create an instance of the Jaro class\n",
        "    jaro = Jaro()\n",
        "\n",
        "    # Example 1: Identical strings\n",
        "    s1 = \"hello\"\n",
        "    s2 = \"hello\"\n",
        "    distance = jaro.compute(s1, s2)\n",
        "    print(f\"Jaro distance between '{s1}' and '{s2}': {distance:.4f}\")\n",
        "\n",
        "    # Example 2: Completely different strings\n",
        "    s1 = \"hello\"\n",
        "    s2 = \"world\"\n",
        "    distance = jaro.compute(s1, s2)\n",
        "    print(f\"Jaro distance between '{s1}' and '{s2}': {distance:.4f}\")\n",
        "\n",
        "    # Example 3: Partially matching strings\n",
        "    s1 = \"dixon\"\n",
        "    s2 = \"dicksonx\"\n",
        "    distance = jaro.compute(s1, s2)\n",
        "    print(f\"Jaro distance between '{s1}' and '{s2}': {distance:.4f}\")\n",
        "\n",
        "    # Example 4: One empty string\n",
        "    s1 = \"\"\n",
        "    s2 = \"nonempty\"\n",
        "    distance = jaro.compute(s1, s2)\n",
        "    print(f\"Jaro distance between '{s1}' and '{s2}': {distance:.4f}\")\n",
        "\n",
        "    # Example 5: Both strings empty\n",
        "    s1 = \"\"\n",
        "    s2 = \"\"\n",
        "    distance = jaro.compute(s1, s2)\n",
        "    print(f\"Jaro distance between '{s1}' and '{s2}': {distance:.4f}\")\n",
        "\n",
        "if __name__ == \"__main__\":\n",
        "    main()"
      ],
      "metadata": {
        "colab": {
          "base_uri": "https://localhost:8080/"
        },
        "id": "5jaUPpPddfH7",
        "outputId": "3b24c1a7-a30f-4549-cbad-466320c57f71"
      },
      "execution_count": 9,
      "outputs": [
        {
          "output_type": "stream",
          "name": "stdout",
          "text": [
            "Jaro distance between 'hello' and 'hello': 1.0000\n",
            "Jaro distance between 'hello' and 'world': 0.4667\n",
            "Jaro distance between 'dixon' and 'dicksonx': 0.7667\n",
            "Jaro distance between '' and 'nonempty': 0.0000\n",
            "Jaro distance between '' and '': 1.0000\n"
          ]
        }
      ]
    },
    {
      "cell_type": "code",
      "source": [
        "from distancia import JaroWinkler  # Assuming the JaroWinkler class is in the distancia package\n",
        "\n",
        "def main():\n",
        "    # Create an instance of the JaroWinkler class\n",
        "    jaro_winkler = JaroWinkler()\n",
        "\n",
        "    # Example 1: Identical strings\n",
        "    s1 = \"hello\"\n",
        "    s2 = \"hello\"\n",
        "    distance = jaro_winkler.compute(s1, s2)\n",
        "    print(f\"Jaro-Winkler distance between '{s1}' and '{s2}': {distance:.4f}\")\n",
        "\n",
        "    # Example 2: Completely different strings\n",
        "    s1 = \"hello\"\n",
        "    s2 = \"world\"\n",
        "    distance = jaro_winkler.compute(s1, s2)\n",
        "    print(f\"Jaro-Winkler distance between '{s1}' and '{s2}': {distance:.4f}\")\n",
        "\n",
        "    # Example 3: Strings with a common prefix\n",
        "    s1 = \"hello\"\n",
        "    s2 = \"hellish\"\n",
        "    distance = jaro_winkler.compute(s1, s2)\n",
        "    print(f\"Jaro-Winkler distance between '{s1}' and '{s2}': {distance:.4f}\")\n",
        "\n",
        "    # Example 4: One string is a prefix of the other\n",
        "    s1 = \"martha\"\n",
        "    s2 = \"marhtax\"\n",
        "    distance = jaro_winkler.compute(s1, s2)\n",
        "    print(f\"Jaro-Winkler distance between '{s1}' and '{s2}': {distance:.4f}\")\n",
        "\n",
        "    # Example 5: Completely dissimilar strings\n",
        "    s1 = \"abc\"\n",
        "    s2 = \"xyz\"\n",
        "    distance = jaro_winkler.compute(s1, s2)\n",
        "    print(f\"Jaro-Winkler distance between '{s1}' and '{s2}': {distance:.4f}\")\n",
        "\n",
        "if __name__ == \"__main__\":\n",
        "    main()"
      ],
      "metadata": {
        "colab": {
          "base_uri": "https://localhost:8080/"
        },
        "id": "duw_y17odlGQ",
        "outputId": "09b0d80e-4f16-487c-ea69-e5fef67153d3"
      },
      "execution_count": 10,
      "outputs": [
        {
          "output_type": "stream",
          "name": "stdout",
          "text": [
            "Jaro-Winkler distance between 'hello' and 'hello': 1.0000\n",
            "Jaro-Winkler distance between 'hello' and 'world': 0.4667\n",
            "Jaro-Winkler distance between 'hello' and 'hellish': 0.8743\n",
            "Jaro-Winkler distance between 'martha' and 'marhtax': 0.9278\n",
            "Jaro-Winkler distance between 'abc' and 'xyz': 0.0000\n"
          ]
        }
      ]
    },
    {
      "cell_type": "code",
      "source": [
        "from distancia import KendallTau  # Assuming the KendallTau class is in the distancia package\n",
        "\n",
        "def main():\n",
        "    # Create an instance of the KendallTau class\n",
        "    kendall_tau = KendallTau()\n",
        "\n",
        "    # Example 1: Identical rankings\n",
        "    ranking1 = [1, 2, 3, 4, 5]\n",
        "    ranking2 = [1, 2, 3, 4, 5]\n",
        "    distance = kendall_tau.compute(ranking1, ranking2)\n",
        "    print(f\"Kendall Tau distance between {ranking1} and {ranking2}: {distance:.4f}\")\n",
        "\n",
        "    # Example 2: Completely reversed rankings\n",
        "    ranking1 = [1, 2, 3, 4, 5]\n",
        "    ranking2 = [5, 4, 3, 2, 1]\n",
        "    distance = kendall_tau.compute(ranking1, ranking2)\n",
        "    print(f\"Kendall Tau distance between {ranking1} and {ranking2}: {distance:.4f}\")\n",
        "\n",
        "    # Example 3: Partially similar rankings\n",
        "    ranking1 = [1, 2, 3, 4, 5]\n",
        "    ranking2 = [1, 3, 2, 4, 5]\n",
        "    distance = kendall_tau.compute(ranking1, ranking2)\n",
        "    print(f\"Kendall Tau distance between {ranking1} and {ranking2}: {distance:.4f}\")\n",
        "\n",
        "    # Example 4: Random rankings\n",
        "    ranking1 = [1, 2, 3, 4, 5]\n",
        "    ranking2 = [3, 1, 4, 5, 2]\n",
        "    distance = kendall_tau.compute(ranking1, ranking2)\n",
        "    print(f\"Kendall Tau distance between {ranking1} and {ranking2}: {distance:.4f}\")\n",
        "\n",
        "if __name__ == \"__main__\":\n",
        "    main()"
      ],
      "metadata": {
        "colab": {
          "base_uri": "https://localhost:8080/"
        },
        "id": "FlcO27WQdsqO",
        "outputId": "7bd369e4-280e-4d01-f23d-50010d97e21c"
      },
      "execution_count": 11,
      "outputs": [
        {
          "output_type": "stream",
          "name": "stdout",
          "text": [
            "Kendall Tau distance between [1, 2, 3, 4, 5] and [1, 2, 3, 4, 5]: 0.0000\n",
            "Kendall Tau distance between [1, 2, 3, 4, 5] and [5, 4, 3, 2, 1]: 10.0000\n",
            "Kendall Tau distance between [1, 2, 3, 4, 5] and [1, 3, 2, 4, 5]: 1.0000\n",
            "Kendall Tau distance between [1, 2, 3, 4, 5] and [3, 1, 4, 5, 2]: 4.0000\n"
          ]
        }
      ]
    },
    {
      "cell_type": "code",
      "source": [
        "from distancia import Bhattacharyya\n",
        "\n",
        "# Define two probability distributions\n",
        "p = [0.1, 0.4, 0.5]\n",
        "q = [0.2, 0.2, 0.6]\n",
        "\n",
        "# Calculate Bhattacharyya Distance\n",
        "distance = Bhattacharyya().compute(p, q)\n",
        "\n",
        "print(f\"Bhattacharyya Distance: {distance:.4f}\")"
      ],
      "metadata": {
        "colab": {
          "base_uri": "https://localhost:8080/"
        },
        "id": "85A1mrS6dzL9",
        "outputId": "ebe02f6d-8d8f-457a-81a2-2e8abffa7306"
      },
      "execution_count": 12,
      "outputs": [
        {
          "output_type": "stream",
          "name": "stdout",
          "text": [
            "Bhattacharyya Distance: -0.5569\n"
          ]
        }
      ]
    },
    {
      "cell_type": "code",
      "source": [
        "from distancia import Mahalanobis\n",
        "\n",
        "# Define the mean vector and covariance matrix of the distribution\n",
        "data = [[2, 1, 0], [2, 3, 4], [3, 4, 5], [4, 5, 6]]\n",
        "# Define the point of interest\n",
        "point = [1, 2, 3]\n",
        "\n",
        "# Create an instance of Mahalanobis\n",
        "distance = Mahalanobis().compute(point, data)\n",
        "\n",
        "print(f\"Mahalanobis Distance: {distance:.4f}\")\n",
        "Mahalanobis().exemple()"
      ],
      "metadata": {
        "colab": {
          "base_uri": "https://localhost:8080/"
        },
        "id": "gJwHFKHIeInT",
        "outputId": "7fc5405b-27e7-4077-95a7-b45a2d24f096"
      },
      "execution_count": 13,
      "outputs": [
        {
          "output_type": "stream",
          "name": "stdout",
          "text": [
            "Mahalanobis Distance: 2.5981\n",
            "Mahalanobis distance between [1, 2, 3] and [[2, 1, 0], [2, 3, 4], [3, 4, 5], [4, 5, 6]] is 2.60\n"
          ]
        }
      ]
    },
    {
      "cell_type": "code",
      "source": [
        "from distancia import MahalanobisTaguchi  # Assuming the MahalanobisTaguchi class is in the distancia package\n",
        "\n",
        "def main():\n",
        "    # Example reference group data (2D array where each row is a data point)\n",
        "    reference_group = [\n",
        "        [1.0, 2.0, 3.5],\n",
        "        [1.1, 2.1, 2.9],\n",
        "        [0.9, 1.8, 3.1],\n",
        "        [1.2, 2.2, 3.2]\n",
        "    ]\n",
        "\n",
        "    # Example test data (data point to be evaluated against the reference group)\n",
        "    test_data = [1.3, 2.3, 3]\n",
        "\n",
        "    # Create an instance of the MahalanobisTaguchi class\n",
        "    m_taguchi = MahalanobisTaguchi(reference_group)\n",
        "\n",
        "    # Calculate the Mahalanobis-Taguchi distance for the test data\n",
        "    distance = m_taguchi.compute(test_data)\n",
        "\n",
        "    # Print the result\n",
        "    print(f\"Mahalanobis-Taguchi distance for the test data {test_data} is: {distance:.4f}\")\n",
        "\n",
        "if __name__ == \"__main__\":\n",
        "    main()"
      ],
      "metadata": {
        "colab": {
          "base_uri": "https://localhost:8080/"
        },
        "id": "m19c9_J4f3we",
        "outputId": "bd6f2cba-96f8-443c-88d9-b60676bd6864"
      },
      "execution_count": 14,
      "outputs": [
        {
          "output_type": "stream",
          "name": "stdout",
          "text": [
            "Mahalanobis-Taguchi distance for the test data [1.3, 2.3, 3] is: 2.5441\n"
          ]
        }
      ]
    },
    {
      "cell_type": "code",
      "source": [
        "from distancia import Haversine\n",
        "\n",
        "# Define the coordinates of the two points (latitude, longitude)\n",
        "point1 = (52.2296756, 21.0122287)  # Warsaw, Poland\n",
        "point2 = (41.8919300, 12.5113300)  # Rome, Italy\n",
        "\n",
        "# Create an instance of HaversineDistance\n",
        "haversine = Haversine()\n",
        "\n",
        "# Calculate the Haversine distance\n",
        "distance = haversine.compute(point1, point2)\n",
        "\n",
        "print(f\"Haversine Distance: {distance:.4f} km\")"
      ],
      "metadata": {
        "colab": {
          "base_uri": "https://localhost:8080/"
        },
        "id": "gQfEMlKWh4uC",
        "outputId": "41ae33cf-08e6-47da-c8c6-0e9132c36eab"
      },
      "execution_count": 15,
      "outputs": [
        {
          "output_type": "stream",
          "name": "stdout",
          "text": [
            "Haversine Distance: 1327.6302 km\n"
          ]
        }
      ]
    },
    {
      "cell_type": "code",
      "source": [
        "from distancia import Chebyshev\n",
        "\n",
        "# Define the coordinates of the two points\n",
        "point1 = (1, 3, 4)\n",
        "point2 = (4, 7, 1)\n",
        "\n",
        "# Create an instance of ChebyshevDistance\n",
        "chebyshev = Chebyshev()\n",
        "\n",
        "# Calculate the Chebyshev distance\n",
        "distance = chebyshev.compute(point1, point2)\n",
        "\n",
        "print(f\"Chebyshev Distance: {distance:.4f}\")"
      ],
      "metadata": {
        "colab": {
          "base_uri": "https://localhost:8080/"
        },
        "id": "dljZfAYxiKaH",
        "outputId": "823c758a-cfa8-428a-ed3e-93761fb20555"
      },
      "execution_count": 16,
      "outputs": [
        {
          "output_type": "stream",
          "name": "stdout",
          "text": [
            "Chebyshev Distance: 4.0000\n"
          ]
        }
      ]
    },
    {
      "cell_type": "code",
      "source": [
        " from distancia import ContextualDynamicDistance\n",
        "\n",
        " # Feature vectors\n",
        " x = [1.0, 2.0, 3.0]\n",
        " y = [4.0, 5.0, 6.0]\n",
        "\n",
        " # Context vectors\n",
        " context_x = [0.2, 0.3, 0.5]\n",
        " context_y = [0.1, 0.4, 0.6]\n",
        "\n",
        " # Calculate Cosine Similarity\n",
        " similarity = ContextualDynamicDistance().compute(x,y,context_x, context_y)\n",
        "\n",
        " print(f\"Contextual Dynamic Distance: {similarity:.4f}\")"
      ],
      "metadata": {
        "colab": {
          "base_uri": "https://localhost:8080/"
        },
        "id": "YW9GaqI_idRz",
        "outputId": "6f86c576-4f90-4e05-c950-383344138e2b"
      },
      "execution_count": 17,
      "outputs": [
        {
          "output_type": "stream",
          "name": "stdout",
          "text": [
            "Contextual Dynamic Distance: 5.1962\n"
          ]
        }
      ]
    },
    {
      "cell_type": "code",
      "source": [
        "  # Import the distancia package\n",
        "  from distancia import Canberra\n",
        "\n",
        "  # Define two sample vectors\n",
        "  x = [2, 0, 5, 3]\n",
        "  y = [1, 0, 5, 1]\n",
        "\n",
        "  # Create an instance of the CanberraDistance class (or directly use the function if it is provided)\n",
        "  canberra_dist = Canberra()\n",
        "\n",
        "  # Calculate the distance between the two vectors\n",
        "  distance = canberra_dist.compute(x, y)\n",
        "\n",
        "  # Print the result\n",
        "  print(f\"The Canberra distance between vectors x and y is: {distance:.4f}\")"
      ],
      "metadata": {
        "colab": {
          "base_uri": "https://localhost:8080/"
        },
        "id": "c9EegozfjEYo",
        "outputId": "e6e5b1d9-75ea-44f8-f500-106b3abb746d"
      },
      "execution_count": 18,
      "outputs": [
        {
          "output_type": "stream",
          "name": "stdout",
          "text": [
            "The Canberra distance between vectors x and y is: 0.8333\n"
          ]
        }
      ]
    },
    {
      "cell_type": "code",
      "source": [
        "# Import the distancia package\n",
        "from distancia import BrayCurtis\n",
        "\n",
        "# Define two sample vectors representing species abundance in two different samples\n",
        "sample_1 = [2, 0, 3, 1]\n",
        "sample_2 = [1, 1, 2, 0]\n",
        "\n",
        "# Create an instance of the BrayCurti class\n",
        "bray_curtis_dist = BrayCurtis()\n",
        "\n",
        "# Calculate the Bray-Curtis distance between the two samples\n",
        "distance = bray_curtis_dist.compute(sample_1, sample_2)\n",
        "\n",
        "# Print the result\n",
        "print(f\"The Bray-Curtis distance between the two samples is: {distance:.4f}\")"
      ],
      "metadata": {
        "colab": {
          "base_uri": "https://localhost:8080/"
        },
        "id": "Ur38ZbkqkEHQ",
        "outputId": "f8b5ac6e-7dbd-4057-b0e5-5dc06ad65fcc"
      },
      "execution_count": 19,
      "outputs": [
        {
          "output_type": "stream",
          "name": "stdout",
          "text": [
            "The Bray-Curtis distance between the two samples is: 0.4000\n"
          ]
        }
      ]
    },
    {
      "cell_type": "code",
      "source": [
        "from distancia import RogersTanimoto  # Import the RogersTanimoto class from the distancia package\n",
        "\n",
        "def main():\n",
        "    # Define two binary vectors for comparison\n",
        "    vector1 = [1, 0, 1, 1, 0]\n",
        "    vector2 = [1, 1, 0, 1, 1]\n",
        "\n",
        "    # Create an instance of the RogersTanimoto class\n",
        "    rogers_tanimoto_distance = RogersTanimoto()\n",
        "\n",
        "    # Calculate the Rogers-Tanimoto distance\n",
        "    distance = rogers_tanimoto_distance.compute(vector1, vector2)\n",
        "\n",
        "    # Print the result\n",
        "    print(f\"Rogers-Tanimoto distance between {vector1} and {vector2} is: {distance:.4f}\")\n",
        "\n",
        "if __name__ == \"__main__\":\n",
        "    main()"
      ],
      "metadata": {
        "colab": {
          "base_uri": "https://localhost:8080/"
        },
        "id": "ho8lPUp1kghg",
        "outputId": "99119fd2-eed5-45b0-c686-ce264749d4ce"
      },
      "execution_count": 20,
      "outputs": [
        {
          "output_type": "stream",
          "name": "stdout",
          "text": [
            "Rogers-Tanimoto distance between [1, 0, 1, 1, 0] and [1, 1, 0, 1, 1] is: 1.0000\n"
          ]
        }
      ]
    },
    {
      "cell_type": "code",
      "source": [
        "from distancia import RussellRao  # Import the RussellRao class from the distancia package\n",
        "\n",
        "def main():\n",
        "    # Define two binary vectors for comparison\n",
        "    vector1 = [1, 0, 1, 1, 0]\n",
        "    vector2 = [1, 1, 0, 1, 1]\n",
        "\n",
        "    # Create an instance of the RussellRao class\n",
        "    russell_rao_distance = RussellRao()\n",
        "\n",
        "    # Calculate the Russell-Rao distance\n",
        "    distance = russell_rao_distance.compute(vector1, vector2)\n",
        "\n",
        "    # Print the result\n",
        "    print(f\"Russell-Rao distance between {vector1} and {vector2} is: {distance:.4f}\")\n",
        "\n",
        "if __name__ == \"__main__\":\n",
        "    main()"
      ],
      "metadata": {
        "colab": {
          "base_uri": "https://localhost:8080/"
        },
        "id": "UMdVKtOEky5l",
        "outputId": "ce11ca6d-59eb-475b-f19c-032d39a396eb"
      },
      "execution_count": 21,
      "outputs": [
        {
          "output_type": "stream",
          "name": "stdout",
          "text": [
            "Russell-Rao distance between [1, 0, 1, 1, 0] and [1, 1, 0, 1, 1] is: 0.4000\n"
          ]
        }
      ]
    },
    {
      "cell_type": "code",
      "source": [
        "from distancia import SokalMichener  # Import the SokalMichener class from the distancia package\n",
        "\n",
        "def main():\n",
        "    # Define two binary vectors for comparison\n",
        "    vector1 = [1, 0, 1, 1, 0, 0, 1]\n",
        "    vector2 = [1, 1, 0, 1, 0, 0, 1]\n",
        "\n",
        "    # Create an instance of the SokalMichener class\n",
        "    sokal_michener = SokalMichener()\n",
        "\n",
        "    # Calculate the Sokal-Michener distance\n",
        "    distance = sokal_michener.compute(vector1, vector2)\n",
        "\n",
        "    # Print the result\n",
        "    print(f\"Sokal-Michener distance between {vector1} and {vector2} is: {distance:.4f}\")\n",
        "\n",
        "if __name__ == \"__main__\":\n",
        "    main()"
      ],
      "metadata": {
        "colab": {
          "base_uri": "https://localhost:8080/"
        },
        "id": "oMxHS0JJmI2L",
        "outputId": "4abde947-f340-4305-d8cf-67254cf35a0e"
      },
      "execution_count": 22,
      "outputs": [
        {
          "output_type": "stream",
          "name": "stdout",
          "text": [
            "Sokal-Michener distance between [1, 0, 1, 1, 0, 0, 1] and [1, 1, 0, 1, 0, 0, 1] is: 0.2857\n"
          ]
        }
      ]
    },
    {
      "cell_type": "code",
      "source": [
        "from distancia import SokalSneath  # Import the SokalSneath class from the distancia package\n",
        "\n",
        "def main():\n",
        "    # Define two binary vectors for comparison\n",
        "    vector1 = [1, 0, 1, 1, 0, 0, 1]\n",
        "    vector2 = [1, 1, 0, 1, 0, 0, 1]\n",
        "\n",
        "    # Create an instance of the SokalSneath class\n",
        "    sokal_sneath = SokalSneath()\n",
        "\n",
        "    # Calculate the Sokal-Sneath distance\n",
        "    distance = sokal_sneath.compute(vector1, vector2)\n",
        "\n",
        "    # Print the result\n",
        "    print(f\"Sokal-Sneath distance between {vector1} and {vector2} is: {distance:.4f}\")\n",
        "\n",
        "if __name__ == \"__main__\":\n",
        "    main()"
      ],
      "metadata": {
        "colab": {
          "base_uri": "https://localhost:8080/"
        },
        "id": "yUpk4eoVmVE8",
        "outputId": "b94e2462-3bfa-4d18-b985-9815597f3b07"
      },
      "execution_count": 23,
      "outputs": [
        {
          "output_type": "stream",
          "name": "stdout",
          "text": [
            "Sokal-Sneath distance between [1, 0, 1, 1, 0, 0, 1] and [1, 1, 0, 1, 0, 0, 1] is: 0.6000\n"
          ]
        }
      ]
    },
    {
      "cell_type": "code",
      "source": [
        "from distancia import DamerauLevenshtein\n",
        "\n",
        "def test_damerau_levenshtein():\n",
        "    # Create an instance of the DamerauLevenshtein class\n",
        "    distance_calculator = DamerauLevenshtein()\n",
        "\n",
        "    # Test cases: Pairs of strings to compare\n",
        "    test_cases = [\n",
        "        (\"kitten\", \"sitting\"),\n",
        "        (\"flaw\", \"lawn\"),\n",
        "        (\"saturday\", \"sundays\"),\n",
        "        (\"gumbo\", \"gambol\"),\n",
        "        (\"ca\", \"abc\"),\n",
        "    ]\n",
        "\n",
        "    # Iterate through the test cases and compute the distance\n",
        "    for str1, str2 in test_cases:\n",
        "        distance = distance_calculator.compute(str1, str2)\n",
        "        print(f\"Damerau-Levenshtein distance between '{str1}' and '{str2}': {distance:.4f}\")\n",
        "\n",
        "if __name__ == \"__main__\":\n",
        "    # Run the test function\n",
        "    test_damerau_levenshtein()"
      ],
      "metadata": {
        "colab": {
          "base_uri": "https://localhost:8080/"
        },
        "id": "EccHsyy_mpU4",
        "outputId": "fae7c1fb-985f-490b-97f0-e4ef6ccd05c6"
      },
      "execution_count": 24,
      "outputs": [
        {
          "output_type": "stream",
          "name": "stdout",
          "text": [
            "Damerau-Levenshtein distance between 'kitten' and 'sitting': 3.0000\n",
            "Damerau-Levenshtein distance between 'flaw' and 'lawn': 2.0000\n",
            "Damerau-Levenshtein distance between 'saturday' and 'sundays': 4.0000\n",
            "Damerau-Levenshtein distance between 'gumbo' and 'gambol': 2.0000\n",
            "Damerau-Levenshtein distance between 'ca' and 'abc': 3.0000\n"
          ]
        }
      ]
    },
    {
      "cell_type": "code",
      "source": [
        "from distancia import SorensenDice\n",
        "\n",
        "# Define two binary sets\n",
        "str1 = \"night\"\n",
        "str2 = \"nacht\"\n",
        "\n",
        "# Calculate SørensenDice Distance\n",
        "distance = SorensenDice().compute(str1, str2)\n",
        "print(f\"Sørensen Dice Distance: {distance:.4f}\")"
      ],
      "metadata": {
        "colab": {
          "base_uri": "https://localhost:8080/"
        },
        "id": "gfOI5cNwnCew",
        "outputId": "0fb34c4f-2bbd-4d62-fafc-3c40c4f08d26"
      },
      "execution_count": 25,
      "outputs": [
        {
          "output_type": "stream",
          "name": "stdout",
          "text": [
            "Sørensen Dice Distance: 0.7500\n"
          ]
        }
      ]
    },
    {
      "cell_type": "code",
      "source": [
        "# Import the Wasserstein class from the distancia package\n",
        "from distancia import Wasserstein\n",
        "\n",
        "def main():\n",
        "    # Define two discrete probability distributions\n",
        "    distribution1 = [0.1, 0.4, 0.5]\n",
        "    distribution2 = [0.2, 0.3, 0.5]\n",
        "\n",
        "    # Create an instance of the Wasserstein class\n",
        "    wasserstein = Wasserstein()\n",
        "\n",
        "    # Calculate the Wasserstein distance between the two distributions\n",
        "    distance = wasserstein.compute(distribution1, distribution2)\n",
        "\n",
        "    # Print the calculated distance\n",
        "    print(f\"Wasserstein distance between the distributions: {distance:.4f}\")\n",
        "\n",
        "if __name__ == \"__main__\":\n",
        "    main()"
      ],
      "metadata": {
        "colab": {
          "base_uri": "https://localhost:8080/"
        },
        "id": "5REMZRBSpSM9",
        "outputId": "efed20d9-fa55-476d-a850-a3e3cbae5788"
      },
      "execution_count": 26,
      "outputs": [
        {
          "output_type": "stream",
          "name": "stdout",
          "text": [
            "Wasserstein distance between the distributions: 0.1000\n"
          ]
        }
      ]
    },
    {
      "cell_type": "code",
      "source": [
        "from distancia import Gower\n",
        "\n",
        "# Create an instance of the Gower class\n",
        "\n",
        "# Test cases: pairs of data points with mixed types (numerical and categorical)\n",
        "test_cases = [\n",
        "    ([\"Red\", 3.2, 5], [\"Blue\", 4.1, 3], [None, 5.0, 10]),\n",
        "    ([5.5, \"M\", 200], [6.1, \"F\", 180], [10, None, 50]),\n",
        "    ([0, \"High\", 10], [1, \"Low\", 10], [1, None, 10]),\n",
        "    ([100, \"Yes\", 3.5], [150, \"No\", 2.8], [50, None, 5]),\n",
        "    ([1.5, \"Green\", 2], [1.5, \"Green\", 2], [None, None, None])\n",
        "]\n",
        "\n",
        "# Compute and print the Gower similarity for each pair\n",
        "for vec1, vec2, ranges in test_cases:\n",
        "    gower = Gower(ranges)\n",
        "    similarity = gower.compute(vec1, vec2)\n",
        "    print(f\"Gower similarity between {vec1} and {vec2}: {similarity:.4f}\")"
      ],
      "metadata": {
        "colab": {
          "base_uri": "https://localhost:8080/"
        },
        "id": "8vfjpoJOpmJC",
        "outputId": "bb25a199-bf9d-4eed-b92a-3cc62e1109b2"
      },
      "execution_count": 27,
      "outputs": [
        {
          "output_type": "stream",
          "name": "stdout",
          "text": [
            "Gower similarity between ['Red', 3.2, 5] and ['Blue', 4.1, 3]: 0.5400\n",
            "Gower similarity between [5.5, 'M', 200] and [6.1, 'F', 180]: 0.5133\n",
            "Gower similarity between [0, 'High', 10] and [1, 'Low', 10]: 0.3333\n",
            "Gower similarity between [100, 'Yes', 3.5] and [150, 'No', 2.8]: 0.2867\n",
            "Gower similarity between [1.5, 'Green', 2] and [1.5, 'Green', 2]: 1.0000\n"
          ]
        }
      ]
    },
    {
      "cell_type": "code",
      "source": [
        "from distancia import CzekanowskiDice\n",
        "\n",
        "# Define two vector\n",
        "set1 = [1.3, 0, 1, 1]\n",
        "set2 = [1, 1, 0, 1]\n",
        "\n",
        "# Calculate Dice Distance\n",
        "similarity = CzekanowskiDice().compute(set1, set2)\n",
        "\n",
        "print(f\"Czekanowski Dice similarity: {similarity:.4f}\")"
      ],
      "metadata": {
        "colab": {
          "base_uri": "https://localhost:8080/"
        },
        "id": "Es6oKt5Mpq3K",
        "outputId": "7e9df302-272d-46ec-8640-4c78856424a8"
      },
      "execution_count": 28,
      "outputs": [
        {
          "output_type": "stream",
          "name": "stdout",
          "text": [
            "Czekanowski Dice similarity: 0.3651\n"
          ]
        }
      ]
    },
    {
      "cell_type": "code",
      "source": [
        "# Import the distancia package\n",
        "from distancia import Hellinger\n",
        "\n",
        "# Define two probability distributions\n",
        "distribution_1 = [0.2, 0.3, 0.1, 0.4]\n",
        "distribution_2 = [0.1, 0.4, 0.2, 0.3]\n",
        "\n",
        "# Create an instance of the Hellinger class\n",
        "hellinger_dist = Hellinger()\n",
        "\n",
        "# Calculate the Hellinger distance between the two distributions\n",
        "distance = hellinger_dist.compute(distribution_1, distribution_2)\n",
        "\n",
        "# Print the result\n",
        "print(f\"The Hellinger distance between the two distributions is: {distance:.4f}\")"
      ],
      "metadata": {
        "colab": {
          "base_uri": "https://localhost:8080/"
        },
        "id": "rJ4tDAGqpwE0",
        "outputId": "b39db2ca-1265-4bf2-ab13-6647097116ab"
      },
      "execution_count": 29,
      "outputs": [
        {
          "output_type": "stream",
          "name": "stdout",
          "text": [
            "The Hellinger distance between the two distributions is: 0.1560\n"
          ]
        }
      ]
    },
    {
      "cell_type": "code",
      "source": [
        "# Import the distancia package\n",
        "from distancia import MotzkinStraus\n",
        "\n",
        "# Define two vectors\n",
        "vector_1 = [1, 2, 3, 4]\n",
        "vector_2 = [4, 3, 2, 1]\n",
        "\n",
        "# Create an instance of the MotzkinStraus class\n",
        "motzkin_straus_dist = MotzkinStraus()\n",
        "\n",
        "# Calculate the Motzkin-Straus distance between the two vectors\n",
        "distance = motzkin_straus_dist.compute(vector_1, vector_2)\n",
        "\n",
        "# Print the result\n",
        "print(f\"The Motzkin-Straus distance between the two vectors is: {distance:.4f}\")"
      ],
      "metadata": {
        "colab": {
          "base_uri": "https://localhost:8080/"
        },
        "id": "GTJX5i1fp9OB",
        "outputId": "2978c906-f4af-4cb7-b9f2-c2f14b7ec840"
      },
      "execution_count": 30,
      "outputs": [
        {
          "output_type": "stream",
          "name": "stdout",
          "text": [
            "The Motzkin-Straus distance between the two vectors is: 9.4721\n"
          ]
        }
      ]
    },
    {
      "cell_type": "code",
      "source": [
        "# Import the distancia package\n",
        "from distancia import EnhancedRogersTanimoto\n",
        "\n",
        "# Define two binary vectors\n",
        "vector_1 = [1, 0, 1, 1, 0]\n",
        "vector_2 = [1, 1, 1, 0, 0]\n",
        "alpha    = 1.5\n",
        "# Create an instance of the EnhancedRogersTanimoto class with specific weights\n",
        "enhanced_rt_dist = EnhancedRogersTanimoto()\n",
        "\n",
        "# Calculate the Enhanced Rogers-Tanimoto distance between the two vectors\n",
        "distance = enhanced_rt_dist.compute(vector_1, vector_2,alpha)\n",
        "\n",
        "# Print the result\n",
        "print(f\"The Enhanced Rogers-Tanimoto distance between the two vectors is: {distance:.4f}\")"
      ],
      "metadata": {
        "colab": {
          "base_uri": "https://localhost:8080/"
        },
        "id": "7YhG5UmyqW8l",
        "outputId": "5df07782-1d72-4a05-e004-36553b96a47e"
      },
      "execution_count": 31,
      "outputs": [
        {
          "output_type": "stream",
          "name": "stdout",
          "text": [
            "The Enhanced Rogers-Tanimoto distance between the two vectors is: 0.6154\n"
          ]
        }
      ]
    },
    {
      "cell_type": "code",
      "source": [
        "from distancia import KullbackLeibler\n",
        "# Example probability distributions\n",
        "p = [0.1, 0.4, 0.5]  # True distribution\n",
        "q = [0.2, 0.3, 0.5]  # Predicted distribution\n",
        "\n",
        "# Create an instance of KullbackLeiblerLoss\n",
        "kl_loss = KullbackLeibler()\n",
        "\n",
        "# Calculate the KL divergence\n",
        "kl_value = kl_loss(p, q)\n",
        "print(f'Kullback-Leibler Divergence: {kl_value:.4f}')"
      ],
      "metadata": {
        "colab": {
          "base_uri": "https://localhost:8080/"
        },
        "id": "G02FXcQZtkZI",
        "outputId": "e2a9bd4a-e2e5-4da7-b578-67b09c782a55"
      },
      "execution_count": 32,
      "outputs": [
        {
          "output_type": "stream",
          "name": "stdout",
          "text": [
            "Kullback-Leibler Divergence: 0.5897\n"
          ]
        }
      ]
    }
  ]
}