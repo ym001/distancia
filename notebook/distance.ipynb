{
  "nbformat": 4,
  "nbformat_minor": 0,
  "metadata": {
    "colab": {
      "provenance": [],
      "authorship_tag": "ABX9TyPAg198ES05+UdVAiI2bV6l",
      "include_colab_link": true
    },
    "kernelspec": {
      "name": "python3",
      "display_name": "Python 3"
    },
    "language_info": {
      "name": "python"
    }
  },
  "cells": [
    {
      "cell_type": "markdown",
      "metadata": {
        "id": "view-in-github",
        "colab_type": "text"
      },
      "source": [
        "<a href=\"https://colab.research.google.com/github/ym001/distancia/blob/master/notebook/distance.ipynb\" target=\"_parent\"><img src=\"https://colab.research.google.com/assets/colab-badge.svg\" alt=\"Open In Colab\"/></a>"
      ]
    },
    {
      "cell_type": "code",
      "execution_count": null,
      "metadata": {
        "colab": {
          "base_uri": "https://localhost:8080/"
        },
        "id": "0_In3n0AbwGL",
        "outputId": "35d711d4-796e-4c08-850f-a49133b40bf7"
      },
      "outputs": [
        {
          "output_type": "stream",
          "name": "stdout",
          "text": [
            "Collecting distancia==0.0.31\n",
            "  Downloading distancia-0.0.31-py3-none-any.whl.metadata (4.3 kB)\n",
            "Downloading distancia-0.0.31-py3-none-any.whl (35 kB)\n",
            "Installing collected packages: distancia\n",
            "Successfully installed distancia-0.0.31\n"
          ]
        }
      ],
      "source": [
        "!pip install distancia==0.0.31"
      ]
    },
    {
      "cell_type": "code",
      "source": [
        "from distancia import Euclidean\n",
        "\n",
        "# Define two points in 3D space\n",
        "point1 = [2, 3, 5]\n",
        "point2 = [7, 1, 9]\n",
        "\n",
        "# Calculate Euclidean Distance\n",
        "distance = Euclidean().calculate(point1, point2)\n",
        "\n",
        "print(f\"Euclidean Distance: {distance}\")"
      ],
      "metadata": {
        "colab": {
          "base_uri": "https://localhost:8080/"
        },
        "id": "Dw3fmGZMb_Ee",
        "outputId": "ff0f1202-62bc-475e-b699-a608f60b1219"
      },
      "execution_count": null,
      "outputs": [
        {
          "output_type": "stream",
          "name": "stdout",
          "text": [
            "Euclidean Distance: 6.708203932499369\n"
          ]
        }
      ]
    },
    {
      "cell_type": "code",
      "source": [
        "from distancia import Manhattan\n",
        "\n",
        "# Define two points\n",
        "point1 = [1, 2, 3]\n",
        "point2 = [4, 6, 3]\n",
        "\n",
        "# Calculate Manhattan Distance\n",
        "distance = Manhattan().calculate(point1, point2)\n",
        "\n",
        "print(f\"Manhattan Distance: {distance}\")"
      ],
      "metadata": {
        "colab": {
          "base_uri": "https://localhost:8080/"
        },
        "id": "v_9QEC3scWG9",
        "outputId": "d59dfa2a-e057-404b-f8ac-cf4af91017df"
      },
      "execution_count": null,
      "outputs": [
        {
          "output_type": "stream",
          "name": "stdout",
          "text": [
            "Manhattan Distance: 7\n"
          ]
        }
      ]
    },
    {
      "cell_type": "code",
      "source": [
        "from distancia import Hamming\n",
        "\n",
        "# Define two binary strings\n",
        "binary_string1 = '1101001'\n",
        "binary_string2 = '1001101'\n",
        "\n",
        "# Calculate Hamming Distance\n",
        "distance = Hamming().calculate(binary_string1, binary_string2)\n",
        "\n",
        "print(f\"Hamming Distance: {distance}\")"
      ],
      "metadata": {
        "colab": {
          "base_uri": "https://localhost:8080/"
        },
        "id": "rlgOpPIicpjO",
        "outputId": "d9b1eb28-bf60-4502-f09c-6f2b89d5632a"
      },
      "execution_count": null,
      "outputs": [
        {
          "output_type": "stream",
          "name": "stdout",
          "text": [
            "Hamming Distance: 2\n"
          ]
        }
      ]
    },
    {
      "cell_type": "code",
      "source": [
        "from distancia import Levenshtein\n",
        "\n",
        "# Define two strings\n",
        "str1 = \"kitten\"\n",
        "str2 = \"sitting\"\n",
        "\n",
        "# Calculate Levenshtein Distance\n",
        "distance = Levenshtein().calculate(str1, str2)\n",
        "\n",
        "print(f\"Levenshtein Distance: {distance}\")"
      ],
      "metadata": {
        "colab": {
          "base_uri": "https://localhost:8080/"
        },
        "id": "YqHDZzEgc6__",
        "outputId": "f7842c10-6097-4935-be8a-ee0bb3f8352f"
      },
      "execution_count": null,
      "outputs": [
        {
          "output_type": "stream",
          "name": "stdout",
          "text": [
            "Levenshtein Distance: 3\n"
          ]
        }
      ]
    },
    {
      "cell_type": "code",
      "source": [
        "from distancia import RatcliffObershelp  # Import the RatcliffObershelp class from the distancia package\n",
        "\n",
        "def main():\n",
        "    # Define two strings for comparison\n",
        "    string1 = \"example string for comparison\"\n",
        "    string2 = \"example string for comparision\"\n",
        "\n",
        "    # Create an instance of the RatcliffObershelp class\n",
        "    ratcliff_obershelp_distance = RatcliffObershelp()\n",
        "\n",
        "    # Calculate the Ratcliff/Obershelp distance\n",
        "    distance = ratcliff_obershelp_distance.calculate(string1, string2)\n",
        "\n",
        "    # Print the result\n",
        "    print(f\"Ratcliff/Obershelp distance between '{string1}' and '{string2}' is: {distance:.4f}\")\n",
        "\n",
        "if __name__ == \"__main__\":\n",
        "    main()"
      ],
      "metadata": {
        "colab": {
          "base_uri": "https://localhost:8080/"
        },
        "id": "sKZCfvbjdJ6R",
        "outputId": "b960e40e-3f90-4675-819e-3fa655d7d728"
      },
      "execution_count": null,
      "outputs": [
        {
          "output_type": "stream",
          "name": "stdout",
          "text": [
            "Ratcliff/Obershelp distance between 'example string for comparison' and 'example string for comparision' is: 0.0169\n"
          ]
        }
      ]
    },
    {
      "cell_type": "code",
      "source": [
        "from distancia import Jaro  # Assuming the Jaro class is in the distancia package\n",
        "\n",
        "def main():\n",
        "    # Create an instance of the Jaro class\n",
        "    jaro = Jaro()\n",
        "\n",
        "    # Example 1: Identical strings\n",
        "    s1 = \"hello\"\n",
        "    s2 = \"hello\"\n",
        "    distance = jaro.calculate(s1, s2)\n",
        "    print(f\"Jaro distance between '{s1}' and '{s2}': {distance}\")\n",
        "\n",
        "    # Example 2: Completely different strings\n",
        "    s1 = \"hello\"\n",
        "    s2 = \"world\"\n",
        "    distance = jaro.calculate(s1, s2)\n",
        "    print(f\"Jaro distance between '{s1}' and '{s2}': {distance}\")\n",
        "\n",
        "    # Example 3: Partially matching strings\n",
        "    s1 = \"dixon\"\n",
        "    s2 = \"dicksonx\"\n",
        "    distance = jaro.calculate(s1, s2)\n",
        "    print(f\"Jaro distance between '{s1}' and '{s2}': {distance}\")\n",
        "\n",
        "    # Example 4: One empty string\n",
        "    s1 = \"\"\n",
        "    s2 = \"nonempty\"\n",
        "    distance = jaro.calculate(s1, s2)\n",
        "    print(f\"Jaro distance between '{s1}' and '{s2}': {distance}\")\n",
        "\n",
        "    # Example 5: Both strings empty\n",
        "    s1 = \"\"\n",
        "    s2 = \"\"\n",
        "    distance = jaro.calculate(s1, s2)\n",
        "    print(f\"Jaro distance between '{s1}' and '{s2}': {distance}\")\n",
        "\n",
        "if __name__ == \"__main__\":\n",
        "    main()"
      ],
      "metadata": {
        "colab": {
          "base_uri": "https://localhost:8080/"
        },
        "id": "5jaUPpPddfH7",
        "outputId": "aecea16d-3eb1-41b0-b11a-10ecae8e8751"
      },
      "execution_count": null,
      "outputs": [
        {
          "output_type": "stream",
          "name": "stdout",
          "text": [
            "Jaro distance between 'hello' and 'hello': 1.0\n",
            "Jaro distance between 'hello' and 'world': 0.4666666666666666\n",
            "Jaro distance between 'dixon' and 'dicksonx': 0.7666666666666666\n",
            "Jaro distance between '' and 'nonempty': 0.0\n",
            "Jaro distance between '' and '': 1.0\n"
          ]
        }
      ]
    },
    {
      "cell_type": "code",
      "source": [
        "from distancia import JaroWinkler  # Assuming the JaroWinkler class is in the distancia package\n",
        "\n",
        "def main():\n",
        "    # Create an instance of the JaroWinkler class\n",
        "    jaro_winkler = JaroWinkler()\n",
        "\n",
        "    # Example 1: Identical strings\n",
        "    s1 = \"hello\"\n",
        "    s2 = \"hello\"\n",
        "    distance = jaro_winkler.calculate(s1, s2)\n",
        "    print(f\"Jaro-Winkler distance between '{s1}' and '{s2}': {distance}\")\n",
        "\n",
        "    # Example 2: Completely different strings\n",
        "    s1 = \"hello\"\n",
        "    s2 = \"world\"\n",
        "    distance = jaro_winkler.calculate(s1, s2)\n",
        "    print(f\"Jaro-Winkler distance between '{s1}' and '{s2}': {distance}\")\n",
        "\n",
        "    # Example 3: Strings with a common prefix\n",
        "    s1 = \"hello\"\n",
        "    s2 = \"hellish\"\n",
        "    distance = jaro_winkler.calculate(s1, s2)\n",
        "    print(f\"Jaro-Winkler distance between '{s1}' and '{s2}': {distance}\")\n",
        "\n",
        "    # Example 4: One string is a prefix of the other\n",
        "    s1 = \"martha\"\n",
        "    s2 = \"marhtax\"\n",
        "    distance = jaro_winkler.calculate(s1, s2)\n",
        "    print(f\"Jaro-Winkler distance between '{s1}' and '{s2}': {distance}\")\n",
        "\n",
        "    # Example 5: Completely dissimilar strings\n",
        "    s1 = \"abc\"\n",
        "    s2 = \"xyz\"\n",
        "    distance = jaro_winkler.calculate(s1, s2)\n",
        "    print(f\"Jaro-Winkler distance between '{s1}' and '{s2}': {distance}\")\n",
        "\n",
        "if __name__ == \"__main__\":\n",
        "    main()"
      ],
      "metadata": {
        "colab": {
          "base_uri": "https://localhost:8080/"
        },
        "id": "duw_y17odlGQ",
        "outputId": "2d98f8df-8ae8-4aa3-c5ef-407b7b4ae2fb"
      },
      "execution_count": null,
      "outputs": [
        {
          "output_type": "stream",
          "name": "stdout",
          "text": [
            "Jaro-Winkler distance between 'hello' and 'hello': 1.0\n",
            "Jaro-Winkler distance between 'hello' and 'world': 0.4666666666666666\n",
            "Jaro-Winkler distance between 'hello' and 'hellish': 0.8742857142857143\n",
            "Jaro-Winkler distance between 'martha' and 'marhtax': 0.9277777777777778\n",
            "Jaro-Winkler distance between 'abc' and 'xyz': 0.0\n"
          ]
        }
      ]
    },
    {
      "cell_type": "code",
      "source": [
        "from distancia import KendallTau  # Assuming the KendallTau class is in the distancia package\n",
        "\n",
        "def main():\n",
        "    # Create an instance of the KendallTau class\n",
        "    kendall_tau = KendallTau()\n",
        "\n",
        "    # Example 1: Identical rankings\n",
        "    ranking1 = [1, 2, 3, 4, 5]\n",
        "    ranking2 = [1, 2, 3, 4, 5]\n",
        "    distance = kendall_tau.calculate(ranking1, ranking2)\n",
        "    print(f\"Kendall Tau distance between {ranking1} and {ranking2}: {distance}\")\n",
        "\n",
        "    # Example 2: Completely reversed rankings\n",
        "    ranking1 = [1, 2, 3, 4, 5]\n",
        "    ranking2 = [5, 4, 3, 2, 1]\n",
        "    distance = kendall_tau.calculate(ranking1, ranking2)\n",
        "    print(f\"Kendall Tau distance between {ranking1} and {ranking2}: {distance}\")\n",
        "\n",
        "    # Example 3: Partially similar rankings\n",
        "    ranking1 = [1, 2, 3, 4, 5]\n",
        "    ranking2 = [1, 3, 2, 4, 5]\n",
        "    distance = kendall_tau.calculate(ranking1, ranking2)\n",
        "    print(f\"Kendall Tau distance between {ranking1} and {ranking2}: {distance}\")\n",
        "\n",
        "    # Example 4: Random rankings\n",
        "    ranking1 = [1, 2, 3, 4, 5]\n",
        "    ranking2 = [3, 1, 4, 5, 2]\n",
        "    distance = kendall_tau.calculate(ranking1, ranking2)\n",
        "    print(f\"Kendall Tau distance between {ranking1} and {ranking2}: {distance}\")\n",
        "\n",
        "if __name__ == \"__main__\":\n",
        "    main()"
      ],
      "metadata": {
        "colab": {
          "base_uri": "https://localhost:8080/"
        },
        "id": "FlcO27WQdsqO",
        "outputId": "816bcd97-4dee-4de6-a08b-a02df676f2ee"
      },
      "execution_count": null,
      "outputs": [
        {
          "output_type": "stream",
          "name": "stdout",
          "text": [
            "Kendall Tau distance between [1, 2, 3, 4, 5] and [1, 2, 3, 4, 5]: 0\n",
            "Kendall Tau distance between [1, 2, 3, 4, 5] and [5, 4, 3, 2, 1]: 10\n",
            "Kendall Tau distance between [1, 2, 3, 4, 5] and [1, 3, 2, 4, 5]: 1\n",
            "Kendall Tau distance between [1, 2, 3, 4, 5] and [3, 1, 4, 5, 2]: 4\n"
          ]
        }
      ]
    },
    {
      "cell_type": "code",
      "source": [
        "from distancia import Bhattacharyya\n",
        "\n",
        "# Define two probability distributions\n",
        "p = [0.1, 0.4, 0.5]\n",
        "q = [0.2, 0.2, 0.6]\n",
        "\n",
        "# Calculate Bhattacharyya Distance\n",
        "distance = Bhattacharyya().calculate(p, q)\n",
        "\n",
        "print(f\"Bhattacharyya Distance: {distance}\")"
      ],
      "metadata": {
        "colab": {
          "base_uri": "https://localhost:8080/"
        },
        "id": "85A1mrS6dzL9",
        "outputId": "86148f8d-e060-4c81-e5ef-4284b0d6b5c3"
      },
      "execution_count": null,
      "outputs": [
        {
          "output_type": "stream",
          "name": "stdout",
          "text": [
            "Bhattacharyya Distance: -0.5569201582094737\n"
          ]
        }
      ]
    },
    {
      "cell_type": "code",
      "source": [
        "from distancia import Mahalanobis\n",
        "\n",
        "# Define the mean vector and covariance matrix of the distribution\n",
        "data = [[2, 1, 0], [2, 3, 4], [3, 4, 5], [4, 5, 6]]\n",
        "# Define the point of interest\n",
        "point = [1, 2, 3]\n",
        "\n",
        "# Create an instance of Mahalanobis\n",
        "distance = Mahalanobis().calculate(point, data)\n",
        "\n",
        "print(f\"Mahalanobis Distance: {distance}\")\n",
        "Mahalanobis().exemple()"
      ],
      "metadata": {
        "colab": {
          "base_uri": "https://localhost:8080/"
        },
        "id": "gJwHFKHIeInT",
        "outputId": "c6128e7c-252f-4944-fcf5-bed2849fe026"
      },
      "execution_count": null,
      "outputs": [
        {
          "output_type": "stream",
          "name": "stdout",
          "text": [
            "Mahalanobis Distance: 2.598076211353316\n",
            "Mahalanobis distance between [1, 2, 3] and [[2, 1, 0], [2, 3, 4], [3, 4, 5], [4, 5, 6]] is 2.60\n"
          ]
        }
      ]
    },
    {
      "cell_type": "code",
      "source": [
        "from distancia import MahalanobisTaguchi  # Assuming the MahalanobisTaguchi class is in the distancia package\n",
        "\n",
        "def main():\n",
        "    # Example reference group data (2D array where each row is a data point)\n",
        "    reference_group = [\n",
        "        [1.0, 2.0, 3.5],\n",
        "        [1.1, 2.1, 2.9],\n",
        "        [0.9, 1.8, 3.1],\n",
        "        [1.2, 2.2, 3.2]\n",
        "    ]\n",
        "\n",
        "    # Example test data (data point to be evaluated against the reference group)\n",
        "    test_data = [1.3, 2.3, 3]\n",
        "\n",
        "    # Create an instance of the MahalanobisTaguchi class\n",
        "    m_taguchi = MahalanobisTaguchi(reference_group)\n",
        "\n",
        "    # Calculate the Mahalanobis-Taguchi distance for the test data\n",
        "    distance = m_taguchi.calculate(test_data)\n",
        "\n",
        "    # Print the result\n",
        "    print(f\"Mahalanobis-Taguchi distance for the test data {test_data} is: {distance}\")\n",
        "\n",
        "if __name__ == \"__main__\":\n",
        "    main()"
      ],
      "metadata": {
        "colab": {
          "base_uri": "https://localhost:8080/"
        },
        "id": "m19c9_J4f3we",
        "outputId": "455efa90-3060-408e-fb9c-97ac76cc73cb"
      },
      "execution_count": 30,
      "outputs": [
        {
          "output_type": "stream",
          "name": "stdout",
          "text": [
            "Mahalanobis-Taguchi distance for the test data [1.3, 2.3, 3] is: None\n"
          ]
        }
      ]
    },
    {
      "cell_type": "code",
      "source": [
        "from distancia import Haversine\n",
        "\n",
        "# Define the coordinates of the two points (latitude, longitude)\n",
        "point1 = (52.2296756, 21.0122287)  # Warsaw, Poland\n",
        "point2 = (41.8919300, 12.5113300)  # Rome, Italy\n",
        "\n",
        "# Create an instance of HaversineDistance\n",
        "haversine = Haversine()\n",
        "\n",
        "# Calculate the Haversine distance\n",
        "distance = haversine.calculate(point1, point2)\n",
        "\n",
        "print(f\"Haversine Distance: {distance} km\")"
      ],
      "metadata": {
        "colab": {
          "base_uri": "https://localhost:8080/"
        },
        "id": "gQfEMlKWh4uC",
        "outputId": "5ac71492-ffb9-4431-fa03-85514ba1cab2"
      },
      "execution_count": 31,
      "outputs": [
        {
          "output_type": "stream",
          "name": "stdout",
          "text": [
            "Haversine Distance: 1327.6302338729174 km\n"
          ]
        }
      ]
    },
    {
      "cell_type": "code",
      "source": [
        "from distancia import Chebyshev\n",
        "\n",
        "# Define the coordinates of the two points\n",
        "point1 = (1, 3, 4)\n",
        "point2 = (4, 7, 1)\n",
        "\n",
        "# Create an instance of ChebyshevDistance\n",
        "chebyshev = Chebyshev()\n",
        "\n",
        "# Calculate the Chebyshev distance\n",
        "distance = chebyshev.calculate(point1, point2)\n",
        "\n",
        "print(f\"Chebyshev Distance: {distance}\")"
      ],
      "metadata": {
        "colab": {
          "base_uri": "https://localhost:8080/"
        },
        "id": "dljZfAYxiKaH",
        "outputId": "0ada7f93-08ff-452d-9dd5-f8eb8fd6bc31"
      },
      "execution_count": 32,
      "outputs": [
        {
          "output_type": "stream",
          "name": "stdout",
          "text": [
            "Chebyshev Distance: 4\n"
          ]
        }
      ]
    },
    {
      "cell_type": "code",
      "source": [
        " from distancia import ContextualDynamicDistance\n",
        "\n",
        " # Feature vectors\n",
        " x = [1.0, 2.0, 3.0]\n",
        " y = [4.0, 5.0, 6.0]\n",
        "\n",
        " # Context vectors\n",
        " context_x = [0.2, 0.3, 0.5]\n",
        " context_y = [0.1, 0.4, 0.6]\n",
        "\n",
        " # Calculate Cosine Similarity\n",
        " similarity = ContextualDynamicDistance().calculate(x,y,context_x, context_y)\n",
        "\n",
        " print(f\"Contextual Dynamic Distance: {similarity}\")"
      ],
      "metadata": {
        "colab": {
          "base_uri": "https://localhost:8080/"
        },
        "id": "YW9GaqI_idRz",
        "outputId": "567535d6-6d89-4303-f341-0912904187c7"
      },
      "execution_count": 35,
      "outputs": [
        {
          "output_type": "stream",
          "name": "stdout",
          "text": [
            "Contextual Dynamic Distance: 5.196152417906096\n"
          ]
        }
      ]
    },
    {
      "cell_type": "code",
      "source": [
        "  # Import the distancia package\n",
        "  from distancia import Canberra\n",
        "\n",
        "  # Define two sample vectors\n",
        "  x = [2, 0, 5, 3]\n",
        "  y = [1, 0, 5, 1]\n",
        "\n",
        "  # Create an instance of the CanberraDistance class (or directly use the function if it is provided)\n",
        "  canberra_dist = Canberra()\n",
        "\n",
        "  # Calculate the distance between the two vectors\n",
        "  distance = canberra_dist.calculate(x, y)\n",
        "\n",
        "  # Print the result\n",
        "  print(f\"The Canberra distance between vectors x and y is: {distance}\")"
      ],
      "metadata": {
        "colab": {
          "base_uri": "https://localhost:8080/"
        },
        "id": "c9EegozfjEYo",
        "outputId": "97d2ce7a-d05f-4643-cfeb-edb8d10193d3"
      },
      "execution_count": 39,
      "outputs": [
        {
          "output_type": "stream",
          "name": "stdout",
          "text": [
            "The Canberra distance between vectors x and y is: 0.8333333333333333\n"
          ]
        }
      ]
    },
    {
      "cell_type": "code",
      "source": [
        "# Import the distancia package\n",
        "from distancia import BrayCurtis\n",
        "\n",
        "# Define two sample vectors representing species abundance in two different samples\n",
        "sample_1 = [2, 0, 3, 1]\n",
        "sample_2 = [1, 1, 2, 0]\n",
        "\n",
        "# Create an instance of the BrayCurti class\n",
        "bray_curtis_dist = BrayCurtis()\n",
        "\n",
        "# Calculate the Bray-Curtis distance between the two samples\n",
        "distance = bray_curtis_dist.calculate(sample_1, sample_2)\n",
        "\n",
        "# Print the result\n",
        "print(f\"The Bray-Curtis distance between the two samples is: {distance}\")"
      ],
      "metadata": {
        "colab": {
          "base_uri": "https://localhost:8080/"
        },
        "id": "Ur38ZbkqkEHQ",
        "outputId": "590b3329-41e2-41e1-9a67-c1802091afb2"
      },
      "execution_count": 40,
      "outputs": [
        {
          "output_type": "stream",
          "name": "stdout",
          "text": [
            "The Bray-Curtis distance between the two samples is: 0.4\n"
          ]
        }
      ]
    },
    {
      "cell_type": "code",
      "source": [
        "from distancia import RogersTanimoto  # Import the RogersTanimoto class from the distancia package\n",
        "\n",
        "def main():\n",
        "    # Define two binary vectors for comparison\n",
        "    vector1 = [1, 0, 1, 1, 0]\n",
        "    vector2 = [1, 1, 0, 1, 1]\n",
        "\n",
        "    # Create an instance of the RogersTanimoto class\n",
        "    rogers_tanimoto_distance = RogersTanimoto()\n",
        "\n",
        "    # Calculate the Rogers-Tanimoto distance\n",
        "    distance = rogers_tanimoto_distance.calculate(vector1, vector2)\n",
        "\n",
        "    # Print the result\n",
        "    print(f\"Rogers-Tanimoto distance between {vector1} and {vector2} is: {distance:.4f}\")\n",
        "\n",
        "if __name__ == \"__main__\":\n",
        "    main()"
      ],
      "metadata": {
        "colab": {
          "base_uri": "https://localhost:8080/"
        },
        "id": "ho8lPUp1kghg",
        "outputId": "e1202162-7618-4356-cc9c-5a9333a585ec"
      },
      "execution_count": 42,
      "outputs": [
        {
          "output_type": "stream",
          "name": "stdout",
          "text": [
            "Rogers-Tanimoto distance between [1, 0, 1, 1, 0] and [1, 1, 0, 1, 1] is: 1.0000\n"
          ]
        }
      ]
    },
    {
      "cell_type": "code",
      "source": [
        "from distancia import RussellRao  # Import the RussellRao class from the distancia package\n",
        "\n",
        "def main():\n",
        "    # Define two binary vectors for comparison\n",
        "    vector1 = [1, 0, 1, 1, 0]\n",
        "    vector2 = [1, 1, 0, 1, 1]\n",
        "\n",
        "    # Create an instance of the RussellRao class\n",
        "    russell_rao_distance = RussellRao()\n",
        "\n",
        "    # Calculate the Russell-Rao distance\n",
        "    distance = russell_rao_distance.calculate(vector1, vector2)\n",
        "\n",
        "    # Print the result\n",
        "    print(f\"Russell-Rao distance between {vector1} and {vector2} is: {distance}\")\n",
        "\n",
        "if __name__ == \"__main__\":\n",
        "    main()"
      ],
      "metadata": {
        "colab": {
          "base_uri": "https://localhost:8080/",
          "height": 305
        },
        "id": "UMdVKtOEky5l",
        "outputId": "c5702894-a89f-4fcf-e9bf-aaddd1427caa"
      },
      "execution_count": 45,
      "outputs": [
        {
          "output_type": "error",
          "ename": "TypeError",
          "evalue": "RussellRao.__init__() missing 2 required positional arguments: 'vector1' and 'vector2'",
          "traceback": [
            "\u001b[0;31m---------------------------------------------------------------------------\u001b[0m",
            "\u001b[0;31mTypeError\u001b[0m                                 Traceback (most recent call last)",
            "\u001b[0;32m<ipython-input-45-6b82c287ba3e>\u001b[0m in \u001b[0;36m<cell line: 17>\u001b[0;34m()\u001b[0m\n\u001b[1;32m     16\u001b[0m \u001b[0;34m\u001b[0m\u001b[0m\n\u001b[1;32m     17\u001b[0m \u001b[0;32mif\u001b[0m \u001b[0m__name__\u001b[0m \u001b[0;34m==\u001b[0m \u001b[0;34m\"__main__\"\u001b[0m\u001b[0;34m:\u001b[0m\u001b[0;34m\u001b[0m\u001b[0;34m\u001b[0m\u001b[0m\n\u001b[0;32m---> 18\u001b[0;31m     \u001b[0mmain\u001b[0m\u001b[0;34m(\u001b[0m\u001b[0;34m)\u001b[0m\u001b[0;34m\u001b[0m\u001b[0;34m\u001b[0m\u001b[0m\n\u001b[0m",
            "\u001b[0;32m<ipython-input-45-6b82c287ba3e>\u001b[0m in \u001b[0;36mmain\u001b[0;34m()\u001b[0m\n\u001b[1;32m      7\u001b[0m \u001b[0;34m\u001b[0m\u001b[0m\n\u001b[1;32m      8\u001b[0m     \u001b[0;31m# Create an instance of the RussellRao class\u001b[0m\u001b[0;34m\u001b[0m\u001b[0;34m\u001b[0m\u001b[0m\n\u001b[0;32m----> 9\u001b[0;31m     \u001b[0mrussell_rao_distance\u001b[0m \u001b[0;34m=\u001b[0m \u001b[0mRussellRao\u001b[0m\u001b[0;34m(\u001b[0m\u001b[0;34m)\u001b[0m\u001b[0;34m\u001b[0m\u001b[0;34m\u001b[0m\u001b[0m\n\u001b[0m\u001b[1;32m     10\u001b[0m \u001b[0;34m\u001b[0m\u001b[0m\n\u001b[1;32m     11\u001b[0m     \u001b[0;31m# Calculate the Russell-Rao distance\u001b[0m\u001b[0;34m\u001b[0m\u001b[0;34m\u001b[0m\u001b[0m\n",
            "\u001b[0;31mTypeError\u001b[0m: RussellRao.__init__() missing 2 required positional arguments: 'vector1' and 'vector2'"
          ]
        }
      ]
    },
    {
      "cell_type": "code",
      "source": [
        "from distancia import SokalMichener  # Import the SokalMichener class from the distancia package\n",
        "\n",
        "def main():\n",
        "    # Define two binary vectors for comparison\n",
        "    vector1 = [1, 0, 1, 1, 0, 0, 1]\n",
        "    vector2 = [1, 1, 0, 1, 0, 0, 1]\n",
        "\n",
        "    # Create an instance of the SokalMichener class\n",
        "    sokal_michener = SokalMichener()\n",
        "\n",
        "    # Calculate the Sokal-Michener distance\n",
        "    distance = sokal_michener.calculate(vector1, vector2)\n",
        "\n",
        "    # Print the result\n",
        "    print(f\"Sokal-Michener distance between {vector1} and {vector2} is: {distance:.4f}\")\n",
        "\n",
        "if __name__ == \"__main__\":\n",
        "    main()"
      ],
      "metadata": {
        "colab": {
          "base_uri": "https://localhost:8080/"
        },
        "id": "oMxHS0JJmI2L",
        "outputId": "2d4b0bac-3894-44f0-a769-e3c96c729d99"
      },
      "execution_count": 47,
      "outputs": [
        {
          "output_type": "stream",
          "name": "stdout",
          "text": [
            "Sokal-Michener distance between [1, 0, 1, 1, 0, 0, 1] and [1, 1, 0, 1, 0, 0, 1] is: 0.2857\n"
          ]
        }
      ]
    },
    {
      "cell_type": "code",
      "source": [
        "from distancia import SokalSneath  # Import the SokalSneath class from the distancia package\n",
        "\n",
        "def main():\n",
        "    # Define two binary vectors for comparison\n",
        "    vector1 = [1, 0, 1, 1, 0, 0, 1]\n",
        "    vector2 = [1, 1, 0, 1, 0, 0, 1]\n",
        "\n",
        "    # Create an instance of the SokalSneath class\n",
        "    sokal_sneath = SokalSneath()\n",
        "\n",
        "    # Calculate the Sokal-Sneath distance\n",
        "    distance = sokal_sneath.calculate(vector1, vector2)\n",
        "\n",
        "    # Print the result\n",
        "    print(f\"Sokal-Sneath distance between {vector1} and {vector2} is: {distance:.4f}\")\n",
        "\n",
        "if __name__ == \"__main__\":\n",
        "    main()"
      ],
      "metadata": {
        "colab": {
          "base_uri": "https://localhost:8080/"
        },
        "id": "yUpk4eoVmVE8",
        "outputId": "caf1cb6b-8b5a-455b-e3c5-12ae2645c529"
      },
      "execution_count": 49,
      "outputs": [
        {
          "output_type": "stream",
          "name": "stdout",
          "text": [
            "Sokal-Sneath distance between [1, 0, 1, 1, 0, 0, 1] and [1, 1, 0, 1, 0, 0, 1] is: 0.6000\n"
          ]
        }
      ]
    },
    {
      "cell_type": "code",
      "source": [
        "from distancia import DamerauLevenshtein\n",
        "\n",
        "def test_damerau_levenshtein():\n",
        "    # Create an instance of the DamerauLevenshtein class\n",
        "    distance_calculator = DamerauLevenshtein()\n",
        "\n",
        "    # Test cases: Pairs of strings to compare\n",
        "    test_cases = [\n",
        "        (\"kitten\", \"sitting\"),\n",
        "        (\"flaw\", \"lawn\"),\n",
        "        (\"saturday\", \"sundays\"),\n",
        "        (\"gumbo\", \"gambol\"),\n",
        "        (\"ca\", \"abc\"),\n",
        "    ]\n",
        "\n",
        "    # Iterate through the test cases and compute the distance\n",
        "    for str1, str2 in test_cases:\n",
        "        distance = distance_calculator.calculate(str1, str2)\n",
        "        print(f\"Damerau-Levenshtein distance between '{str1}' and '{str2}': {distance}\")\n",
        "\n",
        "if __name__ == \"__main__\":\n",
        "    # Run the test function\n",
        "    test_damerau_levenshtein()"
      ],
      "metadata": {
        "colab": {
          "base_uri": "https://localhost:8080/"
        },
        "id": "EccHsyy_mpU4",
        "outputId": "d855bcdf-d58e-48d8-e72f-faf8c0b9cea3"
      },
      "execution_count": 51,
      "outputs": [
        {
          "output_type": "stream",
          "name": "stdout",
          "text": [
            "Damerau-Levenshtein distance between 'kitten' and 'sitting': 3\n",
            "Damerau-Levenshtein distance between 'flaw' and 'lawn': 2\n",
            "Damerau-Levenshtein distance between 'saturday' and 'sundays': 4\n",
            "Damerau-Levenshtein distance between 'gumbo' and 'gambol': 2\n",
            "Damerau-Levenshtein distance between 'ca' and 'abc': 3\n"
          ]
        }
      ]
    },
    {
      "cell_type": "code",
      "source": [
        "from distancia import SorensenDice\n",
        "\n",
        "# Define two binary sets\n",
        "str1 = \"night\"\n",
        "str2 = \"nacht\"\n",
        "\n",
        "# Calculate SørensenDice Distance\n",
        "distance = SorensenDice().calculate(str1, str2)\n",
        "print(f\"Sørensen Dice Distance: {distance}\")"
      ],
      "metadata": {
        "colab": {
          "base_uri": "https://localhost:8080/"
        },
        "id": "gfOI5cNwnCew",
        "outputId": "fbe5431f-fdc0-427c-f045-32c1908037da"
      },
      "execution_count": 57,
      "outputs": [
        {
          "output_type": "stream",
          "name": "stdout",
          "text": [
            "Sørensen Dice Distance: 0.75\n"
          ]
        }
      ]
    },
    {
      "cell_type": "code",
      "source": [
        "# Import the Wasserstein class from the distancia package\n",
        "from distancia import Wasserstein\n",
        "\n",
        "def main():\n",
        "    # Define two discrete probability distributions\n",
        "    distribution1 = [0.1, 0.4, 0.5]\n",
        "    distribution2 = [0.2, 0.3, 0.5]\n",
        "\n",
        "    # Create an instance of the Wasserstein class\n",
        "    wasserstein = Wasserstein()\n",
        "\n",
        "    # Calculate the Wasserstein distance between the two distributions\n",
        "    distance = wasserstein.calculate(distribution1, distribution2)\n",
        "\n",
        "    # Print the calculated distance\n",
        "    print(f\"Wasserstein distance between the distributions: {distance:.4f}\")\n",
        "\n",
        "if __name__ == \"__main__\":\n",
        "    main()"
      ],
      "metadata": {
        "colab": {
          "base_uri": "https://localhost:8080/"
        },
        "id": "5REMZRBSpSM9",
        "outputId": "d74875d1-98d2-4678-df2a-2f4719d93da2"
      },
      "execution_count": 59,
      "outputs": [
        {
          "output_type": "stream",
          "name": "stdout",
          "text": [
            "Wasserstein distance between the distributions: 0.1000\n"
          ]
        }
      ]
    },
    {
      "cell_type": "code",
      "source": [
        "from distancia import Gower\n",
        "\n",
        "# Create an instance of the Gower class\n",
        "gower = Gower()\n",
        "\n",
        "# Test cases: pairs of data points with mixed types (numerical and categorical)\n",
        "test_cases = [\n",
        "    ([\"Red\", 3.2, 5], [\"Blue\", 4.1, 3], [None, 5.0, 10]),\n",
        "    ([5.5, \"M\", 200], [6.1, \"F\", 180], [10, None, 50]),\n",
        "    ([0, \"High\", 10], [1, \"Low\", 10], [1, None, 10]),\n",
        "    ([100, \"Yes\", 3.5], [150, \"No\", 2.8], [50, None, 5]),\n",
        "    ([1.5, \"Green\", 2], [1.5, \"Green\", 2], [None, None, None])\n",
        "]\n",
        "\n",
        "# Compute and print the Gower similarity for each pair\n",
        "for vec1, vec2, ranges in test_cases:\n",
        "    similarity = gower.calculate(vec1, vec2, ranges)\n",
        "    print(f\"Gower similarity between {vec1} and {vec2}: {similarity:.4f}\")"
      ],
      "metadata": {
        "colab": {
          "base_uri": "https://localhost:8080/"
        },
        "id": "8vfjpoJOpmJC",
        "outputId": "08d8df7c-458f-4f02-f083-f596edbc4752"
      },
      "execution_count": 60,
      "outputs": [
        {
          "output_type": "stream",
          "name": "stdout",
          "text": [
            "Gower similarity between ['Red', 3.2, 5] and ['Blue', 4.1, 3]: 0.5400\n",
            "Gower similarity between [5.5, 'M', 200] and [6.1, 'F', 180]: 0.5133\n",
            "Gower similarity between [0, 'High', 10] and [1, 'Low', 10]: 0.3333\n",
            "Gower similarity between [100, 'Yes', 3.5] and [150, 'No', 2.8]: 0.2867\n",
            "Gower similarity between [1.5, 'Green', 2] and [1.5, 'Green', 2]: 1.0000\n"
          ]
        }
      ]
    },
    {
      "cell_type": "code",
      "source": [
        "from distancia import CzekanowskiDice\n",
        "\n",
        "# Define two vector\n",
        "set1 = [1.3, 0, 1, 1]\n",
        "set2 = [1, 1, 0, 1]\n",
        "\n",
        "# Calculate Dice Distance\n",
        "similarity = CzekanowskiDice().calculate(set1, set2)\n",
        "\n",
        "print(f\"Czekanowski Dice similarity: {similarity}\")"
      ],
      "metadata": {
        "colab": {
          "base_uri": "https://localhost:8080/"
        },
        "id": "Es6oKt5Mpq3K",
        "outputId": "800bc602-3be3-41b6-e564-a966e66ad9fc"
      },
      "execution_count": 61,
      "outputs": [
        {
          "output_type": "stream",
          "name": "stdout",
          "text": [
            "Czekanowski Dice similarity: 0.3650793650793651\n"
          ]
        }
      ]
    },
    {
      "cell_type": "code",
      "source": [
        "# Import the distancia package\n",
        "from distancia import Hellinger\n",
        "\n",
        "# Define two probability distributions\n",
        "distribution_1 = [0.2, 0.3, 0.1, 0.4]\n",
        "distribution_2 = [0.1, 0.4, 0.2, 0.3]\n",
        "\n",
        "# Create an instance of the Hellinger class\n",
        "hellinger_dist = Hellinger()\n",
        "\n",
        "# Calculate the Hellinger distance between the two distributions\n",
        "distance = hellinger_dist.calculate(distribution_1, distribution_2)\n",
        "\n",
        "# Print the result\n",
        "print(f\"The Hellinger distance between the two distributions is: {distance}\")"
      ],
      "metadata": {
        "colab": {
          "base_uri": "https://localhost:8080/"
        },
        "id": "rJ4tDAGqpwE0",
        "outputId": "a94cc2ef-a7ec-4534-d4de-a8a01ece3133"
      },
      "execution_count": 63,
      "outputs": [
        {
          "output_type": "stream",
          "name": "stdout",
          "text": [
            "The Hellinger distance between the two distributions is: 0.15600309130857015\n"
          ]
        }
      ]
    },
    {
      "cell_type": "code",
      "source": [
        "# Import the distancia package\n",
        "from distancia import MotzkinStraus\n",
        "\n",
        "# Define two vectors\n",
        "vector_1 = [1, 2, 3, 4]\n",
        "vector_2 = [4, 3, 2, 1]\n",
        "\n",
        "# Create an instance of the MotzkinStraus class\n",
        "motzkin_straus_dist = MotzkinStraus()\n",
        "\n",
        "# Calculate the Motzkin-Straus distance between the two vectors\n",
        "distance = motzkin_straus_dist.calculate(vector_1, vector_2)\n",
        "\n",
        "# Print the result\n",
        "print(f\"The Motzkin-Straus distance between the two vectors is: {distance}\")"
      ],
      "metadata": {
        "colab": {
          "base_uri": "https://localhost:8080/"
        },
        "id": "GTJX5i1fp9OB",
        "outputId": "5de895dd-b6c1-4df2-952d-f492383af977"
      },
      "execution_count": 65,
      "outputs": [
        {
          "output_type": "stream",
          "name": "stdout",
          "text": [
            "The Motzkin-Straus distance between the two vectors is: 9.47213595499958\n"
          ]
        }
      ]
    },
    {
      "cell_type": "code",
      "source": [
        "# Import the distancia package\n",
        "from distancia import EnhancedRogersTanimoto\n",
        "\n",
        "# Define two binary vectors\n",
        "vector_1 = [1, 0, 1, 1, 0]\n",
        "vector_2 = [1, 1, 1, 0, 0]\n",
        "alpha    = 1.5\n",
        "# Create an instance of the EnhancedRogersTanimoto class with specific weights\n",
        "enhanced_rt_dist = EnhancedRogersTanimoto()\n",
        "\n",
        "# Calculate the Enhanced Rogers-Tanimoto distance between the two vectors\n",
        "distance = enhanced_rt_dist.calculate(vector_1, vector_2,alpha)\n",
        "\n",
        "# Print the result\n",
        "print(f\"The Enhanced Rogers-Tanimoto distance between the two vectors is: {distance}\")"
      ],
      "metadata": {
        "colab": {
          "base_uri": "https://localhost:8080/"
        },
        "id": "7YhG5UmyqW8l",
        "outputId": "8bb31649-af35-4108-f2ae-f676c2cc9748"
      },
      "execution_count": 70,
      "outputs": [
        {
          "output_type": "stream",
          "name": "stdout",
          "text": [
            "The Enhanced Rogers-Tanimoto distance between the two vectors is: 0.6153846153846154\n"
          ]
        }
      ]
    },
    {
      "cell_type": "code",
      "source": [
        "from distancia import KullbackLeibler\n",
        "# Example probability distributions\n",
        "p = [0.1, 0.4, 0.5]  # True distribution\n",
        "q = [0.2, 0.3, 0.5]  # Predicted distribution\n",
        "\n",
        "# Create an instance of KullbackLeiblerLoss\n",
        "kl_loss = KullbackLeibler()\n",
        "\n",
        "# Calculate the KL divergence\n",
        "kl_value = kl_loss(p, q)\n",
        "print(f'Kullback-Leibler Divergence: {kl_value}')"
      ],
      "metadata": {
        "colab": {
          "base_uri": "https://localhost:8080/"
        },
        "id": "G02FXcQZtkZI",
        "outputId": "86cb00c0-3ee0-48af-892d-7867ea69a97e"
      },
      "execution_count": 71,
      "outputs": [
        {
          "output_type": "stream",
          "name": "stdout",
          "text": [
            "Kullback-Leibler Divergence: 0.5896687386422741\n"
          ]
        }
      ]
    }
  ]
}