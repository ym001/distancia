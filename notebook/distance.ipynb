{
  "nbformat": 4,
  "nbformat_minor": 0,
  "metadata": {
    "colab": {
      "provenance": [],
      "authorship_tag": "ABX9TyMe1s22T2zYaAE0DCaKDmyv",
      "include_colab_link": true
    },
    "kernelspec": {
      "name": "python3",
      "display_name": "Python 3"
    },
    "language_info": {
      "name": "python"
    }
  },
  "cells": [
    {
      "cell_type": "markdown",
      "metadata": {
        "id": "view-in-github",
        "colab_type": "text"
      },
      "source": [
        "<a href=\"https://colab.research.google.com/github/ym001/distancia/blob/master/notebook/distance.ipynb\" target=\"_parent\"><img src=\"https://colab.research.google.com/assets/colab-badge.svg\" alt=\"Open In Colab\"/></a>"
      ]
    },
    {
      "cell_type": "code",
      "execution_count": 9,
      "metadata": {
        "colab": {
          "base_uri": "https://localhost:8080/"
        },
        "id": "0_In3n0AbwGL",
        "outputId": "6ba7282b-2674-4ccd-ff1c-f7d9b9905eff"
      },
      "outputs": [
        {
          "output_type": "stream",
          "name": "stdout",
          "text": [
            "Requirement already satisfied: distancia==0.0.33 in /usr/local/lib/python3.10/dist-packages (0.0.33)\n"
          ]
        }
      ],
      "source": [
        "!pip install distancia==0.0.33"
      ]
    },
    {
      "cell_type": "code",
      "source": [
        "from distancia import Euclidean\n",
        "\n",
        "point1 = [1, 2, 3]\n",
        "point2 = [4, 5, 6]\n",
        "\n",
        "# Create an instance of Euclidean\n",
        "euclidean = Euclidean()\n",
        "\n",
        "# Calculate the Euclidean distance\n",
        "distance = euclidean.calculate(point1, point2)\n",
        "\n",
        "print(f\"Euclidean Distance: {distance}\")"
      ],
      "metadata": {
        "colab": {
          "base_uri": "https://localhost:8080/"
        },
        "id": "agpZBZJn9RDk",
        "outputId": "ba043972-0339-4461-8c88-74d7d86ace7b"
      },
      "execution_count": 10,
      "outputs": [
        {
          "output_type": "stream",
          "name": "stdout",
          "text": [
            "Euclidean Distance: 5.196152422706632\n"
          ]
        }
      ]
    },
    {
      "cell_type": "code",
      "source": [
        "from distancia import Levenshtein\n",
        "\n",
        "string1 = \"kitten\"\n",
        "string2 = \"sitting\"\n",
        "\n",
        "distance = Levenshtein().calculate(string1, string2)\n",
        "print(f\"Levenshtein Distance: {distance}\")"
      ],
      "metadata": {
        "colab": {
          "base_uri": "https://localhost:8080/"
        },
        "id": "QL2jN1ul94cA",
        "outputId": "65d05f16-e64a-47ff-e0ae-507798f4da3e"
      },
      "execution_count": 11,
      "outputs": [
        {
          "output_type": "stream",
          "name": "stdout",
          "text": [
            "Levenshtein Distance: 3\n"
          ]
        }
      ]
    },
    {
      "cell_type": "code",
      "source": [
        "from distancia import Euclidean\n",
        "\n",
        "# Define two points in 3D space\n",
        "point1 = [2, 3, 5]\n",
        "point2 = [7, 1, 9]\n",
        "\n",
        "# Calculate Euclidean Distance\n",
        "distance = Euclidean().calculate(point1, point2)\n",
        "\n",
        "print(f\"Euclidean Distance: {distance}\")"
      ],
      "metadata": {
        "colab": {
          "base_uri": "https://localhost:8080/"
        },
        "id": "Dw3fmGZMb_Ee",
        "outputId": "b58355b8-982a-4b28-f451-a288fdd3801b"
      },
      "execution_count": 12,
      "outputs": [
        {
          "output_type": "stream",
          "name": "stdout",
          "text": [
            "Euclidean Distance: 6.708203932499369\n"
          ]
        }
      ]
    },
    {
      "cell_type": "code",
      "source": [
        "from distancia import Manhattan\n",
        "\n",
        "# Define two points\n",
        "point1 = [1, 2, 3]\n",
        "point2 = [4, 6, 3]\n",
        "\n",
        "# Calculate Manhattan Distance\n",
        "distance = Manhattan().calculate(point1, point2)\n",
        "\n",
        "print(f\"Manhattan Distance: {distance}\")"
      ],
      "metadata": {
        "colab": {
          "base_uri": "https://localhost:8080/"
        },
        "id": "v_9QEC3scWG9",
        "outputId": "80e80d37-ce0e-40c0-830d-46b81a352831"
      },
      "execution_count": 13,
      "outputs": [
        {
          "output_type": "stream",
          "name": "stdout",
          "text": [
            "Manhattan Distance: 7\n"
          ]
        }
      ]
    },
    {
      "cell_type": "code",
      "source": [
        "from distancia import Hamming\n",
        "\n",
        "# Define two binary strings\n",
        "binary_string1 = '1101001'\n",
        "binary_string2 = '1001101'\n",
        "\n",
        "# Calculate Hamming Distance\n",
        "distance = Hamming().calculate(binary_string1, binary_string2)\n",
        "\n",
        "print(f\"Hamming Distance: {distance}\")"
      ],
      "metadata": {
        "colab": {
          "base_uri": "https://localhost:8080/"
        },
        "id": "rlgOpPIicpjO",
        "outputId": "c8dac4ca-b8bf-4ef3-e90e-b1e408edc223"
      },
      "execution_count": 14,
      "outputs": [
        {
          "output_type": "stream",
          "name": "stdout",
          "text": [
            "Hamming Distance: 2\n"
          ]
        }
      ]
    },
    {
      "cell_type": "code",
      "source": [
        "from distancia import Levenshtein\n",
        "\n",
        "# Define two strings\n",
        "str1 = \"kitten\"\n",
        "str2 = \"sitting\"\n",
        "\n",
        "# Calculate Levenshtein Distance\n",
        "distance = Levenshtein().calculate(str1, str2)\n",
        "\n",
        "print(f\"Levenshtein Distance: {distance}\")"
      ],
      "metadata": {
        "colab": {
          "base_uri": "https://localhost:8080/"
        },
        "id": "YqHDZzEgc6__",
        "outputId": "70b3690d-9498-41a2-aad5-ef4ac0668942"
      },
      "execution_count": 15,
      "outputs": [
        {
          "output_type": "stream",
          "name": "stdout",
          "text": [
            "Levenshtein Distance: 3\n"
          ]
        }
      ]
    },
    {
      "cell_type": "code",
      "source": [
        "from distancia import RatcliffObershelp  # Import the RatcliffObershelp class from the distancia package\n",
        "\n",
        "def main():\n",
        "    # Define two strings for comparison\n",
        "    string1 = \"example string for comparison\"\n",
        "    string2 = \"example string for comparision\"\n",
        "\n",
        "    # Create an instance of the RatcliffObershelp class\n",
        "    ratcliff_obershelp_distance = RatcliffObershelp()\n",
        "\n",
        "    # Calculate the Ratcliff/Obershelp distance\n",
        "    distance = ratcliff_obershelp_distance.calculate(string1, string2)\n",
        "\n",
        "    # Print the result\n",
        "    print(f\"Ratcliff/Obershelp distance between '{string1}' and '{string2}' is: {distance:.4f}\")\n",
        "\n",
        "if __name__ == \"__main__\":\n",
        "    main()"
      ],
      "metadata": {
        "colab": {
          "base_uri": "https://localhost:8080/"
        },
        "id": "sKZCfvbjdJ6R",
        "outputId": "5da9d144-d0f0-4f2a-89e5-b872a8acb048"
      },
      "execution_count": 16,
      "outputs": [
        {
          "output_type": "stream",
          "name": "stdout",
          "text": [
            "Ratcliff/Obershelp distance between 'example string for comparison' and 'example string for comparision' is: 0.0169\n"
          ]
        }
      ]
    },
    {
      "cell_type": "code",
      "source": [
        "from distancia import Jaro  # Assuming the Jaro class is in the distancia package\n",
        "\n",
        "def main():\n",
        "    # Create an instance of the Jaro class\n",
        "    jaro = Jaro()\n",
        "\n",
        "    # Example 1: Identical strings\n",
        "    s1 = \"hello\"\n",
        "    s2 = \"hello\"\n",
        "    distance = jaro.calculate(s1, s2)\n",
        "    print(f\"Jaro distance between '{s1}' and '{s2}': {distance}\")\n",
        "\n",
        "    # Example 2: Completely different strings\n",
        "    s1 = \"hello\"\n",
        "    s2 = \"world\"\n",
        "    distance = jaro.calculate(s1, s2)\n",
        "    print(f\"Jaro distance between '{s1}' and '{s2}': {distance}\")\n",
        "\n",
        "    # Example 3: Partially matching strings\n",
        "    s1 = \"dixon\"\n",
        "    s2 = \"dicksonx\"\n",
        "    distance = jaro.calculate(s1, s2)\n",
        "    print(f\"Jaro distance between '{s1}' and '{s2}': {distance}\")\n",
        "\n",
        "    # Example 4: One empty string\n",
        "    s1 = \"\"\n",
        "    s2 = \"nonempty\"\n",
        "    distance = jaro.calculate(s1, s2)\n",
        "    print(f\"Jaro distance between '{s1}' and '{s2}': {distance}\")\n",
        "\n",
        "    # Example 5: Both strings empty\n",
        "    s1 = \"\"\n",
        "    s2 = \"\"\n",
        "    distance = jaro.calculate(s1, s2)\n",
        "    print(f\"Jaro distance between '{s1}' and '{s2}': {distance}\")\n",
        "\n",
        "if __name__ == \"__main__\":\n",
        "    main()"
      ],
      "metadata": {
        "colab": {
          "base_uri": "https://localhost:8080/"
        },
        "id": "5jaUPpPddfH7",
        "outputId": "cc6ac862-aa82-47b9-a742-8cdb27d0ca89"
      },
      "execution_count": 17,
      "outputs": [
        {
          "output_type": "stream",
          "name": "stdout",
          "text": [
            "Jaro distance between 'hello' and 'hello': 1.0\n",
            "Jaro distance between 'hello' and 'world': 0.4666666666666666\n",
            "Jaro distance between 'dixon' and 'dicksonx': 0.7666666666666666\n",
            "Jaro distance between '' and 'nonempty': 0.0\n",
            "Jaro distance between '' and '': 1.0\n"
          ]
        }
      ]
    },
    {
      "cell_type": "code",
      "source": [
        "from distancia import JaroWinkler  # Assuming the JaroWinkler class is in the distancia package\n",
        "\n",
        "def main():\n",
        "    # Create an instance of the JaroWinkler class\n",
        "    jaro_winkler = JaroWinkler()\n",
        "\n",
        "    # Example 1: Identical strings\n",
        "    s1 = \"hello\"\n",
        "    s2 = \"hello\"\n",
        "    distance = jaro_winkler.calculate(s1, s2)\n",
        "    print(f\"Jaro-Winkler distance between '{s1}' and '{s2}': {distance}\")\n",
        "\n",
        "    # Example 2: Completely different strings\n",
        "    s1 = \"hello\"\n",
        "    s2 = \"world\"\n",
        "    distance = jaro_winkler.calculate(s1, s2)\n",
        "    print(f\"Jaro-Winkler distance between '{s1}' and '{s2}': {distance}\")\n",
        "\n",
        "    # Example 3: Strings with a common prefix\n",
        "    s1 = \"hello\"\n",
        "    s2 = \"hellish\"\n",
        "    distance = jaro_winkler.calculate(s1, s2)\n",
        "    print(f\"Jaro-Winkler distance between '{s1}' and '{s2}': {distance}\")\n",
        "\n",
        "    # Example 4: One string is a prefix of the other\n",
        "    s1 = \"martha\"\n",
        "    s2 = \"marhtax\"\n",
        "    distance = jaro_winkler.calculate(s1, s2)\n",
        "    print(f\"Jaro-Winkler distance between '{s1}' and '{s2}': {distance}\")\n",
        "\n",
        "    # Example 5: Completely dissimilar strings\n",
        "    s1 = \"abc\"\n",
        "    s2 = \"xyz\"\n",
        "    distance = jaro_winkler.calculate(s1, s2)\n",
        "    print(f\"Jaro-Winkler distance between '{s1}' and '{s2}': {distance}\")\n",
        "\n",
        "if __name__ == \"__main__\":\n",
        "    main()"
      ],
      "metadata": {
        "colab": {
          "base_uri": "https://localhost:8080/"
        },
        "id": "duw_y17odlGQ",
        "outputId": "25f1e19e-743c-4830-ae33-659fd5884465"
      },
      "execution_count": 18,
      "outputs": [
        {
          "output_type": "stream",
          "name": "stdout",
          "text": [
            "Jaro-Winkler distance between 'hello' and 'hello': 1.0\n",
            "Jaro-Winkler distance between 'hello' and 'world': 0.4666666666666666\n",
            "Jaro-Winkler distance between 'hello' and 'hellish': 0.8742857142857143\n",
            "Jaro-Winkler distance between 'martha' and 'marhtax': 0.9277777777777778\n",
            "Jaro-Winkler distance between 'abc' and 'xyz': 0.0\n"
          ]
        }
      ]
    },
    {
      "cell_type": "code",
      "source": [
        "from distancia import KendallTau  # Assuming the KendallTau class is in the distancia package\n",
        "\n",
        "def main():\n",
        "    # Create an instance of the KendallTau class\n",
        "    kendall_tau = KendallTau()\n",
        "\n",
        "    # Example 1: Identical rankings\n",
        "    ranking1 = [1, 2, 3, 4, 5]\n",
        "    ranking2 = [1, 2, 3, 4, 5]\n",
        "    distance = kendall_tau.calculate(ranking1, ranking2)\n",
        "    print(f\"Kendall Tau distance between {ranking1} and {ranking2}: {distance}\")\n",
        "\n",
        "    # Example 2: Completely reversed rankings\n",
        "    ranking1 = [1, 2, 3, 4, 5]\n",
        "    ranking2 = [5, 4, 3, 2, 1]\n",
        "    distance = kendall_tau.calculate(ranking1, ranking2)\n",
        "    print(f\"Kendall Tau distance between {ranking1} and {ranking2}: {distance}\")\n",
        "\n",
        "    # Example 3: Partially similar rankings\n",
        "    ranking1 = [1, 2, 3, 4, 5]\n",
        "    ranking2 = [1, 3, 2, 4, 5]\n",
        "    distance = kendall_tau.calculate(ranking1, ranking2)\n",
        "    print(f\"Kendall Tau distance between {ranking1} and {ranking2}: {distance}\")\n",
        "\n",
        "    # Example 4: Random rankings\n",
        "    ranking1 = [1, 2, 3, 4, 5]\n",
        "    ranking2 = [3, 1, 4, 5, 2]\n",
        "    distance = kendall_tau.calculate(ranking1, ranking2)\n",
        "    print(f\"Kendall Tau distance between {ranking1} and {ranking2}: {distance}\")\n",
        "\n",
        "if __name__ == \"__main__\":\n",
        "    main()"
      ],
      "metadata": {
        "colab": {
          "base_uri": "https://localhost:8080/"
        },
        "id": "FlcO27WQdsqO",
        "outputId": "1bfb9c8a-e86d-4053-f3d2-053d21533a4e"
      },
      "execution_count": 19,
      "outputs": [
        {
          "output_type": "stream",
          "name": "stdout",
          "text": [
            "Kendall Tau distance between [1, 2, 3, 4, 5] and [1, 2, 3, 4, 5]: 0\n",
            "Kendall Tau distance between [1, 2, 3, 4, 5] and [5, 4, 3, 2, 1]: 10\n",
            "Kendall Tau distance between [1, 2, 3, 4, 5] and [1, 3, 2, 4, 5]: 1\n",
            "Kendall Tau distance between [1, 2, 3, 4, 5] and [3, 1, 4, 5, 2]: 4\n"
          ]
        }
      ]
    },
    {
      "cell_type": "code",
      "source": [
        "from distancia import Bhattacharyya\n",
        "\n",
        "# Define two probability distributions\n",
        "p = [0.1, 0.4, 0.5]\n",
        "q = [0.2, 0.2, 0.6]\n",
        "\n",
        "# Calculate Bhattacharyya Distance\n",
        "distance = Bhattacharyya().calculate(p, q)\n",
        "\n",
        "print(f\"Bhattacharyya Distance: {distance}\")"
      ],
      "metadata": {
        "colab": {
          "base_uri": "https://localhost:8080/"
        },
        "id": "85A1mrS6dzL9",
        "outputId": "45a86b35-97c0-4c45-bd03-35f34480d2a7"
      },
      "execution_count": 20,
      "outputs": [
        {
          "output_type": "stream",
          "name": "stdout",
          "text": [
            "Bhattacharyya Distance: -0.5569201582094737\n"
          ]
        }
      ]
    },
    {
      "cell_type": "code",
      "source": [
        "from distancia import Mahalanobis\n",
        "\n",
        "# Define the mean vector and covariance matrix of the distribution\n",
        "data = [[2, 1, 0], [2, 3, 4], [3, 4, 5], [4, 5, 6]]\n",
        "# Define the point of interest\n",
        "point = [1, 2, 3]\n",
        "\n",
        "# Create an instance of Mahalanobis\n",
        "distance = Mahalanobis().calculate(point, data)\n",
        "\n",
        "print(f\"Mahalanobis Distance: {distance}\")\n",
        "Mahalanobis().exemple()"
      ],
      "metadata": {
        "colab": {
          "base_uri": "https://localhost:8080/"
        },
        "id": "gJwHFKHIeInT",
        "outputId": "82c83829-f87d-4ecf-f29c-b3b35d805484"
      },
      "execution_count": 21,
      "outputs": [
        {
          "output_type": "stream",
          "name": "stdout",
          "text": [
            "Mahalanobis Distance: 2.598076211353316\n",
            "Mahalanobis distance between [1, 2, 3] and [[2, 1, 0], [2, 3, 4], [3, 4, 5], [4, 5, 6]] is 2.60\n"
          ]
        }
      ]
    },
    {
      "cell_type": "code",
      "source": [
        "from distancia import MahalanobisTaguchi  # Assuming the MahalanobisTaguchi class is in the distancia package\n",
        "\n",
        "def main():\n",
        "    # Example reference group data (2D array where each row is a data point)\n",
        "    reference_group = [\n",
        "        [1.0, 2.0, 3.5],\n",
        "        [1.1, 2.1, 2.9],\n",
        "        [0.9, 1.8, 3.1],\n",
        "        [1.2, 2.2, 3.2]\n",
        "    ]\n",
        "\n",
        "    # Example test data (data point to be evaluated against the reference group)\n",
        "    test_data = [1.3, 2.3, 3]\n",
        "\n",
        "    # Create an instance of the MahalanobisTaguchi class\n",
        "    m_taguchi = MahalanobisTaguchi(reference_group)\n",
        "\n",
        "    # Calculate the Mahalanobis-Taguchi distance for the test data\n",
        "    distance = m_taguchi.calculate(test_data)\n",
        "\n",
        "    # Print the result\n",
        "    print(f\"Mahalanobis-Taguchi distance for the test data {test_data} is: {distance}\")\n",
        "\n",
        "if __name__ == \"__main__\":\n",
        "    main()"
      ],
      "metadata": {
        "colab": {
          "base_uri": "https://localhost:8080/"
        },
        "id": "m19c9_J4f3we",
        "outputId": "fdf96b2b-2f0d-463c-8b80-31c5bf09435a"
      },
      "execution_count": 22,
      "outputs": [
        {
          "output_type": "stream",
          "name": "stdout",
          "text": [
            "Mahalanobis-Taguchi distance for the test data [1.3, 2.3, 3] is: None\n"
          ]
        }
      ]
    },
    {
      "cell_type": "code",
      "source": [
        "from distancia import Haversine\n",
        "\n",
        "# Define the coordinates of the two points (latitude, longitude)\n",
        "point1 = (52.2296756, 21.0122287)  # Warsaw, Poland\n",
        "point2 = (41.8919300, 12.5113300)  # Rome, Italy\n",
        "\n",
        "# Create an instance of HaversineDistance\n",
        "haversine = Haversine()\n",
        "\n",
        "# Calculate the Haversine distance\n",
        "distance = haversine.calculate(point1, point2)\n",
        "\n",
        "print(f\"Haversine Distance: {distance} km\")"
      ],
      "metadata": {
        "colab": {
          "base_uri": "https://localhost:8080/"
        },
        "id": "gQfEMlKWh4uC",
        "outputId": "3e109f89-ae32-4562-acee-e732532a6e56"
      },
      "execution_count": 23,
      "outputs": [
        {
          "output_type": "stream",
          "name": "stdout",
          "text": [
            "Haversine Distance: 1327.6302338729174 km\n"
          ]
        }
      ]
    },
    {
      "cell_type": "code",
      "source": [
        "from distancia import Chebyshev\n",
        "\n",
        "# Define the coordinates of the two points\n",
        "point1 = (1, 3, 4)\n",
        "point2 = (4, 7, 1)\n",
        "\n",
        "# Create an instance of ChebyshevDistance\n",
        "chebyshev = Chebyshev()\n",
        "\n",
        "# Calculate the Chebyshev distance\n",
        "distance = chebyshev.calculate(point1, point2)\n",
        "\n",
        "print(f\"Chebyshev Distance: {distance}\")"
      ],
      "metadata": {
        "colab": {
          "base_uri": "https://localhost:8080/"
        },
        "id": "dljZfAYxiKaH",
        "outputId": "f921ccc5-af7b-435d-c4fd-61c3e17e540a"
      },
      "execution_count": 24,
      "outputs": [
        {
          "output_type": "stream",
          "name": "stdout",
          "text": [
            "Chebyshev Distance: 4\n"
          ]
        }
      ]
    },
    {
      "cell_type": "code",
      "source": [
        " from distancia import ContextualDynamicDistance\n",
        "\n",
        " # Feature vectors\n",
        " x = [1.0, 2.0, 3.0]\n",
        " y = [4.0, 5.0, 6.0]\n",
        "\n",
        " # Context vectors\n",
        " context_x = [0.2, 0.3, 0.5]\n",
        " context_y = [0.1, 0.4, 0.6]\n",
        "\n",
        " # Calculate Cosine Similarity\n",
        " similarity = ContextualDynamicDistance().calculate(x,y,context_x, context_y)\n",
        "\n",
        " print(f\"Contextual Dynamic Distance: {similarity}\")"
      ],
      "metadata": {
        "colab": {
          "base_uri": "https://localhost:8080/"
        },
        "id": "YW9GaqI_idRz",
        "outputId": "826cf3e8-d401-462d-9fb3-451fb5994f15"
      },
      "execution_count": 25,
      "outputs": [
        {
          "output_type": "stream",
          "name": "stdout",
          "text": [
            "Contextual Dynamic Distance: 5.196152417906096\n"
          ]
        }
      ]
    },
    {
      "cell_type": "code",
      "source": [
        "  # Import the distancia package\n",
        "  from distancia import Canberra\n",
        "\n",
        "  # Define two sample vectors\n",
        "  x = [2, 0, 5, 3]\n",
        "  y = [1, 0, 5, 1]\n",
        "\n",
        "  # Create an instance of the CanberraDistance class (or directly use the function if it is provided)\n",
        "  canberra_dist = Canberra()\n",
        "\n",
        "  # Calculate the distance between the two vectors\n",
        "  distance = canberra_dist.calculate(x, y)\n",
        "\n",
        "  # Print the result\n",
        "  print(f\"The Canberra distance between vectors x and y is: {distance}\")"
      ],
      "metadata": {
        "colab": {
          "base_uri": "https://localhost:8080/"
        },
        "id": "c9EegozfjEYo",
        "outputId": "20c8cfed-a4cb-4a29-8f30-82cfbb87e444"
      },
      "execution_count": 26,
      "outputs": [
        {
          "output_type": "stream",
          "name": "stdout",
          "text": [
            "The Canberra distance between vectors x and y is: 0.8333333333333333\n"
          ]
        }
      ]
    },
    {
      "cell_type": "code",
      "source": [
        "# Import the distancia package\n",
        "from distancia import BrayCurtis\n",
        "\n",
        "# Define two sample vectors representing species abundance in two different samples\n",
        "sample_1 = [2, 0, 3, 1]\n",
        "sample_2 = [1, 1, 2, 0]\n",
        "\n",
        "# Create an instance of the BrayCurti class\n",
        "bray_curtis_dist = BrayCurtis()\n",
        "\n",
        "# Calculate the Bray-Curtis distance between the two samples\n",
        "distance = bray_curtis_dist.calculate(sample_1, sample_2)\n",
        "\n",
        "# Print the result\n",
        "print(f\"The Bray-Curtis distance between the two samples is: {distance}\")"
      ],
      "metadata": {
        "colab": {
          "base_uri": "https://localhost:8080/"
        },
        "id": "Ur38ZbkqkEHQ",
        "outputId": "4f1728c5-d0b1-41cf-c917-1e6757dd3a00"
      },
      "execution_count": 27,
      "outputs": [
        {
          "output_type": "stream",
          "name": "stdout",
          "text": [
            "The Bray-Curtis distance between the two samples is: 0.4\n"
          ]
        }
      ]
    },
    {
      "cell_type": "code",
      "source": [
        "from distancia import RogersTanimoto  # Import the RogersTanimoto class from the distancia package\n",
        "\n",
        "def main():\n",
        "    # Define two binary vectors for comparison\n",
        "    vector1 = [1, 0, 1, 1, 0]\n",
        "    vector2 = [1, 1, 0, 1, 1]\n",
        "\n",
        "    # Create an instance of the RogersTanimoto class\n",
        "    rogers_tanimoto_distance = RogersTanimoto()\n",
        "\n",
        "    # Calculate the Rogers-Tanimoto distance\n",
        "    distance = rogers_tanimoto_distance.calculate(vector1, vector2)\n",
        "\n",
        "    # Print the result\n",
        "    print(f\"Rogers-Tanimoto distance between {vector1} and {vector2} is: {distance:.4f}\")\n",
        "\n",
        "if __name__ == \"__main__\":\n",
        "    main()"
      ],
      "metadata": {
        "colab": {
          "base_uri": "https://localhost:8080/"
        },
        "id": "ho8lPUp1kghg",
        "outputId": "867db403-d412-4d4a-e9b2-4756e2a0dd89"
      },
      "execution_count": 28,
      "outputs": [
        {
          "output_type": "stream",
          "name": "stdout",
          "text": [
            "Rogers-Tanimoto distance between [1, 0, 1, 1, 0] and [1, 1, 0, 1, 1] is: 1.0000\n"
          ]
        }
      ]
    },
    {
      "cell_type": "code",
      "source": [
        "from distancia import RussellRao  # Import the RussellRao class from the distancia package\n",
        "\n",
        "def main():\n",
        "    # Define two binary vectors for comparison\n",
        "    vector1 = [1, 0, 1, 1, 0]\n",
        "    vector2 = [1, 1, 0, 1, 1]\n",
        "\n",
        "    # Create an instance of the RussellRao class\n",
        "    russell_rao_distance = RussellRao()\n",
        "\n",
        "    # Calculate the Russell-Rao distance\n",
        "    distance = russell_rao_distance.calculate(vector1, vector2)\n",
        "\n",
        "    # Print the result\n",
        "    print(f\"Russell-Rao distance between {vector1} and {vector2} is: {distance}\")\n",
        "\n",
        "if __name__ == \"__main__\":\n",
        "    main()"
      ],
      "metadata": {
        "colab": {
          "base_uri": "https://localhost:8080/"
        },
        "id": "UMdVKtOEky5l",
        "outputId": "9f24393a-2678-46d2-dee2-4a020c354f8e"
      },
      "execution_count": 29,
      "outputs": [
        {
          "output_type": "stream",
          "name": "stdout",
          "text": [
            "Russell-Rao distance between [1, 0, 1, 1, 0] and [1, 1, 0, 1, 1] is: 0.4\n"
          ]
        }
      ]
    },
    {
      "cell_type": "code",
      "source": [
        "from distancia import SokalMichener  # Import the SokalMichener class from the distancia package\n",
        "\n",
        "def main():\n",
        "    # Define two binary vectors for comparison\n",
        "    vector1 = [1, 0, 1, 1, 0, 0, 1]\n",
        "    vector2 = [1, 1, 0, 1, 0, 0, 1]\n",
        "\n",
        "    # Create an instance of the SokalMichener class\n",
        "    sokal_michener = SokalMichener()\n",
        "\n",
        "    # Calculate the Sokal-Michener distance\n",
        "    distance = sokal_michener.calculate(vector1, vector2)\n",
        "\n",
        "    # Print the result\n",
        "    print(f\"Sokal-Michener distance between {vector1} and {vector2} is: {distance:.4f}\")\n",
        "\n",
        "if __name__ == \"__main__\":\n",
        "    main()"
      ],
      "metadata": {
        "colab": {
          "base_uri": "https://localhost:8080/"
        },
        "id": "oMxHS0JJmI2L",
        "outputId": "84fa0a5d-5972-4f3d-eace-5b5217af8cea"
      },
      "execution_count": 30,
      "outputs": [
        {
          "output_type": "stream",
          "name": "stdout",
          "text": [
            "Sokal-Michener distance between [1, 0, 1, 1, 0, 0, 1] and [1, 1, 0, 1, 0, 0, 1] is: 0.2857\n"
          ]
        }
      ]
    },
    {
      "cell_type": "code",
      "source": [
        "from distancia import SokalSneath  # Import the SokalSneath class from the distancia package\n",
        "\n",
        "def main():\n",
        "    # Define two binary vectors for comparison\n",
        "    vector1 = [1, 0, 1, 1, 0, 0, 1]\n",
        "    vector2 = [1, 1, 0, 1, 0, 0, 1]\n",
        "\n",
        "    # Create an instance of the SokalSneath class\n",
        "    sokal_sneath = SokalSneath()\n",
        "\n",
        "    # Calculate the Sokal-Sneath distance\n",
        "    distance = sokal_sneath.calculate(vector1, vector2)\n",
        "\n",
        "    # Print the result\n",
        "    print(f\"Sokal-Sneath distance between {vector1} and {vector2} is: {distance:.4f}\")\n",
        "\n",
        "if __name__ == \"__main__\":\n",
        "    main()"
      ],
      "metadata": {
        "colab": {
          "base_uri": "https://localhost:8080/"
        },
        "id": "yUpk4eoVmVE8",
        "outputId": "aa6e628d-acff-4ac1-d4c4-30699a0224b4"
      },
      "execution_count": 31,
      "outputs": [
        {
          "output_type": "stream",
          "name": "stdout",
          "text": [
            "Sokal-Sneath distance between [1, 0, 1, 1, 0, 0, 1] and [1, 1, 0, 1, 0, 0, 1] is: 0.6000\n"
          ]
        }
      ]
    },
    {
      "cell_type": "code",
      "source": [
        "from distancia import DamerauLevenshtein\n",
        "\n",
        "def test_damerau_levenshtein():\n",
        "    # Create an instance of the DamerauLevenshtein class\n",
        "    distance_calculator = DamerauLevenshtein()\n",
        "\n",
        "    # Test cases: Pairs of strings to compare\n",
        "    test_cases = [\n",
        "        (\"kitten\", \"sitting\"),\n",
        "        (\"flaw\", \"lawn\"),\n",
        "        (\"saturday\", \"sundays\"),\n",
        "        (\"gumbo\", \"gambol\"),\n",
        "        (\"ca\", \"abc\"),\n",
        "    ]\n",
        "\n",
        "    # Iterate through the test cases and compute the distance\n",
        "    for str1, str2 in test_cases:\n",
        "        distance = distance_calculator.calculate(str1, str2)\n",
        "        print(f\"Damerau-Levenshtein distance between '{str1}' and '{str2}': {distance}\")\n",
        "\n",
        "if __name__ == \"__main__\":\n",
        "    # Run the test function\n",
        "    test_damerau_levenshtein()"
      ],
      "metadata": {
        "colab": {
          "base_uri": "https://localhost:8080/"
        },
        "id": "EccHsyy_mpU4",
        "outputId": "5df4329a-8c0d-4b16-893d-b693a9f2bdf6"
      },
      "execution_count": 32,
      "outputs": [
        {
          "output_type": "stream",
          "name": "stdout",
          "text": [
            "Damerau-Levenshtein distance between 'kitten' and 'sitting': 3\n",
            "Damerau-Levenshtein distance between 'flaw' and 'lawn': 2\n",
            "Damerau-Levenshtein distance between 'saturday' and 'sundays': 4\n",
            "Damerau-Levenshtein distance between 'gumbo' and 'gambol': 2\n",
            "Damerau-Levenshtein distance between 'ca' and 'abc': 3\n"
          ]
        }
      ]
    },
    {
      "cell_type": "code",
      "source": [
        "from distancia import SorensenDice\n",
        "\n",
        "# Define two binary sets\n",
        "str1 = \"night\"\n",
        "str2 = \"nacht\"\n",
        "\n",
        "# Calculate SørensenDice Distance\n",
        "distance = SorensenDice().calculate(str1, str2)\n",
        "print(f\"Sørensen Dice Distance: {distance}\")"
      ],
      "metadata": {
        "colab": {
          "base_uri": "https://localhost:8080/"
        },
        "id": "gfOI5cNwnCew",
        "outputId": "c59b1f2e-ddd6-488e-a549-4ad5f39f7e17"
      },
      "execution_count": 33,
      "outputs": [
        {
          "output_type": "stream",
          "name": "stdout",
          "text": [
            "Sørensen Dice Distance: 0.75\n"
          ]
        }
      ]
    },
    {
      "cell_type": "code",
      "source": [
        "# Import the Wasserstein class from the distancia package\n",
        "from distancia import Wasserstein\n",
        "\n",
        "def main():\n",
        "    # Define two discrete probability distributions\n",
        "    distribution1 = [0.1, 0.4, 0.5]\n",
        "    distribution2 = [0.2, 0.3, 0.5]\n",
        "\n",
        "    # Create an instance of the Wasserstein class\n",
        "    wasserstein = Wasserstein()\n",
        "\n",
        "    # Calculate the Wasserstein distance between the two distributions\n",
        "    distance = wasserstein.calculate(distribution1, distribution2)\n",
        "\n",
        "    # Print the calculated distance\n",
        "    print(f\"Wasserstein distance between the distributions: {distance:.4f}\")\n",
        "\n",
        "if __name__ == \"__main__\":\n",
        "    main()"
      ],
      "metadata": {
        "colab": {
          "base_uri": "https://localhost:8080/"
        },
        "id": "5REMZRBSpSM9",
        "outputId": "81f44889-a3f7-4e80-8275-af1b76141eb1"
      },
      "execution_count": 34,
      "outputs": [
        {
          "output_type": "stream",
          "name": "stdout",
          "text": [
            "Wasserstein distance between the distributions: 0.1000\n"
          ]
        }
      ]
    },
    {
      "cell_type": "code",
      "source": [
        "from distancia import Gower\n",
        "\n",
        "# Create an instance of the Gower class\n",
        "gower = Gower()\n",
        "\n",
        "# Test cases: pairs of data points with mixed types (numerical and categorical)\n",
        "test_cases = [\n",
        "    ([\"Red\", 3.2, 5], [\"Blue\", 4.1, 3], [None, 5.0, 10]),\n",
        "    ([5.5, \"M\", 200], [6.1, \"F\", 180], [10, None, 50]),\n",
        "    ([0, \"High\", 10], [1, \"Low\", 10], [1, None, 10]),\n",
        "    ([100, \"Yes\", 3.5], [150, \"No\", 2.8], [50, None, 5]),\n",
        "    ([1.5, \"Green\", 2], [1.5, \"Green\", 2], [None, None, None])\n",
        "]\n",
        "\n",
        "# Compute and print the Gower similarity for each pair\n",
        "for vec1, vec2, ranges in test_cases:\n",
        "    similarity = gower.calculate(vec1, vec2, ranges)\n",
        "    print(f\"Gower similarity between {vec1} and {vec2}: {similarity:.4f}\")"
      ],
      "metadata": {
        "colab": {
          "base_uri": "https://localhost:8080/"
        },
        "id": "8vfjpoJOpmJC",
        "outputId": "8415402c-8bd6-408d-df24-a3232a95886a"
      },
      "execution_count": 35,
      "outputs": [
        {
          "output_type": "stream",
          "name": "stdout",
          "text": [
            "Gower similarity between ['Red', 3.2, 5] and ['Blue', 4.1, 3]: 0.5400\n",
            "Gower similarity between [5.5, 'M', 200] and [6.1, 'F', 180]: 0.5133\n",
            "Gower similarity between [0, 'High', 10] and [1, 'Low', 10]: 0.3333\n",
            "Gower similarity between [100, 'Yes', 3.5] and [150, 'No', 2.8]: 0.2867\n",
            "Gower similarity between [1.5, 'Green', 2] and [1.5, 'Green', 2]: 1.0000\n"
          ]
        }
      ]
    },
    {
      "cell_type": "code",
      "source": [
        "from distancia import CzekanowskiDice\n",
        "\n",
        "# Define two vector\n",
        "set1 = [1.3, 0, 1, 1]\n",
        "set2 = [1, 1, 0, 1]\n",
        "\n",
        "# Calculate Dice Distance\n",
        "similarity = CzekanowskiDice().calculate(set1, set2)\n",
        "\n",
        "print(f\"Czekanowski Dice similarity: {similarity}\")"
      ],
      "metadata": {
        "colab": {
          "base_uri": "https://localhost:8080/"
        },
        "id": "Es6oKt5Mpq3K",
        "outputId": "9ea201c0-64fc-442f-b3d7-c9a9fcc6c31b"
      },
      "execution_count": 36,
      "outputs": [
        {
          "output_type": "stream",
          "name": "stdout",
          "text": [
            "Czekanowski Dice similarity: 0.3650793650793651\n"
          ]
        }
      ]
    },
    {
      "cell_type": "code",
      "source": [
        "# Import the distancia package\n",
        "from distancia import Hellinger\n",
        "\n",
        "# Define two probability distributions\n",
        "distribution_1 = [0.2, 0.3, 0.1, 0.4]\n",
        "distribution_2 = [0.1, 0.4, 0.2, 0.3]\n",
        "\n",
        "# Create an instance of the Hellinger class\n",
        "hellinger_dist = Hellinger()\n",
        "\n",
        "# Calculate the Hellinger distance between the two distributions\n",
        "distance = hellinger_dist.calculate(distribution_1, distribution_2)\n",
        "\n",
        "# Print the result\n",
        "print(f\"The Hellinger distance between the two distributions is: {distance}\")"
      ],
      "metadata": {
        "colab": {
          "base_uri": "https://localhost:8080/"
        },
        "id": "rJ4tDAGqpwE0",
        "outputId": "99335637-1899-4b90-9f45-0b5dda3bedfd"
      },
      "execution_count": 37,
      "outputs": [
        {
          "output_type": "stream",
          "name": "stdout",
          "text": [
            "The Hellinger distance between the two distributions is: 0.15600309130857015\n"
          ]
        }
      ]
    },
    {
      "cell_type": "code",
      "source": [
        "# Import the distancia package\n",
        "from distancia import MotzkinStraus\n",
        "\n",
        "# Define two vectors\n",
        "vector_1 = [1, 2, 3, 4]\n",
        "vector_2 = [4, 3, 2, 1]\n",
        "\n",
        "# Create an instance of the MotzkinStraus class\n",
        "motzkin_straus_dist = MotzkinStraus()\n",
        "\n",
        "# Calculate the Motzkin-Straus distance between the two vectors\n",
        "distance = motzkin_straus_dist.calculate(vector_1, vector_2)\n",
        "\n",
        "# Print the result\n",
        "print(f\"The Motzkin-Straus distance between the two vectors is: {distance}\")"
      ],
      "metadata": {
        "colab": {
          "base_uri": "https://localhost:8080/"
        },
        "id": "GTJX5i1fp9OB",
        "outputId": "775a233e-420a-465c-e552-d311b1f53dc1"
      },
      "execution_count": 38,
      "outputs": [
        {
          "output_type": "stream",
          "name": "stdout",
          "text": [
            "The Motzkin-Straus distance between the two vectors is: 9.47213595499958\n"
          ]
        }
      ]
    },
    {
      "cell_type": "code",
      "source": [
        "# Import the distancia package\n",
        "from distancia import EnhancedRogersTanimoto\n",
        "\n",
        "# Define two binary vectors\n",
        "vector_1 = [1, 0, 1, 1, 0]\n",
        "vector_2 = [1, 1, 1, 0, 0]\n",
        "alpha    = 1.5\n",
        "# Create an instance of the EnhancedRogersTanimoto class with specific weights\n",
        "enhanced_rt_dist = EnhancedRogersTanimoto()\n",
        "\n",
        "# Calculate the Enhanced Rogers-Tanimoto distance between the two vectors\n",
        "distance = enhanced_rt_dist.calculate(vector_1, vector_2,alpha)\n",
        "\n",
        "# Print the result\n",
        "print(f\"The Enhanced Rogers-Tanimoto distance between the two vectors is: {distance}\")"
      ],
      "metadata": {
        "colab": {
          "base_uri": "https://localhost:8080/"
        },
        "id": "7YhG5UmyqW8l",
        "outputId": "4ceec2a5-0184-4e7a-a3e0-ddd341511b07"
      },
      "execution_count": 39,
      "outputs": [
        {
          "output_type": "stream",
          "name": "stdout",
          "text": [
            "The Enhanced Rogers-Tanimoto distance between the two vectors is: 0.6153846153846154\n"
          ]
        }
      ]
    },
    {
      "cell_type": "code",
      "source": [
        "from distancia import KullbackLeibler\n",
        "# Example probability distributions\n",
        "p = [0.1, 0.4, 0.5]  # True distribution\n",
        "q = [0.2, 0.3, 0.5]  # Predicted distribution\n",
        "\n",
        "# Create an instance of KullbackLeiblerLoss\n",
        "kl_loss = KullbackLeibler()\n",
        "\n",
        "# Calculate the KL divergence\n",
        "kl_value = kl_loss(p, q)\n",
        "print(f'Kullback-Leibler Divergence: {kl_value}')"
      ],
      "metadata": {
        "colab": {
          "base_uri": "https://localhost:8080/"
        },
        "id": "G02FXcQZtkZI",
        "outputId": "cdb9e34e-cfdd-4dd7-a36a-0ba862fa06f9"
      },
      "execution_count": 40,
      "outputs": [
        {
          "output_type": "stream",
          "name": "stdout",
          "text": [
            "Kullback-Leibler Divergence: 0.5896687386422741\n"
          ]
        }
      ]
    }
  ]
}