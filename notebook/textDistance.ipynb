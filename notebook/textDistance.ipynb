{
  "nbformat": 4,
  "nbformat_minor": 0,
  "metadata": {
    "colab": {
      "provenance": [],
      "authorship_tag": "ABX9TyM4J8JsbKojM6Nh7ezZRIbZ",
      "include_colab_link": true
    },
    "kernelspec": {
      "name": "python3",
      "display_name": "Python 3"
    },
    "language_info": {
      "name": "python"
    }
  },
  "cells": [
    {
      "cell_type": "markdown",
      "metadata": {
        "id": "view-in-github",
        "colab_type": "text"
      },
      "source": [
        "<a href=\"https://colab.research.google.com/github/ym001/distancia/blob/master/notebook/textDistance.ipynb\" target=\"_parent\"><img src=\"https://colab.research.google.com/assets/colab-badge.svg\" alt=\"Open In Colab\"/></a>"
      ]
    },
    {
      "cell_type": "code",
      "source": [
        "!pip install distancia==0.0.72\n"
      ],
      "metadata": {
        "colab": {
          "base_uri": "https://localhost:8080/"
        },
        "id": "RQA833f5YAUv",
        "outputId": "0742b897-3502-47f1-aa19-d5910bd99d89"
      },
      "execution_count": 1,
      "outputs": [
        {
          "output_type": "stream",
          "name": "stdout",
          "text": [
            "Collecting distancia==0.0.72\n",
            "  Downloading distancia-0.0.72-py3-none-any.whl.metadata (14 kB)\n",
            "Downloading distancia-0.0.72-py3-none-any.whl (124 kB)\n",
            "\u001b[2K   \u001b[90m━━━━━━━━━━━━━━━━━━━━━━━━━━━━━━━━━━━━━━━━\u001b[0m \u001b[32m124.6/124.6 kB\u001b[0m \u001b[31m4.7 MB/s\u001b[0m eta \u001b[36m0:00:00\u001b[0m\n",
            "\u001b[?25hInstalling collected packages: distancia\n",
            "Successfully installed distancia-0.0.72\n"
          ]
        }
      ]
    },
    {
      "cell_type": "code",
      "execution_count": 5,
      "metadata": {
        "colab": {
          "base_uri": "https://localhost:8080/"
        },
        "id": "zWK5aK5CX8M-",
        "outputId": "575992a2-ef58-43d6-dc1d-2568c2ebc63a"
      },
      "outputs": [
        {
          "output_type": "stream",
          "name": "stdout",
          "text": [
            "TF-IDF Similarity: 0.9293358130759506\n"
          ]
        }
      ],
      "source": [
        "import math\n",
        "from typing import List, Dict\n",
        "from collections import Counter\n",
        "from distancia import TFIDF\n",
        " #Exemple d'utilisation\n",
        "corpus = [\n",
        "    \"the cat sat on the mat\",\n",
        "    \"the dog sat on the mat\",\n",
        "    \"the dog chased the cat\"\n",
        "]\n",
        "\n",
        "text1 = \"the cat is sitting on the mat\"\n",
        "text2 = \"the dog is sitting on the mat\"\n",
        "\n",
        "tfidf_distance = TFIDF(corpus)\n",
        "similarity_score: float = tfidf_distance.compute(text1, text2)\n",
        "\n",
        "print(f\"TF-IDF Similarity: {similarity_score}\")"
      ]
    },
    {
      "cell_type": "code",
      "source": [
        "from typing import Set\n",
        "from distancia import OverlapCoefficient\n",
        "\n",
        "# Exemple d'utilisation\n",
        "set1 = {\"the\", \"cat\", \"sat\", \"on\", \"the\", \"mat\"}\n",
        "set2 = {\"the\", \"dog\", \"sat\", \"on\", \"the\", \"mat\"}\n",
        "\n",
        "overlap = OverlapCoefficient()\n",
        "similarity_score: float = overlap.compute(set1, set2)\n",
        "\n",
        "print(f\"Overlap Coefficient: {similarity_score}\")\n"
      ],
      "metadata": {
        "colab": {
          "base_uri": "https://localhost:8080/"
        },
        "id": "1w8XSppbrwuR",
        "outputId": "6faf1eef-25b4-4c9e-f7b8-72c8e13c4596"
      },
      "execution_count": 6,
      "outputs": [
        {
          "output_type": "stream",
          "name": "stdout",
          "text": [
            "Overlap Coefficient: 0.8\n"
          ]
        }
      ]
    },
    {
      "cell_type": "code",
      "source": [
        "from typing import List, Dict\n",
        "from collections import Counter\n",
        "import math\n",
        "from distancia import Euclidean,BagOfWordsDistance\n",
        "\n",
        "\n",
        "\n",
        "\n",
        "# Exemple d'utilisation\n",
        "text1 = \"the cat sat on the mat\"\n",
        "text2 = \"the dog sat on the mat\"\n",
        "\n",
        "bow_distance = BagOfWordsDistance()\n",
        "similarity_score: float = bow_distance.compute(text1, text2)\n",
        "\n",
        "print(f\"Bag-of-Words Distance: {similarity_score}\")\n"
      ],
      "metadata": {
        "colab": {
          "base_uri": "https://localhost:8080/"
        },
        "id": "BeBtlh6J2Ga7",
        "outputId": "1078a0e3-2a0e-48d6-bba0-cf4c4fcb6651"
      },
      "execution_count": 7,
      "outputs": [
        {
          "output_type": "stream",
          "name": "stdout",
          "text": [
            "Bag-of-Words Distance: 1.4142135623730951\n"
          ]
        }
      ]
    },
    {
      "cell_type": "code",
      "source": [
        "from distancia import Cosine,FastTextDistance\n",
        "\n",
        "from typing import List, Dict\n",
        "from gensim.models import FastText\n",
        "from math import sqrt\n",
        "\n",
        "\n",
        "\n",
        "# Exemple d'utilisation\n",
        "# Supposons que vous avez un modèle FastText pré-entraîné\n",
        "# model = FastText.load(\"fasttext_model.bin\")  # Charger un modèle FastText pré-entraîné\n",
        "\n",
        "# Pour l'exemple, nous créons un modèle simple avec un corpus minimal\n",
        "sentences = [[\"the\", \"cat\", \"sat\", \"on\", \"the\", \"mat\"], [\"the\", \"dog\", \"sat\", \"on\", \"the\", \"mat\"]]\n",
        "model = FastText(sentences, vector_size=100, window=5, min_count=1, sg=1)\n",
        "\n",
        "text1 = \"the cat sat on the mat\"\n",
        "text2 = \"the dog sat on the mat\"\n",
        "\n",
        "fasttext_distance = FastTextDistance(model)\n",
        "distance: float = fasttext_distance.compute(text1, text2)\n",
        "\n",
        "print(f\"FastText Distance: {distance}\")\n"
      ],
      "metadata": {
        "colab": {
          "base_uri": "https://localhost:8080/"
        },
        "id": "4pEAsF813xv9",
        "outputId": "3359bbb7-f8e1-4ee8-de0b-d972b6618500"
      },
      "execution_count": 8,
      "outputs": [
        {
          "output_type": "stream",
          "name": "stdout",
          "text": [
            "FastText Distance: 0.12081323820146783\n"
          ]
        }
      ]
    },
    {
      "cell_type": "code",
      "source": [
        "from typing import List, Set\n",
        "from distancia import NgramDistance\n",
        "\n",
        "# Exemple d'utilisation\n",
        "ngram_distance = NgramDistance(n=3)  # Tri-grammes (n=3)\n",
        "\n",
        "text1: str = \"The quick brown fox\"\n",
        "text2: str = \"The quick brown dog\"\n",
        "\n",
        "distance: float = ngram_distance.compute(text1, text2)\n",
        "print(f\"N-gram Distance: {distance}\")\n"
      ],
      "metadata": {
        "id": "cBGAVJze-e-A",
        "colab": {
          "base_uri": "https://localhost:8080/"
        },
        "outputId": "7c5a4b05-4679-4ca0-9f74-5d4b4a4bdb34"
      },
      "execution_count": 9,
      "outputs": [
        {
          "output_type": "stream",
          "name": "stdout",
          "text": [
            "N-gram Distance: 0.3529411764705882\n"
          ]
        }
      ]
    },
    {
      "cell_type": "code",
      "source": [
        "from typing import List, Tuple\n",
        "\n",
        "from distancia import SmithWaterman\n",
        "\n",
        "# Exemple d'utilisation\n",
        "seq1: str = \"AGACTG\"\n",
        "seq2: str = \"GACTTAC\"\n",
        "\n",
        "sw = SmithWaterman(match_score=2, mismatch_penalty=-1, gap_penalty=-2)\n",
        "\n",
        "# Calcul de la distance\n",
        "max_score, score_matrix = sw.compute(seq1, seq2)\n",
        "print(f\"Max Alignment Score: {max_score}\")\n",
        "\n",
        "# Effectuer le traceback\n",
        "aligned_seq1, aligned_seq2 = sw.traceback(score_matrix, seq1, seq2)\n",
        "print(f\"Aligned Sequence 1: {aligned_seq1}\")\n",
        "print(f\"Aligned Sequence 2: {aligned_seq2}\")\n"
      ],
      "metadata": {
        "id": "QPXCorF2_Alt",
        "colab": {
          "base_uri": "https://localhost:8080/"
        },
        "outputId": "4d4813ea-cf01-45a3-fd10-0f86b5c3de6d"
      },
      "execution_count": 10,
      "outputs": [
        {
          "output_type": "stream",
          "name": "stdout",
          "text": [
            "Max Alignment Score: 8\n",
            "Aligned Sequence 1: GACT\n",
            "Aligned Sequence 2: GACT\n"
          ]
        }
      ]
    },
    {
      "cell_type": "code",
      "source": [
        "from distancia import MongeElkanDistance,Levenshtein\n",
        "from typing import List, Callable\n",
        "\n",
        "\n",
        "# Exemple d'utilisation\n",
        "text1: str = \"the quick brown fox\"\n",
        "text2: str = \"the quick brown dog\"\n",
        "\n",
        "# Convertir les textes en listes de mots\n",
        "set1: List[str] = text1.split()\n",
        "set2: List[str] = text2.split()\n",
        "\n",
        "# Créer une instance de la classe Monge-Elkan avec la distance de Levenshtein comme distance de base\n",
        "monge_elkan = MongeElkanDistance(base_distance=Levenshtein())\n",
        "\n",
        "# Calculer la distance Monge-Elkan\n",
        "distance: float = monge_elkan.compute(set1, set2)\n",
        "print(f\"Monge-Elkan Distance: {distance}\")\n"
      ],
      "metadata": {
        "id": "fYGEwXA3_f2p",
        "colab": {
          "base_uri": "https://localhost:8080/"
        },
        "outputId": "689c2cb7-2791-4000-cc1e-50f4c7376b07"
      },
      "execution_count": 30,
      "outputs": [
        {
          "output_type": "stream",
          "name": "stdout",
          "text": [
            "Monge-Elkan Distance: 0.5\n"
          ]
        }
      ]
    },
    {
      "cell_type": "code",
      "source": [
        "from typing import List, Dict\n",
        "import math\n",
        "from collections import Counter\n",
        "\n",
        "from distancia import JensenShannonDivergence\n",
        "\n",
        "# Exemple d'utilisation avec des textes\n",
        "text1: str = \"The quick brown fox jumps over the lazy dog\"\n",
        "text2: str = \"The fast brown fox leaps over the lazy dog\"\n",
        "\n",
        "# Vocabulaire global (tous les mots apparaissant dans les textes)\n",
        "vocabulary: List[str] = list(set(text1.split()) | set(text2.split()))\n",
        "\n",
        "# Créer une instance de la classe Jensen-Shannon Divergence\n",
        "js_divergence = JensenShannonDivergence()\n",
        "\n",
        "# Convertir les textes en distributions de probabilités\n",
        "dist1: List[float] = js_divergence.text_to_distribution(text1, vocabulary)\n",
        "dist2: List[float] = js_divergence.text_to_distribution(text2, vocabulary)\n",
        "\n",
        "# Calculer la Jensen-Shannon Divergence entre les deux textes\n",
        "divergence: float = js_divergence.compute(dist1, dist2)\n",
        "print(f\"Jensen-Shannon Divergence: {divergence}\")\n"
      ],
      "metadata": {
        "colab": {
          "base_uri": "https://localhost:8080/"
        },
        "id": "87MMdo-akDsr",
        "outputId": "0bafd237-8ecb-4347-d49c-b96a44051036"
      },
      "execution_count": 31,
      "outputs": [
        {
          "output_type": "stream",
          "name": "stdout",
          "text": [
            "Jensen-Shannon Divergence: 0.15403270679109896\n"
          ]
        }
      ]
    },
    {
      "cell_type": "code",
      "source": [
        "from typing import List, Tuple\n",
        "from collections import Counter\n",
        "import math\n",
        "from distancia import BLEUScore\n",
        "\n",
        "# Exemple d'utilisation\n",
        "hypothesis: List[str] = \"the cat is on the mat\".split()\n",
        "references: List[List[str]] = [\n",
        "    \"the cat is on the mat\".split(),\n",
        "    \"there is a cat on the mat\".split()\n",
        "]\n",
        "\n",
        "# Créer une instance de la classe BLEUScore\n",
        "bleu = BLEUScore()\n",
        "\n",
        "# Calculer le BLEU Score\n",
        "score: float = bleu.compute(hypothesis, references)\n",
        "print(f\"BLEU Score: {score}\")\n"
      ],
      "metadata": {
        "colab": {
          "base_uri": "https://localhost:8080/"
        },
        "id": "7ZhpRoPi9205",
        "outputId": "8d775d1b-2774-49da-dcc8-6e20a7c3904c"
      },
      "execution_count": 15,
      "outputs": [
        {
          "output_type": "stream",
          "name": "stdout",
          "text": [
            "BLEU Score: 1.0\n"
          ]
        }
      ]
    },
    {
      "cell_type": "code",
      "source": [
        "from typing import List, Tuple, Dict\n",
        "from collections import Counter\n",
        "\n",
        "from distancia import ROUGEScore\n",
        "\n",
        "# Example usage:\n",
        "hypothesis: List[str] = \"the cat is on the mat\".split()\n",
        "references: List[List[str]] = [\n",
        "    \"the cat is on the mat\".split(),\n",
        "    \"there is a cat on the mat\".split()\n",
        "]\n",
        "\n",
        "# Create an instance of the ROUGEScore class with bigrams (n=2)\n",
        "rouge = ROUGEScore(n_gram=2)\n",
        "\n",
        "# Compute the ROUGE-N score\n",
        "rouge_n_score: Dict[str, float] = rouge.compute(hypothesis, references)\n",
        "print(f\"ROUGE-N Score: {rouge_n_score}\")\n"
      ],
      "metadata": {
        "colab": {
          "base_uri": "https://localhost:8080/"
        },
        "id": "WiNvZMIj-YgE",
        "outputId": "aafb7f3d-c792-4979-e9fa-0ac3083c037b"
      },
      "execution_count": 16,
      "outputs": [
        {
          "output_type": "stream",
          "name": "stdout",
          "text": [
            "ROUGE-N Score: {'recall': 1.0}\n"
          ]
        }
      ]
    },
    {
      "cell_type": "code",
      "source": [
        "from typing import List, Dict, Tuple\n",
        "import math\n",
        "\n",
        "from distancia import SoftCosineSimilarity\n",
        "# Example usage:\n",
        "term_similarity_matrix: Dict[Tuple[str, str], float] = {\n",
        "    (\"cat\", \"cat\"): 1.0,\n",
        "    (\"cat\", \"dog\"): 0.5,\n",
        "    (\"dog\", \"dog\"): 1.0,\n",
        "    (\"mat\", \"mat\"): 1.0,\n",
        "    (\"on\", \"on\"): 1.0,\n",
        "    (\"is\", \"is\"): 1.0\n",
        "}\n",
        "\n",
        "# Create an instance of SoftCosineSimilarity with the term similarity matrix\n",
        "soft_cosine_sim = SoftCosineSimilarity(term_similarity_matrix=term_similarity_matrix)\n",
        "\n",
        "# Define two documents as lists of words\n",
        "doc1: List[str] = [\"the\", \"cat\", \"is\", \"on\", \"the\", \"mat\"]\n",
        "doc2: List[str] = [\"the\", \"dog\", \"is\", \"on\", \"the\", \"mat\"]\n",
        "\n",
        "# Compute the Soft Cosine Similarity\n",
        "similarity_score: float = soft_cosine_sim.compute(doc1, doc2)\n",
        "print(f\"Soft Cosine Similarity: {similarity_score}\")\n"
      ],
      "metadata": {
        "colab": {
          "base_uri": "https://localhost:8080/"
        },
        "id": "xGRW1YxsJYgK",
        "outputId": "10e5f3bb-7c41-4fde-eda0-d609ea0b87b4"
      },
      "execution_count": 18,
      "outputs": [
        {
          "output_type": "stream",
          "name": "stdout",
          "text": [
            "Soft Cosine Similarity: 0.4374999999999999\n"
          ]
        }
      ]
    },
    {
      "cell_type": "code",
      "source": [
        "from typing import List, Dict\n",
        "from sklearn.decomposition import LatentDirichletAllocation as LDA\n",
        "from sklearn.decomposition import TruncatedSVD as LSA\n",
        "from sklearn.feature_extraction.text import CountVectorizer, TfidfVectorizer\n",
        "\n",
        "from distancia  import TopicModelingDistance\n",
        "# Example usage:\n",
        "documents: List[str] = [\n",
        "    \"The cat sat on the mat.\",\n",
        "    \"Dogs are great companions.\",\n",
        "    \"Cats and dogs are popular pets.\",\n",
        "    \"I love my pet cat and dog.\"\n",
        "]\n",
        "\n",
        "# Initialize TopicModelingDistance with LDA and 5 topics\n",
        "topic_model_distance = TopicModelingDistance(method='LDA', num_topics=5)\n",
        "\n",
        "# Fit the model to a list of documents\n",
        "topic_model_distance.fit(documents)\n",
        "\n",
        "# Compute the distance between two new documents\n",
        "doc1: str = \"The cat sat on the mat.\"\n",
        "doc2: str = \"Dogs are great companions.\"\n",
        "distance: float = topic_model_distance.compute(doc1, doc2)\n",
        "print(f\"Topic Distance (LDA): {distance}\")\n",
        "\n",
        "# You can also use LSA by changing the method\n",
        "lsa_model_distance = TopicModelingDistance(method='LSA', num_topics=5)\n",
        "lsa_model_distance.fit(documents)\n",
        "distance_lsa: float = lsa_model_distance.compute(doc1, doc2)\n",
        "print(f\"Topic Distance (LSA): {distance_lsa}\")\n"
      ],
      "metadata": {
        "colab": {
          "base_uri": "https://localhost:8080/"
        },
        "id": "Qv2L4rN4KLIR",
        "outputId": "c21bc1cd-0152-4fc1-a221-776f04944ecd"
      },
      "execution_count": 21,
      "outputs": [
        {
          "output_type": "stream",
          "name": "stdout",
          "text": [
            "Topic Distance (LDA): 1.060007066936174\n",
            "Topic Distance (LSA): 1.4142135623730954\n"
          ]
        }
      ]
    },
    {
      "cell_type": "code",
      "source": [
        "from typing import List, Tuple\n",
        "\n",
        "from distancia import AlignmentBasedMeasures\n",
        "# Example usage:\n",
        "text1: str = \"The quick brown fox jumps over the lazy dog\"\n",
        "text2: str = \"The quick fox jumps over a lazy dog\"\n",
        "\n",
        "# Initialize AlignmentBasedMeasures class\n",
        "alignment_measure = AlignmentBasedMeasures()\n",
        "\n",
        "# Align the texts and compute the alignment score\n",
        "aligned_texts: List[Tuple[str, str]] = alignment_measure.align_texts(text1, text2)\n",
        "score: float = alignment_measure.compute(text1, text2)\n",
        "\n",
        "# Output the results\n",
        "print(\"Aligned Texts:\")\n",
        "for word1, word2 in aligned_texts:\n",
        "    print(f\"{word1:15} {word2:15}\")\n",
        "\n",
        "print(f\"\\nAlignment Score: {score}\")\n"
      ],
      "metadata": {
        "colab": {
          "base_uri": "https://localhost:8080/"
        },
        "id": "HgxrITeeKsS0",
        "outputId": "d0444ff3-2b8f-4e0b-e0cd-afeaf07db406"
      },
      "execution_count": 23,
      "outputs": [
        {
          "output_type": "stream",
          "name": "stdout",
          "text": [
            "Aligned Texts:\n",
            "The             The            \n",
            "quick           quick          \n",
            "brown           -              \n",
            "fox             fox            \n",
            "jumps           jumps          \n",
            "over            over           \n",
            "the             a              \n",
            "lazy            lazy           \n",
            "dog             dog            \n",
            "\n",
            "Alignment Score: 0.7777777777777778\n"
          ]
        }
      ]
    },
    {
      "cell_type": "code",
      "source": [
        "from typing import List, Tuple, Set, Dict\n",
        "\n",
        "from distancia import GappyNGramDistance\n",
        "# Example usage:\n",
        "text1: str = \"the quick brown fox jumps over the lazy dog\"\n",
        "text2: str = \"the fast brown fox leaps over a sleepy dog\"\n",
        "\n",
        "# Initialize GappyNGramDistance class with n=3 and gap_size=1\n",
        "gappy_ngram_distance = GappyNGramDistance(n=3, gap_size=1)\n",
        "\n",
        "# Compute the gappy n-gram similarity\n",
        "similarity_score: float = gappy_ngram_distance.compute(text1, text2)\n",
        "\n",
        "# Output the result\n",
        "print(f\"Gappy N-gram Similarity Score: {similarity_score:.4f}\")\n"
      ],
      "metadata": {
        "colab": {
          "base_uri": "https://localhost:8080/"
        },
        "id": "cp3w2shtLGHN",
        "outputId": "bc8020c7-1b9b-4cb7-e189-8125c8542ee0"
      },
      "execution_count": 25,
      "outputs": [
        {
          "output_type": "stream",
          "name": "stdout",
          "text": [
            "Gappy N-gram Similarity Score: 0.0000\n"
          ]
        }
      ]
    },
    {
      "cell_type": "code",
      "source": [
        "from typing import List, Set, Tuple\n",
        "\n",
        "from distancia import SoftJaccardSimilarity\n",
        "# Example usage:\n",
        "text1: str = \"the quick brown fox jumps over the lazy dog\"\n",
        "text2: str = \"the fast brown fox leaps over a sleepy dog\"\n",
        "\n",
        "# Initialize SoftJaccardSimilarity class with a threshold of 0.5 (50% similarity for matching)\n",
        "soft_jaccard = SoftJaccardSimilarity(threshold=0.5)\n",
        "\n",
        "# Compute the soft Jaccard similarity\n",
        "similarity_score: float = soft_jaccard.compute(text1, text2)\n",
        "\n",
        "# Output the result\n",
        "print(f\"Soft Jaccard Similarity Score: {similarity_score:.4f}\")\n"
      ],
      "metadata": {
        "colab": {
          "base_uri": "https://localhost:8080/"
        },
        "id": "5stjJz9uLfHW",
        "outputId": "f3bdb9ae-82d7-4330-c628-15bfabc6b887"
      },
      "execution_count": 27,
      "outputs": [
        {
          "output_type": "stream",
          "name": "stdout",
          "text": [
            "Soft Jaccard Similarity Score: 0.4167\n"
          ]
        }
      ]
    },
    {
      "cell_type": "code",
      "source": [
        "import zlib\n",
        "from typing import Tuple\n",
        "\n",
        "from distancia import NormalizedCompression\n",
        "# Example usage:\n",
        "text1: str = \"the quick brown fox jumps over the lazy dog\"\n",
        "text2: str = \"the fast brown fox leaps over a sleepy dog\"\n",
        "\n",
        "# Initialize the NCD class\n",
        "ncd_calculator = NormalizedCompression()\n",
        "\n",
        "# Compute the NCD between two texts\n",
        "ncd_value: float = ncd_calculator.compute(text1, text2)\n",
        "\n",
        "# Output the result\n",
        "print(f\"Normalized Compression Distance (NCD): {ncd_value:.4f}\")\n"
      ],
      "metadata": {
        "colab": {
          "base_uri": "https://localhost:8080/"
        },
        "id": "QXaqxAoTL0u2",
        "outputId": "56f87f61-e416-41ce-a03a-75e4dd32cbc6"
      },
      "execution_count": 34,
      "outputs": [
        {
          "output_type": "stream",
          "name": "stdout",
          "text": [
            "Normalized Compression Distance (NCD): 0.4200\n"
          ]
        }
      ]
    }
  ]
}