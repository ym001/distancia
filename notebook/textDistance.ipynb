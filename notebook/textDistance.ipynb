{
  "nbformat": 4,
  "nbformat_minor": 0,
  "metadata": {
    "colab": {
      "provenance": [],
      "authorship_tag": "ABX9TyOHFjSjfOcJ1YBlsKEVrfOw",
      "include_colab_link": true
    },
    "kernelspec": {
      "name": "python3",
      "display_name": "Python 3"
    },
    "language_info": {
      "name": "python"
    }
  },
  "cells": [
    {
      "cell_type": "markdown",
      "metadata": {
        "id": "view-in-github",
        "colab_type": "text"
      },
      "source": [
        "<a href=\"https://colab.research.google.com/github/ym001/distancia/blob/master/notebook/textDistance.ipynb\" target=\"_parent\"><img src=\"https://colab.research.google.com/assets/colab-badge.svg\" alt=\"Open In Colab\"/></a>"
      ]
    },
    {
      "cell_type": "code",
      "source": [
        "!pip install distancia==0.0.73\n"
      ],
      "metadata": {
        "colab": {
          "base_uri": "https://localhost:8080/"
        },
        "id": "RQA833f5YAUv",
        "outputId": "6847f017-ce7c-4890-ee97-6005e2c39c86"
      },
      "execution_count": 1,
      "outputs": [
        {
          "output_type": "stream",
          "name": "stdout",
          "text": [
            "Collecting distancia==0.0.73\n",
            "  Downloading distancia-0.0.73-py3-none-any.whl.metadata (15 kB)\n",
            "Downloading distancia-0.0.73-py3-none-any.whl (129 kB)\n",
            "\u001b[2K   \u001b[90m━━━━━━━━━━━━━━━━━━━━━━━━━━━━━━━━━━━━━━━━\u001b[0m \u001b[32m129.1/129.1 kB\u001b[0m \u001b[31m1.9 MB/s\u001b[0m eta \u001b[36m0:00:00\u001b[0m\n",
            "\u001b[?25hInstalling collected packages: distancia\n",
            "Successfully installed distancia-0.0.73\n"
          ]
        }
      ]
    },
    {
      "cell_type": "code",
      "execution_count": 2,
      "metadata": {
        "colab": {
          "base_uri": "https://localhost:8080/"
        },
        "id": "zWK5aK5CX8M-",
        "outputId": "04343db9-3e2a-4ed9-cb38-ede61b58695a"
      },
      "outputs": [
        {
          "output_type": "stream",
          "name": "stdout",
          "text": [
            "Le modèle FastText a été créé avec succès.\n",
            "TF-IDF Similarity: 0.9293358130759506\n"
          ]
        }
      ],
      "source": [
        "from distancia import TFIDF\n",
        " #Exemple d'utilisation\n",
        "corpus = [\n",
        "    \"the cat sat on the mat\",\n",
        "    \"the dog sat on the mat\",\n",
        "    \"the dog chased the cat\"\n",
        "]\n",
        "\n",
        "text1 = \"the cat is sitting on the mat\"\n",
        "text2 = \"the dog is sitting on the mat\"\n",
        "\n",
        "tfidf_distance = TFIDF(corpus)\n",
        "similarity_score: float = tfidf_distance.compute(text1, text2)\n",
        "\n",
        "print(f\"TF-IDF Similarity: {similarity_score}\")"
      ]
    },
    {
      "cell_type": "code",
      "source": [
        "from distancia import SimHash\n",
        "simhash = SimHash()\n",
        "\n",
        "# Two example documents\n",
        "doc1: str = \"This is a sample document.\"\n",
        "doc2: str = \"This is another sample document.\"\n",
        "\n",
        "# Compute similarity between the two documents\n",
        "score: float = simhash.compute(doc1)\n",
        "\n",
        "# Print similarity score (0 means completely different, 1 means identical)\n",
        "\n",
        "print(f\"Similarity score between documents: {score}\")"
      ],
      "metadata": {
        "colab": {
          "base_uri": "https://localhost:8080/"
        },
        "id": "w-J9DVC82HF8",
        "outputId": "c560c156-360c-4fd7-9d0b-50739c0dfb47"
      },
      "execution_count": 3,
      "outputs": [
        {
          "output_type": "stream",
          "name": "stdout",
          "text": [
            "Similarity score between documents: -1885430112\n"
          ]
        }
      ]
    },
    {
      "cell_type": "code",
      "source": [
        "from typing import Set\n",
        "from distancia import OverlapCoefficient\n",
        "\n",
        "# Exemple d'utilisation\n",
        "set1 = {\"the\", \"cat\", \"sat\", \"on\", \"the\", \"mat\"}\n",
        "set2 = {\"the\", \"dog\", \"sat\", \"on\", \"the\", \"mat\"}\n",
        "\n",
        "overlap = OverlapCoefficient()\n",
        "similarity_score: float = overlap.compute(set1, set2)\n",
        "\n",
        "print(f\"Overlap Coefficient: {similarity_score}\")\n"
      ],
      "metadata": {
        "colab": {
          "base_uri": "https://localhost:8080/"
        },
        "id": "1w8XSppbrwuR",
        "outputId": "3b87cb34-8845-43d2-910e-cfa96ea4dd1a"
      },
      "execution_count": 4,
      "outputs": [
        {
          "output_type": "stream",
          "name": "stdout",
          "text": [
            "Overlap Coefficient: 0.8\n"
          ]
        }
      ]
    },
    {
      "cell_type": "code",
      "source": [
        "from typing import List, Dict\n",
        "from collections import Counter\n",
        "import math\n",
        "from distancia import Euclidean,BagOfWordsDistance\n",
        "\n",
        "\n",
        "\n",
        "\n",
        "# Exemple d'utilisation\n",
        "text1 = \"the cat sat on the mat\"\n",
        "text2 = \"the dog sat on the mat\"\n",
        "\n",
        "bow_distance = BagOfWordsDistance()\n",
        "similarity_score: float = bow_distance.compute(text1, text2)\n",
        "\n",
        "print(f\"Bag-of-Words Distance: {similarity_score}\")\n"
      ],
      "metadata": {
        "colab": {
          "base_uri": "https://localhost:8080/"
        },
        "id": "BeBtlh6J2Ga7",
        "outputId": "bccf699f-d2b5-45c2-89d4-32f51b473a33"
      },
      "execution_count": 5,
      "outputs": [
        {
          "output_type": "stream",
          "name": "stdout",
          "text": [
            "Bag-of-Words Distance: 1.4142135623730951\n"
          ]
        }
      ]
    },
    {
      "cell_type": "code",
      "source": [
        "from distancia import Cosine,FastTextDistance\n",
        "\n",
        "from typing import List, Dict\n",
        "from gensim.models import FastText\n",
        "from math import sqrt\n",
        "\n",
        "\n",
        "\n",
        "# Exemple d'utilisation\n",
        "# Supposons que vous avez un modèle FastText pré-entraîné\n",
        "# model = FastText.load(\"fasttext_model.bin\")  # Charger un modèle FastText pré-entraîné\n",
        "\n",
        "# Pour l'exemple, nous créons un modèle simple avec un corpus minimal\n",
        "sentences = [[\"the\", \"cat\", \"sat\", \"on\", \"the\", \"mat\"], [\"the\", \"dog\", \"sat\", \"on\", \"the\", \"mat\"]]\n",
        "model = FastText(sentences, vector_size=100, window=5, min_count=1, sg=1)\n",
        "\n",
        "text1 = \"the cat sat on the mat\"\n",
        "text2 = \"the dog sat on the mat\"\n",
        "\n",
        "fasttext_distance = FastTextDistance(model)\n",
        "distance: float = fasttext_distance.compute(text1, text2)\n",
        "\n",
        "print(f\"FastText Distance: {distance}\")\n"
      ],
      "metadata": {
        "colab": {
          "base_uri": "https://localhost:8080/"
        },
        "id": "4pEAsF813xv9",
        "outputId": "9f5d13ee-7d18-4140-c5b1-dded31327397"
      },
      "execution_count": 6,
      "outputs": [
        {
          "output_type": "stream",
          "name": "stdout",
          "text": [
            "FastText Distance: 0.12081323820146805\n"
          ]
        }
      ]
    },
    {
      "cell_type": "code",
      "source": [
        "from typing import List, Set\n",
        "from distancia import NgramDistance\n",
        "\n",
        "# Exemple d'utilisation\n",
        "ngram_distance = NgramDistance(n=3)  # Tri-grammes (n=3)\n",
        "\n",
        "text1: str = \"The quick brown fox\"\n",
        "text2: str = \"The quick brown dog\"\n",
        "\n",
        "distance: float = ngram_distance.compute(text1, text2)\n",
        "print(f\"N-gram Distance: {distance}\")\n"
      ],
      "metadata": {
        "id": "cBGAVJze-e-A",
        "colab": {
          "base_uri": "https://localhost:8080/"
        },
        "outputId": "f2f98e1c-9c15-404b-956e-83da9724642a"
      },
      "execution_count": 7,
      "outputs": [
        {
          "output_type": "stream",
          "name": "stdout",
          "text": [
            "N-gram Distance: 0.3529411764705882\n"
          ]
        }
      ]
    },
    {
      "cell_type": "code",
      "source": [
        "from typing import List, Tuple\n",
        "\n",
        "from distancia import SmithWaterman\n",
        "\n",
        "# Exemple d'utilisation\n",
        "seq1: str = \"AGACTG\"\n",
        "seq2: str = \"GACTTAC\"\n",
        "\n",
        "sw = SmithWaterman(match_score=2, mismatch_penalty=-1, gap_penalty=-2)\n",
        "\n",
        "# Calcul de la distance\n",
        "max_score, score_matrix = sw.compute(seq1, seq2)\n",
        "print(f\"Max Alignment Score: {max_score}\")\n",
        "\n",
        "# Effectuer le traceback\n",
        "aligned_seq1, aligned_seq2 = sw.traceback(score_matrix, seq1, seq2)\n",
        "print(f\"Aligned Sequence 1: {aligned_seq1}\")\n",
        "print(f\"Aligned Sequence 2: {aligned_seq2}\")\n"
      ],
      "metadata": {
        "id": "QPXCorF2_Alt",
        "colab": {
          "base_uri": "https://localhost:8080/"
        },
        "outputId": "58466a34-6f1b-4ef5-fe63-236821352ef7"
      },
      "execution_count": 8,
      "outputs": [
        {
          "output_type": "stream",
          "name": "stdout",
          "text": [
            "Max Alignment Score: 8\n",
            "Aligned Sequence 1: GACT\n",
            "Aligned Sequence 2: GACT\n"
          ]
        }
      ]
    },
    {
      "cell_type": "code",
      "source": [
        "from distancia import MongeElkan,Levenshtein\n",
        "from typing import List, Callable\n",
        "\n",
        "\n",
        "# Exemple d'utilisation\n",
        "text1: str = \"the quick brown fox\"\n",
        "text2: str = \"the quick brown dog\"\n",
        "\n",
        "# Convertir les textes en listes de mots\n",
        "set1: List[str] = text1.split()\n",
        "set2: List[str] = text2.split()\n",
        "\n",
        "# Créer une instance de la classe Monge-Elkan avec la distance de Levenshtein comme distance de base\n",
        "monge_elkan = MongeElkan(base_distance=Levenshtein())\n",
        "\n",
        "# Calculer la distance Monge-Elkan\n",
        "distance: float = monge_elkan.compute(set1, set2)\n",
        "print(f\"Monge-Elkan Distance: {distance}\")\n"
      ],
      "metadata": {
        "id": "fYGEwXA3_f2p",
        "colab": {
          "base_uri": "https://localhost:8080/"
        },
        "outputId": "97aac59e-2cd1-4aac-a694-db56c1c8b97b"
      },
      "execution_count": 11,
      "outputs": [
        {
          "output_type": "stream",
          "name": "stdout",
          "text": [
            "Monge-Elkan Distance: 0.5\n"
          ]
        }
      ]
    },
    {
      "cell_type": "code",
      "source": [
        "from typing import List, Dict\n",
        "import math\n",
        "from collections import Counter\n",
        "\n",
        "from distancia import JensenShannonDivergence\n",
        "\n",
        "# Exemple d'utilisation avec des textes\n",
        "text1: str = \"The quick brown fox jumps over the lazy dog\"\n",
        "text2: str = \"The fast brown fox leaps over the lazy dog\"\n",
        "\n",
        "# Vocabulaire global (tous les mots apparaissant dans les textes)\n",
        "vocabulary: List[str] = list(set(text1.split()) | set(text2.split()))\n",
        "\n",
        "# Créer une instance de la classe Jensen-Shannon Divergence\n",
        "js_divergence = JensenShannonDivergence()\n",
        "\n",
        "# Convertir les textes en distributions de probabilités\n",
        "dist1: List[float] = js_divergence.text_to_distribution(text1, vocabulary)\n",
        "dist2: List[float] = js_divergence.text_to_distribution(text2, vocabulary)\n",
        "\n",
        "# Calculer la Jensen-Shannon Divergence entre les deux textes\n",
        "divergence: float = js_divergence.compute(dist1, dist2)\n",
        "print(f\"Jensen-Shannon Divergence: {divergence}\")\n"
      ],
      "metadata": {
        "colab": {
          "base_uri": "https://localhost:8080/"
        },
        "id": "87MMdo-akDsr",
        "outputId": "8b15f01d-1c31-4fa6-e5b2-510181d938c5"
      },
      "execution_count": 12,
      "outputs": [
        {
          "output_type": "stream",
          "name": "stdout",
          "text": [
            "Jensen-Shannon Divergence: 0.15403270679109896\n"
          ]
        }
      ]
    },
    {
      "cell_type": "code",
      "source": [
        "from typing import List, Tuple\n",
        "from collections import Counter\n",
        "import math\n",
        "from distancia import BLEUScore\n",
        "\n",
        "# Exemple d'utilisation\n",
        "hypothesis: List[str] = \"the cat is on the mat\".split()\n",
        "references: List[List[str]] = [\n",
        "    \"the cat is on the mat\".split(),\n",
        "    \"there is a cat on the mat\".split()\n",
        "]\n",
        "\n",
        "# Créer une instance de la classe BLEUScore\n",
        "bleu = BLEUScore()\n",
        "\n",
        "# Calculer le BLEU Score\n",
        "score: float = bleu.compute(hypothesis, references)\n",
        "print(f\"BLEU Score: {score}\")\n"
      ],
      "metadata": {
        "colab": {
          "base_uri": "https://localhost:8080/"
        },
        "id": "7ZhpRoPi9205",
        "outputId": "47bd6cd2-738e-4598-da0d-9868b88cf0c7"
      },
      "execution_count": 13,
      "outputs": [
        {
          "output_type": "stream",
          "name": "stdout",
          "text": [
            "BLEU Score: 1.0\n"
          ]
        }
      ]
    },
    {
      "cell_type": "code",
      "source": [
        "from typing import List, Tuple, Dict\n",
        "from collections import Counter\n",
        "\n",
        "from distancia import ROUGEScore\n",
        "\n",
        "# Example usage:\n",
        "hypothesis: List[str] = \"the cat is on the mat\".split()\n",
        "references: List[List[str]] = [\n",
        "    \"the cat is on the mat\".split(),\n",
        "    \"there is a cat on the mat\".split()\n",
        "]\n",
        "\n",
        "# Create an instance of the ROUGEScore class with bigrams (n=2)\n",
        "rouge = ROUGEScore(n_gram=2)\n",
        "\n",
        "# Compute the ROUGE-N score\n",
        "rouge_n_score: Dict[str, float] = rouge.compute(hypothesis, references)\n",
        "print(f\"ROUGE-N Score: {rouge_n_score}\")\n"
      ],
      "metadata": {
        "colab": {
          "base_uri": "https://localhost:8080/"
        },
        "id": "WiNvZMIj-YgE",
        "outputId": "9e6e6c5a-8b5f-4774-9754-3c01cf24bd3f"
      },
      "execution_count": 14,
      "outputs": [
        {
          "output_type": "stream",
          "name": "stdout",
          "text": [
            "ROUGE-N Score: {'recall': 1.0}\n"
          ]
        }
      ]
    },
    {
      "cell_type": "code",
      "source": [
        "from typing import List, Dict, Tuple\n",
        "import math\n",
        "\n",
        "from distancia import SoftCosine\n",
        "# Example usage:\n",
        "term_similarity_matrix: Dict[Tuple[str, str], float] = {\n",
        "    (\"cat\", \"cat\"): 1.0,\n",
        "    (\"cat\", \"dog\"): 0.5,\n",
        "    (\"dog\", \"dog\"): 1.0,\n",
        "    (\"mat\", \"mat\"): 1.0,\n",
        "    (\"on\", \"on\"): 1.0,\n",
        "    (\"is\", \"is\"): 1.0\n",
        "}\n",
        "\n",
        "# Create an instance of SoftCosineSimilarity with the term similarity matrix\n",
        "soft_cosine_sim = SoftCosine(term_similarity_matrix=term_similarity_matrix)\n",
        "\n",
        "# Define two documents as lists of words\n",
        "doc1: List[str] = [\"the\", \"cat\", \"is\", \"on\", \"the\", \"mat\"]\n",
        "doc2: List[str] = [\"the\", \"dog\", \"is\", \"on\", \"the\", \"mat\"]\n",
        "\n",
        "# Compute the Soft Cosine Similarity\n",
        "similarity_score: float = soft_cosine_sim.compute(doc1, doc2)\n",
        "print(f\"Soft Cosine Similarity: {similarity_score}\")\n"
      ],
      "metadata": {
        "colab": {
          "base_uri": "https://localhost:8080/"
        },
        "id": "xGRW1YxsJYgK",
        "outputId": "eb7fc7cb-1792-4dcc-dd5f-61910a3fe11a"
      },
      "execution_count": 17,
      "outputs": [
        {
          "output_type": "stream",
          "name": "stdout",
          "text": [
            "Soft Cosine Similarity: 0.4374999999999999\n"
          ]
        }
      ]
    },
    {
      "cell_type": "code",
      "source": [
        "from typing import List, Dict\n",
        "from sklearn.decomposition import LatentDirichletAllocation as LDA\n",
        "from sklearn.decomposition import TruncatedSVD as LSA\n",
        "from sklearn.feature_extraction.text import CountVectorizer, TfidfVectorizer\n",
        "\n",
        "from distancia  import TopicModeling\n",
        "# Example usage:\n",
        "documents: List[str] = [\n",
        "    \"The cat sat on the mat.\",\n",
        "    \"Dogs are great companions.\",\n",
        "    \"Cats and dogs are popular pets.\",\n",
        "    \"I love my pet cat and dog.\"\n",
        "]\n",
        "\n",
        "# Initialize TopicModelingDistance with LDA and 5 topics\n",
        "topic_model_distance = TopicModeling(method='LDA', num_topics=5)\n",
        "\n",
        "# Fit the model to a list of documents\n",
        "topic_model_distance.fit(documents)\n",
        "\n",
        "# Compute the distance between two new documents\n",
        "doc1: str = \"The cat sat on the mat.\"\n",
        "doc2: str = \"Dogs are great companions.\"\n",
        "distance: float = topic_model_distance.compute(doc1, doc2)\n",
        "print(f\"Topic Distance (LDA): {distance}\")\n",
        "\n",
        "# You can also use LSA by changing the method\n",
        "lsa_model_distance = TopicModeling(method='LSA', num_topics=5)\n",
        "lsa_model_distance.fit(documents)\n",
        "distance_lsa: float = lsa_model_distance.compute(doc1, doc2)\n",
        "print(f\"Topic Distance (LSA): {distance_lsa}\")\n"
      ],
      "metadata": {
        "colab": {
          "base_uri": "https://localhost:8080/"
        },
        "id": "Qv2L4rN4KLIR",
        "outputId": "2d0c3bbe-1136-4991-f72c-a6d62a1b53b4"
      },
      "execution_count": 21,
      "outputs": [
        {
          "output_type": "stream",
          "name": "stdout",
          "text": [
            "Topic Distance (LDA): 1.060007066936174\n",
            "Topic Distance (LSA): 1.4142135623730954\n"
          ]
        }
      ]
    },
    {
      "cell_type": "code",
      "source": [
        "from typing import List, Tuple\n",
        "\n",
        "from distancia import AlignmentBasedMeasures\n",
        "# Example usage:\n",
        "text1: str = \"The quick brown fox jumps over the lazy dog\"\n",
        "text2: str = \"The quick fox jumps over a lazy dog\"\n",
        "\n",
        "# Initialize AlignmentBasedMeasures class\n",
        "alignment_measure = AlignmentBasedMeasures()\n",
        "\n",
        "# Align the texts and compute the alignment score\n",
        "aligned_texts: List[Tuple[str, str]] = alignment_measure.align_texts(text1, text2)\n",
        "score: float = alignment_measure.compute(text1, text2)\n",
        "\n",
        "# Output the results\n",
        "print(\"Aligned Texts:\")\n",
        "for word1, word2 in aligned_texts:\n",
        "    print(f\"{word1:15} {word2:15}\")\n",
        "\n",
        "print(f\"\\nAlignment Score: {score}\")\n"
      ],
      "metadata": {
        "colab": {
          "base_uri": "https://localhost:8080/"
        },
        "id": "HgxrITeeKsS0",
        "outputId": "9de4325b-0d74-4059-fb18-9e7a68a74ceb"
      },
      "execution_count": 22,
      "outputs": [
        {
          "output_type": "stream",
          "name": "stdout",
          "text": [
            "Aligned Texts:\n",
            "The             The            \n",
            "quick           quick          \n",
            "brown           -              \n",
            "fox             fox            \n",
            "jumps           jumps          \n",
            "over            over           \n",
            "the             a              \n",
            "lazy            lazy           \n",
            "dog             dog            \n",
            "\n",
            "Alignment Score: 0.7777777777777778\n"
          ]
        }
      ]
    },
    {
      "cell_type": "code",
      "source": [
        "from typing import List, Tuple, Set, Dict\n",
        "\n",
        "from distancia import GappyNGram\n",
        "# Example usage:\n",
        "text1: str = \"the quick brown fox jumps over the lazy dog\"\n",
        "text2: str = \"the fast brown fox leaps over a sleepy dog\"\n",
        "\n",
        "# Initialize GappyNGramDistance class with n=3 and gap_size=1\n",
        "gappy_ngram_distance = GappyNGram(n=3, gap_size=1)\n",
        "\n",
        "# Compute the gappy n-gram similarity\n",
        "similarity_score: float = gappy_ngram_distance.compute(text1, text2)\n",
        "\n",
        "# Output the result\n",
        "print(f\"Gappy N-gram Similarity Score: {similarity_score:.4f}\")\n"
      ],
      "metadata": {
        "colab": {
          "base_uri": "https://localhost:8080/"
        },
        "id": "cp3w2shtLGHN",
        "outputId": "f630ec35-f7c7-43f9-e577-c5ff6ee3842c"
      },
      "execution_count": 24,
      "outputs": [
        {
          "output_type": "stream",
          "name": "stdout",
          "text": [
            "Gappy N-gram Similarity Score: 0.0000\n"
          ]
        }
      ]
    },
    {
      "cell_type": "code",
      "source": [
        "from typing import List, Set, Tuple\n",
        "\n",
        "from distancia import SoftJaccardSimilarity\n",
        "# Example usage:\n",
        "text1: str = \"the quick brown fox jumps over the lazy dog\"\n",
        "text2: str = \"the fast brown fox leaps over a sleepy dog\"\n",
        "\n",
        "# Initialize SoftJaccardSimilarity class with a threshold of 0.5 (50% similarity for matching)\n",
        "soft_jaccard = SoftJaccardSimilarity(threshold=0.5)\n",
        "\n",
        "# Compute the soft Jaccard similarity\n",
        "similarity_score: float = soft_jaccard.compute(text1, text2)\n",
        "\n",
        "# Output the result\n",
        "print(f\"Soft Jaccard Similarity Score: {similarity_score:.4f}\")\n"
      ],
      "metadata": {
        "colab": {
          "base_uri": "https://localhost:8080/"
        },
        "id": "5stjJz9uLfHW",
        "outputId": "70e704ed-b35b-414e-9c89-6f0e568d80ad"
      },
      "execution_count": 25,
      "outputs": [
        {
          "output_type": "stream",
          "name": "stdout",
          "text": [
            "Soft Jaccard Similarity Score: 0.4167\n"
          ]
        }
      ]
    },
    {
      "cell_type": "code",
      "source": [
        "import zlib\n",
        "from typing import Tuple\n",
        "\n",
        "from distancia import NormalizedCompression\n",
        "# Example usage:\n",
        "text1: str = \"the quick brown fox jumps over the lazy dog\"\n",
        "text2: str = \"the fast brown fox leaps over a sleepy dog\"\n",
        "\n",
        "# Initialize the NCD class\n",
        "ncd_calculator = NormalizedCompression()\n",
        "\n",
        "# Compute the NCD between two texts\n",
        "ncd_value: float = ncd_calculator.compute(text1, text2)\n",
        "\n",
        "# Output the result\n",
        "print(f\"Normalized Compression Distance (NCD): {ncd_value:.4f}\")\n"
      ],
      "metadata": {
        "colab": {
          "base_uri": "https://localhost:8080/"
        },
        "id": "QXaqxAoTL0u2",
        "outputId": "0f8f702e-fa5d-46be-b299-05afb02eb9c0"
      },
      "execution_count": 26,
      "outputs": [
        {
          "output_type": "stream",
          "name": "stdout",
          "text": [
            "Normalized Compression Distance (NCD): 0.4200\n"
          ]
        }
      ]
    }
  ]
}