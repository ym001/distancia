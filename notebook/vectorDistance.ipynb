{
  "nbformat": 4,
  "nbformat_minor": 0,
  "metadata": {
    "colab": {
      "provenance": [],
      "authorship_tag": "ABX9TyOk5YIdOY6JyfgS7aU49dYO",
      "include_colab_link": true
    },
    "kernelspec": {
      "name": "python3",
      "display_name": "Python 3"
    },
    "language_info": {
      "name": "python"
    }
  },
  "cells": [
    {
      "cell_type": "markdown",
      "metadata": {
        "id": "view-in-github",
        "colab_type": "text"
      },
      "source": [
        "<a href=\"https://colab.research.google.com/github/ym001/distancia/blob/master/notebook/vectorDistance.ipynb\" target=\"_parent\"><img src=\"https://colab.research.google.com/assets/colab-badge.svg\" alt=\"Open In Colab\"/></a>"
      ]
    },
    {
      "cell_type": "code",
      "execution_count": 39,
      "metadata": {
        "colab": {
          "base_uri": "https://localhost:8080/"
        },
        "id": "0_In3n0AbwGL",
        "outputId": "1d02a859-4e75-49e5-e499-73ee7a88ffab"
      },
      "outputs": [
        {
          "output_type": "stream",
          "name": "stdout",
          "text": [
            "Requirement already satisfied: distancia==0.0.73 in /usr/local/lib/python3.10/dist-packages (0.0.73)\n"
          ]
        }
      ],
      "source": [
        "!pip install distancia==0.0.73"
      ]
    },
    {
      "cell_type": "code",
      "source": [
        "from distancia import Euclidean\n",
        "\n",
        "point1 = [1, 2, 3]\n",
        "point2 = [4, 5, 6]\n",
        "\n",
        "# Create an instance of Euclidean\n",
        "euclidean = Euclidean()\n",
        "\n",
        "# Calculate the Euclidean distance\n",
        "distance = euclidean.compute(point1, point2)\n",
        "\n",
        "print(f\"Euclidean Distance: {distance:.4f}\")"
      ],
      "metadata": {
        "colab": {
          "base_uri": "https://localhost:8080/"
        },
        "id": "agpZBZJn9RDk",
        "outputId": "9cb9f9a9-4fba-4f9f-8f6e-1f0ce6518332"
      },
      "execution_count": 40,
      "outputs": [
        {
          "output_type": "stream",
          "name": "stdout",
          "text": [
            "Euclidean Distance: 5.1962\n"
          ]
        }
      ]
    },
    {
      "cell_type": "code",
      "source": [
        "from distancia import Levenshtein\n",
        "\n",
        "string1 = \"kitten\"\n",
        "string2 = \"sitting\"\n",
        "\n",
        "distance = Levenshtein().compute(string1, string2)\n",
        "print(f\"Levenshtein Distance: {distance:.4f}\")"
      ],
      "metadata": {
        "colab": {
          "base_uri": "https://localhost:8080/"
        },
        "id": "QL2jN1ul94cA",
        "outputId": "80a20cbe-ad98-414d-8d67-2922b1237bb4"
      },
      "execution_count": 41,
      "outputs": [
        {
          "output_type": "stream",
          "name": "stdout",
          "text": [
            "Levenshtein Distance: 3.0000\n"
          ]
        }
      ]
    },
    {
      "cell_type": "code",
      "source": [
        "from distancia import Euclidean\n",
        "\n",
        "# Define two points in 3D space\n",
        "point1 = [2, 3, 5]\n",
        "point2 = [7, 1, 9]\n",
        "\n",
        "# Calculate Euclidean Distance\n",
        "distance = Euclidean().compute(point1, point2)\n",
        "\n",
        "print(f\"Euclidean Distance: {distance:.4f}\")"
      ],
      "metadata": {
        "colab": {
          "base_uri": "https://localhost:8080/"
        },
        "id": "Dw3fmGZMb_Ee",
        "outputId": "650490af-d977-4681-8670-b1b5a6a69c87"
      },
      "execution_count": 42,
      "outputs": [
        {
          "output_type": "stream",
          "name": "stdout",
          "text": [
            "Euclidean Distance: 6.7082\n"
          ]
        }
      ]
    },
    {
      "cell_type": "code",
      "source": [
        "from distancia import Manhattan\n",
        "\n",
        "# Define two points\n",
        "point1 = [1, 2, 3]\n",
        "point2 = [4, 6, 3]\n",
        "\n",
        "# Calculate Manhattan Distance\n",
        "distance = Manhattan().compute(point1, point2)\n",
        "\n",
        "print(f\"Manhattan Distance: {distance:.4f}\")"
      ],
      "metadata": {
        "colab": {
          "base_uri": "https://localhost:8080/"
        },
        "id": "v_9QEC3scWG9",
        "outputId": "c64aeed5-7356-460b-c58f-1f600a1c4e49"
      },
      "execution_count": 43,
      "outputs": [
        {
          "output_type": "stream",
          "name": "stdout",
          "text": [
            "Manhattan Distance: 7.0000\n"
          ]
        }
      ]
    },
    {
      "cell_type": "code",
      "source": [
        "from distancia import Hamming\n",
        "\n",
        "# Define two binary strings\n",
        "binary_string1 = '1101001'\n",
        "binary_string2 = '1001101'\n",
        "\n",
        "# Calculate Hamming Distance\n",
        "distance = Hamming().compute(binary_string1, binary_string2)\n",
        "\n",
        "print(f\"Hamming Distance: {distance:.4f}\")"
      ],
      "metadata": {
        "colab": {
          "base_uri": "https://localhost:8080/"
        },
        "id": "rlgOpPIicpjO",
        "outputId": "b98bf6a7-6ab3-4579-9ac3-ddecdd691591"
      },
      "execution_count": 44,
      "outputs": [
        {
          "output_type": "stream",
          "name": "stdout",
          "text": [
            "Hamming Distance: 2.0000\n"
          ]
        }
      ]
    },
    {
      "cell_type": "code",
      "source": [
        "from distancia import Levenshtein\n",
        "\n",
        "# Define two strings\n",
        "str1 = \"kitten\"\n",
        "str2 = \"sitting\"\n",
        "\n",
        "# Calculate Levenshtein Distance\n",
        "distance = Levenshtein().compute(str1, str2)\n",
        "\n",
        "print(f\"Levenshtein Distance: {distance:.4f}\")"
      ],
      "metadata": {
        "colab": {
          "base_uri": "https://localhost:8080/"
        },
        "id": "YqHDZzEgc6__",
        "outputId": "78fd153c-90c0-4480-d6d9-a6a18d15ace5"
      },
      "execution_count": 45,
      "outputs": [
        {
          "output_type": "stream",
          "name": "stdout",
          "text": [
            "Levenshtein Distance: 3.0000\n"
          ]
        }
      ]
    },
    {
      "cell_type": "code",
      "source": [
        "from distancia import RatcliffObershelp\n",
        "\n",
        "def run_tests() -> None:\n",
        "    \"\"\"\n",
        "    Run test cases to demonstrate usage and verify functionality.\n",
        "    \"\"\"\n",
        "    ro = RatcliffObershelp(case_sensitive=False)\n",
        "\n",
        "    # Test cases\n",
        "    test_pairs = [\n",
        "        (\"hello\", \"hello world\"),\n",
        "        (\"PYTHON\", \"python\"),\n",
        "        (\"distance\", \"difference\"),\n",
        "        (\"\", \"test\"),  # Should raise ValueError\n",
        "        (\"The quick brown fox\", \"The quick brown dog\"),\n",
        "        (\"Ratcliff\", \"Obershelp\"),\n",
        "        (\"algorithm\", \"logarithm\"),\n",
        "    ]\n",
        "\n",
        "    for seq1, seq2 in test_pairs:\n",
        "        try:\n",
        "            similarity = ro.compute(seq1, seq2)\n",
        "            distance = ro.compute(seq1, seq2)\n",
        "            quick_ratio = ro.quick_ratio(seq1, seq2)\n",
        "\n",
        "            print(f\"\\nTest: '{seq1}' vs '{seq2}'\")\n",
        "            print(f\"Similarity: {similarity:.4f}\")\n",
        "            print(f\"Distance: {distance:.4f}\")\n",
        "            print(f\"Quick ratio: {quick_ratio:.4f}\")\n",
        "\n",
        "        except ValueError as e:\n",
        "            print(f\"\\nError with '{seq1}' vs '{seq2}': {str(e)}\")\n",
        "\n",
        "\n",
        "if __name__ == \"__main__\":\n",
        "    run_tests()\n",
        "\n",
        "from distancia import RatcliffObershelp  # Import the RatcliffObershelp class from the distancia package\n",
        "\n",
        "def main():\n",
        "    # Define two strings for comparison\n",
        "    string1 = \"example string for comparison\"\n",
        "    string2 = \"example string for comparision\"\n",
        "\n",
        "    # Create an instance of the RatcliffObershelp class\n",
        "    ratcliff_obershelp_distance = RatcliffObershelp()\n",
        "\n",
        "    # Calculate the Ratcliff/Obershelp distance\n",
        "    distance = ratcliff_obershelp_distance.compute(string1, string2)\n",
        "\n",
        "    # Print the result\n",
        "    print(f\"Ratcliff/Obershelp distance between '{string1}' and '{string2}' is: {distance:.4f}\")\n",
        "\n",
        "if __name__ == \"__main__\":\n",
        "    main()"
      ],
      "metadata": {
        "colab": {
          "base_uri": "https://localhost:8080/"
        },
        "id": "sKZCfvbjdJ6R",
        "outputId": "59eef0a8-1be5-43f0-94b1-21a7fd13a898"
      },
      "execution_count": 46,
      "outputs": [
        {
          "output_type": "stream",
          "name": "stdout",
          "text": [
            "\n",
            "Test: 'hello' vs 'hello world'\n",
            "Similarity: 0.3750\n",
            "Distance: 0.3750\n",
            "Quick ratio: 0.6250\n",
            "\n",
            "Test: 'PYTHON' vs 'python'\n",
            "Similarity: 0.0000\n",
            "Distance: 0.0000\n",
            "Quick ratio: 1.0000\n",
            "\n",
            "Test: 'distance' vs 'difference'\n",
            "Similarity: 0.4444\n",
            "Distance: 0.4444\n",
            "Quick ratio: 0.5556\n",
            "\n",
            "Error with '' vs 'test': Input sequences cannot be empty\n",
            "\n",
            "Test: 'The quick brown fox' vs 'The quick brown dog'\n",
            "Similarity: 0.1053\n",
            "Distance: 0.1053\n",
            "Quick ratio: 0.8947\n",
            "\n",
            "Test: 'Ratcliff' vs 'Obershelp'\n",
            "Similarity: 0.7647\n",
            "Distance: 0.7647\n",
            "Quick ratio: 0.2353\n",
            "\n",
            "Test: 'algorithm' vs 'logarithm'\n",
            "Similarity: 0.3333\n",
            "Distance: 0.3333\n",
            "Quick ratio: 0.6667\n",
            "Ratcliff/Obershelp distance between 'example string for comparison' and 'example string for comparision' is: 0.0169\n"
          ]
        }
      ]
    },
    {
      "cell_type": "code",
      "source": [
        "from distancia import Jaro  # Assuming the Jaro class is in the distancia package\n",
        "\n",
        "def main():\n",
        "    # Create an instance of the Jaro class\n",
        "    jaro = Jaro()\n",
        "\n",
        "    # Example 1: Identical strings\n",
        "    s1 = \"hello\"\n",
        "    s2 = \"hello\"\n",
        "    distance = jaro.compute(s1, s2)\n",
        "    print(f\"Jaro distance between '{s1}' and '{s2}': {distance:.4f}\")\n",
        "\n",
        "    # Example 2: Completely different strings\n",
        "    s1 = \"hello\"\n",
        "    s2 = \"world\"\n",
        "    distance = jaro.compute(s1, s2)\n",
        "    print(f\"Jaro distance between '{s1}' and '{s2}': {distance:.4f}\")\n",
        "\n",
        "    # Example 3: Partially matching strings\n",
        "    s1 = \"dixon\"\n",
        "    s2 = \"dicksonx\"\n",
        "    distance = jaro.compute(s1, s2)\n",
        "    print(f\"Jaro distance between '{s1}' and '{s2}': {distance:.4f}\")\n",
        "\n",
        "    # Example 4: One empty string\n",
        "    s1 = \"\"\n",
        "    s2 = \"nonempty\"\n",
        "    distance = jaro.compute(s1, s2)\n",
        "    print(f\"Jaro distance between '{s1}' and '{s2}': {distance:.4f}\")\n",
        "\n",
        "    # Example 5: Both strings empty\n",
        "    s1 = \"\"\n",
        "    s2 = \"\"\n",
        "    distance = jaro.compute(s1, s2)\n",
        "    print(f\"Jaro distance between '{s1}' and '{s2}': {distance:.4f}\")\n",
        "\n",
        "if __name__ == \"__main__\":\n",
        "    main()"
      ],
      "metadata": {
        "id": "5jaUPpPddfH7",
        "colab": {
          "base_uri": "https://localhost:8080/"
        },
        "outputId": "aa5f0ee7-b60a-42db-c27b-f33e45497d66"
      },
      "execution_count": 47,
      "outputs": [
        {
          "output_type": "stream",
          "name": "stdout",
          "text": [
            "Jaro distance between 'hello' and 'hello': 1.0000\n",
            "Jaro distance between 'hello' and 'world': 0.4667\n",
            "Jaro distance between 'dixon' and 'dicksonx': 0.7667\n",
            "Jaro distance between '' and 'nonempty': 0.0000\n",
            "Jaro distance between '' and '': 1.0000\n"
          ]
        }
      ]
    },
    {
      "cell_type": "code",
      "source": [
        "from distancia import JaroWinkler  # Assuming the JaroWinkler class is in the distancia package\n",
        "\n",
        "def main():\n",
        "    # Create an instance of the JaroWinkler class\n",
        "    jaro_winkler = JaroWinkler()\n",
        "\n",
        "    # Example 1: Identical strings\n",
        "    s1 = \"hello\"\n",
        "    s2 = \"hello\"\n",
        "    distance = jaro_winkler.compute(s1, s2)\n",
        "    print(f\"Jaro-Winkler distance between '{s1}' and '{s2}': {distance:.4f}\")\n",
        "\n",
        "    # Example 2: Completely different strings\n",
        "    s1 = \"hello\"\n",
        "    s2 = \"world\"\n",
        "    distance = jaro_winkler.compute(s1, s2)\n",
        "    print(f\"Jaro-Winkler distance between '{s1}' and '{s2}': {distance:.4f}\")\n",
        "\n",
        "    # Example 3: Strings with a common prefix\n",
        "    s1 = \"hello\"\n",
        "    s2 = \"hellish\"\n",
        "    distance = jaro_winkler.compute(s1, s2)\n",
        "    print(f\"Jaro-Winkler distance between '{s1}' and '{s2}': {distance:.4f}\")\n",
        "\n",
        "    # Example 4: One string is a prefix of the other\n",
        "    s1 = \"martha\"\n",
        "    s2 = \"marhtax\"\n",
        "    distance = jaro_winkler.compute(s1, s2)\n",
        "    print(f\"Jaro-Winkler distance between '{s1}' and '{s2}': {distance:.4f}\")\n",
        "\n",
        "    # Example 5: Completely dissimilar strings\n",
        "    s1 = \"abc\"\n",
        "    s2 = \"xyz\"\n",
        "    distance = jaro_winkler.compute(s1, s2)\n",
        "    print(f\"Jaro-Winkler distance between '{s1}' and '{s2}': {distance:.4f}\")\n",
        "\n",
        "if __name__ == \"__main__\":\n",
        "    main()"
      ],
      "metadata": {
        "id": "duw_y17odlGQ",
        "colab": {
          "base_uri": "https://localhost:8080/"
        },
        "outputId": "fa2f1ba5-248e-4ab2-e234-97006c2540fc"
      },
      "execution_count": 48,
      "outputs": [
        {
          "output_type": "stream",
          "name": "stdout",
          "text": [
            "Jaro-Winkler distance between 'hello' and 'hello': 1.0000\n",
            "Jaro-Winkler distance between 'hello' and 'world': 0.4667\n",
            "Jaro-Winkler distance between 'hello' and 'hellish': 0.8743\n",
            "Jaro-Winkler distance between 'martha' and 'marhtax': 0.9278\n",
            "Jaro-Winkler distance between 'abc' and 'xyz': 0.0000\n"
          ]
        }
      ]
    },
    {
      "cell_type": "code",
      "source": [
        "from distancia import KendallTau  # Assuming the KendallTau class is in the distancia package\n",
        "\n",
        "def main():\n",
        "    # Create an instance of the KendallTau class\n",
        "    kendall_tau = KendallTau()\n",
        "\n",
        "    # Example 1: Identical rankings\n",
        "    ranking1 = [1, 2, 3, 4, 5]\n",
        "    ranking2 = [1, 2, 3, 4, 5]\n",
        "    distance = kendall_tau.compute(ranking1, ranking2)\n",
        "    print(f\"Kendall Tau distance between {ranking1} and {ranking2}: {distance:.4f}\")\n",
        "\n",
        "    # Example 2: Completely reversed rankings\n",
        "    ranking1 = [1, 2, 3, 4, 5]\n",
        "    ranking2 = [5, 4, 3, 2, 1]\n",
        "    distance = kendall_tau.compute(ranking1, ranking2)\n",
        "    print(f\"Kendall Tau distance between {ranking1} and {ranking2}: {distance:.4f}\")\n",
        "\n",
        "    # Example 3: Partially similar rankings\n",
        "    ranking1 = [1, 2, 3, 4, 5]\n",
        "    ranking2 = [1, 3, 2, 4, 5]\n",
        "    distance = kendall_tau.compute(ranking1, ranking2)\n",
        "    print(f\"Kendall Tau distance between {ranking1} and {ranking2}: {distance:.4f}\")\n",
        "\n",
        "    # Example 4: Random rankings\n",
        "    ranking1 = [1, 2, 3, 4, 5]\n",
        "    ranking2 = [3, 1, 4, 5, 2]\n",
        "    distance = kendall_tau.compute(ranking1, ranking2)\n",
        "    print(f\"Kendall Tau distance between {ranking1} and {ranking2}: {distance:.4f}\")\n",
        "\n",
        "if __name__ == \"__main__\":\n",
        "    main()"
      ],
      "metadata": {
        "id": "FlcO27WQdsqO",
        "colab": {
          "base_uri": "https://localhost:8080/"
        },
        "outputId": "26a09809-9e0a-4e94-95d2-6684f34243b3"
      },
      "execution_count": 49,
      "outputs": [
        {
          "output_type": "stream",
          "name": "stdout",
          "text": [
            "Kendall Tau distance between [1, 2, 3, 4, 5] and [1, 2, 3, 4, 5]: 0.0000\n",
            "Kendall Tau distance between [1, 2, 3, 4, 5] and [5, 4, 3, 2, 1]: 10.0000\n",
            "Kendall Tau distance between [1, 2, 3, 4, 5] and [1, 3, 2, 4, 5]: 1.0000\n",
            "Kendall Tau distance between [1, 2, 3, 4, 5] and [3, 1, 4, 5, 2]: 4.0000\n"
          ]
        }
      ]
    },
    {
      "cell_type": "code",
      "source": [
        "from distancia import Bhattacharyya\n",
        "\n",
        "# Define two probability distributions\n",
        "p = [0.1, 0.4, 0.5]\n",
        "q = [0.2, 0.2, 0.6]\n",
        "\n",
        "# Calculate Bhattacharyya Distance\n",
        "distance = Bhattacharyya().compute(p, q)\n",
        "\n",
        "print(f\"Bhattacharyya Distance: {distance:.4f}\")"
      ],
      "metadata": {
        "id": "85A1mrS6dzL9",
        "colab": {
          "base_uri": "https://localhost:8080/"
        },
        "outputId": "2153b7d3-dc49-4bbb-d2ab-f8e87427bedb"
      },
      "execution_count": 50,
      "outputs": [
        {
          "output_type": "stream",
          "name": "stdout",
          "text": [
            "Bhattacharyya Distance: -0.5569\n"
          ]
        }
      ]
    },
    {
      "cell_type": "code",
      "source": [
        "from distancia import Haversine\n",
        "\n",
        "# Define the coordinates of the two points (latitude, longitude)\n",
        "point1 = (52.2296756, 21.0122287)  # Warsaw, Poland\n",
        "point2 = (41.8919300, 12.5113300)  # Rome, Italy\n",
        "\n",
        "# Create an instance of HaversineDistance\n",
        "haversine = Haversine()\n",
        "\n",
        "# Calculate the Haversine distance\n",
        "distance = haversine.compute(point1, point2)\n",
        "\n",
        "print(f\"Haversine Distance: {distance:.4f} km\")"
      ],
      "metadata": {
        "id": "gQfEMlKWh4uC",
        "colab": {
          "base_uri": "https://localhost:8080/"
        },
        "outputId": "78830f34-147c-4c44-9dae-33ee5a874f04"
      },
      "execution_count": 53,
      "outputs": [
        {
          "output_type": "stream",
          "name": "stdout",
          "text": [
            "Haversine Distance: 1327.6302 km\n"
          ]
        }
      ]
    },
    {
      "cell_type": "code",
      "source": [
        "from distancia import Chebyshev\n",
        "\n",
        "# Define the coordinates of the two points\n",
        "point1 = (1, 3, 4)\n",
        "point2 = (4, 7, 1)\n",
        "\n",
        "# Create an instance of ChebyshevDistance\n",
        "chebyshev = Chebyshev()\n",
        "\n",
        "# Calculate the Chebyshev distance\n",
        "distance = chebyshev.compute(point1, point2)\n",
        "\n",
        "print(f\"Chebyshev Distance: {distance:.4f}\")"
      ],
      "metadata": {
        "id": "dljZfAYxiKaH",
        "colab": {
          "base_uri": "https://localhost:8080/"
        },
        "outputId": "5ddad99a-b83d-4924-9723-fc91a40437c7"
      },
      "execution_count": 54,
      "outputs": [
        {
          "output_type": "stream",
          "name": "stdout",
          "text": [
            "Chebyshev Distance: 4.0000\n"
          ]
        }
      ]
    },
    {
      "cell_type": "code",
      "source": [
        " from distancia import ContextualDynamicDistance\n",
        "\n",
        " # Feature vectors\n",
        " x = [1.0, 2.0, 3.0]\n",
        " y = [4.0, 5.0, 6.0]\n",
        "\n",
        " # Context vectors\n",
        " context_x = [0.2, 0.3, 0.5]\n",
        " context_y = [0.1, 0.4, 0.6]\n",
        "\n",
        " # Calculate Cosine Similarity\n",
        " similarity = ContextualDynamicDistance().compute(x,y,context_x, context_y)\n",
        "\n",
        " print(f\"Contextual Dynamic Distance: {similarity:.4f}\")"
      ],
      "metadata": {
        "id": "YW9GaqI_idRz",
        "colab": {
          "base_uri": "https://localhost:8080/",
          "height": 382
        },
        "outputId": "18022344-b0d4-4a5e-af99-22bbb7475ab9"
      },
      "execution_count": 55,
      "outputs": [
        {
          "output_type": "error",
          "ename": "TypeError",
          "evalue": "'float' object is not iterable",
          "traceback": [
            "\u001b[0;31m---------------------------------------------------------------------------\u001b[0m",
            "\u001b[0;31mTypeError\u001b[0m                                 Traceback (most recent call last)",
            "\u001b[0;32m<ipython-input-55-8b32e95b870f>\u001b[0m in \u001b[0;36m<cell line: 12>\u001b[0;34m()\u001b[0m\n\u001b[1;32m     10\u001b[0m \u001b[0;34m\u001b[0m\u001b[0m\n\u001b[1;32m     11\u001b[0m \u001b[0;31m# Calculate Cosine Similarity\u001b[0m\u001b[0;34m\u001b[0m\u001b[0;34m\u001b[0m\u001b[0m\n\u001b[0;32m---> 12\u001b[0;31m \u001b[0msimilarity\u001b[0m \u001b[0;34m=\u001b[0m \u001b[0mContextualDynamicDistance\u001b[0m\u001b[0;34m(\u001b[0m\u001b[0;34m)\u001b[0m\u001b[0;34m.\u001b[0m\u001b[0mcompute\u001b[0m\u001b[0;34m(\u001b[0m\u001b[0mx\u001b[0m\u001b[0;34m,\u001b[0m\u001b[0my\u001b[0m\u001b[0;34m,\u001b[0m\u001b[0mcontext_x\u001b[0m\u001b[0;34m,\u001b[0m \u001b[0mcontext_y\u001b[0m\u001b[0;34m)\u001b[0m\u001b[0;34m\u001b[0m\u001b[0;34m\u001b[0m\u001b[0m\n\u001b[0m\u001b[1;32m     13\u001b[0m \u001b[0;34m\u001b[0m\u001b[0m\n\u001b[1;32m     14\u001b[0m \u001b[0mprint\u001b[0m\u001b[0;34m(\u001b[0m\u001b[0;34mf\"Contextual Dynamic Distance: {similarity:.4f}\"\u001b[0m\u001b[0;34m)\u001b[0m\u001b[0;34m\u001b[0m\u001b[0;34m\u001b[0m\u001b[0m\n",
            "\u001b[0;32m/usr/local/lib/python3.10/dist-packages/distancia/vectorDistance.py\u001b[0m in \u001b[0;36mcompute\u001b[0;34m(self, x, y, context_x, context_y)\u001b[0m\n\u001b[1;32m   1073\u001b[0m                 \u001b[0mdistance\u001b[0m \u001b[0;34m=\u001b[0m \u001b[0;36m0.0\u001b[0m\u001b[0;34m\u001b[0m\u001b[0;34m\u001b[0m\u001b[0m\n\u001b[1;32m   1074\u001b[0m                 \u001b[0;32mfor\u001b[0m \u001b[0mi\u001b[0m \u001b[0;32min\u001b[0m \u001b[0mrange\u001b[0m\u001b[0;34m(\u001b[0m\u001b[0mlen\u001b[0m\u001b[0;34m(\u001b[0m\u001b[0mx\u001b[0m\u001b[0;34m)\u001b[0m\u001b[0;34m)\u001b[0m\u001b[0;34m:\u001b[0m\u001b[0;34m\u001b[0m\u001b[0;34m\u001b[0m\u001b[0m\n\u001b[0;32m-> 1075\u001b[0;31m                         \u001b[0mweight\u001b[0m \u001b[0;34m=\u001b[0m \u001b[0mself\u001b[0m\u001b[0;34m.\u001b[0m\u001b[0mconvolution_context_weight_func\u001b[0m\u001b[0;34m(\u001b[0m\u001b[0mcontext_x\u001b[0m\u001b[0;34m,\u001b[0m \u001b[0mcontext_y\u001b[0m\u001b[0;34m,\u001b[0m \u001b[0mi\u001b[0m\u001b[0;34m)\u001b[0m\u001b[0;34m\u001b[0m\u001b[0;34m\u001b[0m\u001b[0m\n\u001b[0m\u001b[1;32m   1076\u001b[0m                         \u001b[0mdistance\u001b[0m \u001b[0;34m+=\u001b[0m \u001b[0mweight\u001b[0m \u001b[0;34m*\u001b[0m \u001b[0;34m(\u001b[0m\u001b[0mx\u001b[0m\u001b[0;34m[\u001b[0m\u001b[0mi\u001b[0m\u001b[0;34m]\u001b[0m \u001b[0;34m-\u001b[0m \u001b[0my\u001b[0m\u001b[0;34m[\u001b[0m\u001b[0mi\u001b[0m\u001b[0;34m]\u001b[0m\u001b[0;34m)\u001b[0m \u001b[0;34m**\u001b[0m \u001b[0;36m2\u001b[0m\u001b[0;34m\u001b[0m\u001b[0;34m\u001b[0m\u001b[0m\n\u001b[1;32m   1077\u001b[0m \u001b[0;34m\u001b[0m\u001b[0m\n",
            "\u001b[0;32m/usr/local/lib/python3.10/dist-packages/distancia/vectorDistance.py\u001b[0m in \u001b[0;36mconvolution_context_weight_func\u001b[0;34m(self, context_x, context_y, index, kernel_size)\u001b[0m\n\u001b[1;32m   1108\u001b[0m \u001b[0;34m\u001b[0m\u001b[0m\n\u001b[1;32m   1109\u001b[0m                 \u001b[0;31m# Calculate the weight as the similarity of the convolved signals\u001b[0m\u001b[0;34m\u001b[0m\u001b[0;34m\u001b[0m\u001b[0m\n\u001b[0;32m-> 1110\u001b[0;31m                 \u001b[0msimilarity\u001b[0m \u001b[0;34m=\u001b[0m \u001b[0msum\u001b[0m\u001b[0;34m(\u001b[0m\u001b[0;34m[\u001b[0m\u001b[0mx\u001b[0m\u001b[0;34m*\u001b[0m\u001b[0my\u001b[0m \u001b[0;32mfor\u001b[0m \u001b[0mx\u001b[0m\u001b[0;34m,\u001b[0m\u001b[0my\u001b[0m \u001b[0;32min\u001b[0m \u001b[0mzip\u001b[0m\u001b[0;34m(\u001b[0m\u001b[0mconv_x\u001b[0m\u001b[0;34m,\u001b[0m \u001b[0mconv_y\u001b[0m\u001b[0;34m)\u001b[0m\u001b[0;34m]\u001b[0m\u001b[0;34m)\u001b[0m \u001b[0;34m/\u001b[0m \u001b[0;34m(\u001b[0m \u001b[0;34m(\u001b[0m\u001b[0msum\u001b[0m\u001b[0;34m(\u001b[0m\u001b[0;34m[\u001b[0m\u001b[0m_\u001b[0m\u001b[0;34m**\u001b[0m\u001b[0;36m2\u001b[0m \u001b[0;32mfor\u001b[0m \u001b[0m_\u001b[0m \u001b[0;32min\u001b[0m \u001b[0mconv_x\u001b[0m\u001b[0;34m]\u001b[0m\u001b[0;34m)\u001b[0m\u001b[0;34m)\u001b[0m\u001b[0;34m^\u001b[0m\u001b[0;36m0.5\u001b[0m \u001b[0;34m*\u001b[0m \u001b[0;34m(\u001b[0m\u001b[0msum\u001b[0m\u001b[0;34m(\u001b[0m\u001b[0;34m[\u001b[0m\u001b[0m_\u001b[0m\u001b[0;34m**\u001b[0m\u001b[0;36m2\u001b[0m \u001b[0;32mfor\u001b[0m \u001b[0m_\u001b[0m \u001b[0;32min\u001b[0m \u001b[0mconv_y\u001b[0m\u001b[0;34m]\u001b[0m\u001b[0;34m)\u001b[0m\u001b[0;34m)\u001b[0m\u001b[0;34m^\u001b[0m\u001b[0;36m0.5\u001b[0m \u001b[0;34m+\u001b[0m \u001b[0;36m1e-10\u001b[0m\u001b[0;34m)\u001b[0m\u001b[0;34m\u001b[0m\u001b[0;34m\u001b[0m\u001b[0m\n\u001b[0m\u001b[1;32m   1111\u001b[0m                 \u001b[0;32mreturn\u001b[0m \u001b[0msimilarity\u001b[0m\u001b[0;34m\u001b[0m\u001b[0;34m\u001b[0m\u001b[0m\n\u001b[1;32m   1112\u001b[0m \u001b[0;34m\u001b[0m\u001b[0m\n",
            "\u001b[0;31mTypeError\u001b[0m: 'float' object is not iterable"
          ]
        }
      ]
    },
    {
      "cell_type": "code",
      "source": [
        "  # Import the distancia package\n",
        "  from distancia import Canberra\n",
        "\n",
        "  # Define two sample vectors\n",
        "  x = [2, 0, 5, 3]\n",
        "  y = [1, 0, 5, 1]\n",
        "\n",
        "  # Create an instance of the CanberraDistance class (or directly use the function if it is provided)\n",
        "  canberra_dist = Canberra()\n",
        "\n",
        "  # Calculate the distance between the two vectors\n",
        "  distance = canberra_dist.compute(x, y)\n",
        "\n",
        "  # Print the result\n",
        "  print(f\"The Canberra distance between vectors x and y is: {distance:.4f}\")"
      ],
      "metadata": {
        "id": "c9EegozfjEYo",
        "colab": {
          "base_uri": "https://localhost:8080/"
        },
        "outputId": "c53dbe42-12d4-4489-cf92-f79a4f8075f7"
      },
      "execution_count": 56,
      "outputs": [
        {
          "output_type": "stream",
          "name": "stdout",
          "text": [
            "The Canberra distance between vectors x and y is: 0.8333\n"
          ]
        }
      ]
    },
    {
      "cell_type": "code",
      "source": [
        "# Import the distancia package\n",
        "from distancia import BrayCurtis\n",
        "\n",
        "# Define two sample vectors representing species abundance in two different samples\n",
        "sample_1 = [2, 0, 3, 1]\n",
        "sample_2 = [1, 1, 2, 0]\n",
        "\n",
        "# Create an instance of the BrayCurti class\n",
        "bray_curtis_dist = BrayCurtis()\n",
        "\n",
        "# Calculate the Bray-Curtis distance between the two samples\n",
        "distance = bray_curtis_dist.compute(sample_1, sample_2)\n",
        "\n",
        "# Print the result\n",
        "print(f\"The Bray-Curtis distance between the two samples is: {distance:.4f}\")"
      ],
      "metadata": {
        "id": "Ur38ZbkqkEHQ",
        "colab": {
          "base_uri": "https://localhost:8080/"
        },
        "outputId": "33901376-af6f-43ea-e724-262a3678022a"
      },
      "execution_count": 57,
      "outputs": [
        {
          "output_type": "stream",
          "name": "stdout",
          "text": [
            "The Bray-Curtis distance between the two samples is: 0.4000\n"
          ]
        }
      ]
    },
    {
      "cell_type": "code",
      "source": [
        "from distancia import RogersTanimoto  # Import the RogersTanimoto class from the distancia package\n",
        "\n",
        "def main():\n",
        "    # Define two binary vectors for comparison\n",
        "    vector1 = [1, 0, 1, 1, 0]\n",
        "    vector2 = [1, 1, 0, 1, 1]\n",
        "\n",
        "    # Create an instance of the RogersTanimoto class\n",
        "    rogers_tanimoto_distance = RogersTanimoto()\n",
        "\n",
        "    # Calculate the Rogers-Tanimoto distance\n",
        "    distance = rogers_tanimoto_distance.compute(vector1, vector2)\n",
        "\n",
        "    # Print the result\n",
        "    print(f\"Rogers-Tanimoto distance between {vector1} and {vector2} is: {distance:.4f}\")\n",
        "\n",
        "if __name__ == \"__main__\":\n",
        "    main()"
      ],
      "metadata": {
        "id": "ho8lPUp1kghg",
        "colab": {
          "base_uri": "https://localhost:8080/"
        },
        "outputId": "ac24bfc1-f3fd-4cfb-cf54-f61c84a27aac"
      },
      "execution_count": 58,
      "outputs": [
        {
          "output_type": "stream",
          "name": "stdout",
          "text": [
            "Rogers-Tanimoto distance between [1, 0, 1, 1, 0] and [1, 1, 0, 1, 1] is: 1.0000\n"
          ]
        }
      ]
    },
    {
      "cell_type": "code",
      "source": [
        "from distancia import RussellRao  # Import the RussellRao class from the distancia package\n",
        "\n",
        "def main():\n",
        "    # Define two binary vectors for comparison\n",
        "    vector1 = [1, 0, 1, 1, 0]\n",
        "    vector2 = [1, 1, 0, 1, 1]\n",
        "\n",
        "    # Create an instance of the RussellRao class\n",
        "    russell_rao_distance = RussellRao()\n",
        "\n",
        "    # Calculate the Russell-Rao distance\n",
        "    distance = russell_rao_distance.compute(vector1, vector2)\n",
        "\n",
        "    # Print the result\n",
        "    print(f\"Russell-Rao distance between {vector1} and {vector2} is: {distance:.4f}\")\n",
        "\n",
        "if __name__ == \"__main__\":\n",
        "    main()"
      ],
      "metadata": {
        "id": "UMdVKtOEky5l",
        "colab": {
          "base_uri": "https://localhost:8080/"
        },
        "outputId": "d04a899f-a736-4b09-f17e-bc34c83e9698"
      },
      "execution_count": 59,
      "outputs": [
        {
          "output_type": "stream",
          "name": "stdout",
          "text": [
            "Russell-Rao distance between [1, 0, 1, 1, 0] and [1, 1, 0, 1, 1] is: 0.4000\n"
          ]
        }
      ]
    },
    {
      "cell_type": "code",
      "source": [
        "from distancia import SokalMichener  # Import the SokalMichener class from the distancia package\n",
        "\n",
        "def main():\n",
        "    # Define two binary vectors for comparison\n",
        "    vector1 = [1, 0, 1, 1, 0, 0, 1]\n",
        "    vector2 = [1, 1, 0, 1, 0, 0, 1]\n",
        "\n",
        "    # Create an instance of the SokalMichener class\n",
        "    sokal_michener = SokalMichener()\n",
        "\n",
        "    # Calculate the Sokal-Michener distance\n",
        "    distance = sokal_michener.compute(vector1, vector2)\n",
        "\n",
        "    # Print the result\n",
        "    print(f\"Sokal-Michener distance between {vector1} and {vector2} is: {distance:.4f}\")\n",
        "\n",
        "if __name__ == \"__main__\":\n",
        "    main()"
      ],
      "metadata": {
        "id": "oMxHS0JJmI2L",
        "colab": {
          "base_uri": "https://localhost:8080/"
        },
        "outputId": "4592128b-1265-4d8e-9e21-9eaccfee9ee8"
      },
      "execution_count": 60,
      "outputs": [
        {
          "output_type": "stream",
          "name": "stdout",
          "text": [
            "Sokal-Michener distance between [1, 0, 1, 1, 0, 0, 1] and [1, 1, 0, 1, 0, 0, 1] is: 0.2857\n"
          ]
        }
      ]
    },
    {
      "cell_type": "code",
      "source": [
        "from distancia import SokalSneath  # Import the SokalSneath class from the distancia package\n",
        "\n",
        "def main():\n",
        "    # Define two binary vectors for comparison\n",
        "    vector1 = [1, 0, 1, 1, 0, 0, 1]\n",
        "    vector2 = [1, 1, 0, 1, 0, 0, 1]\n",
        "\n",
        "    # Create an instance of the SokalSneath class\n",
        "    sokal_sneath = SokalSneath()\n",
        "\n",
        "    # Calculate the Sokal-Sneath distance\n",
        "    distance = sokal_sneath.compute(vector1, vector2)\n",
        "\n",
        "    # Print the result\n",
        "    print(f\"Sokal-Sneath distance between {vector1} and {vector2} is: {distance:.4f}\")\n",
        "\n",
        "if __name__ == \"__main__\":\n",
        "    main()"
      ],
      "metadata": {
        "id": "yUpk4eoVmVE8",
        "colab": {
          "base_uri": "https://localhost:8080/"
        },
        "outputId": "26eb9e2a-4256-49fb-cf8c-e7da5b2eae54"
      },
      "execution_count": 61,
      "outputs": [
        {
          "output_type": "stream",
          "name": "stdout",
          "text": [
            "Sokal-Sneath distance between [1, 0, 1, 1, 0, 0, 1] and [1, 1, 0, 1, 0, 0, 1] is: 0.6000\n"
          ]
        }
      ]
    },
    {
      "cell_type": "code",
      "source": [
        "from distancia import DamerauLevenshtein\n",
        "\n",
        "def test_damerau_levenshtein():\n",
        "    # Create an instance of the DamerauLevenshtein class\n",
        "    distance_calculator = DamerauLevenshtein()\n",
        "\n",
        "    # Test cases: Pairs of strings to compare\n",
        "    test_cases = [\n",
        "        (\"kitten\", \"sitting\"),\n",
        "        (\"flaw\", \"lawn\"),\n",
        "        (\"saturday\", \"sundays\"),\n",
        "        (\"gumbo\", \"gambol\"),\n",
        "        (\"ca\", \"abc\"),\n",
        "    ]\n",
        "\n",
        "    # Iterate through the test cases and compute the distance\n",
        "    for str1, str2 in test_cases:\n",
        "        distance = distance_calculator.compute(str1, str2)\n",
        "        print(f\"Damerau-Levenshtein distance between '{str1}' and '{str2}': {distance:.4f}\")\n",
        "\n",
        "if __name__ == \"__main__\":\n",
        "    # Run the test function\n",
        "    test_damerau_levenshtein()"
      ],
      "metadata": {
        "id": "EccHsyy_mpU4",
        "colab": {
          "base_uri": "https://localhost:8080/"
        },
        "outputId": "8f6ed779-5233-4a00-9ed8-21ef80da38d6"
      },
      "execution_count": 62,
      "outputs": [
        {
          "output_type": "stream",
          "name": "stdout",
          "text": [
            "Damerau-Levenshtein distance between 'kitten' and 'sitting': 3.0000\n",
            "Damerau-Levenshtein distance between 'flaw' and 'lawn': 2.0000\n",
            "Damerau-Levenshtein distance between 'saturday' and 'sundays': 4.0000\n",
            "Damerau-Levenshtein distance between 'gumbo' and 'gambol': 2.0000\n",
            "Damerau-Levenshtein distance between 'ca' and 'abc': 3.0000\n"
          ]
        }
      ]
    },
    {
      "cell_type": "code",
      "source": [
        "from distancia import SorensenDice\n",
        "\n",
        "# Define two binary sets\n",
        "str1 = \"night\"\n",
        "str2 = \"nacht\"\n",
        "\n",
        "# Calculate SørensenDice Distance\n",
        "distance = SorensenDice().compute(str1, str2)\n",
        "print(f\"Sørensen Dice Distance: {distance:.4f}\")"
      ],
      "metadata": {
        "id": "gfOI5cNwnCew",
        "colab": {
          "base_uri": "https://localhost:8080/"
        },
        "outputId": "50984298-cfb5-4f8d-eb13-d2ed06607b81"
      },
      "execution_count": 63,
      "outputs": [
        {
          "output_type": "stream",
          "name": "stdout",
          "text": [
            "Sørensen Dice Distance: 0.7500\n"
          ]
        }
      ]
    },
    {
      "cell_type": "code",
      "source": [
        "# Import the Wasserstein class from the distancia package\n",
        "from distancia import Wasserstein\n",
        "\n",
        "def main():\n",
        "    # Define two discrete probability distributions\n",
        "    distribution1 = [0.1, 0.4, 0.5]\n",
        "    distribution2 = [0.2, 0.3, 0.5]\n",
        "\n",
        "    # Create an instance of the Wasserstein class\n",
        "    wasserstein = Wasserstein()\n",
        "\n",
        "    # Calculate the Wasserstein distance between the two distributions\n",
        "    distance = wasserstein.compute(distribution1, distribution2)\n",
        "\n",
        "    # Print the calculated distance\n",
        "    print(f\"Wasserstein distance between the distributions: {distance:.4f}\")\n",
        "\n",
        "if __name__ == \"__main__\":\n",
        "    main()"
      ],
      "metadata": {
        "id": "5REMZRBSpSM9",
        "colab": {
          "base_uri": "https://localhost:8080/"
        },
        "outputId": "b7335461-3bb7-415a-a36f-52cf2aba8085"
      },
      "execution_count": 64,
      "outputs": [
        {
          "output_type": "stream",
          "name": "stdout",
          "text": [
            "Wasserstein distance between the distributions: 0.1000\n"
          ]
        }
      ]
    },
    {
      "cell_type": "code",
      "source": [
        "from distancia import Gower\n",
        "\n",
        "# Create an instance of the Gower class\n",
        "\n",
        "# Test cases: pairs of data points with mixed types (numerical and categorical)\n",
        "test_cases = [\n",
        "    ([\"Red\", 3.2, 5], [\"Blue\", 4.1, 3], [None, 5.0, 10]),\n",
        "    ([5.5, \"M\", 200], [6.1, \"F\", 180], [10, None, 50]),\n",
        "    ([0, \"High\", 10], [1, \"Low\", 10], [1, None, 10]),\n",
        "    ([100, \"Yes\", 3.5], [150, \"No\", 2.8], [50, None, 5]),\n",
        "    ([1.5, \"Green\", 2], [1.5, \"Green\", 2], [None, None, None])\n",
        "]\n",
        "\n",
        "# Compute and print the Gower similarity for each pair\n",
        "for vec1, vec2, ranges in test_cases:\n",
        "    gower = Gower(ranges)\n",
        "    similarity = gower.compute(vec1, vec2)\n",
        "    print(f\"Gower similarity between {vec1} and {vec2}: {similarity:.4f}\")"
      ],
      "metadata": {
        "id": "8vfjpoJOpmJC",
        "colab": {
          "base_uri": "https://localhost:8080/"
        },
        "outputId": "ac4bf9b8-031e-4c67-c8db-d70b4b7d9615"
      },
      "execution_count": 65,
      "outputs": [
        {
          "output_type": "stream",
          "name": "stdout",
          "text": [
            "Gower similarity between ['Red', 3.2, 5] and ['Blue', 4.1, 3]: 0.4600\n",
            "Gower similarity between [5.5, 'M', 200] and [6.1, 'F', 180]: 0.4867\n",
            "Gower similarity between [0, 'High', 10] and [1, 'Low', 10]: 0.6667\n",
            "Gower similarity between [100, 'Yes', 3.5] and [150, 'No', 2.8]: 0.7133\n",
            "Gower similarity between [1.5, 'Green', 2] and [1.5, 'Green', 2]: 0.0000\n"
          ]
        }
      ]
    },
    {
      "cell_type": "code",
      "source": [
        "from distancia import CzekanowskiDice\n",
        "\n",
        "# Define two vector\n",
        "set1 = [1.3, 0, 1, 1]\n",
        "set2 = [1, 1, 0, 1]\n",
        "\n",
        "# Calculate Dice Distance\n",
        "similarity = CzekanowskiDice().compute(set1, set2)\n",
        "\n",
        "print(f\"Czekanowski Dice similarity: {similarity:.4f}\")"
      ],
      "metadata": {
        "id": "Es6oKt5Mpq3K",
        "colab": {
          "base_uri": "https://localhost:8080/"
        },
        "outputId": "c88f5a8e-2a48-4bb5-c0d1-8ba55b8c78f4"
      },
      "execution_count": 66,
      "outputs": [
        {
          "output_type": "stream",
          "name": "stdout",
          "text": [
            "Czekanowski Dice similarity: 0.3651\n"
          ]
        }
      ]
    },
    {
      "cell_type": "code",
      "source": [
        "# Import the distancia package\n",
        "from distancia import Hellinger\n",
        "\n",
        "# Define two probability distributions\n",
        "distribution_1 = [0.2, 0.3, 0.1, 0.4]\n",
        "distribution_2 = [0.1, 0.4, 0.2, 0.3]\n",
        "\n",
        "# Create an instance of the Hellinger class\n",
        "hellinger_dist = Hellinger()\n",
        "\n",
        "# Calculate the Hellinger distance between the two distributions\n",
        "distance = hellinger_dist.compute(distribution_1, distribution_2)\n",
        "\n",
        "# Print the result\n",
        "print(f\"The Hellinger distance between the two distributions is: {distance:.4f}\")"
      ],
      "metadata": {
        "id": "rJ4tDAGqpwE0",
        "colab": {
          "base_uri": "https://localhost:8080/"
        },
        "outputId": "b44ebd65-a5d1-4aa7-c2ba-be6e4f2d1d9a"
      },
      "execution_count": 67,
      "outputs": [
        {
          "output_type": "stream",
          "name": "stdout",
          "text": [
            "The Hellinger distance between the two distributions is: 0.1560\n"
          ]
        }
      ]
    },
    {
      "cell_type": "code",
      "source": [
        "# Import the distancia package\n",
        "from distancia import MotzkinStraus\n",
        "\n",
        "# Define two vectors\n",
        "vector_1 = [1, 2, 3, 4]\n",
        "vector_2 = [4, 3, 2, 1]\n",
        "\n",
        "# Create an instance of the MotzkinStraus class\n",
        "motzkin_straus_dist = MotzkinStraus()\n",
        "\n",
        "# Calculate the Motzkin-Straus distance between the two vectors\n",
        "distance = motzkin_straus_dist.compute(vector_1, vector_2)\n",
        "\n",
        "# Print the result\n",
        "print(f\"The Motzkin-Straus distance between the two vectors is: {distance:.4f}\")"
      ],
      "metadata": {
        "id": "GTJX5i1fp9OB",
        "colab": {
          "base_uri": "https://localhost:8080/"
        },
        "outputId": "575bef51-1bd6-408d-c9b0-3e290f94b2fa"
      },
      "execution_count": 68,
      "outputs": [
        {
          "output_type": "stream",
          "name": "stdout",
          "text": [
            "The Motzkin-Straus distance between the two vectors is: 9.4721\n"
          ]
        }
      ]
    },
    {
      "cell_type": "code",
      "source": [
        "# Import the distancia package\n",
        "from distancia import EnhancedRogersTanimoto\n",
        "\n",
        "# Define two binary vectors\n",
        "vector_1 = [1, 0, 1, 1, 0]\n",
        "vector_2 = [1, 1, 1, 0, 0]\n",
        "alpha    = 1.5\n",
        "# Create an instance of the EnhancedRogersTanimoto class with specific weights\n",
        "enhanced_rt_dist = EnhancedRogersTanimoto(alpha)\n",
        "\n",
        "# Calculate the Enhanced Rogers-Tanimoto distance between the two vectors\n",
        "distance = enhanced_rt_dist.compute(vector_1, vector_2)\n",
        "\n",
        "# Print the result\n",
        "print(f\"The Enhanced Rogers-Tanimoto distance between the two vectors is: {distance:.4f}\")"
      ],
      "metadata": {
        "id": "7YhG5UmyqW8l",
        "colab": {
          "base_uri": "https://localhost:8080/"
        },
        "outputId": "12555b67-cc87-43a6-cd3d-1969e31889cf"
      },
      "execution_count": 69,
      "outputs": [
        {
          "output_type": "stream",
          "name": "stdout",
          "text": [
            "The Enhanced Rogers-Tanimoto distance between the two vectors is: 0.6154\n"
          ]
        }
      ]
    },
    {
      "cell_type": "code",
      "source": [
        "from distancia import KullbackLeibler\n",
        "# Example probability distributions\n",
        "p = [0.1, 0.4, 0.5]  # True distribution\n",
        "q = [0.2, 0.3, 0.5]  # Predicted distribution\n",
        "\n",
        "# Create an instance of KullbackLeiblerLoss\n",
        "kl_loss = KullbackLeibler()\n",
        "\n",
        "# Calculate the KL divergence\n",
        "kl_value = kl_loss(p, q)\n",
        "print(f'Kullback-Leibler Divergence: {kl_value:.4f}')"
      ],
      "metadata": {
        "id": "G02FXcQZtkZI",
        "colab": {
          "base_uri": "https://localhost:8080/"
        },
        "outputId": "6a80df78-2c47-44ec-9223-7d94bff6208a"
      },
      "execution_count": 70,
      "outputs": [
        {
          "output_type": "stream",
          "name": "stdout",
          "text": [
            "Kullback-Leibler Divergence: 0.5897\n"
          ]
        }
      ]
    },
    {
      "cell_type": "code",
      "source": [
        "\n",
        "\n",
        "from distancia import Ochiai\n",
        "# Example usage and test cases\n",
        "def run_tests() -> None:\n",
        "    \"\"\"\n",
        "    Run test cases to demonstrate usage and verify functionality.\n",
        "    \"\"\"\n",
        "    ochiai = Ochiai()\n",
        "\n",
        "    # Test with sets\n",
        "    set1 = {1, 2, 3, 4}\n",
        "    set2 = {2, 3, 4, 5}\n",
        "    print(f\"Sets test: {ochiai.compute(set1, set2)}\")\n",
        "\n",
        "    # Test with lists\n",
        "    list1 = ['a', 'b', 'c', 'd']\n",
        "    list2 = ['b', 'c', 'd', 'e']\n",
        "    print(f\"Lists test: {ochiai.compute(list1, list2)}\")\n",
        "\n",
        "    # Test with mixed types\n",
        "    mixed1 = {1, 2, 3}\n",
        "    mixed2 = [2, 3, 4]\n",
        "    print(f\"Mixed types test: {ochiai.compute(mixed1, mixed2)}\")\n",
        "\n",
        "\n",
        "if __name__ == \"__main__\":\n",
        "    run_tests()"
      ],
      "metadata": {
        "id": "dX73cwsSrdeD",
        "colab": {
          "base_uri": "https://localhost:8080/"
        },
        "outputId": "05c89083-2bfd-4d5b-913a-374b620528f9"
      },
      "execution_count": 71,
      "outputs": [
        {
          "output_type": "stream",
          "name": "stdout",
          "text": [
            "Sets test: 0.25\n",
            "Lists test: 0.25\n",
            "Mixed types test: 0.33333333333333337\n"
          ]
        }
      ]
    }
  ]
}