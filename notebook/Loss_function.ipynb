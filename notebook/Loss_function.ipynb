{
  "nbformat": 4,
  "nbformat_minor": 0,
  "metadata": {
    "colab": {
      "provenance": [],
      "authorship_tag": "ABX9TyM6OYXYK0A6dWgjp1NDp2j0",
      "include_colab_link": true
    },
    "kernelspec": {
      "name": "python3",
      "display_name": "Python 3"
    },
    "language_info": {
      "name": "python"
    }
  },
  "cells": [
    {
      "cell_type": "markdown",
      "metadata": {
        "id": "view-in-github",
        "colab_type": "text"
      },
      "source": [
        "<a href=\"https://colab.research.google.com/github/ym001/distancia/blob/master/notebook/Loss_function.ipynb\" target=\"_parent\"><img src=\"https://colab.research.google.com/assets/colab-badge.svg\" alt=\"Open In Colab\"/></a>"
      ]
    },
    {
      "cell_type": "code",
      "source": [
        "!pip install distancia==0.0.31"
      ],
      "metadata": {
        "colab": {
          "base_uri": "https://localhost:8080/"
        },
        "id": "z8EL_DCD_9Wb",
        "outputId": "5bc8eae3-3086-4e96-afe7-884934aade6c"
      },
      "execution_count": 2,
      "outputs": [
        {
          "output_type": "stream",
          "name": "stdout",
          "text": [
            "Collecting distancia==0.0.31\n",
            "  Downloading distancia-0.0.31-py3-none-any.whl.metadata (4.3 kB)\n",
            "Downloading distancia-0.0.31-py3-none-any.whl (35 kB)\n",
            "Installing collected packages: distancia\n",
            "Successfully installed distancia-0.0.31\n"
          ]
        }
      ]
    },
    {
      "cell_type": "code",
      "source": [
        "from distancia import CrossEntropy\n",
        "\n",
        "# Exemple de données\n",
        "y_true = [[1, 2], [0, 1]]  # Étiquettes réelles\n",
        "y_pred = [[[0.1, 0.2, 0.7], [0.3, 0.4, 0.3]],\n",
        "      [[0.5, 0.2, 0.3], [0.6, 0.3, 0.1]]]  # Prédictions du modèle\n",
        "\n",
        "# Créer une instance de CrossEntropy\n",
        "loss_fn = CrossEntropy()\n",
        "\n",
        "# Calculer la perte\n",
        "loss_value = loss_fn(y_true, y_pred)\n",
        "print(f'Cross Entropy Loss: {loss_value}')"
      ],
      "metadata": {
        "colab": {
          "base_uri": "https://localhost:8080/"
        },
        "id": "tljkJ7J6s5an",
        "outputId": "72797b1f-2e89-4b92-e123-3310ae461ffa"
      },
      "execution_count": 3,
      "outputs": [
        {
          "output_type": "stream",
          "name": "stdout",
          "text": [
            "Cross Entropy Loss: -0.2534601641198856\n"
          ]
        }
      ]
    },
    {
      "cell_type": "code",
      "execution_count": null,
      "metadata": {
        "colab": {
          "base_uri": "https://localhost:8080/"
        },
        "id": "Fe_CCh7b_xRp",
        "outputId": "1548f922-243b-4ccd-9e1d-209802312740"
      },
      "outputs": [
        {
          "output_type": "stream",
          "name": "stdout",
          "text": [
            "Mean Absolute Error: 0.5\n"
          ]
        }
      ],
      "source": [
        "from distancia import MeanAbsoluteError\n",
        "\n",
        "# Example true and predicted values\n",
        "y_true = [3.0, -0.5, 2.0, 7.0]\n",
        "y_pred = [2.5, 0.0, 2.0, 8.0]\n",
        "\n",
        "# Create an instance of MeanAbsoluteError\n",
        "mae_loss = MeanAbsoluteError()\n",
        "\n",
        "# Calculate the Mean Absolute Error\n",
        "mae_value = mae_loss(y_true, y_pred)\n",
        "print(f'Mean Absolute Error: {mae_value}')"
      ]
    },
    {
      "cell_type": "code",
      "source": [
        "from distancia import MeanAbsolutePercentageError\n",
        "\n",
        "# Example true and predicted values\n",
        "y_true = [100, 200, 300, 400]\n",
        "y_pred = [110, 190, 310, 390]\n",
        "\n",
        "# Create an instance of MeanAbsolutePercentageError\n",
        "mape_loss = MeanAbsolutePercentageError()\n",
        "\n",
        "# Calculate the Mean Absolute Percentage Error\n",
        "mape_value = mape_loss(y_true, y_pred)\n",
        "print(f'Mean Absolute Percentage Error: {mape_value}%')"
      ],
      "metadata": {
        "colab": {
          "base_uri": "https://localhost:8080/"
        },
        "id": "DTtmEtL3AMQu",
        "outputId": "1fa9caf1-f132-4b51-80ce-7fc3da74c600"
      },
      "execution_count": null,
      "outputs": [
        {
          "output_type": "stream",
          "name": "stdout",
          "text": [
            "Mean Absolute Percentage Error: 5.208333333333334%\n"
          ]
        }
      ]
    },
    {
      "cell_type": "code",
      "source": [
        "from distancia import MeanSquaredError\n",
        "\n",
        "# Example true and predicted values\n",
        "y_true = [3.0, -0.5, 2.0, 7.0]\n",
        "y_pred = [2.5, 0.0, 2.0, 8.0]\n",
        "\n",
        "# Create an instance of MeanSquaredError\n",
        "mse_loss = MeanSquaredError()\n",
        "\n",
        "# Calculate the Mean Squared Error\n",
        "mse_value = mse_loss(y_true, y_pred)\n",
        "print(f'Mean Squared Error: {mse_value}')"
      ],
      "metadata": {
        "colab": {
          "base_uri": "https://localhost:8080/"
        },
        "id": "vkAi4FENAWam",
        "outputId": "56e67317-33f6-4282-ce08-eb16c89e9b56"
      },
      "execution_count": null,
      "outputs": [
        {
          "output_type": "stream",
          "name": "stdout",
          "text": [
            "Mean Squared Error: 0.375\n"
          ]
        }
      ]
    },
    {
      "cell_type": "code",
      "source": [
        "from distancia import SquaredLogarithmicError\n",
        "\n",
        "# Example true and predicted values\n",
        "y_true = [1.0, 2.0, 3.0, 4.0]\n",
        "y_pred = [1.1, 1.9, 2.5, 3.8]\n",
        "\n",
        "# Create an instance of SquaredLogarithmicError\n",
        "sle_loss = SquaredLogarithmicError()\n",
        "\n",
        "# Calculate the Squared Logarithmic Error\n",
        "sle_value = sle_loss(y_true, y_pred)\n",
        "print(f'Squared Logarithmic Error: {sle_value}')"
      ],
      "metadata": {
        "colab": {
          "base_uri": "https://localhost:8080/"
        },
        "id": "c2gJU0AjAjNd",
        "outputId": "a63bbd22-6274-47db-aa6f-bd18e74f1742"
      },
      "execution_count": null,
      "outputs": [
        {
          "output_type": "stream",
          "name": "stdout",
          "text": [
            "Squared Logarithmic Error: 0.001628667950882241\n"
          ]
        }
      ]
    }
  ]
}