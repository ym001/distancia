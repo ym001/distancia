{
  "nbformat": 4,
  "nbformat_minor": 0,
  "metadata": {
    "colab": {
      "provenance": [],
      "authorship_tag": "ABX9TyOW2E/WKPVGEp2CipFj8wjy",
      "include_colab_link": true
    },
    "kernelspec": {
      "name": "python3",
      "display_name": "Python 3"
    },
    "language_info": {
      "name": "python"
    }
  },
  "cells": [
    {
      "cell_type": "markdown",
      "metadata": {
        "id": "view-in-github",
        "colab_type": "text"
      },
      "source": [
        "<a href=\"https://colab.research.google.com/github/ym001/distancia/blob/master/notebook/matrixDistance.ipynb\" target=\"_parent\"><img src=\"https://colab.research.google.com/assets/colab-badge.svg\" alt=\"Open In Colab\"/></a>"
      ]
    },
    {
      "cell_type": "code",
      "execution_count": 1,
      "metadata": {
        "colab": {
          "base_uri": "https://localhost:8080/"
        },
        "id": "5WmhnPkMvnWP",
        "outputId": "5f90fa6e-ecd3-4172-9e4c-eaf9188df14c"
      },
      "outputs": [
        {
          "output_type": "stream",
          "name": "stdout",
          "text": [
            "Collecting distancia==0.0.73\n",
            "  Downloading distancia-0.0.73-py3-none-any.whl.metadata (15 kB)\n",
            "Downloading distancia-0.0.73-py3-none-any.whl (129 kB)\n",
            "\u001b[?25l   \u001b[90m━━━━━━━━━━━━━━━━━━━━━━━━━━━━━━━━━━━━━━━━\u001b[0m \u001b[32m0.0/129.1 kB\u001b[0m \u001b[31m?\u001b[0m eta \u001b[36m-:--:--\u001b[0m\r\u001b[2K   \u001b[90m━━━━━━━━━━━━━━━━━━━━━━━━━━━━━━━━━━━━━━━━\u001b[0m \u001b[32m129.1/129.1 kB\u001b[0m \u001b[31m7.5 MB/s\u001b[0m eta \u001b[36m0:00:00\u001b[0m\n",
            "\u001b[?25hInstalling collected packages: distancia\n",
            "Successfully installed distancia-0.0.73\n"
          ]
        }
      ],
      "source": [
        "!pip install distancia==0.0.73"
      ]
    },
    {
      "cell_type": "code",
      "source": [
        "from typing import List, Union\n",
        "import math\n",
        "from distancia import Distance\n",
        "from itertools import chain\n",
        "def from_iterable(iterables):\n",
        "    # chain.from_iterable(['ABC', 'DEF']) --> A B C D E F\n",
        "    for it in iterables:\n",
        "        for element in it:\n",
        "            yield element\n",
        "\n",
        "\n",
        "def main():\n",
        "    ed = Euclidean()\n",
        "\n",
        "    print(\"Example with vectors:\")\n",
        "    v1 = [1.0, 2.0, 3.0]\n",
        "    v2 = [4.0, 5.0, 6.0]\n",
        "\n",
        "    vector_distance = ed.compute(v1, v2)\n",
        "    print(f\"Euclidean distance between {v1} and {v2}: {vector_distance:.4f}\")\n",
        "\n",
        "    print(\"\\nExample with matrices:\")\n",
        "    m1 = [[1.0, 2.0, 3.0], [4.0, 5.0, 6.0]]\n",
        "    m2 = [[7.0, 8.0, 9.0], [10.0, 11.0, 12.0]]\n",
        "\n",
        "    matrix_distance = ed.compute(m1, m2)\n",
        "    print(f\"Euclidean distance between {m1} and {m2}: {matrix_distance:.4f}\")\n",
        "\n",
        "\n",
        "    print(\"\\nError handling examples:\")\n",
        "    try:\n",
        "        ed.compute([1.0, 2.0], [1.0, 2.0, 3.0])\n",
        "    except ValueError as e:\n",
        "        print(f\"Error caught: {e}\")\n",
        "\n",
        "    try:\n",
        "        ed.compute([[1.0, 2.0], [3.0, 4.0]], [[1.0, 2.0, 3.0], [4.0, 5.0, 6.0]])\n",
        "    except ValueError as e:\n",
        "        print(f\"Error caught: {e}\")\n",
        "\n",
        "if __name__ == \"__main__\":\n",
        "    main()\n"
      ],
      "metadata": {
        "id": "agbfhcHyxPQ2",
        "colab": {
          "base_uri": "https://localhost:8080/",
          "height": 400
        },
        "outputId": "043feb76-c9c5-4a45-cbd1-b587d7ef9bb1"
      },
      "execution_count": 32,
      "outputs": [
        {
          "output_type": "stream",
          "name": "stdout",
          "text": [
            "Example with vectors:\n",
            "Euclidean distance between [1.0, 2.0, 3.0] and [4.0, 5.0, 6.0]: 5.1962\n",
            "\n",
            "Example with matrices:\n"
          ]
        },
        {
          "output_type": "error",
          "ename": "TypeError",
          "evalue": "must be real number, not list",
          "traceback": [
            "\u001b[0;31m---------------------------------------------------------------------------\u001b[0m",
            "\u001b[0;31mTypeError\u001b[0m                                 Traceback (most recent call last)",
            "\u001b[0;32m<ipython-input-32-59315b4db6e8>\u001b[0m in \u001b[0;36m<cell line: 41>\u001b[0;34m()\u001b[0m\n\u001b[1;32m     40\u001b[0m \u001b[0;34m\u001b[0m\u001b[0m\n\u001b[1;32m     41\u001b[0m \u001b[0;32mif\u001b[0m \u001b[0m__name__\u001b[0m \u001b[0;34m==\u001b[0m \u001b[0;34m\"__main__\"\u001b[0m\u001b[0;34m:\u001b[0m\u001b[0;34m\u001b[0m\u001b[0;34m\u001b[0m\u001b[0m\n\u001b[0;32m---> 42\u001b[0;31m     \u001b[0mmain\u001b[0m\u001b[0;34m(\u001b[0m\u001b[0;34m)\u001b[0m\u001b[0;34m\u001b[0m\u001b[0;34m\u001b[0m\u001b[0m\n\u001b[0m",
            "\u001b[0;32m<ipython-input-32-59315b4db6e8>\u001b[0m in \u001b[0;36mmain\u001b[0;34m()\u001b[0m\n\u001b[1;32m     24\u001b[0m     \u001b[0mm2\u001b[0m \u001b[0;34m=\u001b[0m \u001b[0;34m[\u001b[0m\u001b[0;34m[\u001b[0m\u001b[0;36m7.0\u001b[0m\u001b[0;34m,\u001b[0m \u001b[0;36m8.0\u001b[0m\u001b[0;34m,\u001b[0m \u001b[0;36m9.0\u001b[0m\u001b[0;34m]\u001b[0m\u001b[0;34m,\u001b[0m \u001b[0;34m[\u001b[0m\u001b[0;36m10.0\u001b[0m\u001b[0;34m,\u001b[0m \u001b[0;36m11.0\u001b[0m\u001b[0;34m,\u001b[0m \u001b[0;36m12.0\u001b[0m\u001b[0;34m]\u001b[0m\u001b[0;34m]\u001b[0m\u001b[0;34m\u001b[0m\u001b[0;34m\u001b[0m\u001b[0m\n\u001b[1;32m     25\u001b[0m \u001b[0;34m\u001b[0m\u001b[0m\n\u001b[0;32m---> 26\u001b[0;31m     \u001b[0mmatrix_distance\u001b[0m \u001b[0;34m=\u001b[0m \u001b[0med\u001b[0m\u001b[0;34m.\u001b[0m\u001b[0mcompute\u001b[0m\u001b[0;34m(\u001b[0m\u001b[0mm1\u001b[0m\u001b[0;34m,\u001b[0m \u001b[0mm2\u001b[0m\u001b[0;34m)\u001b[0m\u001b[0;34m\u001b[0m\u001b[0;34m\u001b[0m\u001b[0m\n\u001b[0m\u001b[1;32m     27\u001b[0m     \u001b[0mprint\u001b[0m\u001b[0;34m(\u001b[0m\u001b[0;34mf\"Euclidean distance between {m1} and {m2}: {matrix_distance:.4f}\"\u001b[0m\u001b[0;34m)\u001b[0m\u001b[0;34m\u001b[0m\u001b[0;34m\u001b[0m\u001b[0m\n\u001b[1;32m     28\u001b[0m \u001b[0;34m\u001b[0m\u001b[0m\n",
            "\u001b[0;32m/usr/local/lib/python3.10/dist-packages/distancia/vectorDistance.py\u001b[0m in \u001b[0;36mcompute\u001b[0;34m(self, point1, point2)\u001b[0m\n\u001b[1;32m     23\u001b[0m                 \u001b[0mpoint1\u001b[0m\u001b[0;34m=\u001b[0m\u001b[0mtuple\u001b[0m\u001b[0;34m(\u001b[0m\u001b[0mpoint1\u001b[0m\u001b[0;34m)\u001b[0m\u001b[0;34m\u001b[0m\u001b[0;34m\u001b[0m\u001b[0m\n\u001b[1;32m     24\u001b[0m                 \u001b[0mpoint2\u001b[0m\u001b[0;34m=\u001b[0m\u001b[0mtuple\u001b[0m\u001b[0;34m(\u001b[0m\u001b[0mpoint2\u001b[0m\u001b[0;34m)\u001b[0m\u001b[0;34m\u001b[0m\u001b[0;34m\u001b[0m\u001b[0m\n\u001b[0;32m---> 25\u001b[0;31m                 \u001b[0;32mreturn\u001b[0m \u001b[0mmath\u001b[0m\u001b[0;34m.\u001b[0m\u001b[0mdist\u001b[0m\u001b[0;34m(\u001b[0m\u001b[0mpoint1\u001b[0m\u001b[0;34m,\u001b[0m\u001b[0mpoint2\u001b[0m\u001b[0;34m)\u001b[0m\u001b[0;34m\u001b[0m\u001b[0;34m\u001b[0m\u001b[0m\n\u001b[0m\u001b[1;32m     26\u001b[0m \u001b[0;34m\u001b[0m\u001b[0m\n\u001b[1;32m     27\u001b[0m \u001b[0;32mclass\u001b[0m \u001b[0mL2\u001b[0m\u001b[0;34m(\u001b[0m\u001b[0mEuclidean\u001b[0m\u001b[0;34m)\u001b[0m\u001b[0;34m:\u001b[0m\u001b[0;34m\u001b[0m\u001b[0;34m\u001b[0m\u001b[0m\n",
            "\u001b[0;31mTypeError\u001b[0m: must be real number, not list"
          ]
        }
      ]
    },
    {
      "cell_type": "code",
      "source": [
        "#Manhattan\n",
        "\n",
        "from typing import List, Union\n",
        "\n",
        "class Manhattan(Distance):\n",
        "\n",
        "    def __init__(self)-> None:\n",
        "        super().__init__()\n",
        "        self.type='vec_float'\n",
        "    \"\"\"\n",
        "    A class to calculate Manhattan distance between vectors or matrices.\n",
        "    \"\"\"\n",
        "\n",
        "    @staticmethod\n",
        "    def vector_distance(v1: List[float], v2: List[float]) -> float:\n",
        "        \"\"\"\n",
        "        Calculate Manhattan distance between two vectors.\n",
        "\n",
        "        Args:\n",
        "            v1 (List[float]): First vector\n",
        "            v2 (List[float]): Second vector\n",
        "\n",
        "        Returns:\n",
        "            float: Manhattan distance between v1 and v2\n",
        "\n",
        "        Raises:\n",
        "            ValueError: If vectors have different lengths\n",
        "        \"\"\"\n",
        "        if len(v1) != len(v2):\n",
        "            raise ValueError(\"Vectors must have the same length\")\n",
        "\n",
        "        return sum(abs(a - b) for a, b in zip(v1, v2))\n",
        "\n",
        "    @staticmethod\n",
        "    def matrix_distance(m1: List[List[float]], m2: List[List[float]]) -> float:\n",
        "        \"\"\"\n",
        "        Calculate Manhattan distance between two matrices.\n",
        "\n",
        "        Args:\n",
        "            m1 (List[List[float]]): First matrix\n",
        "            m2 (List[List[float]]): Second matrix\n",
        "\n",
        "        Returns:\n",
        "            float: Manhattan distance between m1 and m2\n",
        "\n",
        "        Raises:\n",
        "            ValueError: If matrices have different shapes\n",
        "        \"\"\"\n",
        "        if len(m1) != len(m2) or any(len(row1) != len(row2) for row1, row2 in zip(m1, m2)):\n",
        "            raise ValueError(\"Matrices must have the same shape\")\n",
        "\n",
        "        return sum(abs(a - b) for row1, row2 in zip(m1, m2) for a, b in zip(row1, row2))\n",
        "\n",
        "    @classmethod\n",
        "    def compute(cls, a: Union[List[float], List[List[float]]],\n",
        "                  b: Union[List[float], List[List[float]]]) -> float:\n",
        "        \"\"\"\n",
        "        Calculate Manhattan distance between two arrays (vectors or matrices).\n",
        "\n",
        "        Args:\n",
        "            a (Union[List[float], List[List[float]]]): First array\n",
        "            b (Union[List[float], List[List[float]]]): Second array\n",
        "\n",
        "        Returns:\n",
        "            float: Manhattan distance between a and b\n",
        "\n",
        "        Raises:\n",
        "            ValueError: If inputs have different shapes or are not 1D or 2D\n",
        "        \"\"\"\n",
        "        if isinstance(a[0], (int, float)) and isinstance(b[0], (int, float)):\n",
        "            return cls.vector_distance(a, b)\n",
        "        elif isinstance(a[0], list) and isinstance(b[0], list):\n",
        "            return cls.matrix_distance(a, b)\n",
        "        else:\n",
        "            raise ValueError(\"Inputs must be 1D or 2D arrays\")\n",
        "\n",
        "\n",
        "# Pour les vecteurs\n",
        "v1 = [1, 2, 3]\n",
        "v2 = [4, 5, 6]\n",
        "distance_v = Manhattan.compute(v1, v2)\n",
        "print(f\"Distance entre vecteurs : {distance_v}\")\n",
        "\n",
        "# Pour les matrices\n",
        "m1 = [[1, 2], [3, 4]]\n",
        "m2 = [[5, 6], [7, 8]]\n",
        "distance_m = Manhattan.compute(m1, m2)\n",
        "print(f\"Distance entre matrices : {distance_m}\")"
      ],
      "metadata": {
        "id": "1KBrK9XRWa3p",
        "colab": {
          "base_uri": "https://localhost:8080/"
        },
        "outputId": "6cc9fab6-92df-4d24-8a95-67e19f7b75b1"
      },
      "execution_count": null,
      "outputs": [
        {
          "output_type": "stream",
          "name": "stdout",
          "text": [
            "Distance entre vecteurs : 9\n",
            "Distance entre matrices : 16\n"
          ]
        }
      ]
    },
    {
      "cell_type": "code",
      "source": [
        "#Chebyshev\n",
        "from typing import List, Union\n",
        "\n",
        "class Chebyshev(Distance):\n",
        "\n",
        "    def __init__(self)-> None:\n",
        "        super().__init__()\n",
        "        self.type='vec_float'\n",
        "    \"\"\"\n",
        "    A class to calculate Chebyshev distance between vectors or matrices.\n",
        "    \"\"\"\n",
        "\n",
        "    @staticmethod\n",
        "    def vector_distance(v1: List[float], v2: List[float]) -> float:\n",
        "        \"\"\"\n",
        "        Calculate Chebyshev distance between two vectors.\n",
        "\n",
        "        Args:\n",
        "            v1 (List[float]): First vector\n",
        "            v2 (List[float]): Second vector\n",
        "\n",
        "        Returns:\n",
        "            float: Chebyshev distance between v1 and v2\n",
        "\n",
        "        Raises:\n",
        "            ValueError: If vectors have different lengths\n",
        "        \"\"\"\n",
        "        if len(v1) != len(v2):\n",
        "            raise ValueError(\"Vectors must have the same length\")\n",
        "\n",
        "        return max(abs(a - b) for a, b in zip(v1, v2))\n",
        "\n",
        "    @staticmethod\n",
        "    def matrix_distance(m1: List[List[float]], m2: List[List[float]]) -> float:\n",
        "        \"\"\"\n",
        "        Calculate Chebyshev distance between two matrices.\n",
        "\n",
        "        Args:\n",
        "            m1 (List[List[float]]): First matrix\n",
        "            m2 (List[List[float]]): Second matrix\n",
        "\n",
        "        Returns:\n",
        "            float: Chebyshev distance between m1 and m2\n",
        "\n",
        "        Raises:\n",
        "            ValueError: If matrices have different shapes\n",
        "        \"\"\"\n",
        "        if len(m1) != len(m2) or any(len(row1) != len(row2) for row1, row2 in zip(m1, m2)):\n",
        "            raise ValueError(\"Matrices must have the same shape\")\n",
        "\n",
        "        return max(abs(a - b) for row1, row2 in zip(m1, m2) for a, b in zip(row1, row2))\n",
        "\n",
        "    @classmethod\n",
        "    def compute(cls, a: Union[List[float], List[List[float]]],\n",
        "                  b: Union[List[float], List[List[float]]]) -> float:\n",
        "        \"\"\"\n",
        "        Calculate Chebyshev distance between two arrays (vectors or matrices).\n",
        "\n",
        "        Args:\n",
        "            a (Union[List[float], List[List[float]]]): First array\n",
        "            b (Union[List[float], List[List[float]]]): Second array\n",
        "\n",
        "        Returns:\n",
        "            float: Chebyshev distance between a and b\n",
        "\n",
        "        Raises:\n",
        "            ValueError: If inputs have different shapes or are not 1D or 2D\n",
        "        \"\"\"\n",
        "        if isinstance(a[0], (int, float)) and isinstance(b[0], (int, float)):\n",
        "            return cls.vector_distance(a, b)\n",
        "        elif isinstance(a[0], list) and isinstance(b[0], list):\n",
        "            return cls.matrix_distance(a, b)\n",
        "        else:\n",
        "            raise ValueError(\"Inputs must be 1D or 2D arrays\")\n",
        "\n",
        "\n",
        "# Pour les vecteurs\n",
        "v1 = [1, 2, 3]\n",
        "v2 = [4, 5, 6]\n",
        "distance_v = Chebyshev.compute(v1, v2)\n",
        "print(f\"Distance entre vecteurs : {distance_v}\")\n",
        "\n",
        "# Pour les matrices\n",
        "m1 = [[1, 2], [3, 4]]\n",
        "m2 = [[5, 6], [7, 8]]\n",
        "distance_m = Chebyshev.compute(m1, m2)\n",
        "print(f\"Distance entre matrices : {distance_m}\")"
      ],
      "metadata": {
        "id": "x5e6dZPCXInM",
        "colab": {
          "base_uri": "https://localhost:8080/"
        },
        "outputId": "22f9dea0-3428-4ff3-adb7-853cc2e6858f"
      },
      "execution_count": null,
      "outputs": [
        {
          "output_type": "stream",
          "name": "stdout",
          "text": [
            "Distance entre vecteurs : 3\n",
            "Distance entre matrices : 4\n"
          ]
        }
      ]
    },
    {
      "cell_type": "code",
      "source": [
        "#Minkowski\n",
        "from typing import List, Union\n",
        "\n",
        "class Minkowski(Distance):\n",
        "\n",
        "    def __init__(self, p=3)-> None:\n",
        "        super().__init__()\n",
        "        self.type='vec_float'\n",
        "        self.p=p\n",
        "    \"\"\"\n",
        "    A class to calculate Minkowski distance between vectors or matrices.\n",
        "    \"\"\"\n",
        "\n",
        "\n",
        "    def vector_distance(self,v1: List[float], v2: List[float]) -> float:\n",
        "        \"\"\"\n",
        "        Calculate Minkowski distance between two vectors.\n",
        "\n",
        "        Args:\n",
        "            v1 (List[float]): First vector\n",
        "            v2 (List[float]): Second vector\n",
        "\n",
        "        Returns:\n",
        "            float: Chebyshev distance between v1 and v2\n",
        "\n",
        "        Raises:\n",
        "            ValueError: If vectors have different lengths\n",
        "        \"\"\"\n",
        "        if len(v1) != len(v2):\n",
        "            raise ValueError(\"Vectors must have the same length\")\n",
        "\n",
        "        return sum(abs(p1 - p2) ** self.p for p1, p2 in zip(v1,v2)) ** (1 / self.p)\n",
        "\n",
        "    def matrix_distance(self,m1: List[List[float]], m2: List[List[float]]) -> float:\n",
        "        \"\"\"\n",
        "        Calculate Minkowski distance between two matrices.\n",
        "\n",
        "        Args:\n",
        "            m1 (List[List[float]]): First matrix\n",
        "            m2 (List[List[float]]): Second matrix\n",
        "\n",
        "        Returns:\n",
        "            float: Minkowski distance between m1 and m2\n",
        "\n",
        "        Raises:\n",
        "            ValueError: If matrices have different shapes\n",
        "        \"\"\"\n",
        "        if len(m1) != len(m2) or any(len(row1) != len(row2) for row1, row2 in zip(m1, m2)):\n",
        "            raise ValueError(\"Matrices must have the same shape\")\n",
        "        v1 = list(chain.from_iterable(m1))\n",
        "        v2 = list(chain.from_iterable(m2))\n",
        "\n",
        "        return self.vector_distance(v1,v2)\n",
        "\n",
        "    def compute(self, a: Union[List[float], List[List[float]]],\n",
        "                  b: Union[List[float], List[List[float]]]) -> float:\n",
        "        \"\"\"\n",
        "        Calculate Minkowski distance between two arrays (vectors or matrices).\n",
        "\n",
        "        Args:\n",
        "            a (Union[List[float], List[List[float]]]): First array\n",
        "            b (Union[List[float], List[List[float]]]): Second array\n",
        "\n",
        "        Returns:\n",
        "            float: Minkowski distance between a and b\n",
        "\n",
        "        Raises:\n",
        "            ValueError: If inputs have different shapes or are not 1D or 2D\n",
        "        \"\"\"\n",
        "        if isinstance(a[0], (int, float)) and isinstance(b[0], (int, float)):\n",
        "            return self.vector_distance(a, b)\n",
        "        elif isinstance(a[0], list) and isinstance(b[0], list):\n",
        "            return self.matrix_distance(a, b)\n",
        "        else:\n",
        "            raise ValueError(\"Inputs must be 1D or 2D arrays\")\n",
        "\n",
        "\n",
        "v1 = [1, 2, 3]\n",
        "v2 = [4, 5, 6]\n",
        "distance_v = Minkowski().compute(v1, v2)\n",
        "print(f\"Distance de Minkowski entre vecteurs : {distance_v}\")\n",
        "\n",
        "m1 = [[1, 2], [3, 4]]\n",
        "m2 = [[5, 6], [7, 8]]\n",
        "distance_m = Minkowski().compute(m1, m2)\n",
        "print(f\"Distance de Minkowski entre matrices : {distance_m}\")"
      ],
      "metadata": {
        "id": "jO2Aq1ngYBdw",
        "colab": {
          "base_uri": "https://localhost:8080/",
          "height": 365
        },
        "outputId": "5ad9d7b0-3baf-4ca7-d0ab-2f370efdc196"
      },
      "execution_count": 31,
      "outputs": [
        {
          "output_type": "stream",
          "name": "stdout",
          "text": [
            "Distance de Minkowski entre vecteurs : 4.3267487109222245\n"
          ]
        },
        {
          "output_type": "error",
          "ename": "NameError",
          "evalue": "name 'chain' is not defined",
          "traceback": [
            "\u001b[0;31m---------------------------------------------------------------------------\u001b[0m",
            "\u001b[0;31mNameError\u001b[0m                                 Traceback (most recent call last)",
            "\u001b[0;32m<ipython-input-31-cca72c11eeef>\u001b[0m in \u001b[0;36m<cell line: 85>\u001b[0;34m()\u001b[0m\n\u001b[1;32m     83\u001b[0m \u001b[0mm1\u001b[0m \u001b[0;34m=\u001b[0m \u001b[0;34m[\u001b[0m\u001b[0;34m[\u001b[0m\u001b[0;36m1\u001b[0m\u001b[0;34m,\u001b[0m \u001b[0;36m2\u001b[0m\u001b[0;34m]\u001b[0m\u001b[0;34m,\u001b[0m \u001b[0;34m[\u001b[0m\u001b[0;36m3\u001b[0m\u001b[0;34m,\u001b[0m \u001b[0;36m4\u001b[0m\u001b[0;34m]\u001b[0m\u001b[0;34m]\u001b[0m\u001b[0;34m\u001b[0m\u001b[0;34m\u001b[0m\u001b[0m\n\u001b[1;32m     84\u001b[0m \u001b[0mm2\u001b[0m \u001b[0;34m=\u001b[0m \u001b[0;34m[\u001b[0m\u001b[0;34m[\u001b[0m\u001b[0;36m5\u001b[0m\u001b[0;34m,\u001b[0m \u001b[0;36m6\u001b[0m\u001b[0;34m]\u001b[0m\u001b[0;34m,\u001b[0m \u001b[0;34m[\u001b[0m\u001b[0;36m7\u001b[0m\u001b[0;34m,\u001b[0m \u001b[0;36m8\u001b[0m\u001b[0;34m]\u001b[0m\u001b[0;34m]\u001b[0m\u001b[0;34m\u001b[0m\u001b[0;34m\u001b[0m\u001b[0m\n\u001b[0;32m---> 85\u001b[0;31m \u001b[0mdistance_m\u001b[0m \u001b[0;34m=\u001b[0m \u001b[0mMinkowski\u001b[0m\u001b[0;34m(\u001b[0m\u001b[0;34m)\u001b[0m\u001b[0;34m.\u001b[0m\u001b[0mcompute\u001b[0m\u001b[0;34m(\u001b[0m\u001b[0mm1\u001b[0m\u001b[0;34m,\u001b[0m \u001b[0mm2\u001b[0m\u001b[0;34m)\u001b[0m\u001b[0;34m\u001b[0m\u001b[0;34m\u001b[0m\u001b[0m\n\u001b[0m\u001b[1;32m     86\u001b[0m \u001b[0mprint\u001b[0m\u001b[0;34m(\u001b[0m\u001b[0;34mf\"Distance de Minkowski entre matrices : {distance_m}\"\u001b[0m\u001b[0;34m)\u001b[0m\u001b[0;34m\u001b[0m\u001b[0;34m\u001b[0m\u001b[0m\n",
            "\u001b[0;32m<ipython-input-31-cca72c11eeef>\u001b[0m in \u001b[0;36mcompute\u001b[0;34m(self, a, b)\u001b[0m\n\u001b[1;32m     71\u001b[0m             \u001b[0;32mreturn\u001b[0m \u001b[0mself\u001b[0m\u001b[0;34m.\u001b[0m\u001b[0mvector_distance\u001b[0m\u001b[0;34m(\u001b[0m\u001b[0ma\u001b[0m\u001b[0;34m,\u001b[0m \u001b[0mb\u001b[0m\u001b[0;34m)\u001b[0m\u001b[0;34m\u001b[0m\u001b[0;34m\u001b[0m\u001b[0m\n\u001b[1;32m     72\u001b[0m         \u001b[0;32melif\u001b[0m \u001b[0misinstance\u001b[0m\u001b[0;34m(\u001b[0m\u001b[0ma\u001b[0m\u001b[0;34m[\u001b[0m\u001b[0;36m0\u001b[0m\u001b[0;34m]\u001b[0m\u001b[0;34m,\u001b[0m \u001b[0mlist\u001b[0m\u001b[0;34m)\u001b[0m \u001b[0;32mand\u001b[0m \u001b[0misinstance\u001b[0m\u001b[0;34m(\u001b[0m\u001b[0mb\u001b[0m\u001b[0;34m[\u001b[0m\u001b[0;36m0\u001b[0m\u001b[0;34m]\u001b[0m\u001b[0;34m,\u001b[0m \u001b[0mlist\u001b[0m\u001b[0;34m)\u001b[0m\u001b[0;34m:\u001b[0m\u001b[0;34m\u001b[0m\u001b[0;34m\u001b[0m\u001b[0m\n\u001b[0;32m---> 73\u001b[0;31m             \u001b[0;32mreturn\u001b[0m \u001b[0mself\u001b[0m\u001b[0;34m.\u001b[0m\u001b[0mmatrix_distance\u001b[0m\u001b[0;34m(\u001b[0m\u001b[0ma\u001b[0m\u001b[0;34m,\u001b[0m \u001b[0mb\u001b[0m\u001b[0;34m)\u001b[0m\u001b[0;34m\u001b[0m\u001b[0;34m\u001b[0m\u001b[0m\n\u001b[0m\u001b[1;32m     74\u001b[0m         \u001b[0;32melse\u001b[0m\u001b[0;34m:\u001b[0m\u001b[0;34m\u001b[0m\u001b[0;34m\u001b[0m\u001b[0m\n\u001b[1;32m     75\u001b[0m             \u001b[0;32mraise\u001b[0m \u001b[0mValueError\u001b[0m\u001b[0;34m(\u001b[0m\u001b[0;34m\"Inputs must be 1D or 2D arrays\"\u001b[0m\u001b[0;34m)\u001b[0m\u001b[0;34m\u001b[0m\u001b[0;34m\u001b[0m\u001b[0m\n",
            "\u001b[0;32m<ipython-input-31-cca72c11eeef>\u001b[0m in \u001b[0;36mmatrix_distance\u001b[0;34m(self, m1, m2)\u001b[0m\n\u001b[1;32m     48\u001b[0m         \u001b[0;32mif\u001b[0m \u001b[0mlen\u001b[0m\u001b[0;34m(\u001b[0m\u001b[0mm1\u001b[0m\u001b[0;34m)\u001b[0m \u001b[0;34m!=\u001b[0m \u001b[0mlen\u001b[0m\u001b[0;34m(\u001b[0m\u001b[0mm2\u001b[0m\u001b[0;34m)\u001b[0m \u001b[0;32mor\u001b[0m \u001b[0many\u001b[0m\u001b[0;34m(\u001b[0m\u001b[0mlen\u001b[0m\u001b[0;34m(\u001b[0m\u001b[0mrow1\u001b[0m\u001b[0;34m)\u001b[0m \u001b[0;34m!=\u001b[0m \u001b[0mlen\u001b[0m\u001b[0;34m(\u001b[0m\u001b[0mrow2\u001b[0m\u001b[0;34m)\u001b[0m \u001b[0;32mfor\u001b[0m \u001b[0mrow1\u001b[0m\u001b[0;34m,\u001b[0m \u001b[0mrow2\u001b[0m \u001b[0;32min\u001b[0m \u001b[0mzip\u001b[0m\u001b[0;34m(\u001b[0m\u001b[0mm1\u001b[0m\u001b[0;34m,\u001b[0m \u001b[0mm2\u001b[0m\u001b[0;34m)\u001b[0m\u001b[0;34m)\u001b[0m\u001b[0;34m:\u001b[0m\u001b[0;34m\u001b[0m\u001b[0;34m\u001b[0m\u001b[0m\n\u001b[1;32m     49\u001b[0m             \u001b[0;32mraise\u001b[0m \u001b[0mValueError\u001b[0m\u001b[0;34m(\u001b[0m\u001b[0;34m\"Matrices must have the same shape\"\u001b[0m\u001b[0;34m)\u001b[0m\u001b[0;34m\u001b[0m\u001b[0;34m\u001b[0m\u001b[0m\n\u001b[0;32m---> 50\u001b[0;31m         \u001b[0mv1\u001b[0m \u001b[0;34m=\u001b[0m \u001b[0mlist\u001b[0m\u001b[0;34m(\u001b[0m\u001b[0mchain\u001b[0m\u001b[0;34m.\u001b[0m\u001b[0mfrom_iterable\u001b[0m\u001b[0;34m(\u001b[0m\u001b[0mm1\u001b[0m\u001b[0;34m)\u001b[0m\u001b[0;34m)\u001b[0m\u001b[0;34m\u001b[0m\u001b[0;34m\u001b[0m\u001b[0m\n\u001b[0m\u001b[1;32m     51\u001b[0m         \u001b[0mv2\u001b[0m \u001b[0;34m=\u001b[0m \u001b[0mlist\u001b[0m\u001b[0;34m(\u001b[0m\u001b[0mchain\u001b[0m\u001b[0;34m.\u001b[0m\u001b[0mfrom_iterable\u001b[0m\u001b[0;34m(\u001b[0m\u001b[0mm2\u001b[0m\u001b[0;34m)\u001b[0m\u001b[0;34m)\u001b[0m\u001b[0;34m\u001b[0m\u001b[0;34m\u001b[0m\u001b[0m\n\u001b[1;32m     52\u001b[0m \u001b[0;34m\u001b[0m\u001b[0m\n",
            "\u001b[0;31mNameError\u001b[0m: name 'chain' is not defined"
          ]
        }
      ]
    },
    {
      "cell_type": "code",
      "source": [
        "#claude ai\n",
        "from typing import List, Union\n",
        "\n",
        "class Hamming(Distance):\n",
        "\n",
        "    def __init__(self)-> None:\n",
        "      super().__init__()\n",
        "      self.type='vec_int'\n",
        "\n",
        "    @staticmethod\n",
        "    def compute(v1: Union[str, List[int], List[List[int]]], v2: Union[str, List[int], List[List[int]]]) -> int:\n",
        "        \"\"\"\n",
        "        Calculate the Hamming distance between two strings or two lists of integers.\n",
        "\n",
        "        Args:\n",
        "            v1: First string or list of integers\n",
        "            v2: Second string or list of integers\n",
        "\n",
        "        Returns:\n",
        "            The Hamming distance between v1 and v2\n",
        "\n",
        "        Raises:\n",
        "            ValueError: If inputs are not of the same type or have different lengths\n",
        "        \"\"\"\n",
        "        if isinstance(v1, str) and isinstance(v2, str):\n",
        "            if len(v1) != len(v2):\n",
        "                raise ValueError(\"Strings must have the same length\")\n",
        "            return sum(c1 != c2 for c1, c2 in zip(v1, v2))\n",
        "\n",
        "        elif isinstance(v1[0], (int,float)) and isinstance(v2[0], (int,float)):\n",
        "            if len(v1) != len(v2):\n",
        "                raise ValueError(\"Lists must have the same length\")\n",
        "            return sum(i1 != i2 for i1, i2 in zip(v1, v2))\n",
        "\n",
        "        elif isinstance(v1[0], list) and isinstance(b[0], list):\n",
        "            va = list(chain.from_iterable(v1))\n",
        "            vb = list(chain.from_iterable(v2))\n",
        "            return sum(i1 != i2 for i1, i2 in zip(va, vb))\n",
        "        else:\n",
        "            raise ValueError(\"Inputs must be either two strings or two lists of integers\")\n",
        "\n",
        "    @classmethod\n",
        "    def normalized_distance(cls, v1: Union[str, List[int], List[List[int]]], v2: Union[str, List[int], List[List[int]]]) -> float:\n",
        "        \"\"\"\n",
        "        Calculate the normalized Hamming distance between two strings or two lists of integers.\n",
        "\n",
        "        The normalized distance is the Hamming distance divided by the length of the inputs.\n",
        "        This gives a value between 0 and 1, where 0 means the inputs are identical,\n",
        "        and 1 means they are completely different.\n",
        "\n",
        "        Args:\n",
        "            v1: First string or list of integers\n",
        "            v2: Second string or list of integers\n",
        "\n",
        "        Returns:\n",
        "            The normalized Hamming distance between v1 and v2\n",
        "        \"\"\"\n",
        "        distance = cls.compute(v1, v2)\n",
        "        return distance / len(v1)  # len(v1) is safe to use as we've checked they're equal in distance()\n",
        "\n",
        "    def similarity(self, document1: str, document2: str) -> float:\n",
        "        \"\"\"\n",
        "        Computes the similarity between two documents based on their SimHash values.\n",
        "\n",
        "        :param document1: The first document as a string.\n",
        "        :param document2: The second document as a string.\n",
        "        :return: A similarity score between 0 (completely different) and 1 (identical).\n",
        "        \"\"\"\n",
        "        simhash1: int = self.compute(document1)\n",
        "        simhash2: int = self.compute(document2)\n",
        "\n",
        "        # Calculate Hamming distance\n",
        "        hamming_dist: int = self.hamming_distance(simhash1, simhash2)\n",
        "        max_bits: int = 64\n",
        "\n",
        "        # Compute similarity as the fraction of matching bits\n",
        "        similarity_score: float = (max_bits - hamming_dist) / max_bits\n",
        "        return similarity_score\n",
        "\n",
        "from distancia import Hamming\n",
        "\n",
        "def main():\n",
        "    hamming_dist = Hamming()\n",
        "\n",
        "    print(\"Example with strings:\")\n",
        "    s1 = \"karolin\"\n",
        "    s2 = \"kathrin\"\n",
        "    s3 = \"kerstin\"\n",
        "\n",
        "    distance1_2 = hamming_dist.compute(s1, s2)\n",
        "    distance1_3 = hamming_dist.compute(s1, s3)\n",
        "    normalized_distance1_2 = hamming_dist.normalized_distance(s1, s2)\n",
        "\n",
        "    print(f\"Hamming distance between '{s1}' and '{s2}': {distance1_2}\")\n",
        "    print(f\"Hamming distance between '{s1}' and '{s3}': {distance1_3}\")\n",
        "    print(f\"Normalized Hamming distance between '{s1}' and '{s2}': {normalized_distance1_2:.4f}\")\n",
        "\n",
        "    print(\"\\nExample with integer vectors:\")\n",
        "    v1 = [1, 0, 1, 1, 0, 1, 1]\n",
        "    v2 = [1, 1, 0, 1, 0, 0, 1]\n",
        "    v3 = [0, 0, 0, 0, 0, 0, 0]\n",
        "\n",
        "    distance_v1_v2 = hamming_dist.compute(v1, v2)\n",
        "    distance_v1_v3 = hamming_dist.compute(v1, v3)\n",
        "    normalized_distance_v1_v2 = hamming_dist.normalized_distance(v1, v2)\n",
        "\n",
        "    print(f\"Hamming distance between {v1} and {v2}: {distance_v1_v2}\")\n",
        "    print(f\"Hamming distance between {v1} and {v3}: {distance_v1_v3}\")\n",
        "    print(\"\\nExample with integer matrixs:\")\n",
        "    m1 = [ [1, 0, 1], [1, 0, 1] ]\n",
        "    m2 = [ [1, 1, 0], [1, 0, 0] ]\n",
        "\n",
        "    distance_m1_m2 = hamming_dist.compute(m1, m2)\n",
        "\n",
        "    print(f\"Hamming distance between {m1} and {m2}: {distance_m1_m2}\")\n",
        "\n",
        "    try:\n",
        "        hamming_dist.compute(\"hello\", \"world!\")  # Different lengths\n",
        "    except ValueError as e:\n",
        "        print(f\"\\nError handled: {e}\")\n",
        "\n",
        "if __name__ == \"__main__\":\n",
        "    main()"
      ],
      "metadata": {
        "id": "S-q0Ww2PZUs1",
        "colab": {
          "base_uri": "https://localhost:8080/"
        },
        "outputId": "fde61094-6f01-4b6a-df86-cdb5f84cea30"
      },
      "execution_count": null,
      "outputs": [
        {
          "output_type": "stream",
          "name": "stdout",
          "text": [
            "Example with strings:\n",
            "Hamming distance between 'karolin' and 'kathrin': 3\n",
            "Hamming distance between 'karolin' and 'kerstin': 3\n",
            "Normalized Hamming distance between 'karolin' and 'kathrin': 0.4286\n",
            "\n",
            "Example with integer vectors:\n",
            "Hamming distance between [1, 0, 1, 1, 0, 1, 1] and [1, 1, 0, 1, 0, 0, 1]: 3\n",
            "Hamming distance between [1, 0, 1, 1, 0, 1, 1] and [0, 0, 0, 0, 0, 0, 0]: 5\n",
            "\n",
            "Example with integer matrixs:\n",
            "Hamming distance between [[1, 0, 1], [1, 0, 1]] and [[1, 1, 0], [1, 0, 0]]: 2\n",
            "\n",
            "Error handled: Strings must have the same length\n"
          ]
        }
      ]
    },
    {
      "cell_type": "code",
      "source": [
        "from distancia import *\n",
        "\n",
        "matrix = Matrix()\n",
        "\n",
        "\n",
        "\n",
        "print(\"Matrice complete :\")\n",
        "matrix = matrix.generate(2, 3)\n",
        "print(matrix)\n",
        "print(Vector().generate_row(4, 1))"
      ],
      "metadata": {
        "id": "BWxEIid4a9IJ",
        "colab": {
          "base_uri": "https://localhost:8080/"
        },
        "outputId": "05c5c6ee-1c0a-49ee-d166-30d7c22bafb0"
      },
      "execution_count": 3,
      "outputs": [
        {
          "output_type": "stream",
          "name": "stdout",
          "text": [
            "\n",
            "Matrice complète :\n",
            "[[9.0, 0.5, 3.8], [8.0, 3.0, 9.5]]\n",
            "<generator object Generation.generate_row at 0x7ca07f56a490>\n"
          ]
        }
      ]
    },
    {
      "cell_type": "code",
      "source": [
        "from distancia import MatrixSpectral\n",
        "# Example matrices\n",
        "matrix1 = [\n",
        "    [2.0, -1.0, 0.0],\n",
        "    [-1.0, 2.0, -1.0],\n",
        "    [0.0, -1.0, 2.0]\n",
        "]\n",
        "\n",
        "matrix2 = [\n",
        "    [3.0, -1.0, 0.0],\n",
        "    [-1.0, 3.0, -1.0],\n",
        "    [0.0, -1.0, 3.0]\n",
        "]\n",
        "\n",
        "# Initialize calculator\n",
        "calculator = MatrixSpectral()\n",
        "\n",
        "# Compute spectral distance\n",
        "distance = calculator.compute(matrix1, matrix2)\n",
        "print(f\"Spectral distance: {distance}\")\n",
        "\n",
        "# Get individual spectra\n",
        "spectrum1, spectrum2 = calculator.get_spectra()\n",
        "print(\"Spectrum of matrix 1:\", spectrum1)\n",
        "print(\"Spectrum of matrix 2:\", spectrum2)"
      ],
      "metadata": {
        "id": "m-HWOV-_cYNQ",
        "colab": {
          "base_uri": "https://localhost:8080/"
        },
        "outputId": "b771bb5c-31ec-4dc0-f3be-fbcc5dfcee85"
      },
      "execution_count": 5,
      "outputs": [
        {
          "output_type": "stream",
          "name": "stdout",
          "text": [
            "Spectral distance: 1.4142137114210664\n",
            "Spectrum of matrix 1: [3.4142135605326267, 0.585786448353945, -2.545563719687022e-10]\n",
            "Spectrum of matrix 2: [4.414213439211618, 1.5857867804605645, -6.3242357568749354e-09]\n"
          ]
        }
      ]
    },
    {
      "cell_type": "code",
      "source": [
        "# Example matrices\n",
        "matrix1 = [\n",
        "    [4.0, -1.0, 0.0],\n",
        "    [-1.0, 4.0, -1.0],\n",
        "    [0.0, -1.0, 4.0]\n",
        "]\n",
        "\n",
        "matrix2 = [\n",
        "    [2.0, -0.5, 0.0],\n",
        "    [-0.5, 2.0, -0.5],\n",
        "    [0.0, -0.5, 2.0]\n",
        "]\n",
        "\n",
        "# Initialize calculator\n",
        "calculator = NormalizedSpectral()\n",
        "\n",
        "# Compute distance with Frobenius normalization\n",
        "frobenius_distance = calculator.compute(matrix1, matrix2, normalization='frobenius')\n",
        "print(f\"Normalized spectral distance (Frobenius): {frobenius_distance}\")\n",
        "\n",
        "# Get normalized spectra\n",
        "norm_spectrum1, norm_spectrum2 = calculator.get_normalized_spectra()\n",
        "print(\"Normalized spectrum of matrix 1:\", norm_spectrum1)\n",
        "print(\"Normalized spectrum of matrix 2:\", norm_spectrum2)\n",
        "\n",
        "# Compute distance with spectral normalization\n",
        "spectral_distance = calculator.compute(matrix1, matrix2, normalization='spectral')\n",
        "print(f\"Normalized spectral distance (Spectral): {spectral_distance}\")"
      ],
      "metadata": {
        "id": "Q0LrdOs4dUEO",
        "colab": {
          "base_uri": "https://localhost:8080/"
        },
        "outputId": "3320b93f-4651-4d95-f2a9-462e27ad36b8"
      },
      "execution_count": 6,
      "outputs": [
        {
          "output_type": "stream",
          "name": "stdout",
          "text": [
            "Normalized spectral distance (Frobenius): 1.0796874528928049e-07\n",
            "Normalized spectrum of matrix 1: [0.7508163176150932, 0.3585840898737751, -4.3199776450506685e-10]\n",
            "Normalized spectrum of matrix 2: [0.7508162710887157, 0.35858418729236236, -1.903398950700451e-09]\n",
            "Normalized spectral distance (Spectral): 1.5935759402284384e-07\n"
          ]
        }
      ]
    },
    {
      "cell_type": "code",
      "source": [
        "\n",
        "# Example usage and demonstration\n",
        "calculator = PureDiffusion(time_param=1.0, n_eigenvalues=3)\n",
        "\n",
        "matrix1 = [\n",
        "    [0, 1, 0],\n",
        "    [1, 0, 1],\n",
        "    [0, 1, 0]\n",
        "]\n",
        "\n",
        "matrix2 = [\n",
        "    [0, 1, 1],\n",
        "    [1, 0, 1],\n",
        "    [1, 1, 0]\n",
        "]\n",
        "\n",
        "# Calculer la distance de diffusion\n",
        "distance = calculator.compute(matrix1, matrix2)\n",
        "print(f\"Distance de diffusion: {distance}\")\n",
        "\n",
        "# Calculer la distance normalisée\n",
        "normalized_distance = calculator.compute(matrix1, matrix2, normalized=True)\n",
        "print(f\"Distance de diffusion normalisée: {normalized_distance}\")\n",
        "\n",
        "# Obtenir les coordonnées de diffusion\n",
        "coords = calculator.get_diffusion_coordinates(matrix1, dim=2)\n",
        "print(\"\\nCoordonnées of diffusion:\")\n",
        "for coord in coords:\n",
        "    print(coord)"
      ],
      "metadata": {
        "colab": {
          "base_uri": "https://localhost:8080/"
        },
        "id": "wiAcYxw17U_H",
        "outputId": "03b58086-68bd-4a07-fc6c-b8e7d90c5470"
      },
      "execution_count": 30,
      "outputs": [
        {
          "output_type": "stream",
          "name": "stdout",
          "text": [
            "Distance de diffusion: 0.0\n",
            "Distance de diffusion normalisée: 0.0\n",
            "\n",
            "Coordonnées of diffusion:\n",
            "[0.577350269189626, 0.577350269189626]\n",
            "[0.577350269189626, 0.577350269189626]\n",
            "[0.577350269189626, 0.577350269189626]\n"
          ]
        }
      ]
    },
    {
      "cell_type": "code",
      "source": [
        "\n",
        "# Example usage and demonstration\n",
        "calculator = RandomWalk(alpha=0.85)\n",
        "\n",
        "matrix1 = [\n",
        "    [0, 1, 0],\n",
        "    [1, 0, 1],\n",
        "    [0, 1, 0]\n",
        "]\n",
        "\n",
        "matrix2 = [\n",
        "    [0, 1, 1],\n",
        "    [1, 0, 1],\n",
        "    [1, 1, 0]\n",
        "]\n",
        "\n",
        "distance = calculator.compute(matrix1, matrix2)\n",
        "print(f\"Distance de marche aléatoire: {distance}\")\n",
        "\n",
        "normalized_distance = calculator.compute(matrix1, matrix2, normalized=True)\n",
        "print(f\"Distance normalisée: {normalized_distance}\")\n",
        "\n",
        "node_distances = calculator.get_node_distances(matrix1)\n",
        "print(\"\\nDistances entre les nœuds:\")\n",
        "for row in node_distances:\n",
        "    print(row)"
      ],
      "metadata": {
        "colab": {
          "base_uri": "https://localhost:8080/"
        },
        "id": "WDiiGuis7i-2",
        "outputId": "34337db9-4500-4bb5-a817-fc5f8eff6c46"
      },
      "execution_count": 29,
      "outputs": [
        {
          "output_type": "stream",
          "name": "stdout",
          "text": [
            "Distance de marche aléatoire: 0.10210209317054343\n",
            "Distance normalisée: 0.3063062794197384\n",
            "\n",
            "Distances entre les nœuds:\n",
            "[0.0, 0.07702705382170301, 0.1]\n",
            "[0.07702705382170301, 0.0, 0.07702705382170301]\n",
            "[0.1, 0.07702705382170301, 0.0]\n"
          ]
        }
      ]
    },
    {
      "cell_type": "code",
      "source": [
        "# Example usage and demonstration\n",
        "matrices = HeatKernel(time_parameter=1.0)\n",
        "\n",
        "A = [[1.0, 0.5],\n",
        "     [0.5, 1.0]]\n",
        "B = [[1.0, 0.0],\n",
        "     [0.0, 1.0]]\n",
        "\n",
        "distance = matrices.compute(A, B)\n",
        "print(\"HeatKernelDistance : \"+ str(distance))"
      ],
      "metadata": {
        "colab": {
          "base_uri": "https://localhost:8080/"
        },
        "id": "rdp6Mtdm7udT",
        "outputId": "7d8dcd21-a6d5-41e6-9a67-990caa8c121f"
      },
      "execution_count": 28,
      "outputs": [
        {
          "output_type": "stream",
          "name": "stdout",
          "text": [
            "HeatKernelDistance : 0.27912514983586834\n"
          ]
        }
      ]
    },
    {
      "cell_type": "code",
      "source": [
        "\n",
        "\n",
        "# Create Graph Edit Distance calculator\n",
        "ged = GraphEditMatrix(node_cost=1.0, edge_cost=1.0)\n",
        "\n",
        "# Example adjacency matrices\n",
        "matrix1 = [\n",
        "        [0, 1, 0, 1],\n",
        "        [1, 0, 1, 0],\n",
        "        [0, 1, 0, 1],\n",
        "        [1, 0, 1, 0]\n",
        "    ]\n",
        "\n",
        "matrix2 = [\n",
        "        [0, 1, 1, 0],\n",
        "        [1, 0, 0, 1],\n",
        "        [1, 0, 0, 1],\n",
        "        [0, 1, 1, 0]\n",
        "    ]\n",
        "\n",
        "# Calculate distance\n",
        "distance = ged.compute(matrix1, matrix2)\n",
        "print(f\"Graph Edit Distance: {distance}\")\n",
        "\n",
        "# Calculate similarity\n",
        "similarity = ged.similarity_score(matrix1, matrix2)\n",
        "print(f\"Graph Similarity Score: {similarity}\")\n"
      ],
      "metadata": {
        "colab": {
          "base_uri": "https://localhost:8080/"
        },
        "id": "wMEOVTPv71u9",
        "outputId": "0ff7da60-4704-4ed2-e178-0903eda47c11"
      },
      "execution_count": 27,
      "outputs": [
        {
          "output_type": "stream",
          "name": "stdout",
          "text": [
            "Graph Edit Distance: 4.0\n",
            "Graph Similarity Score: 0.33333333333333337\n"
          ]
        }
      ]
    },
    {
      "cell_type": "code",
      "source": [
        "\n",
        "# Example usage and demonstration\n",
        "wl_distance = WeisfeilerLehman(num_iterations=3)\n",
        "\n",
        "A = [[0, 1, 1],\n",
        "     [1, 0, 1],\n",
        "     [1, 1, 0]]\n",
        "\n",
        "B = [[0, 1, 0],\n",
        "     [1, 0, 1],\n",
        "     [0, 1, 0]]\n",
        "\n",
        "distance = wl_distance.compute(A, B)\n",
        "\n",
        "print(\"WeisfeilerLehmanDistance : \"+str(distance))"
      ],
      "metadata": {
        "colab": {
          "base_uri": "https://localhost:8080/"
        },
        "id": "orvskVky78z5",
        "outputId": "5b904ed3-da16-42cd-bd8f-8ea03a1f4464"
      },
      "execution_count": 26,
      "outputs": [
        {
          "output_type": "stream",
          "name": "stdout",
          "text": [
            "WeisfeilerLehmanDistance : 6.0\n"
          ]
        }
      ]
    },
    {
      "cell_type": "code",
      "source": [
        "\n",
        "\n",
        "# Example usage and demonstration\n",
        "netsimile = NetSimile()\n",
        "\n",
        "A = [[0, 1, 1],\n",
        "     [1, 0, 1],\n",
        "     [1, 1, 0]]\n",
        "\n",
        "B = [[0, 1, 0],\n",
        "     [1, 0, 1],\n",
        "     [0, 1, 0]]\n",
        "\n",
        "distance = netsimile.compute(A, B)\n",
        "\n",
        "print(\"NetSimileDistance : \"+str(distance))"
      ],
      "metadata": {
        "colab": {
          "base_uri": "https://localhost:8080/"
        },
        "id": "C_n_ZFav8D5E",
        "outputId": "83c42069-d4ec-4547-b592-391180853fc7"
      },
      "execution_count": 25,
      "outputs": [
        {
          "output_type": "stream",
          "name": "stdout",
          "text": [
            "NetSimileDistance : 15.342191142191142\n"
          ]
        }
      ]
    },
    {
      "cell_type": "code",
      "source": [
        "\n",
        "\n",
        "# Example usage and demonstration\n",
        "pattern_distance = PatternBased(pattern_size=2)\n",
        "\n",
        "A = [[1, 1, 0],\n",
        "     [1, 0, 1],\n",
        "     [0, 1, 1]]\n",
        "\n",
        "B = [[1, 0, 1],\n",
        "     [0, 1, 0],\n",
        "     [1, 0, 1]]\n",
        "\n",
        "# Using correlation-based distance\n",
        "distance_corr = pattern_distance.compute(A, B, method=\"correlation\")\n",
        "\n",
        "# Using Jaccard distance\n",
        "distance_jacc = pattern_distance.compute(A, B, method=\"jaccard\")\n",
        "\n",
        "print(\"PatternBased : \"+str(distance_jacc))"
      ],
      "metadata": {
        "colab": {
          "base_uri": "https://localhost:8080/"
        },
        "id": "--Xs0w5O8Oqp",
        "outputId": "52ad2d11-a484-429c-8cb4-d01d01b849ab"
      },
      "execution_count": 24,
      "outputs": [
        {
          "output_type": "stream",
          "name": "stdout",
          "text": [
            "PatternBased : 0.6666666666666667\n"
          ]
        }
      ]
    },
    {
      "cell_type": "code",
      "source": [
        "\n",
        "# Example adjacency matrices\n",
        "graph1 = [\n",
        "        [0, 1, 1, 0],\n",
        "        [1, 0, 1, 1],\n",
        "        [1, 1, 0, 0],\n",
        "        [0, 1, 0, 0]\n",
        "    ]\n",
        "\n",
        "graph2 = [\n",
        "        [0, 1, 0, 1],\n",
        "        [1, 0, 1, 0],\n",
        "        [0, 1, 0, 1],\n",
        "        [1, 0, 1, 0]\n",
        "    ]\n",
        "\n",
        "# Create distance calculator\n",
        "clique_distance = CliqueBasedGraph()\n",
        "\n",
        "# Calculate distance\n",
        "distance = clique_distance.compute(graph1, graph2)\n",
        "print(f\"Graph DistanceCliqueBasedGraphDistance: {distance}\")\n",
        "\n",
        "# Calculate similarity\n",
        "similarity = clique_distance.similarity_score(graph1, graph2)\n",
        "print(f\"Graph Similarity CliqueBasedGraphDistance: {similarity}\")"
      ],
      "metadata": {
        "colab": {
          "base_uri": "https://localhost:8080/"
        },
        "id": "ne1TkCuc8XAS",
        "outputId": "c77e26f2-6feb-4057-e807-e612fde67368"
      },
      "execution_count": 23,
      "outputs": [
        {
          "output_type": "stream",
          "name": "stdout",
          "text": [
            "Graph DistanceCliqueBasedGraphDistance: 8.0\n",
            "Graph Similarity CliqueBasedGraphDistance: 0.0\n"
          ]
        }
      ]
    },
    {
      "cell_type": "code",
      "source": [
        "\n",
        "# Example usage and demonstration\n",
        "# Example matrices with different cyclic patterns\n",
        "matrix1 = [\n",
        "        [1.0, 2.0, 3.0],\n",
        "        [4.0, 5.0, 6.0],\n",
        "        [7.0, 8.0, 9.0]\n",
        "    ]\n",
        "\n",
        "matrix2 = [\n",
        "        [2.0, 3.0, 4.0],\n",
        "        [5.0, 6.0, 7.0],\n",
        "        [8.0, 9.0, 10.0]\n",
        "    ]\n",
        "\n",
        "distance_calculator = CycleMatrixDistance(matrix1, matrix2)\n",
        "print(\"CycleMatrixDistance :\"+str(distance_calculator))\n",
        "\n"
      ],
      "metadata": {
        "colab": {
          "base_uri": "https://localhost:8080/"
        },
        "id": "5otEUxaK8ePT",
        "outputId": "c1ed1c0c-20bf-4c9f-efd0-8e9c3e9abd82"
      },
      "execution_count": 15,
      "outputs": [
        {
          "output_type": "stream",
          "name": "stdout",
          "text": [
            "CycleMatrixDistance :Cycle Matrix Distance: 10.0000\n"
          ]
        }
      ]
    },
    {
      "cell_type": "code",
      "source": [
        "\n",
        "\n",
        "\n",
        "# Example usage and demonstration\n",
        "# Example matrices with different triangular patterns\n",
        "matrix1 = [\n",
        "        [1.0, 2.0, 3.0, 4.0],\n",
        "        [5.0, 6.0, 7.0, 8.0],\n",
        "        [9.0, 10.0, 11.0, 12.0],\n",
        "        [13.0, 14.0, 15.0, 16.0]\n",
        "    ]\n",
        "\n",
        "matrix2 = [\n",
        "        [2.0, 3.0, 4.0, 5.0],\n",
        "        [6.0, 7.0, 8.0, 9.0],\n",
        "        [10.0, 11.0, 12.0, 13.0],\n",
        "        [14.0, 15.0, 16.0, 17.0]\n",
        "    ]\n",
        "\n",
        "distance_calculator = TriangleMatrixDistance(matrix1, matrix2)\n",
        "print(distance_calculator)\n",
        "\n",
        "# Test with different window sizes\n",
        "print(\"Window Size 3:\",\n",
        "          TriangleMatrixDistance(matrix1, matrix2).compute(window_size=3))\n",
        "print(\"Window Size 4:\",\n",
        "          TriangleMatrixDistance(matrix1, matrix2).compute(window_size=4))"
      ],
      "metadata": {
        "colab": {
          "base_uri": "https://localhost:8080/"
        },
        "id": "twikmtvD8nG9",
        "outputId": "8bdb63a8-96a9-4eb7-e6b9-2faba51cc9e4"
      },
      "execution_count": 16,
      "outputs": [
        {
          "output_type": "stream",
          "name": "stdout",
          "text": [
            "Triangle Matrix Distance: 0.2624\n",
            "Window Size 3: 0.26242282906311226\n",
            "Window Size 4: 0.23769670037295504\n"
          ]
        }
      ]
    },
    {
      "cell_type": "code",
      "source": [
        "\n",
        "\n",
        "\n",
        "# Example usage and demonstration\n",
        "# Example adjacency matrices\n",
        "matrix1 = [\n",
        "        [0, 1, 1, 0],\n",
        "        [1, 0, 1, 1],\n",
        "        [1, 1, 0, 0],\n",
        "        [0, 1, 0, 0]\n",
        "    ]\n",
        "\n",
        "matrix2 = [\n",
        "        [0, 1, 0, 0],\n",
        "        [1, 0, 1, 1],\n",
        "        [0, 1, 0, 1],\n",
        "        [0, 1, 1, 0]\n",
        "    ]\n",
        "\n",
        "distance_calculator = GraphletMatrixDistance(matrix1, matrix2)\n",
        "\n",
        "# Compute and print distance\n",
        "print(distance_calculator)\n",
        "\n",
        "# Print detailed graphlet analysis\n",
        "print(\"\\nDetailed Graphlet Analysis:\")\n",
        "for graphlet, (count1, count2) in distance_calculator.detailed_graphlet_analysis().items():\n",
        "        print(f\"{graphlet}: Matrix1 = {count1}, Matrix2 = {count2}\")\n",
        "\n",
        "# Démonstration et test de performance\n",
        "import time\n",
        "\n",
        "# Matrice de test plus grande\n",
        "matrix1 = [[i+j for j in range(50)] for i in range(50)]\n",
        "matrix2 = [[i*j for j in range(50)] for i in range(50)]\n",
        "\n",
        "start = time.time()\n",
        "distance_calculator = OptimizedMaxFlowMatrixDistance(matrix1, matrix2)\n",
        "distance = distance_calculator.compute()\n",
        "end = time.time()\n",
        "\n",
        "print(f\"Distance OptimizedMaxFlowMatrixDistance: {distance}\")\n",
        "print(f\"Time of execution : {end - start:.4f} secondes\")\n",
        "\n"
      ],
      "metadata": {
        "colab": {
          "base_uri": "https://localhost:8080/"
        },
        "id": "wbSS9mXI8x8E",
        "outputId": "aa0768dd-6593-40ee-b05b-b72c3c54fbc7"
      },
      "execution_count": 22,
      "outputs": [
        {
          "output_type": "stream",
          "name": "stdout",
          "text": [
            "Graphlet Matrix Distance: 0.1734\n",
            "\n",
            "Detailed Graphlet Analysis:\n",
            "isolated_node: Matrix1 = 0, Matrix2 = 0\n",
            "single_edge: Matrix1 = 4, Matrix2 = 4\n",
            "triangle: Matrix1 = 2, Matrix2 = 1\n",
            "star: Matrix1 = 1, Matrix2 = 1\n",
            "path: Matrix1 = 2, Matrix2 = 3\n",
            "Distance OptimizedMaxFlowMatrixDistance: 35.0\n",
            "Time of execution : 1.2881 secondes\n"
          ]
        }
      ]
    },
    {
      "cell_type": "code",
      "source": [
        "# Example\n",
        "matrix1 = [\n",
        "    [1, 2, 3],\n",
        "    [4, 5, 6],\n",
        "    [7, 8, 9]\n",
        "]\n",
        "\n",
        "matrix2 = [\n",
        "    [1, 2, 4],\n",
        "    [4, 6, 6],\n",
        "    [7, 8, 0]\n",
        "]\n",
        "\n",
        "calculator = MinimumCutDistanceCalculator(matrix1, matrix2)\n",
        "print(calculator.compute())\n",
        "print(calculator.get_cut_positions())\n",
        "print(calculator.get_detailed_difference())\n",
        "\n"
      ],
      "metadata": {
        "colab": {
          "base_uri": "https://localhost:8080/"
        },
        "id": "CkKk8rD-80bq",
        "outputId": "add5f2d9-7096-40de-8c60-8c6d4f001434"
      },
      "execution_count": 21,
      "outputs": [
        {
          "output_type": "stream",
          "name": "stdout",
          "text": [
            "3\n",
            "[(0, 2), (1, 1), (2, 2)]\n",
            "{'total_cut_distance': 3, 'cut_positions': [(0, 2), (1, 1), (2, 2)], 'matrix1_values': [3, 5, 9], 'matrix2_values': [4, 6, 0]}\n"
          ]
        }
      ]
    },
    {
      "cell_type": "code",
      "source": [
        "\n",
        "\n",
        "# Example of matrix\n",
        "matrix1 = [\n",
        "    [1, 2, 3],\n",
        "    [4, 5, 6],\n",
        "    [7, 8, 9]\n",
        "]\n",
        "\n",
        "matrix2 = [\n",
        "    [1, 2, 3],\n",
        "    [4, 3, 3],\n",
        "    [7, 8, 3]\n",
        "]\n",
        "\n",
        "# Calculer la distance de percolation horizontale\n",
        "calculator = Percolation(matrix1, matrix2, PercolationType.HORIZONTAL)\n",
        "distance = calculator.compute()\n",
        "print(f\"Distance of horizontal percolation  : {distance}\")\n",
        "\n",
        "# Calculer la distance de percolation verticale\n",
        "calculator_vertical = Percolation(matrix1, matrix2, PercolationType.VERTICAL)\n",
        "distance_vertical = calculator_vertical.compute()\n",
        "print(f\"Distance of vertical percolation  : {distance_vertical}\")"
      ],
      "metadata": {
        "colab": {
          "base_uri": "https://localhost:8080/"
        },
        "id": "lo_Lj8kT9DxG",
        "outputId": "78fe2110-514b-4e82-9a40-ab8e7907a015"
      },
      "execution_count": 20,
      "outputs": [
        {
          "output_type": "stream",
          "name": "stdout",
          "text": [
            "Distance of horizontal percolation  : 3\n",
            "Distance of vertical percolation  : 2\n"
          ]
        }
      ]
    }
  ]
}