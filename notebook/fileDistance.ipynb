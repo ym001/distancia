{
  "nbformat": 4,
  "nbformat_minor": 0,
  "metadata": {
    "colab": {
      "provenance": [],
      "authorship_tag": "ABX9TyOubiaNR+WSkUC8X7NGB82y",
      "include_colab_link": true
    },
    "kernelspec": {
      "name": "python3",
      "display_name": "Python 3"
    },
    "language_info": {
      "name": "python"
    }
  },
  "cells": [
    {
      "cell_type": "markdown",
      "metadata": {
        "id": "view-in-github",
        "colab_type": "text"
      },
      "source": [
        "<a href=\"https://colab.research.google.com/github/ym001/distancia/blob/master/notebook/fileDistance.ipynb\" target=\"_parent\"><img src=\"https://colab.research.google.com/assets/colab-badge.svg\" alt=\"Open In Colab\"/></a>"
      ]
    },
    {
      "cell_type": "code",
      "execution_count": null,
      "metadata": {
        "colab": {
          "base_uri": "https://localhost:8080/",
          "height": 365
        },
        "id": "5WmhnPkMvnWP",
        "outputId": "549edcc3-4581-4dea-8897-88663b6e3fd4"
      },
      "outputs": [
        {
          "output_type": "error",
          "ename": "MessageError",
          "evalue": "Error: credential propagation was unsuccessful",
          "traceback": [
            "\u001b[0;31m---------------------------------------------------------------------------\u001b[0m",
            "\u001b[0;31mMessageError\u001b[0m                              Traceback (most recent call last)",
            "\u001b[0;32m<ipython-input-3-09f49e671478>\u001b[0m in \u001b[0;36m<cell line: 60>\u001b[0;34m()\u001b[0m\n\u001b[1;32m     60\u001b[0m \u001b[0;32mif\u001b[0m \u001b[0m__name__\u001b[0m \u001b[0;34m==\u001b[0m \u001b[0;34m\"__main__\"\u001b[0m\u001b[0;34m:\u001b[0m\u001b[0;34m\u001b[0m\u001b[0;34m\u001b[0m\u001b[0m\n\u001b[1;32m     61\u001b[0m     \u001b[0;32mfrom\u001b[0m \u001b[0mgoogle\u001b[0m\u001b[0;34m.\u001b[0m\u001b[0mcolab\u001b[0m \u001b[0;32mimport\u001b[0m \u001b[0mdrive\u001b[0m\u001b[0;34m\u001b[0m\u001b[0;34m\u001b[0m\u001b[0m\n\u001b[0;32m---> 62\u001b[0;31m     \u001b[0mdrive\u001b[0m\u001b[0;34m.\u001b[0m\u001b[0mmount\u001b[0m\u001b[0;34m(\u001b[0m\u001b[0;34m'/content/drive'\u001b[0m\u001b[0;34m)\u001b[0m\u001b[0;34m\u001b[0m\u001b[0;34m\u001b[0m\u001b[0m\n\u001b[0m\u001b[1;32m     63\u001b[0m     \u001b[0;31m# Create an instance of the class\u001b[0m\u001b[0;34m\u001b[0m\u001b[0;34m\u001b[0m\u001b[0m\n\u001b[1;32m     64\u001b[0m     \u001b[0mbyte_distance\u001b[0m \u001b[0;34m=\u001b[0m \u001b[0mByteLevelDistance\u001b[0m\u001b[0;34m(\u001b[0m\u001b[0;34m)\u001b[0m\u001b[0;34m\u001b[0m\u001b[0;34m\u001b[0m\u001b[0m\n",
            "\u001b[0;32m/usr/local/lib/python3.10/dist-packages/google/colab/drive.py\u001b[0m in \u001b[0;36mmount\u001b[0;34m(mountpoint, force_remount, timeout_ms, readonly)\u001b[0m\n\u001b[1;32m     98\u001b[0m \u001b[0;32mdef\u001b[0m \u001b[0mmount\u001b[0m\u001b[0;34m(\u001b[0m\u001b[0mmountpoint\u001b[0m\u001b[0;34m,\u001b[0m \u001b[0mforce_remount\u001b[0m\u001b[0;34m=\u001b[0m\u001b[0;32mFalse\u001b[0m\u001b[0;34m,\u001b[0m \u001b[0mtimeout_ms\u001b[0m\u001b[0;34m=\u001b[0m\u001b[0;36m120000\u001b[0m\u001b[0;34m,\u001b[0m \u001b[0mreadonly\u001b[0m\u001b[0;34m=\u001b[0m\u001b[0;32mFalse\u001b[0m\u001b[0;34m)\u001b[0m\u001b[0;34m:\u001b[0m\u001b[0;34m\u001b[0m\u001b[0;34m\u001b[0m\u001b[0m\n\u001b[1;32m     99\u001b[0m   \u001b[0;34m\"\"\"Mount your Google Drive at the specified mountpoint path.\"\"\"\u001b[0m\u001b[0;34m\u001b[0m\u001b[0;34m\u001b[0m\u001b[0m\n\u001b[0;32m--> 100\u001b[0;31m   return _mount(\n\u001b[0m\u001b[1;32m    101\u001b[0m       \u001b[0mmountpoint\u001b[0m\u001b[0;34m,\u001b[0m\u001b[0;34m\u001b[0m\u001b[0;34m\u001b[0m\u001b[0m\n\u001b[1;32m    102\u001b[0m       \u001b[0mforce_remount\u001b[0m\u001b[0;34m=\u001b[0m\u001b[0mforce_remount\u001b[0m\u001b[0;34m,\u001b[0m\u001b[0;34m\u001b[0m\u001b[0;34m\u001b[0m\u001b[0m\n",
            "\u001b[0;32m/usr/local/lib/python3.10/dist-packages/google/colab/drive.py\u001b[0m in \u001b[0;36m_mount\u001b[0;34m(mountpoint, force_remount, timeout_ms, ephemeral, readonly)\u001b[0m\n\u001b[1;32m    135\u001b[0m   )\n\u001b[1;32m    136\u001b[0m   \u001b[0;32mif\u001b[0m \u001b[0mephemeral\u001b[0m\u001b[0;34m:\u001b[0m\u001b[0;34m\u001b[0m\u001b[0;34m\u001b[0m\u001b[0m\n\u001b[0;32m--> 137\u001b[0;31m     _message.blocking_request(\n\u001b[0m\u001b[1;32m    138\u001b[0m         \u001b[0;34m'request_auth'\u001b[0m\u001b[0;34m,\u001b[0m\u001b[0;34m\u001b[0m\u001b[0;34m\u001b[0m\u001b[0m\n\u001b[1;32m    139\u001b[0m         \u001b[0mrequest\u001b[0m\u001b[0;34m=\u001b[0m\u001b[0;34m{\u001b[0m\u001b[0;34m'authType'\u001b[0m\u001b[0;34m:\u001b[0m \u001b[0;34m'dfs_ephemeral'\u001b[0m\u001b[0;34m}\u001b[0m\u001b[0;34m,\u001b[0m\u001b[0;34m\u001b[0m\u001b[0;34m\u001b[0m\u001b[0m\n",
            "\u001b[0;32m/usr/local/lib/python3.10/dist-packages/google/colab/_message.py\u001b[0m in \u001b[0;36mblocking_request\u001b[0;34m(request_type, request, timeout_sec, parent)\u001b[0m\n\u001b[1;32m    174\u001b[0m       \u001b[0mrequest_type\u001b[0m\u001b[0;34m,\u001b[0m \u001b[0mrequest\u001b[0m\u001b[0;34m,\u001b[0m \u001b[0mparent\u001b[0m\u001b[0;34m=\u001b[0m\u001b[0mparent\u001b[0m\u001b[0;34m,\u001b[0m \u001b[0mexpect_reply\u001b[0m\u001b[0;34m=\u001b[0m\u001b[0;32mTrue\u001b[0m\u001b[0;34m\u001b[0m\u001b[0;34m\u001b[0m\u001b[0m\n\u001b[1;32m    175\u001b[0m   )\n\u001b[0;32m--> 176\u001b[0;31m   \u001b[0;32mreturn\u001b[0m \u001b[0mread_reply_from_input\u001b[0m\u001b[0;34m(\u001b[0m\u001b[0mrequest_id\u001b[0m\u001b[0;34m,\u001b[0m \u001b[0mtimeout_sec\u001b[0m\u001b[0;34m)\u001b[0m\u001b[0;34m\u001b[0m\u001b[0;34m\u001b[0m\u001b[0m\n\u001b[0m",
            "\u001b[0;32m/usr/local/lib/python3.10/dist-packages/google/colab/_message.py\u001b[0m in \u001b[0;36mread_reply_from_input\u001b[0;34m(message_id, timeout_sec)\u001b[0m\n\u001b[1;32m    101\u001b[0m     ):\n\u001b[1;32m    102\u001b[0m       \u001b[0;32mif\u001b[0m \u001b[0;34m'error'\u001b[0m \u001b[0;32min\u001b[0m \u001b[0mreply\u001b[0m\u001b[0;34m:\u001b[0m\u001b[0;34m\u001b[0m\u001b[0;34m\u001b[0m\u001b[0m\n\u001b[0;32m--> 103\u001b[0;31m         \u001b[0;32mraise\u001b[0m \u001b[0mMessageError\u001b[0m\u001b[0;34m(\u001b[0m\u001b[0mreply\u001b[0m\u001b[0;34m[\u001b[0m\u001b[0;34m'error'\u001b[0m\u001b[0;34m]\u001b[0m\u001b[0;34m)\u001b[0m\u001b[0;34m\u001b[0m\u001b[0;34m\u001b[0m\u001b[0m\n\u001b[0m\u001b[1;32m    104\u001b[0m       \u001b[0;32mreturn\u001b[0m \u001b[0mreply\u001b[0m\u001b[0;34m.\u001b[0m\u001b[0mget\u001b[0m\u001b[0;34m(\u001b[0m\u001b[0;34m'data'\u001b[0m\u001b[0;34m,\u001b[0m \u001b[0;32mNone\u001b[0m\u001b[0;34m)\u001b[0m\u001b[0;34m\u001b[0m\u001b[0;34m\u001b[0m\u001b[0m\n\u001b[1;32m    105\u001b[0m \u001b[0;34m\u001b[0m\u001b[0m\n",
            "\u001b[0;31mMessageError\u001b[0m: Error: credential propagation was unsuccessful"
          ]
        }
      ],
      "source": [
        "\n",
        "# Minimal example of how to use the ByteLevelDistance class\n",
        "if __name__ == \"__main__\":\n",
        "    from google.colab import drive\n",
        "    drive.mount('/content/drive')\n",
        "    # Create an instance of the class\n",
        "    byte_distance = ByteLevelDistance()\n",
        "\n",
        "    # Compute the distance between the two files\n",
        "    distance: int = byte_distance.compute_distance('file1.txt', 'file2.txt')\n",
        "\n",
        "    # Print the result\n",
        "    print(f\"Byte-level distance between 'file1.txt' and 'file2.txt': {distance}\")\n",
        "\n"
      ]
    },
    {
      "cell_type": "code",
      "source": [
        "# Minimal example of how to use the HashComparison class\n",
        "if __name__ == \"__main__\":\n",
        "    # Create an instance of the class with 'md5' as the hashing algorithm\n",
        "    hash_comparator = HashComparison(algorithm='md5')\n",
        "\n",
        "    # Compute and compare the hashes of two files\n",
        "    are_files_equal: bool = hash_comparator.compare_files('../sample/file1.txt', '../sample/file2.txt')\n",
        "\n",
        "    # Print the result\n",
        "    print(f\"Are 'file1.txt' and 'file2.txt' identical based on their MD5 hash? {are_files_equal}\")"
      ],
      "metadata": {
        "id": "agbfhcHyxPQ2"
      },
      "execution_count": null,
      "outputs": []
    },
    {
      "cell_type": "code",
      "source": [
        "\n",
        "# Example usage\n",
        "if __name__ == \"__main__\":\n",
        "    ncd_calculator = NormalizedCompressionDistance()\n",
        "\n",
        "    # Sample file contents (these would be the actual content of two files)\n",
        "    file1_data: str = \"This is the content of the first file.\"\n",
        "    file2_data: str = \"This is the content of the second file, which is similar.\"\n",
        "\n",
        "    # Compute the NCD\n",
        "    ncd_result: float = ncd_calculator.compute(file1_data, file2_data)\n",
        "\n",
        "    # Print the NCD result\n",
        "    print(f\"The Normalized Compression Distance (NCD) is: {ncd_result}\")"
      ],
      "metadata": {
        "id": "1KBrK9XRWa3p"
      },
      "execution_count": null,
      "outputs": []
    },
    {
      "cell_type": "code",
      "source": [
        "\n",
        "# Example usage\n",
        "if __name__ == \"__main__\":\n",
        "    complexity_calculator = KolmogorovComplexity()\n",
        "\n",
        "    # Sample file contents (these would be the actual content of two files)\n",
        "    file1_data: str = \"This is the content of the first file.\"\n",
        "    file2_data: str = \"This is the content of the second file, which shares some similarities.\"\n",
        "\n",
        "    # Compute the Kolmogorov complexity\n",
        "    complexity_result: float = complexity_calculator.compute(file1_data, file2_data)\n",
        "\n",
        "    # Print the result\n",
        "    print(f\"The Kolmogorov Complexity approximation is: {complexity_result}\")"
      ],
      "metadata": {
        "id": "x5e6dZPCXInM"
      },
      "execution_count": null,
      "outputs": []
    },
    {
      "cell_type": "code",
      "source": [
        "# Example usage\n",
        "if __name__ == \"__main__\":\n",
        "    dbi = DynamicBinaryInstrumentation()\n",
        "\n",
        "    # Paths to the two executable files (this is just an example, adapt paths for real executables)\n",
        "    executable1: str = \"../sample/script1\"\n",
        "    executable2: str = \"../sample/script2\"\n",
        "\n",
        "    # Compare the execution behavior of the two executables\n",
        "    behavior_comparison: Dict[str, int] = dbi.compare_behavior(executable1, executable2)\n",
        "\n",
        "    # Print the comparison results\n",
        "    print(f\"Behavior Comparison Results: {behavior_comparison}\")"
      ],
      "metadata": {
        "id": "jO2Aq1ngYBdw"
      },
      "execution_count": null,
      "outputs": []
    },
    {
      "cell_type": "code",
      "source": [
        "if __name__ == \"__main__\":\n",
        "    # Example usage comparing two files\n",
        "    file_path_1: str = \"../sample/file1.txt\"\n",
        "    file_path_2: str = \"../sample/file2.txt\"\n",
        "\n",
        "    similarity, file1_metadata, file2_metadata = FileMetadataComparison.compare_files(file_path_1, file_path_2)\n",
        "\n",
        "    print(f\"Metadata similarity: {similarity}\")\n",
        "    print(f\"File 1 metadata: {file1_metadata}\")\n",
        "    print(f\"File 2 metadata: {file2_metadata}\")"
      ],
      "metadata": {
        "id": "S-q0Ww2PZUs1"
      },
      "execution_count": null,
      "outputs": []
    },
    {
      "cell_type": "code",
      "source": [
        "if __name__ == \"__main__\":\n",
        "    # Example usage comparing two files\n",
        "    file_path_1: str = \"../sample/file1.jpg\"\n",
        "    file_path_2: str = \"../sample/file2.png\"\n",
        "\n",
        "    similarity, file1_type, file2_type = FileTypeDistance.compare_files(file_path_1, file_path_2)\n",
        "\n",
        "    print(f\"File type similarity: {similarity}\")\n",
        "    print(f\"File 1 type: {file1_type}\")\n",
        "    print(f\"File 2 type: {file2_type}\")"
      ],
      "metadata": {
        "id": "BWxEIid4a9IJ"
      },
      "execution_count": null,
      "outputs": []
    },
    {
      "cell_type": "code",
      "source": [
        "if __name__ == \"__main__\":\n",
        "    # Example usage with JSON-like data structures\n",
        "    tree_data_1: Dict = {\n",
        "        \"root\": [\n",
        "            {\"child1\": []},\n",
        "            {\"child2\": [\n",
        "                {\"grandchild1\": []}\n",
        "            ]}\n",
        "        ]\n",
        "    }\n",
        "\n",
        "    tree_data_2: Dict = {\n",
        "        \"root\": [\n",
        "            {\"child1\": []},\n",
        "            {\"child3\": [\n",
        "                {\"grandchild1\": []}\n",
        "            ]}\n",
        "        ]\n",
        "    }\n",
        "\n",
        "    tree1: TreeNode = TreeEditDistance.parse_tree_from_dict(tree_data_1)\n",
        "    tree2: TreeNode = TreeEditDistance.parse_tree_from_dict(tree_data_2)\n",
        "\n",
        "    ted = TreeEditDistance()\n",
        "    distance: int = ted.compute_distance(tree1, tree2)\n",
        "\n",
        "    print(f\"Tree Edit Distance: {distance}\")\n"
      ],
      "metadata": {
        "id": "m-HWOV-_cYNQ"
      },
      "execution_count": null,
      "outputs": []
    },
    {
      "cell_type": "code",
      "source": [
        "if __name__ == \"__main__\":\n",
        "    # Example usage with file paths\n",
        "    file1_path: str = \"../sample/file1.txt\"\n",
        "    file2_path: str = \"../sample/file2.txt\"\n",
        "\n",
        "    zlib_distance_calculator = ZlibBasedDistance()\n",
        "    distance: float = zlib_distance_calculator.compute_distance(file1_path, file2_path)\n",
        "\n",
        "    print(f\"Zlib-Based Distance: {distance}\")"
      ],
      "metadata": {
        "id": "Q0LrdOs4dUEO"
      },
      "execution_count": null,
      "outputs": []
    }
  ]
}