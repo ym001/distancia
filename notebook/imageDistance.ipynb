{
  "nbformat": 4,
  "nbformat_minor": 0,
  "metadata": {
    "colab": {
      "provenance": [],
      "authorship_tag": "ABX9TyNcfQa0Y1PZNP+yfyUKftRX",
      "include_colab_link": true
    },
    "kernelspec": {
      "name": "python3",
      "display_name": "Python 3"
    },
    "language_info": {
      "name": "python"
    }
  },
  "cells": [
    {
      "cell_type": "markdown",
      "metadata": {
        "id": "view-in-github",
        "colab_type": "text"
      },
      "source": [
        "<a href=\"https://colab.research.google.com/github/ym001/distancia/blob/master/notebook/imageDistance.ipynb\" target=\"_parent\"><img src=\"https://colab.research.google.com/assets/colab-badge.svg\" alt=\"Open In Colab\"/></a>"
      ]
    },
    {
      "cell_type": "code",
      "execution_count": 1,
      "metadata": {
        "colab": {
          "base_uri": "https://localhost:8080/"
        },
        "id": "8pN5dUqH5NWJ",
        "outputId": "60ebffc4-2ea9-4bb2-c850-90137a5f15a7"
      },
      "outputs": [
        {
          "output_type": "stream",
          "name": "stdout",
          "text": [
            "SSIM between example images: 0.9987\n"
          ]
        }
      ],
      "source": [
        "\n",
        "\n",
        "def example(self):\n",
        "        \"\"\"\n",
        "        Example usage with two small 3x3 grayscale images.\n",
        "        \"\"\"\n",
        "        image1 = [\n",
        "            [52, 55, 61],\n",
        "            [54, 56, 62],\n",
        "            [58, 59, 63]\n",
        "        ]\n",
        "\n",
        "        image2 = [\n",
        "            [52, 54, 60],\n",
        "            [53, 55, 61],\n",
        "            [57, 58, 62]\n",
        "        ]\n",
        "\n",
        "        ssim_score = self.ssim(image1, image2)\n",
        "        print(f\"SSIM between example images: {ssim_score:.4f}\")\n",
        "\n",
        "\n",
        "# Example usage\n",
        "ssim_calculator = StructuralSimilarityIndex()\n",
        "ssim_calculator.example()\n"
      ]
    },
    {
      "cell_type": "code",
      "source": [
        "\n",
        "\n",
        "# Example usage\n",
        "psnr_calculator = PeakSignalToNoiseRatio()\n",
        "psnr_calculator.example()\n"
      ],
      "metadata": {
        "colab": {
          "base_uri": "https://localhost:8080/"
        },
        "id": "XYCrmYiB7GAs",
        "outputId": "8c55be6a-e2c5-4230-c737-569940155dfe"
      },
      "execution_count": 2,
      "outputs": [
        {
          "output_type": "stream",
          "name": "stdout",
          "text": [
            "PSNR between example images: 48.64 dB\n"
          ]
        }
      ]
    },
    {
      "cell_type": "code",
      "source": [
        "\n",
        "# Example usage\n",
        "HistogramIntersection.example()\n"
      ],
      "metadata": {
        "colab": {
          "base_uri": "https://localhost:8080/"
        },
        "id": "Usp5wElY775w",
        "outputId": "b47b23d6-0994-474e-cc29-3d7d1a20773a"
      },
      "execution_count": 3,
      "outputs": [
        {
          "output_type": "stream",
          "name": "stdout",
          "text": [
            "Histogram Intersection: 52\n"
          ]
        }
      ]
    },
    {
      "cell_type": "code",
      "source": [
        "\n",
        "\n",
        "# Example usage\n",
        "emd_calculator = EarthMoversDistance()\n",
        "emd_calculator.example()\n"
      ],
      "metadata": {
        "colab": {
          "base_uri": "https://localhost:8080/"
        },
        "id": "aKOLCVYc9HhN",
        "outputId": "65af8583-d557-4212-d244-30c69bbaa63b"
      },
      "execution_count": 4,
      "outputs": [
        {
          "output_type": "stream",
          "name": "stdout",
          "text": [
            "Earth Mover's Distance between example histograms: 0.30000000000000004\n"
          ]
        }
      ]
    },
    {
      "cell_type": "code",
      "source": [
        "\n",
        "\n",
        "# Example usage\n",
        "chi_square_calculator = ChiSquareDistance()\n",
        "chi_square_calculator.example()\n"
      ],
      "metadata": {
        "colab": {
          "base_uri": "https://localhost:8080/"
        },
        "id": "6reIEukv989I",
        "outputId": "e829062f-a88b-469d-d0dd-89cd39deb6ea"
      },
      "execution_count": 5,
      "outputs": [
        {
          "output_type": "stream",
          "name": "stdout",
          "text": [
            "Chi-Square Distance between example histograms: 0.7150003334889615\n"
          ]
        }
      ]
    }
  ]
}