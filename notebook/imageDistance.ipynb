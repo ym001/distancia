{
  "nbformat": 4,
  "nbformat_minor": 0,
  "metadata": {
    "colab": {
      "provenance": [],
      "authorship_tag": "ABX9TyPm1Ej79qadnJ9dj4kSuxns",
      "include_colab_link": true
    },
    "kernelspec": {
      "name": "python3",
      "display_name": "Python 3"
    },
    "language_info": {
      "name": "python"
    }
  },
  "cells": [
    {
      "cell_type": "markdown",
      "metadata": {
        "id": "view-in-github",
        "colab_type": "text"
      },
      "source": [
        "<a href=\"https://colab.research.google.com/github/ym001/distancia/blob/master/notebook/imageDistance.ipynb\" target=\"_parent\"><img src=\"https://colab.research.google.com/assets/colab-badge.svg\" alt=\"Open In Colab\"/></a>"
      ]
    },
    {
      "cell_type": "code",
      "source": [
        "!pip install distancia==0.0.73"
      ],
      "metadata": {
        "colab": {
          "base_uri": "https://localhost:8080/"
        },
        "id": "orac5ESsJ2Vl",
        "outputId": "0f905e14-a3bc-441b-a907-fe3c31153e98"
      },
      "execution_count": 1,
      "outputs": [
        {
          "output_type": "stream",
          "name": "stdout",
          "text": [
            "Collecting distancia==0.0.73\n",
            "  Downloading distancia-0.0.73-py3-none-any.whl.metadata (15 kB)\n",
            "Downloading distancia-0.0.73-py3-none-any.whl (129 kB)\n",
            "\u001b[?25l   \u001b[90m━━━━━━━━━━━━━━━━━━━━━━━━━━━━━━━━━━━━━━━━\u001b[0m \u001b[32m0.0/129.1 kB\u001b[0m \u001b[31m?\u001b[0m eta \u001b[36m-:--:--\u001b[0m\r\u001b[2K   \u001b[90m━━━━━━━━━━━━━━━━━━━━━━━━━━━━━━━━━━━━━━━━\u001b[0m \u001b[32m129.1/129.1 kB\u001b[0m \u001b[31m3.9 MB/s\u001b[0m eta \u001b[36m0:00:00\u001b[0m\n",
            "\u001b[?25hInstalling collected packages: distancia\n",
            "Successfully installed distancia-0.0.73\n"
          ]
        }
      ]
    },
    {
      "cell_type": "code",
      "execution_count": 2,
      "metadata": {
        "colab": {
          "base_uri": "https://localhost:8080/"
        },
        "id": "8pN5dUqH5NWJ",
        "outputId": "4cee2a17-29ca-49a8-8949-e7c7986f7da9"
      },
      "outputs": [
        {
          "output_type": "stream",
          "name": "stdout",
          "text": [
            "Le modèle FastText a été créé avec succès.\n",
            "SSIM between example images: 0.9987\n"
          ]
        }
      ],
      "source": [
        "from distancia import StructuralSimilarityIndex\n",
        "\n",
        "def example(self):\n",
        "        \"\"\"\n",
        "        Example usage with two small 3x3 grayscale images.\n",
        "        \"\"\"\n",
        "        image1 = [\n",
        "            [52, 55, 61],\n",
        "            [54, 56, 62],\n",
        "            [58, 59, 63]\n",
        "        ]\n",
        "\n",
        "        image2 = [\n",
        "            [52, 54, 60],\n",
        "            [53, 55, 61],\n",
        "            [57, 58, 62]\n",
        "        ]\n",
        "\n",
        "        ssim_score = self.ssim(image1, image2)\n",
        "        print(f\"SSIM between example images: {ssim_score:.4f}\")\n",
        "\n",
        "\n",
        "# Example usage\n",
        "ssim_calculator = StructuralSimilarityIndex()\n",
        "ssim_calculator.example()\n"
      ]
    },
    {
      "cell_type": "code",
      "source": [
        "from distancia import PeakSignalToNoiseRatio\n",
        "\n",
        "\n",
        "# Example usage\n",
        "psnr_calculator = PeakSignalToNoiseRatio()\n",
        "psnr_calculator.example()\n"
      ],
      "metadata": {
        "colab": {
          "base_uri": "https://localhost:8080/"
        },
        "id": "XYCrmYiB7GAs",
        "outputId": "7fc64b48-1a91-4ed3-9f25-abea83dfa627"
      },
      "execution_count": 3,
      "outputs": [
        {
          "output_type": "stream",
          "name": "stdout",
          "text": [
            "Peak Signal-to-Noise Ratio (PSNR): 19.999999999999936\n"
          ]
        }
      ]
    },
    {
      "cell_type": "code",
      "source": [
        "from distancia import HistogramIntersection\n",
        "\n",
        "# Example usage\n",
        "HistogramIntersection.example()\n"
      ],
      "metadata": {
        "colab": {
          "base_uri": "https://localhost:8080/"
        },
        "id": "Usp5wElY775w",
        "outputId": "171b092e-b57c-43a7-b72b-5aef4fcc5258"
      },
      "execution_count": 4,
      "outputs": [
        {
          "output_type": "stream",
          "name": "stdout",
          "text": [
            "Histogram Intersection: 52\n"
          ]
        }
      ]
    },
    {
      "cell_type": "code",
      "source": [
        "from distancia import EarthMoversDistance\n",
        "\n",
        "\n",
        "# Example usage\n",
        "emd_calculator = EarthMoversDistance()\n",
        "emd_calculator.example()\n"
      ],
      "metadata": {
        "colab": {
          "base_uri": "https://localhost:8080/"
        },
        "id": "aKOLCVYc9HhN",
        "outputId": "423f5810-d9df-43d4-f1b4-055e432d1462"
      },
      "execution_count": 5,
      "outputs": [
        {
          "output_type": "stream",
          "name": "stdout",
          "text": [
            "Earth Mover's Distance between example histograms: 0.30000000000000004\n"
          ]
        }
      ]
    },
    {
      "cell_type": "code",
      "source": [
        "from distancia import ChiSquareDistance\n",
        "\n",
        "\n",
        "# Example usage\n",
        "chi_square_calculator = ChiSquareDistance()\n",
        "chi_square_calculator.example()\n"
      ],
      "metadata": {
        "colab": {
          "base_uri": "https://localhost:8080/"
        },
        "id": "6reIEukv989I",
        "outputId": "6b7b5bb3-cf3d-4389-8451-d7304d752884"
      },
      "execution_count": 6,
      "outputs": [
        {
          "output_type": "stream",
          "name": "stdout",
          "text": [
            "Chi-Square Distance between example histograms: 0.7150003334889615\n"
          ]
        }
      ]
    },
    {
      "cell_type": "code",
      "source": [
        "\n",
        "import cv2\n",
        "import matplotlib.image as mpimg\n",
        "from matplotlib.pyplot import imshow\n",
        "\n",
        "from distancia import FeatureBasedDistance\n",
        "\n",
        "\n",
        "from sklearn.datasets import load_digits\n",
        "\n",
        "# Load dataset of images\n",
        "digits = load_digits()\n",
        "images = digits.images\n",
        "\n",
        "# Convert the images to a format suitable for OpenCV (8-bit unsigned integers)\n",
        "images = (images * 16).astype('uint8')  # digits dataset is in float, scale it to 0-255 range\n",
        "\n",
        "# Select two images to compare (for example, the first and second)\n",
        "image1 = images[0]\n",
        "image2 = images[1]\n",
        "\n",
        "# Instantiate the class with SIFT\n",
        "feature_distance = FeatureBasedDistance(method=\"SIFT\")\n",
        "\n",
        "# Detect keypoints and descriptors\n",
        "keypoints1, descriptors1 = feature_distance.detect_and_compute(image1)\n",
        "keypoints2, descriptors2 = feature_distance.detect_and_compute(image2)\n",
        "\n",
        "# Match descriptors\n",
        "matches = feature_distance.match_keypoints(descriptors1, descriptors2)\n",
        "\n",
        "# Draw the matches\n",
        "image_matches = cv2.drawMatches(image1, keypoints1, image2, keypoints2, matches, None)\n",
        "\n",
        "imshow(image_matches)\n",
        "\n",
        "#cv2_imshow(image_matches)\n",
        "#cv2.waitKey(0)\n",
        "#cv2.destroyAllWindows()\n",
        "\n"
      ],
      "metadata": {
        "colab": {
          "base_uri": "https://localhost:8080/",
          "height": 326
        },
        "id": "lgc_ZxhRBpEl",
        "outputId": "4b0e9e58-5fa5-4057-e01a-66187ab3b3dd"
      },
      "execution_count": 15,
      "outputs": [
        {
          "output_type": "execute_result",
          "data": {
            "text/plain": [
              "<matplotlib.image.AxesImage at 0x7b54f5ad1660>"
            ]
          },
          "metadata": {},
          "execution_count": 15
        },
        {
          "output_type": "display_data",
          "data": {
            "text/plain": [
              "<Figure size 640x480 with 1 Axes>"
            ],
            "image/png": "[encoded data removed]"
          },
          "metadata": {}
        }
      ]
    },
    {
      "cell_type": "code",
      "source": [
        "from distancia import PerceptualHashing\n",
        "from PIL import Image\n",
        "\n",
        "from tensorflow.keras.datasets import cifar10\n",
        "\n",
        "# Load CIFAR-10 dataset (lightweight)\n",
        "def load_cifar10_image(index: int) -> Image.Image:\n",
        "    # Download the CIFAR-10 dataset\n",
        "    (train_images, _), _ = cifar10.load_data()\n",
        "\n",
        "    # Convert the image at the given index to a PIL Image\n",
        "    image = Image.fromarray(train_images[index])\n",
        "\n",
        "    return image\n",
        "\n",
        "# Save the CIFAR-10 image as a temporary file\n",
        "def save_image(image: Image.Image, filename: str) -> str:\n",
        "    image.save(filename)\n",
        "    return filename\n",
        "\n",
        "# Example: Using CIFAR-10 images and computing pHash\n",
        "def main():\n",
        "    # Instantiate the PerceptualHashing class\n",
        "    phash = PerceptualHashing(hash_size=32)\n",
        "\n",
        "    # Load two images from the CIFAR-10 dataset\n",
        "    image1 = load_cifar10_image(0)  # First image\n",
        "    image2 = load_cifar10_image(1)  # Second image\n",
        "\n",
        "    # Save the images to files\n",
        "    image1_path = save_image(image1, 'image1.png')\n",
        "    image2_path = save_image(image2, 'image2.png')\n",
        "\n",
        "    # Compute pHash for both images\n",
        "    hash1 = phash.compute_hash(image1_path)\n",
        "    hash2 = phash.compute_hash(image2_path)\n",
        "\n",
        "    # Calculate the Hamming distance between the two hashes\n",
        "    distance = phash.hamming_distance(hash1, hash2)\n",
        "\n",
        "    print(f\"Hash 1: {hash1}\")\n",
        "    print(f\"Hash 2: {hash2}\")\n",
        "    print(f\"Hamming Distance: {distance}\")\n",
        "\n",
        "if __name__ == \"__main__\":\n",
        "    main()\n",
        "\n"
      ],
      "metadata": {
        "colab": {
          "base_uri": "https://localhost:8080/"
        },
        "id": "iTf6tqOiFYWf",
        "outputId": "e7d4fe71-7159-40ea-ef53-390a69da4dc9"
      },
      "execution_count": 13,
      "outputs": [
        {
          "output_type": "stream",
          "name": "stdout",
          "text": [
            "Hash 1: 97d7befd110a351b61756be286e29c669ed6b8ac9e6c471b626bab8837c79c71899c917735b8eba7c6f1c5384e6f8e19b1d43c6756e4ecf6af66a790c9b51e739132384f929b21c5acc5cf30f870622fa716cee34c670dd8b5f8308ec596ce73dd6f31b0d099b436d9a0e60e736259cdb6dcdc65e64b0e69aa9ad99a80f4e532\n",
            "Hash 2: db3c922c9976d0556bd9ef62cccccdb7e5c174414636b0a62f66235cf2bd30c84ef0d9941d5f033e364ae691f9abc932a88506797038cff2299e7632e0d98eef37dadaa2e9cd6cd794c104c9266622e2f1929dc9cffe334d6260df198f8d7b29de2da90422408d901f2fe445dc2264a260c74a10213fa8644bb27336e0c0516b\n",
            "Hamming Distance: 243\n"
          ]
        }
      ]
    },
    {
      "cell_type": "code",
      "source": [
        "from distancia import NormalizedCrossCorrelation\n",
        "\n",
        "# Example usage\n",
        "def main():\n",
        "    ncc = NormalizedCrossCorrelation()\n",
        "\n",
        "    # Example images\n",
        "    image1_path = 'image1.png'\n",
        "    image2_path = 'image2.png'\n",
        "\n",
        "    # Compute NCC between two images\n",
        "    ncc_value: float = ncc.compute(image1_path, image2_path)\n",
        "    print(f\"Normalized Cross-Correlation (NCC): {ncc_value}\")\n",
        "\n",
        "if __name__ == \"__main__\":\n",
        "    main()\n"
      ],
      "metadata": {
        "colab": {
          "base_uri": "https://localhost:8080/"
        },
        "id": "F_LabHMaH0Ho",
        "outputId": "0f1d7482-b1b7-4cc5-bb2f-05106b2a0ed5"
      },
      "execution_count": 14,
      "outputs": [
        {
          "output_type": "stream",
          "name": "stdout",
          "text": [
            "Normalized Cross-Correlation (NCC): 0.13832136852006036\n"
          ]
        }
      ]
    }
  ]
}